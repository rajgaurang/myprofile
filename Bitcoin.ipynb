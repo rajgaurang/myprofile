{
  "nbformat": 4,
  "nbformat_minor": 0,
  "metadata": {
    "colab": {
      "name": "Bitcoin.ipynb",
      "provenance": [],
      "collapsed_sections": [],
      "authorship_tag": "ABX9TyNHXpe1R7Sh6IxLYFyTd9hH",
      "include_colab_link": true
    },
    "kernelspec": {
      "display_name": "Python 3",
      "name": "python3"
    },
    "language_info": {
      "name": "python"
    }
  },
  "cells": [
    {
      "cell_type": "markdown",
      "metadata": {
        "id": "view-in-github",
        "colab_type": "text"
      },
      "source": [
        "<a href=\"https://colab.research.google.com/github/rajgaurang/myprofile/blob/master/Bitcoin.ipynb\" target=\"_parent\"><img src=\"https://colab.research.google.com/assets/colab-badge.svg\" alt=\"Open In Colab\"/></a>"
      ]
    },
    {
      "cell_type": "code",
      "metadata": {
        "colab": {
          "base_uri": "https://localhost:8080/"
        },
        "id": "hSqUX42BtwT0",
        "outputId": "6b772c20-42e1-4c64-c412-e2dbcbf8136c"
      },
      "source": [
        "from google.colab import drive\n",
        "drive.mount('/content/drive')\n"
      ],
      "execution_count": null,
      "outputs": [
        {
          "output_type": "stream",
          "text": [
            "Mounted at /content/drive\n"
          ],
          "name": "stdout"
        }
      ]
    },
    {
      "cell_type": "code",
      "metadata": {
        "colab": {
          "base_uri": "https://localhost:8080/"
        },
        "id": "npYA9mSA0ZjK",
        "outputId": "ab09a40c-5c5d-4c52-cc44-5915e80e8c93"
      },
      "source": [
        "import pandas as pd\n",
        "import numpy as np\n",
        "import matplotlib.pyplot as plt\n",
        "from datetime import datetime\n",
        "import seaborn as sns\n",
        "import plotly.express as px\n",
        "from itertools import product\n",
        "import warnings\n",
        "import statsmodels.api as sm\n",
        "plt.style.use('seaborn-darkgrid')"
      ],
      "execution_count": null,
      "outputs": [
        {
          "output_type": "stream",
          "text": [
            "/usr/local/lib/python3.7/dist-packages/statsmodels/tools/_testing.py:19: FutureWarning:\n",
            "\n",
            "pandas.util.testing is deprecated. Use the functions in the public API at pandas.testing instead.\n",
            "\n"
          ],
          "name": "stderr"
        }
      ]
    },
    {
      "cell_type": "code",
      "metadata": {
        "colab": {
          "base_uri": "https://localhost:8080/",
          "height": 191
        },
        "id": "-_dvy3Vh1W_p",
        "outputId": "a60b6d34-cd85-40fe-bc37-393d9af1d9b7"
      },
      "source": [
        "bitstamp = pd.read_csv(\"/content/drive/MyDrive/bitcoin.csv\")\n",
        "bitstamp.head()"
      ],
      "execution_count": null,
      "outputs": [
        {
          "output_type": "execute_result",
          "data": {
            "text/html": [
              "<div>\n",
              "<style scoped>\n",
              "    .dataframe tbody tr th:only-of-type {\n",
              "        vertical-align: middle;\n",
              "    }\n",
              "\n",
              "    .dataframe tbody tr th {\n",
              "        vertical-align: top;\n",
              "    }\n",
              "\n",
              "    .dataframe thead th {\n",
              "        text-align: right;\n",
              "    }\n",
              "</style>\n",
              "<table border=\"1\" class=\"dataframe\">\n",
              "  <thead>\n",
              "    <tr style=\"text-align: right;\">\n",
              "      <th></th>\n",
              "      <th>Timestamp</th>\n",
              "      <th>Open</th>\n",
              "      <th>High</th>\n",
              "      <th>Low</th>\n",
              "      <th>Close</th>\n",
              "      <th>Volume_(BTC)</th>\n",
              "      <th>Volume_(Currency)</th>\n",
              "      <th>Weighted_Price</th>\n",
              "    </tr>\n",
              "  </thead>\n",
              "  <tbody>\n",
              "    <tr>\n",
              "      <th>0</th>\n",
              "      <td>1325317920</td>\n",
              "      <td>4.39</td>\n",
              "      <td>4.39</td>\n",
              "      <td>4.39</td>\n",
              "      <td>4.39</td>\n",
              "      <td>0.455581</td>\n",
              "      <td>2.0</td>\n",
              "      <td>4.39</td>\n",
              "    </tr>\n",
              "    <tr>\n",
              "      <th>1</th>\n",
              "      <td>1325317980</td>\n",
              "      <td>NaN</td>\n",
              "      <td>NaN</td>\n",
              "      <td>NaN</td>\n",
              "      <td>NaN</td>\n",
              "      <td>NaN</td>\n",
              "      <td>NaN</td>\n",
              "      <td>NaN</td>\n",
              "    </tr>\n",
              "    <tr>\n",
              "      <th>2</th>\n",
              "      <td>1325318040</td>\n",
              "      <td>NaN</td>\n",
              "      <td>NaN</td>\n",
              "      <td>NaN</td>\n",
              "      <td>NaN</td>\n",
              "      <td>NaN</td>\n",
              "      <td>NaN</td>\n",
              "      <td>NaN</td>\n",
              "    </tr>\n",
              "    <tr>\n",
              "      <th>3</th>\n",
              "      <td>1325318100</td>\n",
              "      <td>NaN</td>\n",
              "      <td>NaN</td>\n",
              "      <td>NaN</td>\n",
              "      <td>NaN</td>\n",
              "      <td>NaN</td>\n",
              "      <td>NaN</td>\n",
              "      <td>NaN</td>\n",
              "    </tr>\n",
              "    <tr>\n",
              "      <th>4</th>\n",
              "      <td>1325318160</td>\n",
              "      <td>NaN</td>\n",
              "      <td>NaN</td>\n",
              "      <td>NaN</td>\n",
              "      <td>NaN</td>\n",
              "      <td>NaN</td>\n",
              "      <td>NaN</td>\n",
              "      <td>NaN</td>\n",
              "    </tr>\n",
              "  </tbody>\n",
              "</table>\n",
              "</div>"
            ],
            "text/plain": [
              "    Timestamp  Open  High  ...  Volume_(BTC)  Volume_(Currency)  Weighted_Price\n",
              "0  1325317920  4.39  4.39  ...      0.455581                2.0            4.39\n",
              "1  1325317980   NaN   NaN  ...           NaN                NaN             NaN\n",
              "2  1325318040   NaN   NaN  ...           NaN                NaN             NaN\n",
              "3  1325318100   NaN   NaN  ...           NaN                NaN             NaN\n",
              "4  1325318160   NaN   NaN  ...           NaN                NaN             NaN\n",
              "\n",
              "[5 rows x 8 columns]"
            ]
          },
          "metadata": {
            "tags": []
          },
          "execution_count": 3
        }
      ]
    },
    {
      "cell_type": "code",
      "metadata": {
        "colab": {
          "base_uri": "https://localhost:8080/"
        },
        "id": "P7W2L1tH1x6p",
        "outputId": "e4c5f9d8-9da4-4274-8a54-8eace34fff0c"
      },
      "source": [
        "bitstamp.info()"
      ],
      "execution_count": null,
      "outputs": [
        {
          "output_type": "stream",
          "text": [
            "<class 'pandas.core.frame.DataFrame'>\n",
            "RangeIndex: 4857377 entries, 0 to 4857376\n",
            "Data columns (total 8 columns):\n",
            " #   Column             Dtype  \n",
            "---  ------             -----  \n",
            " 0   Timestamp          int64  \n",
            " 1   Open               float64\n",
            " 2   High               float64\n",
            " 3   Low                float64\n",
            " 4   Close              float64\n",
            " 5   Volume_(BTC)       float64\n",
            " 6   Volume_(Currency)  float64\n",
            " 7   Weighted_Price     float64\n",
            "dtypes: float64(7), int64(1)\n",
            "memory usage: 296.5 MB\n"
          ],
          "name": "stdout"
        }
      ]
    },
    {
      "cell_type": "code",
      "metadata": {
        "id": "OGo644rz161N"
      },
      "source": [
        "bitstamp['Timestamp'] = [datetime.fromtimestamp(x) for x in bitstamp['Timestamp']]"
      ],
      "execution_count": null,
      "outputs": []
    },
    {
      "cell_type": "code",
      "metadata": {
        "colab": {
          "base_uri": "https://localhost:8080/",
          "height": 191
        },
        "id": "h1_GO9i72AR4",
        "outputId": "3ca7a211-76fa-4b84-ff58-66fc71812d7d"
      },
      "source": [
        "bitstamp.head()"
      ],
      "execution_count": null,
      "outputs": [
        {
          "output_type": "execute_result",
          "data": {
            "text/html": [
              "<div>\n",
              "<style scoped>\n",
              "    .dataframe tbody tr th:only-of-type {\n",
              "        vertical-align: middle;\n",
              "    }\n",
              "\n",
              "    .dataframe tbody tr th {\n",
              "        vertical-align: top;\n",
              "    }\n",
              "\n",
              "    .dataframe thead th {\n",
              "        text-align: right;\n",
              "    }\n",
              "</style>\n",
              "<table border=\"1\" class=\"dataframe\">\n",
              "  <thead>\n",
              "    <tr style=\"text-align: right;\">\n",
              "      <th></th>\n",
              "      <th>Timestamp</th>\n",
              "      <th>Open</th>\n",
              "      <th>High</th>\n",
              "      <th>Low</th>\n",
              "      <th>Close</th>\n",
              "      <th>Volume_(BTC)</th>\n",
              "      <th>Volume_(Currency)</th>\n",
              "      <th>Weighted_Price</th>\n",
              "    </tr>\n",
              "  </thead>\n",
              "  <tbody>\n",
              "    <tr>\n",
              "      <th>0</th>\n",
              "      <td>2011-12-31 07:52:00</td>\n",
              "      <td>4.39</td>\n",
              "      <td>4.39</td>\n",
              "      <td>4.39</td>\n",
              "      <td>4.39</td>\n",
              "      <td>0.455581</td>\n",
              "      <td>2.0</td>\n",
              "      <td>4.39</td>\n",
              "    </tr>\n",
              "    <tr>\n",
              "      <th>1</th>\n",
              "      <td>2011-12-31 07:53:00</td>\n",
              "      <td>NaN</td>\n",
              "      <td>NaN</td>\n",
              "      <td>NaN</td>\n",
              "      <td>NaN</td>\n",
              "      <td>NaN</td>\n",
              "      <td>NaN</td>\n",
              "      <td>NaN</td>\n",
              "    </tr>\n",
              "    <tr>\n",
              "      <th>2</th>\n",
              "      <td>2011-12-31 07:54:00</td>\n",
              "      <td>NaN</td>\n",
              "      <td>NaN</td>\n",
              "      <td>NaN</td>\n",
              "      <td>NaN</td>\n",
              "      <td>NaN</td>\n",
              "      <td>NaN</td>\n",
              "      <td>NaN</td>\n",
              "    </tr>\n",
              "    <tr>\n",
              "      <th>3</th>\n",
              "      <td>2011-12-31 07:55:00</td>\n",
              "      <td>NaN</td>\n",
              "      <td>NaN</td>\n",
              "      <td>NaN</td>\n",
              "      <td>NaN</td>\n",
              "      <td>NaN</td>\n",
              "      <td>NaN</td>\n",
              "      <td>NaN</td>\n",
              "    </tr>\n",
              "    <tr>\n",
              "      <th>4</th>\n",
              "      <td>2011-12-31 07:56:00</td>\n",
              "      <td>NaN</td>\n",
              "      <td>NaN</td>\n",
              "      <td>NaN</td>\n",
              "      <td>NaN</td>\n",
              "      <td>NaN</td>\n",
              "      <td>NaN</td>\n",
              "      <td>NaN</td>\n",
              "    </tr>\n",
              "  </tbody>\n",
              "</table>\n",
              "</div>"
            ],
            "text/plain": [
              "            Timestamp  Open  ...  Volume_(Currency)  Weighted_Price\n",
              "0 2011-12-31 07:52:00  4.39  ...                2.0            4.39\n",
              "1 2011-12-31 07:53:00   NaN  ...                NaN             NaN\n",
              "2 2011-12-31 07:54:00   NaN  ...                NaN             NaN\n",
              "3 2011-12-31 07:55:00   NaN  ...                NaN             NaN\n",
              "4 2011-12-31 07:56:00   NaN  ...                NaN             NaN\n",
              "\n",
              "[5 rows x 8 columns]"
            ]
          },
          "metadata": {
            "tags": []
          },
          "execution_count": 6
        }
      ]
    },
    {
      "cell_type": "code",
      "metadata": {
        "colab": {
          "base_uri": "https://localhost:8080/"
        },
        "id": "9k5KcRTJ2FoP",
        "outputId": "e214e3b9-ebbd-43fa-da10-5fbba68b397c"
      },
      "source": [
        "print('Dataset Shape: ',  bitstamp.shape)"
      ],
      "execution_count": null,
      "outputs": [
        {
          "output_type": "stream",
          "text": [
            "Dataset Shape:  (4857377, 8)\n"
          ],
          "name": "stdout"
        }
      ]
    },
    {
      "cell_type": "code",
      "metadata": {
        "colab": {
          "base_uri": "https://localhost:8080/",
          "height": 442
        },
        "id": "KLC36wFW2sOa",
        "outputId": "d2f40544-99fb-4433-be0c-9c2a1c2df754"
      },
      "source": [
        "bitstamp.set_index(\"Timestamp\").Weighted_Price.plot(figsize=(14,7), title=\"Bitcoin Weighted Price\")"
      ],
      "execution_count": null,
      "outputs": [
        {
          "output_type": "execute_result",
          "data": {
            "text/plain": [
              "<matplotlib.axes._subplots.AxesSubplot at 0x7f68192c4250>"
            ]
          },
          "metadata": {
            "tags": []
          },
          "execution_count": 9
        },
        {
          "output_type": "display_data",
          "data": {
            "image/png": "[encoded data removed]",
            "text/plain": [
              "<Figure size 1008x504 with 1 Axes>"
            ]
          },
          "metadata": {
            "tags": []
          }
        }
      ]
    },
    {
      "cell_type": "code",
      "metadata": {
        "colab": {
          "base_uri": "https://localhost:8080/",
          "height": 277
        },
        "id": "unI5ryUZ3afH",
        "outputId": "8c8b7623-81c8-4479-cbae-c6cdbfa3aa33"
      },
      "source": [
        "#calculating missing values in the dataset\n",
        "\n",
        "missing_values = bitstamp.isnull().sum()\n",
        "missing_per = (missing_values/bitstamp.shape[0])*100\n",
        "missing_table = pd.concat([missing_values,missing_per], axis=1, ignore_index=True) \n",
        "missing_table.rename(columns={0:'Total Missing Values',1:'Missing %'}, inplace=True)\n",
        "missing_table"
      ],
      "execution_count": null,
      "outputs": [
        {
          "output_type": "execute_result",
          "data": {
            "text/html": [
              "<div>\n",
              "<style scoped>\n",
              "    .dataframe tbody tr th:only-of-type {\n",
              "        vertical-align: middle;\n",
              "    }\n",
              "\n",
              "    .dataframe tbody tr th {\n",
              "        vertical-align: top;\n",
              "    }\n",
              "\n",
              "    .dataframe thead th {\n",
              "        text-align: right;\n",
              "    }\n",
              "</style>\n",
              "<table border=\"1\" class=\"dataframe\">\n",
              "  <thead>\n",
              "    <tr style=\"text-align: right;\">\n",
              "      <th></th>\n",
              "      <th>Total Missing Values</th>\n",
              "      <th>Missing %</th>\n",
              "    </tr>\n",
              "  </thead>\n",
              "  <tbody>\n",
              "    <tr>\n",
              "      <th>Timestamp</th>\n",
              "      <td>0</td>\n",
              "      <td>0.00000</td>\n",
              "    </tr>\n",
              "    <tr>\n",
              "      <th>Open</th>\n",
              "      <td>1243608</td>\n",
              "      <td>25.60246</td>\n",
              "    </tr>\n",
              "    <tr>\n",
              "      <th>High</th>\n",
              "      <td>1243608</td>\n",
              "      <td>25.60246</td>\n",
              "    </tr>\n",
              "    <tr>\n",
              "      <th>Low</th>\n",
              "      <td>1243608</td>\n",
              "      <td>25.60246</td>\n",
              "    </tr>\n",
              "    <tr>\n",
              "      <th>Close</th>\n",
              "      <td>1243608</td>\n",
              "      <td>25.60246</td>\n",
              "    </tr>\n",
              "    <tr>\n",
              "      <th>Volume_(BTC)</th>\n",
              "      <td>1243608</td>\n",
              "      <td>25.60246</td>\n",
              "    </tr>\n",
              "    <tr>\n",
              "      <th>Volume_(Currency)</th>\n",
              "      <td>1243608</td>\n",
              "      <td>25.60246</td>\n",
              "    </tr>\n",
              "    <tr>\n",
              "      <th>Weighted_Price</th>\n",
              "      <td>1243608</td>\n",
              "      <td>25.60246</td>\n",
              "    </tr>\n",
              "  </tbody>\n",
              "</table>\n",
              "</div>"
            ],
            "text/plain": [
              "                   Total Missing Values  Missing %\n",
              "Timestamp                             0    0.00000\n",
              "Open                            1243608   25.60246\n",
              "High                            1243608   25.60246\n",
              "Low                             1243608   25.60246\n",
              "Close                           1243608   25.60246\n",
              "Volume_(BTC)                    1243608   25.60246\n",
              "Volume_(Currency)               1243608   25.60246\n",
              "Weighted_Price                  1243608   25.60246"
            ]
          },
          "metadata": {
            "tags": []
          },
          "execution_count": 10
        }
      ]
    },
    {
      "cell_type": "code",
      "metadata": {
        "id": "gUYlDQtr3uml"
      },
      "source": [
        "def fill_missing(df):\n",
        "    ### function to impute missing values using interpolation ###\n",
        "    df['Open'] = df['Open'].interpolate()\n",
        "    df['Close'] = df['Close'].interpolate()\n",
        "    df['Weighted_Price'] = df['Weighted_Price'].interpolate()\n",
        "\n",
        "    df['Volume_(BTC)'] = df['Volume_(BTC)'].interpolate()\n",
        "    df['Volume_(Currency)'] = df['Volume_(Currency)'].interpolate()\n",
        "    df['High'] = df['High'].interpolate()\n",
        "    df['Low'] = df['Low'].interpolate()\n",
        "\n",
        "    print(df.head())\n",
        "    print(df.isnull().sum())"
      ],
      "execution_count": null,
      "outputs": []
    },
    {
      "cell_type": "code",
      "metadata": {
        "colab": {
          "base_uri": "https://localhost:8080/"
        },
        "id": "29D6PdOI4sKn",
        "outputId": "37c83387-5a8c-42a0-bafa-303dcf310ccd"
      },
      "source": [
        "fill_missing(bitstamp)"
      ],
      "execution_count": null,
      "outputs": [
        {
          "output_type": "stream",
          "text": [
            "            Timestamp  Open  ...  Volume_(Currency)  Weighted_Price\n",
            "0 2011-12-31 07:52:00  4.39  ...           2.000000            4.39\n",
            "1 2011-12-31 07:53:00  4.39  ...           2.436653            4.39\n",
            "2 2011-12-31 07:54:00  4.39  ...           2.873305            4.39\n",
            "3 2011-12-31 07:55:00  4.39  ...           3.309958            4.39\n",
            "4 2011-12-31 07:56:00  4.39  ...           3.746611            4.39\n",
            "\n",
            "[5 rows x 8 columns]\n",
            "Timestamp            0\n",
            "Open                 0\n",
            "High                 0\n",
            "Low                  0\n",
            "Close                0\n",
            "Volume_(BTC)         0\n",
            "Volume_(Currency)    0\n",
            "Weighted_Price       0\n",
            "dtype: int64\n"
          ],
          "name": "stdout"
        }
      ]
    },
    {
      "cell_type": "code",
      "metadata": {
        "id": "7kld8JQm4wni"
      },
      "source": [
        "bitstamp_non_indexed = bitstamp.copy()"
      ],
      "execution_count": null,
      "outputs": []
    },
    {
      "cell_type": "code",
      "metadata": {
        "colab": {
          "base_uri": "https://localhost:8080/",
          "height": 220
        },
        "id": "Ub1SiNKW4-Hs",
        "outputId": "1b266a72-2515-40a8-8afe-1528a6bf3e22"
      },
      "source": [
        "bitstamp = bitstamp.set_index('Timestamp')\n",
        "bitstamp.head()"
      ],
      "execution_count": null,
      "outputs": [
        {
          "output_type": "execute_result",
          "data": {
            "text/html": [
              "<div>\n",
              "<style scoped>\n",
              "    .dataframe tbody tr th:only-of-type {\n",
              "        vertical-align: middle;\n",
              "    }\n",
              "\n",
              "    .dataframe tbody tr th {\n",
              "        vertical-align: top;\n",
              "    }\n",
              "\n",
              "    .dataframe thead th {\n",
              "        text-align: right;\n",
              "    }\n",
              "</style>\n",
              "<table border=\"1\" class=\"dataframe\">\n",
              "  <thead>\n",
              "    <tr style=\"text-align: right;\">\n",
              "      <th></th>\n",
              "      <th>Open</th>\n",
              "      <th>High</th>\n",
              "      <th>Low</th>\n",
              "      <th>Close</th>\n",
              "      <th>Volume_(BTC)</th>\n",
              "      <th>Volume_(Currency)</th>\n",
              "      <th>Weighted_Price</th>\n",
              "    </tr>\n",
              "    <tr>\n",
              "      <th>Timestamp</th>\n",
              "      <th></th>\n",
              "      <th></th>\n",
              "      <th></th>\n",
              "      <th></th>\n",
              "      <th></th>\n",
              "      <th></th>\n",
              "      <th></th>\n",
              "    </tr>\n",
              "  </thead>\n",
              "  <tbody>\n",
              "    <tr>\n",
              "      <th>2011-12-31 07:52:00</th>\n",
              "      <td>4.39</td>\n",
              "      <td>4.39</td>\n",
              "      <td>4.39</td>\n",
              "      <td>4.39</td>\n",
              "      <td>0.455581</td>\n",
              "      <td>2.000000</td>\n",
              "      <td>4.39</td>\n",
              "    </tr>\n",
              "    <tr>\n",
              "      <th>2011-12-31 07:53:00</th>\n",
              "      <td>4.39</td>\n",
              "      <td>4.39</td>\n",
              "      <td>4.39</td>\n",
              "      <td>4.39</td>\n",
              "      <td>0.555046</td>\n",
              "      <td>2.436653</td>\n",
              "      <td>4.39</td>\n",
              "    </tr>\n",
              "    <tr>\n",
              "      <th>2011-12-31 07:54:00</th>\n",
              "      <td>4.39</td>\n",
              "      <td>4.39</td>\n",
              "      <td>4.39</td>\n",
              "      <td>4.39</td>\n",
              "      <td>0.654511</td>\n",
              "      <td>2.873305</td>\n",
              "      <td>4.39</td>\n",
              "    </tr>\n",
              "    <tr>\n",
              "      <th>2011-12-31 07:55:00</th>\n",
              "      <td>4.39</td>\n",
              "      <td>4.39</td>\n",
              "      <td>4.39</td>\n",
              "      <td>4.39</td>\n",
              "      <td>0.753977</td>\n",
              "      <td>3.309958</td>\n",
              "      <td>4.39</td>\n",
              "    </tr>\n",
              "    <tr>\n",
              "      <th>2011-12-31 07:56:00</th>\n",
              "      <td>4.39</td>\n",
              "      <td>4.39</td>\n",
              "      <td>4.39</td>\n",
              "      <td>4.39</td>\n",
              "      <td>0.853442</td>\n",
              "      <td>3.746611</td>\n",
              "      <td>4.39</td>\n",
              "    </tr>\n",
              "  </tbody>\n",
              "</table>\n",
              "</div>"
            ],
            "text/plain": [
              "                     Open  High  ...  Volume_(Currency)  Weighted_Price\n",
              "Timestamp                        ...                                   \n",
              "2011-12-31 07:52:00  4.39  4.39  ...           2.000000            4.39\n",
              "2011-12-31 07:53:00  4.39  4.39  ...           2.436653            4.39\n",
              "2011-12-31 07:54:00  4.39  4.39  ...           2.873305            4.39\n",
              "2011-12-31 07:55:00  4.39  4.39  ...           3.309958            4.39\n",
              "2011-12-31 07:56:00  4.39  4.39  ...           3.746611            4.39\n",
              "\n",
              "[5 rows x 7 columns]"
            ]
          },
          "metadata": {
            "tags": []
          },
          "execution_count": 14
        }
      ]
    },
    {
      "cell_type": "code",
      "metadata": {
        "colab": {
          "base_uri": "https://localhost:8080/",
          "height": 442
        },
        "id": "O3GI7FMe5AP-",
        "outputId": "d0c782e1-eac9-4672-902d-27b163b3a276"
      },
      "source": [
        "ax = bitstamp['Weighted_Price'].plot(title='Bitcoin Prices', grid=True, figsize=(14,7))\n",
        "ax.set_xlabel('Year')\n",
        "ax.set_ylabel('Weighted Price')\n",
        "\n",
        "ax.axvspan('2018-12-01','2019-01-31',color='red', alpha=0.3)\n",
        "ax.axhspan(17500,20000, color='green',alpha=0.3)"
      ],
      "execution_count": null,
      "outputs": [
        {
          "output_type": "execute_result",
          "data": {
            "text/plain": [
              "<matplotlib.patches.Polygon at 0x7f680ab63d50>"
            ]
          },
          "metadata": {
            "tags": []
          },
          "execution_count": 15
        },
        {
          "output_type": "display_data",
          "data": {
            "image/png": "[encoded data removed]",
            "text/plain": [
              "<Figure size 1008x504 with 1 Axes>"
            ]
          },
          "metadata": {
            "tags": []
          }
        }
      ]
    },
    {
      "cell_type": "code",
      "metadata": {
        "colab": {
          "base_uri": "https://localhost:8080/",
          "height": 427
        },
        "id": "HVTmeXL55Ehm",
        "outputId": "6a830ca0-e7fa-4aec-d256-9a99cb26f352"
      },
      "source": [
        "#Zooming in\n",
        "\n",
        "ax = bitstamp.loc['2017-10':'2021-03','Weighted_Price'].plot(marker='o', linestyle='-',figsize=(15,6), title=\"Oct-17 to March-21 Trend\", grid=True)\n",
        "ax.set_xlabel('Month')\n",
        "ax.set_ylabel('Weighted_Price')"
      ],
      "execution_count": null,
      "outputs": [
        {
          "output_type": "execute_result",
          "data": {
            "text/plain": [
              "Text(0, 0.5, 'Weighted_Price')"
            ]
          },
          "metadata": {
            "tags": []
          },
          "execution_count": 19
        },
        {
          "output_type": "display_data",
          "data": {
            "image/png": "[encoded data removed]",
            "text/plain": [
              "<Figure size 1080x432 with 1 Axes>"
            ]
          },
          "metadata": {
            "tags": []
          }
        }
      ]
    },
    {
      "cell_type": "code",
      "metadata": {
        "colab": {
          "base_uri": "https://localhost:8080/",
          "height": 583
        },
        "id": "0f300ToGlmVy",
        "outputId": "ba14c220-007e-47a9-c8d5-aa7b30740043"
      },
      "source": [
        "plt.figure(figsize=(1,12))\n",
        "plt.suptitle('Lag Plots', fontsize=22)\n",
        "\n",
        "plt.subplot(3,3,1)\n",
        "pd.plotting.lag_plot(bitstamp['Weighted_Price'], lag=1) #minute lag\n",
        "plt.title('1-Minute Lag')\n",
        "\n",
        "plt.subplot(3,3,2)\n",
        "pd.plotting.lag_plot(bitstamp['Weighted_Price'], lag=60) #hourley lag\n",
        "plt.title('1-Hour Lag')\n",
        "\n",
        "plt.subplot(3,3,3)\n",
        "pd.plotting.lag_plot(bitstamp['Weighted_Price'], lag=1440) #Daily lag\n",
        "plt.title('Daily Lag')\n",
        "\n",
        "plt.subplot(3,3,4)\n",
        "pd.plotting.lag_plot(bitstamp['Weighted_Price'], lag=10080) #weekly lag\n",
        "plt.title('Weekly Lag')\n",
        "\n",
        "plt.subplot(3,3,5)\n",
        "pd.plotting.lag_plot(bitstamp['Weighted_Price'], lag=43200) #month lag\n",
        "plt.title('1-Month Lag')\n",
        "\n",
        "plt.legend()\n",
        "plt.show()"
      ],
      "execution_count": null,
      "outputs": [
        {
          "output_type": "stream",
          "text": [
            "No handles with labels found to put in legend.\n"
          ],
          "name": "stderr"
        },
        {
          "output_type": "display_data",
          "data": {
            "image/png": "[encoded data removed]",
            "text/plain": [
              "<Figure size 72x864 with 5 Axes>"
            ]
          },
          "metadata": {
            "tags": []
          }
        }
      ]
    },
    {
      "cell_type": "code",
      "metadata": {
        "colab": {
          "base_uri": "https://localhost:8080/",
          "height": 191
        },
        "id": "qlgLOPIx5tQ0",
        "outputId": "3e9b884f-0c06-459d-f7bf-6b6375e27733"
      },
      "source": [
        "hourly_data = bitstamp.resample('1H').mean()\n",
        "hourly_data = hourly_data.reset_index()\n",
        "\n",
        "hourly_data.head()"
      ],
      "execution_count": null,
      "outputs": [
        {
          "output_type": "execute_result",
          "data": {
            "text/html": [
              "<div>\n",
              "<style scoped>\n",
              "    .dataframe tbody tr th:only-of-type {\n",
              "        vertical-align: middle;\n",
              "    }\n",
              "\n",
              "    .dataframe tbody tr th {\n",
              "        vertical-align: top;\n",
              "    }\n",
              "\n",
              "    .dataframe thead th {\n",
              "        text-align: right;\n",
              "    }\n",
              "</style>\n",
              "<table border=\"1\" class=\"dataframe\">\n",
              "  <thead>\n",
              "    <tr style=\"text-align: right;\">\n",
              "      <th></th>\n",
              "      <th>Timestamp</th>\n",
              "      <th>Open</th>\n",
              "      <th>High</th>\n",
              "      <th>Low</th>\n",
              "      <th>Close</th>\n",
              "      <th>Volume_(BTC)</th>\n",
              "      <th>Volume_(Currency)</th>\n",
              "      <th>Weighted_Price</th>\n",
              "    </tr>\n",
              "  </thead>\n",
              "  <tbody>\n",
              "    <tr>\n",
              "      <th>0</th>\n",
              "      <td>2011-12-31 07:00:00</td>\n",
              "      <td>4.39</td>\n",
              "      <td>4.39</td>\n",
              "      <td>4.39</td>\n",
              "      <td>4.39</td>\n",
              "      <td>0.803709</td>\n",
              "      <td>3.528285</td>\n",
              "      <td>4.39</td>\n",
              "    </tr>\n",
              "    <tr>\n",
              "      <th>1</th>\n",
              "      <td>2011-12-31 08:00:00</td>\n",
              "      <td>4.39</td>\n",
              "      <td>4.39</td>\n",
              "      <td>4.39</td>\n",
              "      <td>4.39</td>\n",
              "      <td>4.185530</td>\n",
              "      <td>18.374477</td>\n",
              "      <td>4.39</td>\n",
              "    </tr>\n",
              "    <tr>\n",
              "      <th>2</th>\n",
              "      <td>2011-12-31 09:00:00</td>\n",
              "      <td>4.39</td>\n",
              "      <td>4.39</td>\n",
              "      <td>4.39</td>\n",
              "      <td>4.39</td>\n",
              "      <td>10.153449</td>\n",
              "      <td>44.573640</td>\n",
              "      <td>4.39</td>\n",
              "    </tr>\n",
              "    <tr>\n",
              "      <th>3</th>\n",
              "      <td>2011-12-31 10:00:00</td>\n",
              "      <td>4.39</td>\n",
              "      <td>4.39</td>\n",
              "      <td>4.39</td>\n",
              "      <td>4.39</td>\n",
              "      <td>16.121368</td>\n",
              "      <td>70.772803</td>\n",
              "      <td>4.39</td>\n",
              "    </tr>\n",
              "    <tr>\n",
              "      <th>4</th>\n",
              "      <td>2011-12-31 11:00:00</td>\n",
              "      <td>4.39</td>\n",
              "      <td>4.39</td>\n",
              "      <td>4.39</td>\n",
              "      <td>4.39</td>\n",
              "      <td>22.089286</td>\n",
              "      <td>96.971967</td>\n",
              "      <td>4.39</td>\n",
              "    </tr>\n",
              "  </tbody>\n",
              "</table>\n",
              "</div>"
            ],
            "text/plain": [
              "            Timestamp  Open  ...  Volume_(Currency)  Weighted_Price\n",
              "0 2011-12-31 07:00:00  4.39  ...           3.528285            4.39\n",
              "1 2011-12-31 08:00:00  4.39  ...          18.374477            4.39\n",
              "2 2011-12-31 09:00:00  4.39  ...          44.573640            4.39\n",
              "3 2011-12-31 10:00:00  4.39  ...          70.772803            4.39\n",
              "4 2011-12-31 11:00:00  4.39  ...          96.971967            4.39\n",
              "\n",
              "[5 rows x 8 columns]"
            ]
          },
          "metadata": {
            "tags": []
          },
          "execution_count": 17
        }
      ]
    },
    {
      "cell_type": "code",
      "metadata": {
        "id": "5RPl_KjA6psA"
      },
      "source": [
        "bitstamp_daily = bitstamp.resample(\"24H\").mean() #daily resampling"
      ],
      "execution_count": null,
      "outputs": []
    },
    {
      "cell_type": "code",
      "metadata": {
        "colab": {
          "base_uri": "https://localhost:8080/",
          "height": 542
        },
        "id": "zb8H_H4K6viA",
        "outputId": "4b3bc66d-2de7-45b6-c332-6ec095fc2983"
      },
      "source": [
        "import plotly.express as px\n",
        "\n",
        "bitstamp_daily.reset_index(inplace=True)\n",
        "fig = px.line(bitstamp_daily, x='Timestamp', y='Weighted_Price', title='Weighted Price with Range Slider and Selectors')\n",
        "fig.update_layout(hovermode=\"x\")\n",
        "\n",
        "fig.update_xaxes(\n",
        "    rangeslider_visible=True,\n",
        "    rangeselector=dict(\n",
        "        buttons=list([\n",
        "            dict(count=1, label=\"1m\", step=\"month\", stepmode=\"backward\"),\n",
        "            dict(count=6, label=\"6m\", step=\"month\", stepmode=\"backward\"),\n",
        "            dict(count=1, label=\"1y\", step=\"year\", stepmode=\"backward\"),\n",
        "            dict(count=2, label=\"2y\", step=\"year\", stepmode=\"backward\"),\n",
        "            dict(step=\"all\")\n",
        "            \n",
        "        ])\n",
        "    )\n",
        ")\n",
        "fig.show()"
      ],
      "execution_count": null,
      "outputs": [
        {
          "output_type": "display_data",
          "data": {
            "text/html": [
              "<html>\n",
              "<head><meta charset=\"utf-8\" /></head>\n",
              "<body>\n",
              "    <div>\n",
              "            <script src=\"https://cdnjs.cloudflare.com/ajax/libs/mathjax/2.7.5/MathJax.js?config=TeX-AMS-MML_SVG\"></script><script type=\"text/javascript\">if (window.MathJax) {MathJax.Hub.Config({SVG: {font: \"STIX-Web\"}});}</script>\n",
              "                <script type=\"text/javascript\">window.PlotlyConfig = {MathJaxConfig: 'local'};</script>\n",
              "        <script src=\"https://cdn.plot.ly/plotly-latest.min.js\"></script>    \n",
              "            <div id=\"a77568ae-688c-4ec2-abf7-8cbd35b7b495\" class=\"plotly-graph-div\" style=\"height:525px; width:100%;\"></div>\n",
              "            <script type=\"text/javascript\">\n",
              "                \n",
              "                    window.PLOTLYENV=window.PLOTLYENV || {};\n",
              "                    \n",
              "                if (document.getElementById(\"a77568ae-688c-4ec2-abf7-8cbd35b7b495\")) {\n",
              "                    Plotly.newPlot(\n",
              "                        'a77568ae-688c-4ec2-abf7-8cbd35b7b495',\n",
              "                        [{\"hoverlabel\": {\"namelength\": 0}, \"hovertemplate\": \"Timestamp=%{x}<br>Weighted_Price=%{y}\", \"legendgroup\": \"\", \"line\": {\"color\": \"#636efa\", \"dash\": \"solid\"}, \"mode\": \"lines\", \"name\": \"\", \"showlegend\": false, \"type\": \"scattergl\", \"x\": [\"2011-12-31T00:00:00\", \"2012-01-01T00:00:00\", \"2012-01-02T00:00:00\", \"2012-01-03T00:00:00\", \"2012-01-04T00:00:00\", \"2012-01-05T00:00:00\", \"2012-01-06T00:00:00\", \"2012-01-07T00:00:00\", \"2012-01-08T00:00:00\", \"2012-01-09T00:00:00\", \"2012-01-10T00:00:00\", \"2012-01-11T00:00:00\", \"2012-01-12T00:00:00\", \"2012-01-13T00:00:00\", \"2012-01-14T00:00:00\", \"2012-01-15T00:00:00\", \"2012-01-16T00:00:00\", \"2012-01-17T00:00:00\", \"2012-01-18T00:00:00\", \"2012-01-19T00:00:00\", \"2012-01-20T00:00:00\", \"2012-01-21T00:00:00\", \"2012-01-22T00:00:00\", \"2012-01-23T00:00:00\", \"2012-01-24T00:00:00\", \"2012-01-25T00:00:00\", \"2012-01-26T00:00:00\", \"2012-01-27T00:00:00\", \"2012-01-28T00:00:00\", \"2012-01-29T00:00:00\", \"2012-01-30T00:00:00\", \"2012-01-31T00:00:00\", \"2012-02-01T00:00:00\", \"2012-02-02T00:00:00\", \"2012-02-03T00:00:00\", \"2012-02-04T00:00:00\", \"2012-02-05T00:00:00\", \"2012-02-06T00:00:00\", \"2012-02-07T00:00:00\", \"2012-02-08T00:00:00\", \"2012-02-09T00:00:00\", \"2012-02-10T00:00:00\", \"2012-02-11T00:00:00\", \"2012-02-12T00:00:00\", \"2012-02-13T00:00:00\", \"2012-02-14T00:00:00\", \"2012-02-15T00:00:00\", \"2012-02-16T00:00:00\", \"2012-02-17T00:00:00\", \"2012-02-18T00:00:00\", \"2012-02-19T00:00:00\", \"2012-02-20T00:00:00\", \"2012-02-21T00:00:00\", \"2012-02-22T00:00:00\", \"2012-02-23T00:00:00\", \"2012-02-24T00:00:00\", \"2012-02-25T00:00:00\", \"2012-02-26T00:00:00\", \"2012-02-27T00:00:00\", \"2012-02-28T00:00:00\", \"2012-02-29T00:00:00\", \"2012-03-01T00:00:00\", \"2012-03-02T00:00:00\", \"2012-03-03T00:00:00\", \"2012-03-04T00:00:00\", \"2012-03-05T00:00:00\", \"2012-03-06T00:00:00\", \"2012-03-07T00:00:00\", \"2012-03-08T00:00:00\", \"2012-03-09T00:00:00\", \"2012-03-10T00:00:00\", \"2012-03-11T00:00:00\", \"2012-03-12T00:00:00\", \"2012-03-13T00:00:00\", \"2012-03-14T00:00:00\", \"2012-03-15T00:00:00\", \"2012-03-16T00:00:00\", \"2012-03-17T00:00:00\", \"2012-03-18T00:00:00\", \"2012-03-19T00:00:00\", \"2012-03-20T00:00:00\", \"2012-03-21T00:00:00\", \"2012-03-22T00:00:00\", \"2012-03-23T00:00:00\", \"2012-03-24T00:00:00\", \"2012-03-25T00:00:00\", \"2012-03-26T00:00:00\", \"2012-03-27T00:00:00\", \"2012-03-28T00:00:00\", \"2012-03-29T00:00:00\", \"2012-03-30T00:00:00\", \"2012-03-31T00:00:00\", \"2012-04-01T00:00:00\", \"2012-04-02T00:00:00\", \"2012-04-03T00:00:00\", \"2012-04-04T00:00:00\", \"2012-04-05T00:00:00\", \"2012-04-06T00:00:00\", \"2012-04-07T00:00:00\", \"2012-04-08T00:00:00\", \"2012-04-09T00:00:00\", \"2012-04-10T00:00:00\", \"2012-04-11T00:00:00\", \"2012-04-12T00:00:00\", \"2012-04-13T00:00:00\", \"2012-04-14T00:00:00\", \"2012-04-15T00:00:00\", \"2012-04-16T00:00:00\", \"2012-04-17T00:00:00\", \"2012-04-18T00:00:00\", \"2012-04-19T00:00:00\", \"2012-04-20T00:00:00\", \"2012-04-21T00:00:00\", \"2012-04-22T00:00:00\", \"2012-04-23T00:00:00\", \"2012-04-24T00:00:00\", \"2012-04-25T00:00:00\", \"2012-04-26T00:00:00\", \"2012-04-27T00:00:00\", \"2012-04-28T00:00:00\", \"2012-04-29T00:00:00\", \"2012-04-30T00:00:00\", \"2012-05-01T00:00:00\", \"2012-05-02T00:00:00\", \"2012-05-03T00:00:00\", \"2012-05-04T00:00:00\", \"2012-05-05T00:00:00\", \"2012-05-06T00:00:00\", \"2012-05-07T00:00:00\", \"2012-05-08T00:00:00\", \"2012-05-09T00:00:00\", \"2012-05-10T00:00:00\", \"2012-05-11T00:00:00\", \"2012-05-12T00:00:00\", \"2012-05-13T00:00:00\", \"2012-05-14T00:00:00\", \"2012-05-15T00:00:00\", \"2012-05-16T00:00:00\", \"2012-05-17T00:00:00\", \"2012-05-18T00:00:00\", \"2012-05-19T00:00:00\", \"2012-05-20T00:00:00\", \"2012-05-21T00:00:00\", \"2012-05-22T00:00:00\", \"2012-05-23T00:00:00\", \"2012-05-24T00:00:00\", \"2012-05-25T00:00:00\", \"2012-05-26T00:00:00\", \"2012-05-27T00:00:00\", \"2012-05-28T00:00:00\", \"2012-05-29T00:00:00\", \"2012-05-30T00:00:00\", \"2012-05-31T00:00:00\", \"2012-06-01T00:00:00\", \"2012-06-02T00:00:00\", \"2012-06-03T00:00:00\", \"2012-06-04T00:00:00\", \"2012-06-05T00:00:00\", \"2012-06-06T00:00:00\", \"2012-06-07T00:00:00\", \"2012-06-08T00:00:00\", \"2012-06-09T00:00:00\", \"2012-06-10T00:00:00\", \"2012-06-11T00:00:00\", \"2012-06-12T00:00:00\", \"2012-06-13T00:00:00\", \"2012-06-14T00:00:00\", \"2012-06-15T00:00:00\", \"2012-06-16T00:00:00\", \"2012-06-17T00:00:00\", \"2012-06-18T00:00:00\", \"2012-06-19T00:00:00\", \"2012-06-20T00:00:00\", \"2012-06-21T00:00:00\", \"2012-06-22T00:00:00\", \"2012-06-23T00:00:00\", \"2012-06-24T00:00:00\", \"2012-06-25T00:00:00\", \"2012-06-26T00:00:00\", \"2012-06-27T00:00:00\", \"2012-06-28T00:00:00\", \"2012-06-29T00:00:00\", \"2012-06-30T00:00:00\", \"2012-07-01T00:00:00\", \"2012-07-02T00:00:00\", \"2012-07-03T00:00:00\", \"2012-07-04T00:00:00\", \"2012-07-05T00:00:00\", \"2012-07-06T00:00:00\", \"2012-07-07T00:00:00\", \"2012-07-08T00:00:00\", \"2012-07-09T00:00:00\", \"2012-07-10T00:00:00\", \"2012-07-11T00:00:00\", \"2012-07-12T00:00:00\", \"2012-07-13T00:00:00\", \"2012-07-14T00:00:00\", \"2012-07-15T00:00:00\", \"2012-07-16T00:00:00\", \"2012-07-17T00:00:00\", \"2012-07-18T00:00:00\", \"2012-07-19T00:00:00\", \"2012-07-20T00:00:00\", \"2012-07-21T00:00:00\", \"2012-07-22T00:00:00\", \"2012-07-23T00:00:00\", \"2012-07-24T00:00:00\", \"2012-07-25T00:00:00\", \"2012-07-26T00:00:00\", \"2012-07-27T00:00:00\", \"2012-07-28T00:00:00\", \"2012-07-29T00:00:00\", \"2012-07-30T00:00:00\", \"2012-07-31T00:00:00\", \"2012-08-01T00:00:00\", \"2012-08-02T00:00:00\", \"2012-08-03T00:00:00\", \"2012-08-04T00:00:00\", \"2012-08-05T00:00:00\", \"2012-08-06T00:00:00\", \"2012-08-07T00:00:00\", \"2012-08-08T00:00:00\", \"2012-08-09T00:00:00\", \"2012-08-10T00:00:00\", \"2012-08-11T00:00:00\", \"2012-08-12T00:00:00\", \"2012-08-13T00:00:00\", \"2012-08-14T00:00:00\", \"2012-08-15T00:00:00\", \"2012-08-16T00:00:00\", \"2012-08-17T00:00:00\", \"2012-08-18T00:00:00\", \"2012-08-19T00:00:00\", \"2012-08-20T00:00:00\", \"2012-08-21T00:00:00\", \"2012-08-22T00:00:00\", \"2012-08-23T00:00:00\", \"2012-08-24T00:00:00\", \"2012-08-25T00:00:00\", \"2012-08-26T00:00:00\", \"2012-08-27T00:00:00\", \"2012-08-28T00:00:00\", \"2012-08-29T00:00:00\", \"2012-08-30T00:00:00\", \"2012-08-31T00:00:00\", \"2012-09-01T00:00:00\", \"2012-09-02T00:00:00\", \"2012-09-03T00:00:00\", \"2012-09-04T00:00:00\", \"2012-09-05T00:00:00\", \"2012-09-06T00:00:00\", \"2012-09-07T00:00:00\", \"2012-09-08T00:00:00\", \"2012-09-09T00:00:00\", \"2012-09-10T00:00:00\", \"2012-09-11T00:00:00\", \"2012-09-12T00:00:00\", \"2012-09-13T00:00:00\", \"2012-09-14T00:00:00\", \"2012-09-15T00:00:00\", \"2012-09-16T00:00:00\", \"2012-09-17T00:00:00\", \"2012-09-18T00:00:00\", \"2012-09-19T00:00:00\", \"2012-09-20T00:00:00\", \"2012-09-21T00:00:00\", \"2012-09-22T00:00:00\", \"2012-09-23T00:00:00\", \"2012-09-24T00:00:00\", \"2012-09-25T00:00:00\", \"2012-09-26T00:00:00\", \"2012-09-27T00:00:00\", \"2012-09-28T00:00:00\", \"2012-09-29T00:00:00\", \"2012-09-30T00:00:00\", \"2012-10-01T00:00:00\", \"2012-10-02T00:00:00\", \"2012-10-03T00:00:00\", \"2012-10-04T00:00:00\", \"2012-10-05T00:00:00\", \"2012-10-06T00:00:00\", \"2012-10-07T00:00:00\", \"2012-10-08T00:00:00\", \"2012-10-09T00:00:00\", \"2012-10-10T00:00:00\", \"2012-10-11T00:00:00\", \"2012-10-12T00:00:00\", \"2012-10-13T00:00:00\", \"2012-10-14T00:00:00\", \"2012-10-15T00:00:00\", \"2012-10-16T00:00:00\", \"2012-10-17T00:00:00\", \"2012-10-18T00:00:00\", \"2012-10-19T00:00:00\", \"2012-10-20T00:00:00\", \"2012-10-21T00:00:00\", \"2012-10-22T00:00:00\", \"2012-10-23T00:00:00\", \"2012-10-24T00:00:00\", \"2012-10-25T00:00:00\", \"2012-10-26T00:00:00\", \"2012-10-27T00:00:00\", \"2012-10-28T00:00:00\", \"2012-10-29T00:00:00\", \"2012-10-30T00:00:00\", \"2012-10-31T00:00:00\", \"2012-11-01T00:00:00\", \"2012-11-02T00:00:00\", \"2012-11-03T00:00:00\", \"2012-11-04T00:00:00\", \"2012-11-05T00:00:00\", \"2012-11-06T00:00:00\", \"2012-11-07T00:00:00\", \"2012-11-08T00:00:00\", \"2012-11-09T00:00:00\", \"2012-11-10T00:00:00\", \"2012-11-11T00:00:00\", \"2012-11-12T00:00:00\", \"2012-11-13T00:00:00\", \"2012-11-14T00:00:00\", \"2012-11-15T00:00:00\", \"2012-11-16T00:00:00\", \"2012-11-17T00:00:00\", \"2012-11-18T00:00:00\", \"2012-11-19T00:00:00\", \"2012-11-20T00:00:00\", \"2012-11-21T00:00:00\", \"2012-11-22T00:00:00\", \"2012-11-23T00:00:00\", \"2012-11-24T00:00:00\", \"2012-11-25T00:00:00\", \"2012-11-26T00:00:00\", \"2012-11-27T00:00:00\", \"2012-11-28T00:00:00\", \"2012-11-29T00:00:00\", \"2012-11-30T00:00:00\", \"2012-12-01T00:00:00\", \"2012-12-02T00:00:00\", \"2012-12-03T00:00:00\", \"2012-12-04T00:00:00\", \"2012-12-05T00:00:00\", \"2012-12-06T00:00:00\", \"2012-12-07T00:00:00\", \"2012-12-08T00:00:00\", \"2012-12-09T00:00:00\", \"2012-12-10T00:00:00\", \"2012-12-11T00:00:00\", \"2012-12-12T00:00:00\", \"2012-12-13T00:00:00\", \"2012-12-14T00:00:00\", \"2012-12-15T00:00:00\", \"2012-12-16T00:00:00\", \"2012-12-17T00:00:00\", \"2012-12-18T00:00:00\", \"2012-12-19T00:00:00\", \"2012-12-20T00:00:00\", \"2012-12-21T00:00:00\", \"2012-12-22T00:00:00\", \"2012-12-23T00:00:00\", \"2012-12-24T00:00:00\", \"2012-12-25T00:00:00\", \"2012-12-26T00:00:00\", \"2012-12-27T00:00:00\", \"2012-12-28T00:00:00\", \"2012-12-29T00:00:00\", \"2012-12-30T00:00:00\", \"2012-12-31T00:00:00\", \"2013-01-01T00:00:00\", \"2013-01-02T00:00:00\", \"2013-01-03T00:00:00\", \"2013-01-04T00:00:00\", \"2013-01-05T00:00:00\", \"2013-01-06T00:00:00\", \"2013-01-07T00:00:00\", \"2013-01-08T00:00:00\", \"2013-01-09T00:00:00\", \"2013-01-10T00:00:00\", \"2013-01-11T00:00:00\", \"2013-01-12T00:00:00\", \"2013-01-13T00:00:00\", \"2013-01-14T00:00:00\", \"2013-01-15T00:00:00\", \"2013-01-16T00:00:00\", \"2013-01-17T00:00:00\", \"2013-01-18T00:00:00\", \"2013-01-19T00:00:00\", \"2013-01-20T00:00:00\", \"2013-01-21T00:00:00\", \"2013-01-22T00:00:00\", \"2013-01-23T00:00:00\", \"2013-01-24T00:00:00\", \"2013-01-25T00:00:00\", \"2013-01-26T00:00:00\", \"2013-01-27T00:00:00\", \"2013-01-28T00:00:00\", \"2013-01-29T00:00:00\", \"2013-01-30T00:00:00\", \"2013-01-31T00:00:00\", \"2013-02-01T00:00:00\", \"2013-02-02T00:00:00\", \"2013-02-03T00:00:00\", \"2013-02-04T00:00:00\", \"2013-02-05T00:00:00\", \"2013-02-06T00:00:00\", \"2013-02-07T00:00:00\", \"2013-02-08T00:00:00\", \"2013-02-09T00:00:00\", \"2013-02-10T00:00:00\", \"2013-02-11T00:00:00\", \"2013-02-12T00:00:00\", \"2013-02-13T00:00:00\", \"2013-02-14T00:00:00\", \"2013-02-15T00:00:00\", \"2013-02-16T00:00:00\", \"2013-02-17T00:00:00\", \"2013-02-18T00:00:00\", \"2013-02-19T00:00:00\", \"2013-02-20T00:00:00\", \"2013-02-21T00:00:00\", \"2013-02-22T00:00:00\", \"2013-02-23T00:00:00\", \"2013-02-24T00:00:00\", \"2013-02-25T00:00:00\", \"2013-02-26T00:00:00\", \"2013-02-27T00:00:00\", \"2013-02-28T00:00:00\", \"2013-03-01T00:00:00\", \"2013-03-02T00:00:00\", \"2013-03-03T00:00:00\", \"2013-03-04T00:00:00\", \"2013-03-05T00:00:00\", \"2013-03-06T00:00:00\", \"2013-03-07T00:00:00\", \"2013-03-08T00:00:00\", \"2013-03-09T00:00:00\", \"2013-03-10T00:00:00\", \"2013-03-11T00:00:00\", \"2013-03-12T00:00:00\", \"2013-03-13T00:00:00\", \"2013-03-14T00:00:00\", \"2013-03-15T00:00:00\", \"2013-03-16T00:00:00\", \"2013-03-17T00:00:00\", \"2013-03-18T00:00:00\", \"2013-03-19T00:00:00\", \"2013-03-20T00:00:00\", \"2013-03-21T00:00:00\", \"2013-03-22T00:00:00\", \"2013-03-23T00:00:00\", \"2013-03-24T00:00:00\", \"2013-03-25T00:00:00\", \"2013-03-26T00:00:00\", \"2013-03-27T00:00:00\", \"2013-03-28T00:00:00\", \"2013-03-29T00:00:00\", \"2013-03-30T00:00:00\", \"2013-03-31T00:00:00\", \"2013-04-01T00:00:00\", \"2013-04-02T00:00:00\", \"2013-04-03T00:00:00\", \"2013-04-04T00:00:00\", \"2013-04-05T00:00:00\", \"2013-04-06T00:00:00\", \"2013-04-07T00:00:00\", \"2013-04-08T00:00:00\", \"2013-04-09T00:00:00\", \"2013-04-10T00:00:00\", \"2013-04-11T00:00:00\", \"2013-04-12T00:00:00\", \"2013-04-13T00:00:00\", \"2013-04-14T00:00:00\", \"2013-04-15T00:00:00\", \"2013-04-16T00:00:00\", \"2013-04-17T00:00:00\", \"2013-04-18T00:00:00\", \"2013-04-19T00:00:00\", \"2013-04-20T00:00:00\", \"2013-04-21T00:00:00\", \"2013-04-22T00:00:00\", \"2013-04-23T00:00:00\", \"2013-04-24T00:00:00\", \"2013-04-25T00:00:00\", \"2013-04-26T00:00:00\", \"2013-04-27T00:00:00\", \"2013-04-28T00:00:00\", \"2013-04-29T00:00:00\", \"2013-04-30T00:00:00\", \"2013-05-01T00:00:00\", \"2013-05-02T00:00:00\", \"2013-05-03T00:00:00\", \"2013-05-04T00:00:00\", \"2013-05-05T00:00:00\", \"2013-05-06T00:00:00\", \"2013-05-07T00:00:00\", \"2013-05-08T00:00:00\", \"2013-05-09T00:00:00\", \"2013-05-10T00:00:00\", \"2013-05-11T00:00:00\", \"2013-05-12T00:00:00\", \"2013-05-13T00:00:00\", \"2013-05-14T00:00:00\", \"2013-05-15T00:00:00\", \"2013-05-16T00:00:00\", \"2013-05-17T00:00:00\", \"2013-05-18T00:00:00\", \"2013-05-19T00:00:00\", \"2013-05-20T00:00:00\", \"2013-05-21T00:00:00\", \"2013-05-22T00:00:00\", \"2013-05-23T00:00:00\", \"2013-05-24T00:00:00\", \"2013-05-25T00:00:00\", \"2013-05-26T00:00:00\", \"2013-05-27T00:00:00\", \"2013-05-28T00:00:00\", \"2013-05-29T00:00:00\", \"2013-05-30T00:00:00\", \"2013-05-31T00:00:00\", \"2013-06-01T00:00:00\", \"2013-06-02T00:00:00\", \"2013-06-03T00:00:00\", \"2013-06-04T00:00:00\", \"2013-06-05T00:00:00\", \"2013-06-06T00:00:00\", \"2013-06-07T00:00:00\", \"2013-06-08T00:00:00\", \"2013-06-09T00:00:00\", \"2013-06-10T00:00:00\", \"2013-06-11T00:00:00\", \"2013-06-12T00:00:00\", \"2013-06-13T00:00:00\", \"2013-06-14T00:00:00\", \"2013-06-15T00:00:00\", \"2013-06-16T00:00:00\", \"2013-06-17T00:00:00\", \"2013-06-18T00:00:00\", \"2013-06-19T00:00:00\", \"2013-06-20T00:00:00\", \"2013-06-21T00:00:00\", \"2013-06-22T00:00:00\", \"2013-06-23T00:00:00\", \"2013-06-24T00:00:00\", \"2013-06-25T00:00:00\", \"2013-06-26T00:00:00\", \"2013-06-27T00:00:00\", \"2013-06-28T00:00:00\", \"2013-06-29T00:00:00\", \"2013-06-30T00:00:00\", \"2013-07-01T00:00:00\", \"2013-07-02T00:00:00\", \"2013-07-03T00:00:00\", \"2013-07-04T00:00:00\", \"2013-07-05T00:00:00\", \"2013-07-06T00:00:00\", \"2013-07-07T00:00:00\", \"2013-07-08T00:00:00\", \"2013-07-09T00:00:00\", \"2013-07-10T00:00:00\", \"2013-07-11T00:00:00\", \"2013-07-12T00:00:00\", \"2013-07-13T00:00:00\", \"2013-07-14T00:00:00\", \"2013-07-15T00:00:00\", \"2013-07-16T00:00:00\", \"2013-07-17T00:00:00\", \"2013-07-18T00:00:00\", \"2013-07-19T00:00:00\", \"2013-07-20T00:00:00\", \"2013-07-21T00:00:00\", \"2013-07-22T00:00:00\", \"2013-07-23T00:00:00\", \"2013-07-24T00:00:00\", \"2013-07-25T00:00:00\", \"2013-07-26T00:00:00\", \"2013-07-27T00:00:00\", \"2013-07-28T00:00:00\", \"2013-07-29T00:00:00\", \"2013-07-30T00:00:00\", \"2013-07-31T00:00:00\", \"2013-08-01T00:00:00\", \"2013-08-02T00:00:00\", \"2013-08-03T00:00:00\", \"2013-08-04T00:00:00\", \"2013-08-05T00:00:00\", \"2013-08-06T00:00:00\", \"2013-08-07T00:00:00\", \"2013-08-08T00:00:00\", \"2013-08-09T00:00:00\", \"2013-08-10T00:00:00\", \"2013-08-11T00:00:00\", \"2013-08-12T00:00:00\", \"2013-08-13T00:00:00\", \"2013-08-14T00:00:00\", \"2013-08-15T00:00:00\", \"2013-08-16T00:00:00\", \"2013-08-17T00:00:00\", \"2013-08-18T00:00:00\", \"2013-08-19T00:00:00\", \"2013-08-20T00:00:00\", \"2013-08-21T00:00:00\", \"2013-08-22T00:00:00\", \"2013-08-23T00:00:00\", \"2013-08-24T00:00:00\", \"2013-08-25T00:00:00\", \"2013-08-26T00:00:00\", \"2013-08-27T00:00:00\", \"2013-08-28T00:00:00\", \"2013-08-29T00:00:00\", \"2013-08-30T00:00:00\", \"2013-08-31T00:00:00\", \"2013-09-01T00:00:00\", \"2013-09-02T00:00:00\", \"2013-09-03T00:00:00\", \"2013-09-04T00:00:00\", \"2013-09-05T00:00:00\", \"2013-09-06T00:00:00\", \"2013-09-07T00:00:00\", \"2013-09-08T00:00:00\", \"2013-09-09T00:00:00\", \"2013-09-10T00:00:00\", \"2013-09-11T00:00:00\", \"2013-09-12T00:00:00\", \"2013-09-13T00:00:00\", \"2013-09-14T00:00:00\", \"2013-09-15T00:00:00\", \"2013-09-16T00:00:00\", \"2013-09-17T00:00:00\", \"2013-09-18T00:00:00\", \"2013-09-19T00:00:00\", \"2013-09-20T00:00:00\", \"2013-09-21T00:00:00\", \"2013-09-22T00:00:00\", \"2013-09-23T00:00:00\", \"2013-09-24T00:00:00\", \"2013-09-25T00:00:00\", \"2013-09-26T00:00:00\", \"2013-09-27T00:00:00\", \"2013-09-28T00:00:00\", \"2013-09-29T00:00:00\", \"2013-09-30T00:00:00\", \"2013-10-01T00:00:00\", \"2013-10-02T00:00:00\", \"2013-10-03T00:00:00\", \"2013-10-04T00:00:00\", \"2013-10-05T00:00:00\", \"2013-10-06T00:00:00\", \"2013-10-07T00:00:00\", \"2013-10-08T00:00:00\", \"2013-10-09T00:00:00\", \"2013-10-10T00:00:00\", \"2013-10-11T00:00:00\", \"2013-10-12T00:00:00\", \"2013-10-13T00:00:00\", \"2013-10-14T00:00:00\", \"2013-10-15T00:00:00\", \"2013-10-16T00:00:00\", \"2013-10-17T00:00:00\", \"2013-10-18T00:00:00\", \"2013-10-19T00:00:00\", \"2013-10-20T00:00:00\", \"2013-10-21T00:00:00\", \"2013-10-22T00:00:00\", \"2013-10-23T00:00:00\", \"2013-10-24T00:00:00\", \"2013-10-25T00:00:00\", \"2013-10-26T00:00:00\", \"2013-10-27T00:00:00\", \"2013-10-28T00:00:00\", \"2013-10-29T00:00:00\", \"2013-10-30T00:00:00\", \"2013-10-31T00:00:00\", \"2013-11-01T00:00:00\", \"2013-11-02T00:00:00\", \"2013-11-03T00:00:00\", \"2013-11-04T00:00:00\", \"2013-11-05T00:00:00\", \"2013-11-06T00:00:00\", \"2013-11-07T00:00:00\", \"2013-11-08T00:00:00\", \"2013-11-09T00:00:00\", \"2013-11-10T00:00:00\", \"2013-11-11T00:00:00\", \"2013-11-12T00:00:00\", \"2013-11-13T00:00:00\", \"2013-11-14T00:00:00\", \"2013-11-15T00:00:00\", \"2013-11-16T00:00:00\", \"2013-11-17T00:00:00\", \"2013-11-18T00:00:00\", \"2013-11-19T00:00:00\", \"2013-11-20T00:00:00\", \"2013-11-21T00:00:00\", \"2013-11-22T00:00:00\", \"2013-11-23T00:00:00\", \"2013-11-24T00:00:00\", \"2013-11-25T00:00:00\", \"2013-11-26T00:00:00\", \"2013-11-27T00:00:00\", \"2013-11-28T00:00:00\", \"2013-11-29T00:00:00\", \"2013-11-30T00:00:00\", \"2013-12-01T00:00:00\", \"2013-12-02T00:00:00\", \"2013-12-03T00:00:00\", \"2013-12-04T00:00:00\", \"2013-12-05T00:00:00\", \"2013-12-06T00:00:00\", \"2013-12-07T00:00:00\", \"2013-12-08T00:00:00\", \"2013-12-09T00:00:00\", \"2013-12-10T00:00:00\", \"2013-12-11T00:00:00\", \"2013-12-12T00:00:00\", \"2013-12-13T00:00:00\", \"2013-12-14T00:00:00\", \"2013-12-15T00:00:00\", \"2013-12-16T00:00:00\", \"2013-12-17T00:00:00\", \"2013-12-18T00:00:00\", \"2013-12-19T00:00:00\", \"2013-12-20T00:00:00\", \"2013-12-21T00:00:00\", \"2013-12-22T00:00:00\", \"2013-12-23T00:00:00\", \"2013-12-24T00:00:00\", \"2013-12-25T00:00:00\", \"2013-12-26T00:00:00\", \"2013-12-27T00:00:00\", \"2013-12-28T00:00:00\", \"2013-12-29T00:00:00\", \"2013-12-30T00:00:00\", \"2013-12-31T00:00:00\", \"2014-01-01T00:00:00\", \"2014-01-02T00:00:00\", \"2014-01-03T00:00:00\", \"2014-01-04T00:00:00\", \"2014-01-05T00:00:00\", \"2014-01-06T00:00:00\", \"2014-01-07T00:00:00\", \"2014-01-08T00:00:00\", \"2014-01-09T00:00:00\", \"2014-01-10T00:00:00\", \"2014-01-11T00:00:00\", \"2014-01-12T00:00:00\", \"2014-01-13T00:00:00\", \"2014-01-14T00:00:00\", \"2014-01-15T00:00:00\", \"2014-01-16T00:00:00\", \"2014-01-17T00:00:00\", \"2014-01-18T00:00:00\", \"2014-01-19T00:00:00\", \"2014-01-20T00:00:00\", \"2014-01-21T00:00:00\", \"2014-01-22T00:00:00\", \"2014-01-23T00:00:00\", \"2014-01-24T00:00:00\", \"2014-01-25T00:00:00\", \"2014-01-26T00:00:00\", \"2014-01-27T00:00:00\", \"2014-01-28T00:00:00\", \"2014-01-29T00:00:00\", \"2014-01-30T00:00:00\", \"2014-01-31T00:00:00\", \"2014-02-01T00:00:00\", \"2014-02-02T00:00:00\", \"2014-02-03T00:00:00\", \"2014-02-04T00:00:00\", \"2014-02-05T00:00:00\", \"2014-02-06T00:00:00\", \"2014-02-07T00:00:00\", \"2014-02-08T00:00:00\", \"2014-02-09T00:00:00\", \"2014-02-10T00:00:00\", \"2014-02-11T00:00:00\", \"2014-02-12T00:00:00\", \"2014-02-13T00:00:00\", \"2014-02-14T00:00:00\", \"2014-02-15T00:00:00\", \"2014-02-16T00:00:00\", \"2014-02-17T00:00:00\", \"2014-02-18T00:00:00\", \"2014-02-19T00:00:00\", \"2014-02-20T00:00:00\", \"2014-02-21T00:00:00\", \"2014-02-22T00:00:00\", \"2014-02-23T00:00:00\", \"2014-02-24T00:00:00\", \"2014-02-25T00:00:00\", \"2014-02-26T00:00:00\", \"2014-02-27T00:00:00\", \"2014-02-28T00:00:00\", \"2014-03-01T00:00:00\", \"2014-03-02T00:00:00\", \"2014-03-03T00:00:00\", \"2014-03-04T00:00:00\", \"2014-03-05T00:00:00\", \"2014-03-06T00:00:00\", \"2014-03-07T00:00:00\", \"2014-03-08T00:00:00\", \"2014-03-09T00:00:00\", \"2014-03-10T00:00:00\", \"2014-03-11T00:00:00\", \"2014-03-12T00:00:00\", \"2014-03-13T00:00:00\", \"2014-03-14T00:00:00\", \"2014-03-15T00:00:00\", \"2014-03-16T00:00:00\", \"2014-03-17T00:00:00\", \"2014-03-18T00:00:00\", \"2014-03-19T00:00:00\", \"2014-03-20T00:00:00\", \"2014-03-21T00:00:00\", \"2014-03-22T00:00:00\", \"2014-03-23T00:00:00\", \"2014-03-24T00:00:00\", \"2014-03-25T00:00:00\", \"2014-03-26T00:00:00\", \"2014-03-27T00:00:00\", \"2014-03-28T00:00:00\", \"2014-03-29T00:00:00\", \"2014-03-30T00:00:00\", \"2014-03-31T00:00:00\", \"2014-04-01T00:00:00\", \"2014-04-02T00:00:00\", \"2014-04-03T00:00:00\", \"2014-04-04T00:00:00\", \"2014-04-05T00:00:00\", \"2014-04-06T00:00:00\", \"2014-04-07T00:00:00\", \"2014-04-08T00:00:00\", \"2014-04-09T00:00:00\", \"2014-04-10T00:00:00\", \"2014-04-11T00:00:00\", \"2014-04-12T00:00:00\", \"2014-04-13T00:00:00\", \"2014-04-14T00:00:00\", \"2014-04-15T00:00:00\", \"2014-04-16T00:00:00\", \"2014-04-17T00:00:00\", \"2014-04-18T00:00:00\", \"2014-04-19T00:00:00\", \"2014-04-20T00:00:00\", \"2014-04-21T00:00:00\", \"2014-04-22T00:00:00\", \"2014-04-23T00:00:00\", \"2014-04-24T00:00:00\", \"2014-04-25T00:00:00\", \"2014-04-26T00:00:00\", \"2014-04-27T00:00:00\", \"2014-04-28T00:00:00\", \"2014-04-29T00:00:00\", \"2014-04-30T00:00:00\", \"2014-05-01T00:00:00\", \"2014-05-02T00:00:00\", \"2014-05-03T00:00:00\", \"2014-05-04T00:00:00\", \"2014-05-05T00:00:00\", \"2014-05-06T00:00:00\", \"2014-05-07T00:00:00\", \"2014-05-08T00:00:00\", \"2014-05-09T00:00:00\", \"2014-05-10T00:00:00\", \"2014-05-11T00:00:00\", \"2014-05-12T00:00:00\", \"2014-05-13T00:00:00\", \"2014-05-14T00:00:00\", \"2014-05-15T00:00:00\", \"2014-05-16T00:00:00\", \"2014-05-17T00:00:00\", \"2014-05-18T00:00:00\", \"2014-05-19T00:00:00\", \"2014-05-20T00:00:00\", \"2014-05-21T00:00:00\", \"2014-05-22T00:00:00\", \"2014-05-23T00:00:00\", \"2014-05-24T00:00:00\", \"2014-05-25T00:00:00\", \"2014-05-26T00:00:00\", \"2014-05-27T00:00:00\", \"2014-05-28T00:00:00\", \"2014-05-29T00:00:00\", \"2014-05-30T00:00:00\", \"2014-05-31T00:00:00\", \"2014-06-01T00:00:00\", \"2014-06-02T00:00:00\", \"2014-06-03T00:00:00\", \"2014-06-04T00:00:00\", \"2014-06-05T00:00:00\", \"2014-06-06T00:00:00\", \"2014-06-07T00:00:00\", \"2014-06-08T00:00:00\", \"2014-06-09T00:00:00\", \"2014-06-10T00:00:00\", \"2014-06-11T00:00:00\", \"2014-06-12T00:00:00\", \"2014-06-13T00:00:00\", \"2014-06-14T00:00:00\", \"2014-06-15T00:00:00\", \"2014-06-16T00:00:00\", \"2014-06-17T00:00:00\", \"2014-06-18T00:00:00\", \"2014-06-19T00:00:00\", \"2014-06-20T00:00:00\", \"2014-06-21T00:00:00\", \"2014-06-22T00:00:00\", \"2014-06-23T00:00:00\", \"2014-06-24T00:00:00\", \"2014-06-25T00:00:00\", \"2014-06-26T00:00:00\", \"2014-06-27T00:00:00\", \"2014-06-28T00:00:00\", \"2014-06-29T00:00:00\", \"2014-06-30T00:00:00\", \"2014-07-01T00:00:00\", \"2014-07-02T00:00:00\", \"2014-07-03T00:00:00\", \"2014-07-04T00:00:00\", \"2014-07-05T00:00:00\", \"2014-07-06T00:00:00\", \"2014-07-07T00:00:00\", \"2014-07-08T00:00:00\", \"2014-07-09T00:00:00\", \"2014-07-10T00:00:00\", \"2014-07-11T00:00:00\", \"2014-07-12T00:00:00\", \"2014-07-13T00:00:00\", \"2014-07-14T00:00:00\", \"2014-07-15T00:00:00\", \"2014-07-16T00:00:00\", \"2014-07-17T00:00:00\", \"2014-07-18T00:00:00\", \"2014-07-19T00:00:00\", \"2014-07-20T00:00:00\", \"2014-07-21T00:00:00\", \"2014-07-22T00:00:00\", \"2014-07-23T00:00:00\", \"2014-07-24T00:00:00\", \"2014-07-25T00:00:00\", \"2014-07-26T00:00:00\", \"2014-07-27T00:00:00\", \"2014-07-28T00:00:00\", \"2014-07-29T00:00:00\", \"2014-07-30T00:00:00\", \"2014-07-31T00:00:00\", \"2014-08-01T00:00:00\", \"2014-08-02T00:00:00\", \"2014-08-03T00:00:00\", \"2014-08-04T00:00:00\", \"2014-08-05T00:00:00\", \"2014-08-06T00:00:00\", \"2014-08-07T00:00:00\", \"2014-08-08T00:00:00\", \"2014-08-09T00:00:00\", \"2014-08-10T00:00:00\", \"2014-08-11T00:00:00\", \"2014-08-12T00:00:00\", \"2014-08-13T00:00:00\", \"2014-08-14T00:00:00\", \"2014-08-15T00:00:00\", \"2014-08-16T00:00:00\", \"2014-08-17T00:00:00\", \"2014-08-18T00:00:00\", \"2014-08-19T00:00:00\", \"2014-08-20T00:00:00\", \"2014-08-21T00:00:00\", \"2014-08-22T00:00:00\", \"2014-08-23T00:00:00\", \"2014-08-24T00:00:00\", \"2014-08-25T00:00:00\", \"2014-08-26T00:00:00\", \"2014-08-27T00:00:00\", \"2014-08-28T00:00:00\", \"2014-08-29T00:00:00\", \"2014-08-30T00:00:00\", \"2014-08-31T00:00:00\", \"2014-09-01T00:00:00\", \"2014-09-02T00:00:00\", \"2014-09-03T00:00:00\", \"2014-09-04T00:00:00\", \"2014-09-05T00:00:00\", \"2014-09-06T00:00:00\", \"2014-09-07T00:00:00\", \"2014-09-08T00:00:00\", \"2014-09-09T00:00:00\", \"2014-09-10T00:00:00\", \"2014-09-11T00:00:00\", \"2014-09-12T00:00:00\", \"2014-09-13T00:00:00\", \"2014-09-14T00:00:00\", \"2014-09-15T00:00:00\", \"2014-09-16T00:00:00\", \"2014-09-17T00:00:00\", \"2014-09-18T00:00:00\", \"2014-09-19T00:00:00\", \"2014-09-20T00:00:00\", \"2014-09-21T00:00:00\", \"2014-09-22T00:00:00\", \"2014-09-23T00:00:00\", \"2014-09-24T00:00:00\", \"2014-09-25T00:00:00\", \"2014-09-26T00:00:00\", \"2014-09-27T00:00:00\", \"2014-09-28T00:00:00\", \"2014-09-29T00:00:00\", \"2014-09-30T00:00:00\", \"2014-10-01T00:00:00\", \"2014-10-02T00:00:00\", \"2014-10-03T00:00:00\", \"2014-10-04T00:00:00\", \"2014-10-05T00:00:00\", \"2014-10-06T00:00:00\", \"2014-10-07T00:00:00\", \"2014-10-08T00:00:00\", \"2014-10-09T00:00:00\", \"2014-10-10T00:00:00\", \"2014-10-11T00:00:00\", \"2014-10-12T00:00:00\", \"2014-10-13T00:00:00\", \"2014-10-14T00:00:00\", \"2014-10-15T00:00:00\", \"2014-10-16T00:00:00\", \"2014-10-17T00:00:00\", \"2014-10-18T00:00:00\", \"2014-10-19T00:00:00\", \"2014-10-20T00:00:00\", \"2014-10-21T00:00:00\", \"2014-10-22T00:00:00\", \"2014-10-23T00:00:00\", \"2014-10-24T00:00:00\", \"2014-10-25T00:00:00\", \"2014-10-26T00:00:00\", \"2014-10-27T00:00:00\", \"2014-10-28T00:00:00\", \"2014-10-29T00:00:00\", \"2014-10-30T00:00:00\", \"2014-10-31T00:00:00\", \"2014-11-01T00:00:00\", \"2014-11-02T00:00:00\", \"2014-11-03T00:00:00\", \"2014-11-04T00:00:00\", \"2014-11-05T00:00:00\", \"2014-11-06T00:00:00\", \"2014-11-07T00:00:00\", \"2014-11-08T00:00:00\", \"2014-11-09T00:00:00\", \"2014-11-10T00:00:00\", \"2014-11-11T00:00:00\", \"2014-11-12T00:00:00\", \"2014-11-13T00:00:00\", \"2014-11-14T00:00:00\", \"2014-11-15T00:00:00\", \"2014-11-16T00:00:00\", \"2014-11-17T00:00:00\", \"2014-11-18T00:00:00\", \"2014-11-19T00:00:00\", \"2014-11-20T00:00:00\", \"2014-11-21T00:00:00\", \"2014-11-22T00:00:00\", \"2014-11-23T00:00:00\", \"2014-11-24T00:00:00\", \"2014-11-25T00:00:00\", \"2014-11-26T00:00:00\", \"2014-11-27T00:00:00\", \"2014-11-28T00:00:00\", \"2014-11-29T00:00:00\", \"2014-11-30T00:00:00\", \"2014-12-01T00:00:00\", \"2014-12-02T00:00:00\", \"2014-12-03T00:00:00\", \"2014-12-04T00:00:00\", \"2014-12-05T00:00:00\", \"2014-12-06T00:00:00\", \"2014-12-07T00:00:00\", \"2014-12-08T00:00:00\", \"2014-12-09T00:00:00\", \"2014-12-10T00:00:00\", \"2014-12-11T00:00:00\", \"2014-12-12T00:00:00\", \"2014-12-13T00:00:00\", \"2014-12-14T00:00:00\", \"2014-12-15T00:00:00\", \"2014-12-16T00:00:00\", \"2014-12-17T00:00:00\", \"2014-12-18T00:00:00\", \"2014-12-19T00:00:00\", \"2014-12-20T00:00:00\", \"2014-12-21T00:00:00\", \"2014-12-22T00:00:00\", \"2014-12-23T00:00:00\", \"2014-12-24T00:00:00\", \"2014-12-25T00:00:00\", \"2014-12-26T00:00:00\", \"2014-12-27T00:00:00\", \"2014-12-28T00:00:00\", \"2014-12-29T00:00:00\", \"2014-12-30T00:00:00\", \"2014-12-31T00:00:00\", \"2015-01-01T00:00:00\", \"2015-01-02T00:00:00\", \"2015-01-03T00:00:00\", \"2015-01-04T00:00:00\", \"2015-01-05T00:00:00\", \"2015-01-06T00:00:00\", \"2015-01-07T00:00:00\", \"2015-01-08T00:00:00\", \"2015-01-09T00:00:00\", \"2015-01-10T00:00:00\", \"2015-01-11T00:00:00\", \"2015-01-12T00:00:00\", \"2015-01-13T00:00:00\", \"2015-01-14T00:00:00\", \"2015-01-15T00:00:00\", \"2015-01-16T00:00:00\", \"2015-01-17T00:00:00\", \"2015-01-18T00:00:00\", \"2015-01-19T00:00:00\", \"2015-01-20T00:00:00\", \"2015-01-21T00:00:00\", \"2015-01-22T00:00:00\", \"2015-01-23T00:00:00\", \"2015-01-24T00:00:00\", \"2015-01-25T00:00:00\", \"2015-01-26T00:00:00\", \"2015-01-27T00:00:00\", \"2015-01-28T00:00:00\", \"2015-01-29T00:00:00\", \"2015-01-30T00:00:00\", \"2015-01-31T00:00:00\", \"2015-02-01T00:00:00\", \"2015-02-02T00:00:00\", \"2015-02-03T00:00:00\", \"2015-02-04T00:00:00\", \"2015-02-05T00:00:00\", \"2015-02-06T00:00:00\", \"2015-02-07T00:00:00\", \"2015-02-08T00:00:00\", \"2015-02-09T00:00:00\", \"2015-02-10T00:00:00\", \"2015-02-11T00:00:00\", \"2015-02-12T00:00:00\", \"2015-02-13T00:00:00\", \"2015-02-14T00:00:00\", \"2015-02-15T00:00:00\", \"2015-02-16T00:00:00\", \"2015-02-17T00:00:00\", \"2015-02-18T00:00:00\", \"2015-02-19T00:00:00\", \"2015-02-20T00:00:00\", \"2015-02-21T00:00:00\", \"2015-02-22T00:00:00\", \"2015-02-23T00:00:00\", \"2015-02-24T00:00:00\", \"2015-02-25T00:00:00\", \"2015-02-26T00:00:00\", \"2015-02-27T00:00:00\", \"2015-02-28T00:00:00\", \"2015-03-01T00:00:00\", \"2015-03-02T00:00:00\", \"2015-03-03T00:00:00\", \"2015-03-04T00:00:00\", \"2015-03-05T00:00:00\", \"2015-03-06T00:00:00\", \"2015-03-07T00:00:00\", \"2015-03-08T00:00:00\", \"2015-03-09T00:00:00\", \"2015-03-10T00:00:00\", \"2015-03-11T00:00:00\", \"2015-03-12T00:00:00\", \"2015-03-13T00:00:00\", \"2015-03-14T00:00:00\", \"2015-03-15T00:00:00\", \"2015-03-16T00:00:00\", \"2015-03-17T00:00:00\", \"2015-03-18T00:00:00\", \"2015-03-19T00:00:00\", \"2015-03-20T00:00:00\", \"2015-03-21T00:00:00\", \"2015-03-22T00:00:00\", \"2015-03-23T00:00:00\", \"2015-03-24T00:00:00\", \"2015-03-25T00:00:00\", \"2015-03-26T00:00:00\", \"2015-03-27T00:00:00\", \"2015-03-28T00:00:00\", \"2015-03-29T00:00:00\", \"2015-03-30T00:00:00\", \"2015-03-31T00:00:00\", \"2015-04-01T00:00:00\", \"2015-04-02T00:00:00\", \"2015-04-03T00:00:00\", \"2015-04-04T00:00:00\", \"2015-04-05T00:00:00\", \"2015-04-06T00:00:00\", \"2015-04-07T00:00:00\", \"2015-04-08T00:00:00\", \"2015-04-09T00:00:00\", \"2015-04-10T00:00:00\", \"2015-04-11T00:00:00\", \"2015-04-12T00:00:00\", \"2015-04-13T00:00:00\", \"2015-04-14T00:00:00\", \"2015-04-15T00:00:00\", \"2015-04-16T00:00:00\", \"2015-04-17T00:00:00\", \"2015-04-18T00:00:00\", \"2015-04-19T00:00:00\", \"2015-04-20T00:00:00\", \"2015-04-21T00:00:00\", \"2015-04-22T00:00:00\", \"2015-04-23T00:00:00\", \"2015-04-24T00:00:00\", \"2015-04-25T00:00:00\", \"2015-04-26T00:00:00\", \"2015-04-27T00:00:00\", \"2015-04-28T00:00:00\", \"2015-04-29T00:00:00\", \"2015-04-30T00:00:00\", \"2015-05-01T00:00:00\", \"2015-05-02T00:00:00\", \"2015-05-03T00:00:00\", \"2015-05-04T00:00:00\", \"2015-05-05T00:00:00\", \"2015-05-06T00:00:00\", \"2015-05-07T00:00:00\", \"2015-05-08T00:00:00\", \"2015-05-09T00:00:00\", \"2015-05-10T00:00:00\", \"2015-05-11T00:00:00\", \"2015-05-12T00:00:00\", \"2015-05-13T00:00:00\", \"2015-05-14T00:00:00\", \"2015-05-15T00:00:00\", \"2015-05-16T00:00:00\", \"2015-05-17T00:00:00\", \"2015-05-18T00:00:00\", \"2015-05-19T00:00:00\", \"2015-05-20T00:00:00\", \"2015-05-21T00:00:00\", \"2015-05-22T00:00:00\", \"2015-05-23T00:00:00\", \"2015-05-24T00:00:00\", \"2015-05-25T00:00:00\", \"2015-05-26T00:00:00\", \"2015-05-27T00:00:00\", \"2015-05-28T00:00:00\", \"2015-05-29T00:00:00\", \"2015-05-30T00:00:00\", \"2015-05-31T00:00:00\", \"2015-06-01T00:00:00\", \"2015-06-02T00:00:00\", \"2015-06-03T00:00:00\", \"2015-06-04T00:00:00\", \"2015-06-05T00:00:00\", \"2015-06-06T00:00:00\", \"2015-06-07T00:00:00\", \"2015-06-08T00:00:00\", \"2015-06-09T00:00:00\", \"2015-06-10T00:00:00\", \"2015-06-11T00:00:00\", \"2015-06-12T00:00:00\", \"2015-06-13T00:00:00\", \"2015-06-14T00:00:00\", \"2015-06-15T00:00:00\", \"2015-06-16T00:00:00\", \"2015-06-17T00:00:00\", \"2015-06-18T00:00:00\", \"2015-06-19T00:00:00\", \"2015-06-20T00:00:00\", \"2015-06-21T00:00:00\", \"2015-06-22T00:00:00\", \"2015-06-23T00:00:00\", \"2015-06-24T00:00:00\", \"2015-06-25T00:00:00\", \"2015-06-26T00:00:00\", \"2015-06-27T00:00:00\", \"2015-06-28T00:00:00\", \"2015-06-29T00:00:00\", \"2015-06-30T00:00:00\", \"2015-07-01T00:00:00\", \"2015-07-02T00:00:00\", \"2015-07-03T00:00:00\", \"2015-07-04T00:00:00\", \"2015-07-05T00:00:00\", \"2015-07-06T00:00:00\", \"2015-07-07T00:00:00\", \"2015-07-08T00:00:00\", \"2015-07-09T00:00:00\", \"2015-07-10T00:00:00\", \"2015-07-11T00:00:00\", \"2015-07-12T00:00:00\", \"2015-07-13T00:00:00\", \"2015-07-14T00:00:00\", \"2015-07-15T00:00:00\", \"2015-07-16T00:00:00\", \"2015-07-17T00:00:00\", \"2015-07-18T00:00:00\", \"2015-07-19T00:00:00\", \"2015-07-20T00:00:00\", \"2015-07-21T00:00:00\", \"2015-07-22T00:00:00\", \"2015-07-23T00:00:00\", \"2015-07-24T00:00:00\", \"2015-07-25T00:00:00\", \"2015-07-26T00:00:00\", \"2015-07-27T00:00:00\", \"2015-07-28T00:00:00\", \"2015-07-29T00:00:00\", \"2015-07-30T00:00:00\", \"2015-07-31T00:00:00\", \"2015-08-01T00:00:00\", \"2015-08-02T00:00:00\", \"2015-08-03T00:00:00\", \"2015-08-04T00:00:00\", \"2015-08-05T00:00:00\", \"2015-08-06T00:00:00\", \"2015-08-07T00:00:00\", \"2015-08-08T00:00:00\", \"2015-08-09T00:00:00\", \"2015-08-10T00:00:00\", \"2015-08-11T00:00:00\", \"2015-08-12T00:00:00\", \"2015-08-13T00:00:00\", \"2015-08-14T00:00:00\", \"2015-08-15T00:00:00\", \"2015-08-16T00:00:00\", \"2015-08-17T00:00:00\", \"2015-08-18T00:00:00\", \"2015-08-19T00:00:00\", \"2015-08-20T00:00:00\", \"2015-08-21T00:00:00\", \"2015-08-22T00:00:00\", \"2015-08-23T00:00:00\", \"2015-08-24T00:00:00\", \"2015-08-25T00:00:00\", \"2015-08-26T00:00:00\", \"2015-08-27T00:00:00\", \"2015-08-28T00:00:00\", \"2015-08-29T00:00:00\", \"2015-08-30T00:00:00\", \"2015-08-31T00:00:00\", \"2015-09-01T00:00:00\", \"2015-09-02T00:00:00\", \"2015-09-03T00:00:00\", \"2015-09-04T00:00:00\", \"2015-09-05T00:00:00\", \"2015-09-06T00:00:00\", \"2015-09-07T00:00:00\", \"2015-09-08T00:00:00\", \"2015-09-09T00:00:00\", \"2015-09-10T00:00:00\", \"2015-09-11T00:00:00\", \"2015-09-12T00:00:00\", \"2015-09-13T00:00:00\", \"2015-09-14T00:00:00\", \"2015-09-15T00:00:00\", \"2015-09-16T00:00:00\", \"2015-09-17T00:00:00\", \"2015-09-18T00:00:00\", \"2015-09-19T00:00:00\", \"2015-09-20T00:00:00\", \"2015-09-21T00:00:00\", \"2015-09-22T00:00:00\", \"2015-09-23T00:00:00\", \"2015-09-24T00:00:00\", \"2015-09-25T00:00:00\", \"2015-09-26T00:00:00\", \"2015-09-27T00:00:00\", \"2015-09-28T00:00:00\", \"2015-09-29T00:00:00\", \"2015-09-30T00:00:00\", \"2015-10-01T00:00:00\", \"2015-10-02T00:00:00\", \"2015-10-03T00:00:00\", \"2015-10-04T00:00:00\", \"2015-10-05T00:00:00\", \"2015-10-06T00:00:00\", \"2015-10-07T00:00:00\", \"2015-10-08T00:00:00\", \"2015-10-09T00:00:00\", \"2015-10-10T00:00:00\", \"2015-10-11T00:00:00\", \"2015-10-12T00:00:00\", \"2015-10-13T00:00:00\", \"2015-10-14T00:00:00\", \"2015-10-15T00:00:00\", \"2015-10-16T00:00:00\", \"2015-10-17T00:00:00\", \"2015-10-18T00:00:00\", \"2015-10-19T00:00:00\", \"2015-10-20T00:00:00\", \"2015-10-21T00:00:00\", \"2015-10-22T00:00:00\", \"2015-10-23T00:00:00\", \"2015-10-24T00:00:00\", \"2015-10-25T00:00:00\", \"2015-10-26T00:00:00\", \"2015-10-27T00:00:00\", \"2015-10-28T00:00:00\", \"2015-10-29T00:00:00\", \"2015-10-30T00:00:00\", \"2015-10-31T00:00:00\", \"2015-11-01T00:00:00\", \"2015-11-02T00:00:00\", \"2015-11-03T00:00:00\", \"2015-11-04T00:00:00\", \"2015-11-05T00:00:00\", \"2015-11-06T00:00:00\", \"2015-11-07T00:00:00\", \"2015-11-08T00:00:00\", \"2015-11-09T00:00:00\", \"2015-11-10T00:00:00\", \"2015-11-11T00:00:00\", \"2015-11-12T00:00:00\", \"2015-11-13T00:00:00\", \"2015-11-14T00:00:00\", \"2015-11-15T00:00:00\", \"2015-11-16T00:00:00\", \"2015-11-17T00:00:00\", \"2015-11-18T00:00:00\", \"2015-11-19T00:00:00\", \"2015-11-20T00:00:00\", \"2015-11-21T00:00:00\", \"2015-11-22T00:00:00\", \"2015-11-23T00:00:00\", \"2015-11-24T00:00:00\", \"2015-11-25T00:00:00\", \"2015-11-26T00:00:00\", \"2015-11-27T00:00:00\", \"2015-11-28T00:00:00\", \"2015-11-29T00:00:00\", \"2015-11-30T00:00:00\", \"2015-12-01T00:00:00\", \"2015-12-02T00:00:00\", \"2015-12-03T00:00:00\", \"2015-12-04T00:00:00\", \"2015-12-05T00:00:00\", \"2015-12-06T00:00:00\", \"2015-12-07T00:00:00\", \"2015-12-08T00:00:00\", \"2015-12-09T00:00:00\", \"2015-12-10T00:00:00\", \"2015-12-11T00:00:00\", \"2015-12-12T00:00:00\", \"2015-12-13T00:00:00\", \"2015-12-14T00:00:00\", \"2015-12-15T00:00:00\", \"2015-12-16T00:00:00\", \"2015-12-17T00:00:00\", \"2015-12-18T00:00:00\", \"2015-12-19T00:00:00\", \"2015-12-20T00:00:00\", \"2015-12-21T00:00:00\", \"2015-12-22T00:00:00\", \"2015-12-23T00:00:00\", \"2015-12-24T00:00:00\", \"2015-12-25T00:00:00\", \"2015-12-26T00:00:00\", \"2015-12-27T00:00:00\", \"2015-12-28T00:00:00\", \"2015-12-29T00:00:00\", \"2015-12-30T00:00:00\", \"2015-12-31T00:00:00\", \"2016-01-01T00:00:00\", \"2016-01-02T00:00:00\", \"2016-01-03T00:00:00\", \"2016-01-04T00:00:00\", \"2016-01-05T00:00:00\", \"2016-01-06T00:00:00\", \"2016-01-07T00:00:00\", \"2016-01-08T00:00:00\", \"2016-01-09T00:00:00\", \"2016-01-10T00:00:00\", \"2016-01-11T00:00:00\", \"2016-01-12T00:00:00\", \"2016-01-13T00:00:00\", \"2016-01-14T00:00:00\", \"2016-01-15T00:00:00\", \"2016-01-16T00:00:00\", \"2016-01-17T00:00:00\", \"2016-01-18T00:00:00\", \"2016-01-19T00:00:00\", \"2016-01-20T00:00:00\", \"2016-01-21T00:00:00\", \"2016-01-22T00:00:00\", \"2016-01-23T00:00:00\", \"2016-01-24T00:00:00\", \"2016-01-25T00:00:00\", \"2016-01-26T00:00:00\", \"2016-01-27T00:00:00\", \"2016-01-28T00:00:00\", \"2016-01-29T00:00:00\", \"2016-01-30T00:00:00\", \"2016-01-31T00:00:00\", \"2016-02-01T00:00:00\", \"2016-02-02T00:00:00\", \"2016-02-03T00:00:00\", \"2016-02-04T00:00:00\", \"2016-02-05T00:00:00\", \"2016-02-06T00:00:00\", \"2016-02-07T00:00:00\", \"2016-02-08T00:00:00\", \"2016-02-09T00:00:00\", \"2016-02-10T00:00:00\", \"2016-02-11T00:00:00\", \"2016-02-12T00:00:00\", \"2016-02-13T00:00:00\", \"2016-02-14T00:00:00\", \"2016-02-15T00:00:00\", \"2016-02-16T00:00:00\", \"2016-02-17T00:00:00\", \"2016-02-18T00:00:00\", \"2016-02-19T00:00:00\", \"2016-02-20T00:00:00\", \"2016-02-21T00:00:00\", \"2016-02-22T00:00:00\", \"2016-02-23T00:00:00\", \"2016-02-24T00:00:00\", \"2016-02-25T00:00:00\", \"2016-02-26T00:00:00\", \"2016-02-27T00:00:00\", \"2016-02-28T00:00:00\", \"2016-02-29T00:00:00\", \"2016-03-01T00:00:00\", \"2016-03-02T00:00:00\", \"2016-03-03T00:00:00\", \"2016-03-04T00:00:00\", \"2016-03-05T00:00:00\", \"2016-03-06T00:00:00\", \"2016-03-07T00:00:00\", \"2016-03-08T00:00:00\", \"2016-03-09T00:00:00\", \"2016-03-10T00:00:00\", \"2016-03-11T00:00:00\", \"2016-03-12T00:00:00\", \"2016-03-13T00:00:00\", \"2016-03-14T00:00:00\", \"2016-03-15T00:00:00\", \"2016-03-16T00:00:00\", \"2016-03-17T00:00:00\", \"2016-03-18T00:00:00\", \"2016-03-19T00:00:00\", \"2016-03-20T00:00:00\", \"2016-03-21T00:00:00\", \"2016-03-22T00:00:00\", \"2016-03-23T00:00:00\", \"2016-03-24T00:00:00\", \"2016-03-25T00:00:00\", \"2016-03-26T00:00:00\", \"2016-03-27T00:00:00\", \"2016-03-28T00:00:00\", \"2016-03-29T00:00:00\", \"2016-03-30T00:00:00\", \"2016-03-31T00:00:00\", \"2016-04-01T00:00:00\", \"2016-04-02T00:00:00\", \"2016-04-03T00:00:00\", \"2016-04-04T00:00:00\", \"2016-04-05T00:00:00\", \"2016-04-06T00:00:00\", \"2016-04-07T00:00:00\", \"2016-04-08T00:00:00\", \"2016-04-09T00:00:00\", \"2016-04-10T00:00:00\", \"2016-04-11T00:00:00\", \"2016-04-12T00:00:00\", \"2016-04-13T00:00:00\", \"2016-04-14T00:00:00\", \"2016-04-15T00:00:00\", \"2016-04-16T00:00:00\", \"2016-04-17T00:00:00\", \"2016-04-18T00:00:00\", \"2016-04-19T00:00:00\", \"2016-04-20T00:00:00\", \"2016-04-21T00:00:00\", \"2016-04-22T00:00:00\", \"2016-04-23T00:00:00\", \"2016-04-24T00:00:00\", \"2016-04-25T00:00:00\", \"2016-04-26T00:00:00\", \"2016-04-27T00:00:00\", \"2016-04-28T00:00:00\", \"2016-04-29T00:00:00\", \"2016-04-30T00:00:00\", \"2016-05-01T00:00:00\", \"2016-05-02T00:00:00\", \"2016-05-03T00:00:00\", \"2016-05-04T00:00:00\", \"2016-05-05T00:00:00\", \"2016-05-06T00:00:00\", \"2016-05-07T00:00:00\", \"2016-05-08T00:00:00\", \"2016-05-09T00:00:00\", \"2016-05-10T00:00:00\", \"2016-05-11T00:00:00\", \"2016-05-12T00:00:00\", \"2016-05-13T00:00:00\", \"2016-05-14T00:00:00\", \"2016-05-15T00:00:00\", \"2016-05-16T00:00:00\", \"2016-05-17T00:00:00\", \"2016-05-18T00:00:00\", \"2016-05-19T00:00:00\", \"2016-05-20T00:00:00\", \"2016-05-21T00:00:00\", \"2016-05-22T00:00:00\", \"2016-05-23T00:00:00\", \"2016-05-24T00:00:00\", \"2016-05-25T00:00:00\", \"2016-05-26T00:00:00\", \"2016-05-27T00:00:00\", \"2016-05-28T00:00:00\", \"2016-05-29T00:00:00\", \"2016-05-30T00:00:00\", \"2016-05-31T00:00:00\", \"2016-06-01T00:00:00\", \"2016-06-02T00:00:00\", \"2016-06-03T00:00:00\", \"2016-06-04T00:00:00\", \"2016-06-05T00:00:00\", \"2016-06-06T00:00:00\", \"2016-06-07T00:00:00\", \"2016-06-08T00:00:00\", \"2016-06-09T00:00:00\", \"2016-06-10T00:00:00\", \"2016-06-11T00:00:00\", \"2016-06-12T00:00:00\", \"2016-06-13T00:00:00\", \"2016-06-14T00:00:00\", \"2016-06-15T00:00:00\", \"2016-06-16T00:00:00\", \"2016-06-17T00:00:00\", \"2016-06-18T00:00:00\", \"2016-06-19T00:00:00\", \"2016-06-20T00:00:00\", \"2016-06-21T00:00:00\", \"2016-06-22T00:00:00\", \"2016-06-23T00:00:00\", \"2016-06-24T00:00:00\", \"2016-06-25T00:00:00\", \"2016-06-26T00:00:00\", \"2016-06-27T00:00:00\", \"2016-06-28T00:00:00\", \"2016-06-29T00:00:00\", \"2016-06-30T00:00:00\", \"2016-07-01T00:00:00\", \"2016-07-02T00:00:00\", \"2016-07-03T00:00:00\", \"2016-07-04T00:00:00\", \"2016-07-05T00:00:00\", \"2016-07-06T00:00:00\", \"2016-07-07T00:00:00\", \"2016-07-08T00:00:00\", \"2016-07-09T00:00:00\", \"2016-07-10T00:00:00\", \"2016-07-11T00:00:00\", \"2016-07-12T00:00:00\", \"2016-07-13T00:00:00\", \"2016-07-14T00:00:00\", \"2016-07-15T00:00:00\", \"2016-07-16T00:00:00\", \"2016-07-17T00:00:00\", \"2016-07-18T00:00:00\", \"2016-07-19T00:00:00\", \"2016-07-20T00:00:00\", \"2016-07-21T00:00:00\", \"2016-07-22T00:00:00\", \"2016-07-23T00:00:00\", \"2016-07-24T00:00:00\", \"2016-07-25T00:00:00\", \"2016-07-26T00:00:00\", \"2016-07-27T00:00:00\", \"2016-07-28T00:00:00\", \"2016-07-29T00:00:00\", \"2016-07-30T00:00:00\", \"2016-07-31T00:00:00\", \"2016-08-01T00:00:00\", \"2016-08-02T00:00:00\", \"2016-08-03T00:00:00\", \"2016-08-04T00:00:00\", \"2016-08-05T00:00:00\", \"2016-08-06T00:00:00\", \"2016-08-07T00:00:00\", \"2016-08-08T00:00:00\", \"2016-08-09T00:00:00\", \"2016-08-10T00:00:00\", \"2016-08-11T00:00:00\", \"2016-08-12T00:00:00\", \"2016-08-13T00:00:00\", \"2016-08-14T00:00:00\", \"2016-08-15T00:00:00\", \"2016-08-16T00:00:00\", \"2016-08-17T00:00:00\", \"2016-08-18T00:00:00\", \"2016-08-19T00:00:00\", \"2016-08-20T00:00:00\", \"2016-08-21T00:00:00\", \"2016-08-22T00:00:00\", \"2016-08-23T00:00:00\", \"2016-08-24T00:00:00\", \"2016-08-25T00:00:00\", \"2016-08-26T00:00:00\", \"2016-08-27T00:00:00\", \"2016-08-28T00:00:00\", \"2016-08-29T00:00:00\", \"2016-08-30T00:00:00\", \"2016-08-31T00:00:00\", \"2016-09-01T00:00:00\", \"2016-09-02T00:00:00\", \"2016-09-03T00:00:00\", \"2016-09-04T00:00:00\", \"2016-09-05T00:00:00\", \"2016-09-06T00:00:00\", \"2016-09-07T00:00:00\", \"2016-09-08T00:00:00\", \"2016-09-09T00:00:00\", \"2016-09-10T00:00:00\", \"2016-09-11T00:00:00\", \"2016-09-12T00:00:00\", \"2016-09-13T00:00:00\", \"2016-09-14T00:00:00\", \"2016-09-15T00:00:00\", \"2016-09-16T00:00:00\", \"2016-09-17T00:00:00\", \"2016-09-18T00:00:00\", \"2016-09-19T00:00:00\", \"2016-09-20T00:00:00\", \"2016-09-21T00:00:00\", \"2016-09-22T00:00:00\", \"2016-09-23T00:00:00\", \"2016-09-24T00:00:00\", \"2016-09-25T00:00:00\", \"2016-09-26T00:00:00\", \"2016-09-27T00:00:00\", \"2016-09-28T00:00:00\", \"2016-09-29T00:00:00\", \"2016-09-30T00:00:00\", \"2016-10-01T00:00:00\", \"2016-10-02T00:00:00\", \"2016-10-03T00:00:00\", \"2016-10-04T00:00:00\", \"2016-10-05T00:00:00\", \"2016-10-06T00:00:00\", \"2016-10-07T00:00:00\", \"2016-10-08T00:00:00\", \"2016-10-09T00:00:00\", \"2016-10-10T00:00:00\", \"2016-10-11T00:00:00\", \"2016-10-12T00:00:00\", \"2016-10-13T00:00:00\", \"2016-10-14T00:00:00\", \"2016-10-15T00:00:00\", \"2016-10-16T00:00:00\", \"2016-10-17T00:00:00\", \"2016-10-18T00:00:00\", \"2016-10-19T00:00:00\", \"2016-10-20T00:00:00\", \"2016-10-21T00:00:00\", \"2016-10-22T00:00:00\", \"2016-10-23T00:00:00\", \"2016-10-24T00:00:00\", \"2016-10-25T00:00:00\", \"2016-10-26T00:00:00\", \"2016-10-27T00:00:00\", \"2016-10-28T00:00:00\", \"2016-10-29T00:00:00\", \"2016-10-30T00:00:00\", \"2016-10-31T00:00:00\", \"2016-11-01T00:00:00\", \"2016-11-02T00:00:00\", \"2016-11-03T00:00:00\", \"2016-11-04T00:00:00\", \"2016-11-05T00:00:00\", \"2016-11-06T00:00:00\", \"2016-11-07T00:00:00\", \"2016-11-08T00:00:00\", \"2016-11-09T00:00:00\", \"2016-11-10T00:00:00\", \"2016-11-11T00:00:00\", \"2016-11-12T00:00:00\", \"2016-11-13T00:00:00\", \"2016-11-14T00:00:00\", \"2016-11-15T00:00:00\", \"2016-11-16T00:00:00\", \"2016-11-17T00:00:00\", \"2016-11-18T00:00:00\", \"2016-11-19T00:00:00\", \"2016-11-20T00:00:00\", \"2016-11-21T00:00:00\", \"2016-11-22T00:00:00\", \"2016-11-23T00:00:00\", \"2016-11-24T00:00:00\", \"2016-11-25T00:00:00\", \"2016-11-26T00:00:00\", \"2016-11-27T00:00:00\", \"2016-11-28T00:00:00\", \"2016-11-29T00:00:00\", \"2016-11-30T00:00:00\", \"2016-12-01T00:00:00\", \"2016-12-02T00:00:00\", \"2016-12-03T00:00:00\", \"2016-12-04T00:00:00\", \"2016-12-05T00:00:00\", \"2016-12-06T00:00:00\", \"2016-12-07T00:00:00\", \"2016-12-08T00:00:00\", \"2016-12-09T00:00:00\", \"2016-12-10T00:00:00\", \"2016-12-11T00:00:00\", \"2016-12-12T00:00:00\", \"2016-12-13T00:00:00\", \"2016-12-14T00:00:00\", \"2016-12-15T00:00:00\", \"2016-12-16T00:00:00\", \"2016-12-17T00:00:00\", \"2016-12-18T00:00:00\", \"2016-12-19T00:00:00\", \"2016-12-20T00:00:00\", \"2016-12-21T00:00:00\", \"2016-12-22T00:00:00\", \"2016-12-23T00:00:00\", \"2016-12-24T00:00:00\", \"2016-12-25T00:00:00\", \"2016-12-26T00:00:00\", \"2016-12-27T00:00:00\", \"2016-12-28T00:00:00\", \"2016-12-29T00:00:00\", \"2016-12-30T00:00:00\", \"2016-12-31T00:00:00\", \"2017-01-01T00:00:00\", \"2017-01-02T00:00:00\", \"2017-01-03T00:00:00\", \"2017-01-04T00:00:00\", \"2017-01-05T00:00:00\", \"2017-01-06T00:00:00\", \"2017-01-07T00:00:00\", \"2017-01-08T00:00:00\", \"2017-01-09T00:00:00\", \"2017-01-10T00:00:00\", \"2017-01-11T00:00:00\", \"2017-01-12T00:00:00\", \"2017-01-13T00:00:00\", \"2017-01-14T00:00:00\", \"2017-01-15T00:00:00\", \"2017-01-16T00:00:00\", \"2017-01-17T00:00:00\", \"2017-01-18T00:00:00\", \"2017-01-19T00:00:00\", \"2017-01-20T00:00:00\", \"2017-01-21T00:00:00\", \"2017-01-22T00:00:00\", \"2017-01-23T00:00:00\", \"2017-01-24T00:00:00\", \"2017-01-25T00:00:00\", \"2017-01-26T00:00:00\", \"2017-01-27T00:00:00\", \"2017-01-28T00:00:00\", \"2017-01-29T00:00:00\", \"2017-01-30T00:00:00\", \"2017-01-31T00:00:00\", \"2017-02-01T00:00:00\", \"2017-02-02T00:00:00\", \"2017-02-03T00:00:00\", \"2017-02-04T00:00:00\", \"2017-02-05T00:00:00\", \"2017-02-06T00:00:00\", \"2017-02-07T00:00:00\", \"2017-02-08T00:00:00\", \"2017-02-09T00:00:00\", \"2017-02-10T00:00:00\", \"2017-02-11T00:00:00\", \"2017-02-12T00:00:00\", \"2017-02-13T00:00:00\", \"2017-02-14T00:00:00\", \"2017-02-15T00:00:00\", \"2017-02-16T00:00:00\", \"2017-02-17T00:00:00\", \"2017-02-18T00:00:00\", \"2017-02-19T00:00:00\", \"2017-02-20T00:00:00\", \"2017-02-21T00:00:00\", \"2017-02-22T00:00:00\", \"2017-02-23T00:00:00\", \"2017-02-24T00:00:00\", \"2017-02-25T00:00:00\", \"2017-02-26T00:00:00\", \"2017-02-27T00:00:00\", \"2017-02-28T00:00:00\", \"2017-03-01T00:00:00\", \"2017-03-02T00:00:00\", \"2017-03-03T00:00:00\", \"2017-03-04T00:00:00\", \"2017-03-05T00:00:00\", \"2017-03-06T00:00:00\", \"2017-03-07T00:00:00\", \"2017-03-08T00:00:00\", \"2017-03-09T00:00:00\", \"2017-03-10T00:00:00\", \"2017-03-11T00:00:00\", \"2017-03-12T00:00:00\", \"2017-03-13T00:00:00\", \"2017-03-14T00:00:00\", \"2017-03-15T00:00:00\", \"2017-03-16T00:00:00\", \"2017-03-17T00:00:00\", \"2017-03-18T00:00:00\", \"2017-03-19T00:00:00\", \"2017-03-20T00:00:00\", \"2017-03-21T00:00:00\", \"2017-03-22T00:00:00\", \"2017-03-23T00:00:00\", \"2017-03-24T00:00:00\", \"2017-03-25T00:00:00\", \"2017-03-26T00:00:00\", \"2017-03-27T00:00:00\", \"2017-03-28T00:00:00\", \"2017-03-29T00:00:00\", \"2017-03-30T00:00:00\", \"2017-03-31T00:00:00\", \"2017-04-01T00:00:00\", \"2017-04-02T00:00:00\", \"2017-04-03T00:00:00\", \"2017-04-04T00:00:00\", \"2017-04-05T00:00:00\", \"2017-04-06T00:00:00\", \"2017-04-07T00:00:00\", \"2017-04-08T00:00:00\", \"2017-04-09T00:00:00\", \"2017-04-10T00:00:00\", \"2017-04-11T00:00:00\", \"2017-04-12T00:00:00\", \"2017-04-13T00:00:00\", \"2017-04-14T00:00:00\", \"2017-04-15T00:00:00\", \"2017-04-16T00:00:00\", \"2017-04-17T00:00:00\", \"2017-04-18T00:00:00\", \"2017-04-19T00:00:00\", \"2017-04-20T00:00:00\", \"2017-04-21T00:00:00\", \"2017-04-22T00:00:00\", \"2017-04-23T00:00:00\", \"2017-04-24T00:00:00\", \"2017-04-25T00:00:00\", \"2017-04-26T00:00:00\", \"2017-04-27T00:00:00\", \"2017-04-28T00:00:00\", \"2017-04-29T00:00:00\", \"2017-04-30T00:00:00\", \"2017-05-01T00:00:00\", \"2017-05-02T00:00:00\", \"2017-05-03T00:00:00\", \"2017-05-04T00:00:00\", \"2017-05-05T00:00:00\", \"2017-05-06T00:00:00\", \"2017-05-07T00:00:00\", \"2017-05-08T00:00:00\", \"2017-05-09T00:00:00\", \"2017-05-10T00:00:00\", \"2017-05-11T00:00:00\", \"2017-05-12T00:00:00\", \"2017-05-13T00:00:00\", \"2017-05-14T00:00:00\", \"2017-05-15T00:00:00\", \"2017-05-16T00:00:00\", \"2017-05-17T00:00:00\", \"2017-05-18T00:00:00\", \"2017-05-19T00:00:00\", \"2017-05-20T00:00:00\", \"2017-05-21T00:00:00\", \"2017-05-22T00:00:00\", \"2017-05-23T00:00:00\", \"2017-05-24T00:00:00\", \"2017-05-25T00:00:00\", \"2017-05-26T00:00:00\", \"2017-05-27T00:00:00\", \"2017-05-28T00:00:00\", \"2017-05-29T00:00:00\", \"2017-05-30T00:00:00\", \"2017-05-31T00:00:00\", \"2017-06-01T00:00:00\", \"2017-06-02T00:00:00\", \"2017-06-03T00:00:00\", \"2017-06-04T00:00:00\", \"2017-06-05T00:00:00\", \"2017-06-06T00:00:00\", \"2017-06-07T00:00:00\", \"2017-06-08T00:00:00\", \"2017-06-09T00:00:00\", \"2017-06-10T00:00:00\", \"2017-06-11T00:00:00\", \"2017-06-12T00:00:00\", \"2017-06-13T00:00:00\", \"2017-06-14T00:00:00\", \"2017-06-15T00:00:00\", \"2017-06-16T00:00:00\", \"2017-06-17T00:00:00\", \"2017-06-18T00:00:00\", \"2017-06-19T00:00:00\", \"2017-06-20T00:00:00\", \"2017-06-21T00:00:00\", \"2017-06-22T00:00:00\", \"2017-06-23T00:00:00\", \"2017-06-24T00:00:00\", \"2017-06-25T00:00:00\", \"2017-06-26T00:00:00\", \"2017-06-27T00:00:00\", \"2017-06-28T00:00:00\", \"2017-06-29T00:00:00\", \"2017-06-30T00:00:00\", \"2017-07-01T00:00:00\", \"2017-07-02T00:00:00\", \"2017-07-03T00:00:00\", \"2017-07-04T00:00:00\", \"2017-07-05T00:00:00\", \"2017-07-06T00:00:00\", \"2017-07-07T00:00:00\", \"2017-07-08T00:00:00\", \"2017-07-09T00:00:00\", \"2017-07-10T00:00:00\", \"2017-07-11T00:00:00\", \"2017-07-12T00:00:00\", \"2017-07-13T00:00:00\", \"2017-07-14T00:00:00\", \"2017-07-15T00:00:00\", \"2017-07-16T00:00:00\", \"2017-07-17T00:00:00\", \"2017-07-18T00:00:00\", \"2017-07-19T00:00:00\", \"2017-07-20T00:00:00\", \"2017-07-21T00:00:00\", \"2017-07-22T00:00:00\", \"2017-07-23T00:00:00\", \"2017-07-24T00:00:00\", \"2017-07-25T00:00:00\", \"2017-07-26T00:00:00\", \"2017-07-27T00:00:00\", \"2017-07-28T00:00:00\", \"2017-07-29T00:00:00\", \"2017-07-30T00:00:00\", \"2017-07-31T00:00:00\", \"2017-08-01T00:00:00\", \"2017-08-02T00:00:00\", \"2017-08-03T00:00:00\", \"2017-08-04T00:00:00\", \"2017-08-05T00:00:00\", \"2017-08-06T00:00:00\", \"2017-08-07T00:00:00\", \"2017-08-08T00:00:00\", \"2017-08-09T00:00:00\", \"2017-08-10T00:00:00\", \"2017-08-11T00:00:00\", \"2017-08-12T00:00:00\", \"2017-08-13T00:00:00\", \"2017-08-14T00:00:00\", \"2017-08-15T00:00:00\", \"2017-08-16T00:00:00\", \"2017-08-17T00:00:00\", \"2017-08-18T00:00:00\", \"2017-08-19T00:00:00\", \"2017-08-20T00:00:00\", \"2017-08-21T00:00:00\", \"2017-08-22T00:00:00\", \"2017-08-23T00:00:00\", \"2017-08-24T00:00:00\", \"2017-08-25T00:00:00\", \"2017-08-26T00:00:00\", \"2017-08-27T00:00:00\", \"2017-08-28T00:00:00\", \"2017-08-29T00:00:00\", \"2017-08-30T00:00:00\", \"2017-08-31T00:00:00\", \"2017-09-01T00:00:00\", \"2017-09-02T00:00:00\", \"2017-09-03T00:00:00\", \"2017-09-04T00:00:00\", \"2017-09-05T00:00:00\", \"2017-09-06T00:00:00\", \"2017-09-07T00:00:00\", \"2017-09-08T00:00:00\", \"2017-09-09T00:00:00\", \"2017-09-10T00:00:00\", \"2017-09-11T00:00:00\", \"2017-09-12T00:00:00\", \"2017-09-13T00:00:00\", \"2017-09-14T00:00:00\", \"2017-09-15T00:00:00\", \"2017-09-16T00:00:00\", \"2017-09-17T00:00:00\", \"2017-09-18T00:00:00\", \"2017-09-19T00:00:00\", \"2017-09-20T00:00:00\", \"2017-09-21T00:00:00\", \"2017-09-22T00:00:00\", \"2017-09-23T00:00:00\", \"2017-09-24T00:00:00\", \"2017-09-25T00:00:00\", \"2017-09-26T00:00:00\", \"2017-09-27T00:00:00\", \"2017-09-28T00:00:00\", \"2017-09-29T00:00:00\", \"2017-09-30T00:00:00\", \"2017-10-01T00:00:00\", \"2017-10-02T00:00:00\", \"2017-10-03T00:00:00\", \"2017-10-04T00:00:00\", \"2017-10-05T00:00:00\", \"2017-10-06T00:00:00\", \"2017-10-07T00:00:00\", \"2017-10-08T00:00:00\", \"2017-10-09T00:00:00\", \"2017-10-10T00:00:00\", \"2017-10-11T00:00:00\", \"2017-10-12T00:00:00\", \"2017-10-13T00:00:00\", \"2017-10-14T00:00:00\", \"2017-10-15T00:00:00\", \"2017-10-16T00:00:00\", \"2017-10-17T00:00:00\", \"2017-10-18T00:00:00\", \"2017-10-19T00:00:00\", \"2017-10-20T00:00:00\", \"2017-10-21T00:00:00\", \"2017-10-22T00:00:00\", \"2017-10-23T00:00:00\", \"2017-10-24T00:00:00\", \"2017-10-25T00:00:00\", \"2017-10-26T00:00:00\", \"2017-10-27T00:00:00\", \"2017-10-28T00:00:00\", \"2017-10-29T00:00:00\", \"2017-10-30T00:00:00\", \"2017-10-31T00:00:00\", \"2017-11-01T00:00:00\", \"2017-11-02T00:00:00\", \"2017-11-03T00:00:00\", \"2017-11-04T00:00:00\", \"2017-11-05T00:00:00\", \"2017-11-06T00:00:00\", \"2017-11-07T00:00:00\", \"2017-11-08T00:00:00\", \"2017-11-09T00:00:00\", \"2017-11-10T00:00:00\", \"2017-11-11T00:00:00\", \"2017-11-12T00:00:00\", \"2017-11-13T00:00:00\", \"2017-11-14T00:00:00\", \"2017-11-15T00:00:00\", \"2017-11-16T00:00:00\", \"2017-11-17T00:00:00\", \"2017-11-18T00:00:00\", \"2017-11-19T00:00:00\", \"2017-11-20T00:00:00\", \"2017-11-21T00:00:00\", \"2017-11-22T00:00:00\", \"2017-11-23T00:00:00\", \"2017-11-24T00:00:00\", \"2017-11-25T00:00:00\", \"2017-11-26T00:00:00\", \"2017-11-27T00:00:00\", \"2017-11-28T00:00:00\", \"2017-11-29T00:00:00\", \"2017-11-30T00:00:00\", \"2017-12-01T00:00:00\", \"2017-12-02T00:00:00\", \"2017-12-03T00:00:00\", \"2017-12-04T00:00:00\", \"2017-12-05T00:00:00\", \"2017-12-06T00:00:00\", \"2017-12-07T00:00:00\", \"2017-12-08T00:00:00\", \"2017-12-09T00:00:00\", \"2017-12-10T00:00:00\", \"2017-12-11T00:00:00\", \"2017-12-12T00:00:00\", \"2017-12-13T00:00:00\", \"2017-12-14T00:00:00\", \"2017-12-15T00:00:00\", \"2017-12-16T00:00:00\", \"2017-12-17T00:00:00\", \"2017-12-18T00:00:00\", \"2017-12-19T00:00:00\", \"2017-12-20T00:00:00\", \"2017-12-21T00:00:00\", \"2017-12-22T00:00:00\", \"2017-12-23T00:00:00\", \"2017-12-24T00:00:00\", \"2017-12-25T00:00:00\", \"2017-12-26T00:00:00\", \"2017-12-27T00:00:00\", \"2017-12-28T00:00:00\", \"2017-12-29T00:00:00\", \"2017-12-30T00:00:00\", \"2017-12-31T00:00:00\", \"2018-01-01T00:00:00\", \"2018-01-02T00:00:00\", \"2018-01-03T00:00:00\", \"2018-01-04T00:00:00\", \"2018-01-05T00:00:00\", \"2018-01-06T00:00:00\", \"2018-01-07T00:00:00\", \"2018-01-08T00:00:00\", \"2018-01-09T00:00:00\", \"2018-01-10T00:00:00\", \"2018-01-11T00:00:00\", \"2018-01-12T00:00:00\", \"2018-01-13T00:00:00\", \"2018-01-14T00:00:00\", \"2018-01-15T00:00:00\", \"2018-01-16T00:00:00\", \"2018-01-17T00:00:00\", \"2018-01-18T00:00:00\", \"2018-01-19T00:00:00\", \"2018-01-20T00:00:00\", \"2018-01-21T00:00:00\", \"2018-01-22T00:00:00\", \"2018-01-23T00:00:00\", \"2018-01-24T00:00:00\", \"2018-01-25T00:00:00\", \"2018-01-26T00:00:00\", \"2018-01-27T00:00:00\", \"2018-01-28T00:00:00\", \"2018-01-29T00:00:00\", \"2018-01-30T00:00:00\", \"2018-01-31T00:00:00\", \"2018-02-01T00:00:00\", \"2018-02-02T00:00:00\", \"2018-02-03T00:00:00\", \"2018-02-04T00:00:00\", \"2018-02-05T00:00:00\", \"2018-02-06T00:00:00\", \"2018-02-07T00:00:00\", \"2018-02-08T00:00:00\", \"2018-02-09T00:00:00\", \"2018-02-10T00:00:00\", \"2018-02-11T00:00:00\", \"2018-02-12T00:00:00\", \"2018-02-13T00:00:00\", \"2018-02-14T00:00:00\", \"2018-02-15T00:00:00\", \"2018-02-16T00:00:00\", \"2018-02-17T00:00:00\", \"2018-02-18T00:00:00\", \"2018-02-19T00:00:00\", \"2018-02-20T00:00:00\", \"2018-02-21T00:00:00\", \"2018-02-22T00:00:00\", \"2018-02-23T00:00:00\", \"2018-02-24T00:00:00\", \"2018-02-25T00:00:00\", \"2018-02-26T00:00:00\", \"2018-02-27T00:00:00\", \"2018-02-28T00:00:00\", \"2018-03-01T00:00:00\", \"2018-03-02T00:00:00\", \"2018-03-03T00:00:00\", \"2018-03-04T00:00:00\", \"2018-03-05T00:00:00\", \"2018-03-06T00:00:00\", \"2018-03-07T00:00:00\", \"2018-03-08T00:00:00\", \"2018-03-09T00:00:00\", \"2018-03-10T00:00:00\", \"2018-03-11T00:00:00\", \"2018-03-12T00:00:00\", \"2018-03-13T00:00:00\", \"2018-03-14T00:00:00\", \"2018-03-15T00:00:00\", \"2018-03-16T00:00:00\", \"2018-03-17T00:00:00\", \"2018-03-18T00:00:00\", \"2018-03-19T00:00:00\", \"2018-03-20T00:00:00\", \"2018-03-21T00:00:00\", \"2018-03-22T00:00:00\", \"2018-03-23T00:00:00\", \"2018-03-24T00:00:00\", \"2018-03-25T00:00:00\", \"2018-03-26T00:00:00\", \"2018-03-27T00:00:00\", \"2018-03-28T00:00:00\", \"2018-03-29T00:00:00\", \"2018-03-30T00:00:00\", \"2018-03-31T00:00:00\", \"2018-04-01T00:00:00\", \"2018-04-02T00:00:00\", \"2018-04-03T00:00:00\", \"2018-04-04T00:00:00\", \"2018-04-05T00:00:00\", \"2018-04-06T00:00:00\", \"2018-04-07T00:00:00\", \"2018-04-08T00:00:00\", \"2018-04-09T00:00:00\", \"2018-04-10T00:00:00\", \"2018-04-11T00:00:00\", \"2018-04-12T00:00:00\", \"2018-04-13T00:00:00\", \"2018-04-14T00:00:00\", \"2018-04-15T00:00:00\", \"2018-04-16T00:00:00\", \"2018-04-17T00:00:00\", \"2018-04-18T00:00:00\", \"2018-04-19T00:00:00\", \"2018-04-20T00:00:00\", \"2018-04-21T00:00:00\", \"2018-04-22T00:00:00\", \"2018-04-23T00:00:00\", \"2018-04-24T00:00:00\", \"2018-04-25T00:00:00\", \"2018-04-26T00:00:00\", \"2018-04-27T00:00:00\", \"2018-04-28T00:00:00\", \"2018-04-29T00:00:00\", \"2018-04-30T00:00:00\", \"2018-05-01T00:00:00\", \"2018-05-02T00:00:00\", \"2018-05-03T00:00:00\", \"2018-05-04T00:00:00\", \"2018-05-05T00:00:00\", \"2018-05-06T00:00:00\", \"2018-05-07T00:00:00\", \"2018-05-08T00:00:00\", \"2018-05-09T00:00:00\", \"2018-05-10T00:00:00\", \"2018-05-11T00:00:00\", \"2018-05-12T00:00:00\", \"2018-05-13T00:00:00\", \"2018-05-14T00:00:00\", \"2018-05-15T00:00:00\", \"2018-05-16T00:00:00\", \"2018-05-17T00:00:00\", \"2018-05-18T00:00:00\", \"2018-05-19T00:00:00\", \"2018-05-20T00:00:00\", \"2018-05-21T00:00:00\", \"2018-05-22T00:00:00\", \"2018-05-23T00:00:00\", \"2018-05-24T00:00:00\", \"2018-05-25T00:00:00\", \"2018-05-26T00:00:00\", \"2018-05-27T00:00:00\", \"2018-05-28T00:00:00\", \"2018-05-29T00:00:00\", \"2018-05-30T00:00:00\", \"2018-05-31T00:00:00\", \"2018-06-01T00:00:00\", \"2018-06-02T00:00:00\", \"2018-06-03T00:00:00\", \"2018-06-04T00:00:00\", \"2018-06-05T00:00:00\", \"2018-06-06T00:00:00\", \"2018-06-07T00:00:00\", \"2018-06-08T00:00:00\", \"2018-06-09T00:00:00\", \"2018-06-10T00:00:00\", \"2018-06-11T00:00:00\", \"2018-06-12T00:00:00\", \"2018-06-13T00:00:00\", \"2018-06-14T00:00:00\", \"2018-06-15T00:00:00\", \"2018-06-16T00:00:00\", \"2018-06-17T00:00:00\", \"2018-06-18T00:00:00\", \"2018-06-19T00:00:00\", \"2018-06-20T00:00:00\", \"2018-06-21T00:00:00\", \"2018-06-22T00:00:00\", \"2018-06-23T00:00:00\", \"2018-06-24T00:00:00\", \"2018-06-25T00:00:00\", \"2018-06-26T00:00:00\", \"2018-06-27T00:00:00\", \"2018-06-28T00:00:00\", \"2018-06-29T00:00:00\", \"2018-06-30T00:00:00\", \"2018-07-01T00:00:00\", \"2018-07-02T00:00:00\", \"2018-07-03T00:00:00\", \"2018-07-04T00:00:00\", \"2018-07-05T00:00:00\", \"2018-07-06T00:00:00\", \"2018-07-07T00:00:00\", \"2018-07-08T00:00:00\", \"2018-07-09T00:00:00\", \"2018-07-10T00:00:00\", \"2018-07-11T00:00:00\", \"2018-07-12T00:00:00\", \"2018-07-13T00:00:00\", \"2018-07-14T00:00:00\", \"2018-07-15T00:00:00\", \"2018-07-16T00:00:00\", \"2018-07-17T00:00:00\", \"2018-07-18T00:00:00\", \"2018-07-19T00:00:00\", \"2018-07-20T00:00:00\", \"2018-07-21T00:00:00\", \"2018-07-22T00:00:00\", \"2018-07-23T00:00:00\", \"2018-07-24T00:00:00\", \"2018-07-25T00:00:00\", \"2018-07-26T00:00:00\", \"2018-07-27T00:00:00\", \"2018-07-28T00:00:00\", \"2018-07-29T00:00:00\", \"2018-07-30T00:00:00\", \"2018-07-31T00:00:00\", \"2018-08-01T00:00:00\", \"2018-08-02T00:00:00\", \"2018-08-03T00:00:00\", \"2018-08-04T00:00:00\", \"2018-08-05T00:00:00\", \"2018-08-06T00:00:00\", \"2018-08-07T00:00:00\", \"2018-08-08T00:00:00\", \"2018-08-09T00:00:00\", \"2018-08-10T00:00:00\", \"2018-08-11T00:00:00\", \"2018-08-12T00:00:00\", \"2018-08-13T00:00:00\", \"2018-08-14T00:00:00\", \"2018-08-15T00:00:00\", \"2018-08-16T00:00:00\", \"2018-08-17T00:00:00\", \"2018-08-18T00:00:00\", \"2018-08-19T00:00:00\", \"2018-08-20T00:00:00\", \"2018-08-21T00:00:00\", \"2018-08-22T00:00:00\", \"2018-08-23T00:00:00\", \"2018-08-24T00:00:00\", \"2018-08-25T00:00:00\", \"2018-08-26T00:00:00\", \"2018-08-27T00:00:00\", \"2018-08-28T00:00:00\", \"2018-08-29T00:00:00\", \"2018-08-30T00:00:00\", \"2018-08-31T00:00:00\", \"2018-09-01T00:00:00\", \"2018-09-02T00:00:00\", \"2018-09-03T00:00:00\", \"2018-09-04T00:00:00\", \"2018-09-05T00:00:00\", \"2018-09-06T00:00:00\", \"2018-09-07T00:00:00\", \"2018-09-08T00:00:00\", \"2018-09-09T00:00:00\", \"2018-09-10T00:00:00\", \"2018-09-11T00:00:00\", \"2018-09-12T00:00:00\", \"2018-09-13T00:00:00\", \"2018-09-14T00:00:00\", \"2018-09-15T00:00:00\", \"2018-09-16T00:00:00\", \"2018-09-17T00:00:00\", \"2018-09-18T00:00:00\", \"2018-09-19T00:00:00\", \"2018-09-20T00:00:00\", \"2018-09-21T00:00:00\", \"2018-09-22T00:00:00\", \"2018-09-23T00:00:00\", \"2018-09-24T00:00:00\", \"2018-09-25T00:00:00\", \"2018-09-26T00:00:00\", \"2018-09-27T00:00:00\", \"2018-09-28T00:00:00\", \"2018-09-29T00:00:00\", \"2018-09-30T00:00:00\", \"2018-10-01T00:00:00\", \"2018-10-02T00:00:00\", \"2018-10-03T00:00:00\", \"2018-10-04T00:00:00\", \"2018-10-05T00:00:00\", \"2018-10-06T00:00:00\", \"2018-10-07T00:00:00\", \"2018-10-08T00:00:00\", \"2018-10-09T00:00:00\", \"2018-10-10T00:00:00\", \"2018-10-11T00:00:00\", \"2018-10-12T00:00:00\", \"2018-10-13T00:00:00\", \"2018-10-14T00:00:00\", \"2018-10-15T00:00:00\", \"2018-10-16T00:00:00\", \"2018-10-17T00:00:00\", \"2018-10-18T00:00:00\", \"2018-10-19T00:00:00\", \"2018-10-20T00:00:00\", \"2018-10-21T00:00:00\", \"2018-10-22T00:00:00\", \"2018-10-23T00:00:00\", \"2018-10-24T00:00:00\", \"2018-10-25T00:00:00\", \"2018-10-26T00:00:00\", \"2018-10-27T00:00:00\", \"2018-10-28T00:00:00\", \"2018-10-29T00:00:00\", \"2018-10-30T00:00:00\", \"2018-10-31T00:00:00\", \"2018-11-01T00:00:00\", \"2018-11-02T00:00:00\", \"2018-11-03T00:00:00\", \"2018-11-04T00:00:00\", \"2018-11-05T00:00:00\", \"2018-11-06T00:00:00\", \"2018-11-07T00:00:00\", \"2018-11-08T00:00:00\", \"2018-11-09T00:00:00\", \"2018-11-10T00:00:00\", \"2018-11-11T00:00:00\", \"2018-11-12T00:00:00\", \"2018-11-13T00:00:00\", \"2018-11-14T00:00:00\", \"2018-11-15T00:00:00\", \"2018-11-16T00:00:00\", \"2018-11-17T00:00:00\", \"2018-11-18T00:00:00\", \"2018-11-19T00:00:00\", \"2018-11-20T00:00:00\", \"2018-11-21T00:00:00\", \"2018-11-22T00:00:00\", \"2018-11-23T00:00:00\", \"2018-11-24T00:00:00\", \"2018-11-25T00:00:00\", \"2018-11-26T00:00:00\", \"2018-11-27T00:00:00\", \"2018-11-28T00:00:00\", \"2018-11-29T00:00:00\", \"2018-11-30T00:00:00\", \"2018-12-01T00:00:00\", \"2018-12-02T00:00:00\", \"2018-12-03T00:00:00\", \"2018-12-04T00:00:00\", \"2018-12-05T00:00:00\", \"2018-12-06T00:00:00\", \"2018-12-07T00:00:00\", \"2018-12-08T00:00:00\", \"2018-12-09T00:00:00\", \"2018-12-10T00:00:00\", \"2018-12-11T00:00:00\", \"2018-12-12T00:00:00\", \"2018-12-13T00:00:00\", \"2018-12-14T00:00:00\", \"2018-12-15T00:00:00\", \"2018-12-16T00:00:00\", \"2018-12-17T00:00:00\", \"2018-12-18T00:00:00\", \"2018-12-19T00:00:00\", \"2018-12-20T00:00:00\", \"2018-12-21T00:00:00\", \"2018-12-22T00:00:00\", \"2018-12-23T00:00:00\", \"2018-12-24T00:00:00\", \"2018-12-25T00:00:00\", \"2018-12-26T00:00:00\", \"2018-12-27T00:00:00\", \"2018-12-28T00:00:00\", \"2018-12-29T00:00:00\", \"2018-12-30T00:00:00\", \"2018-12-31T00:00:00\", \"2019-01-01T00:00:00\", \"2019-01-02T00:00:00\", \"2019-01-03T00:00:00\", \"2019-01-04T00:00:00\", \"2019-01-05T00:00:00\", \"2019-01-06T00:00:00\", \"2019-01-07T00:00:00\", \"2019-01-08T00:00:00\", \"2019-01-09T00:00:00\", \"2019-01-10T00:00:00\", \"2019-01-11T00:00:00\", \"2019-01-12T00:00:00\", \"2019-01-13T00:00:00\", \"2019-01-14T00:00:00\", \"2019-01-15T00:00:00\", \"2019-01-16T00:00:00\", \"2019-01-17T00:00:00\", \"2019-01-18T00:00:00\", \"2019-01-19T00:00:00\", \"2019-01-20T00:00:00\", \"2019-01-21T00:00:00\", \"2019-01-22T00:00:00\", \"2019-01-23T00:00:00\", \"2019-01-24T00:00:00\", \"2019-01-25T00:00:00\", \"2019-01-26T00:00:00\", \"2019-01-27T00:00:00\", \"2019-01-28T00:00:00\", \"2019-01-29T00:00:00\", \"2019-01-30T00:00:00\", \"2019-01-31T00:00:00\", \"2019-02-01T00:00:00\", \"2019-02-02T00:00:00\", \"2019-02-03T00:00:00\", \"2019-02-04T00:00:00\", \"2019-02-05T00:00:00\", \"2019-02-06T00:00:00\", \"2019-02-07T00:00:00\", \"2019-02-08T00:00:00\", \"2019-02-09T00:00:00\", \"2019-02-10T00:00:00\", \"2019-02-11T00:00:00\", \"2019-02-12T00:00:00\", \"2019-02-13T00:00:00\", \"2019-02-14T00:00:00\", \"2019-02-15T00:00:00\", \"2019-02-16T00:00:00\", \"2019-02-17T00:00:00\", \"2019-02-18T00:00:00\", \"2019-02-19T00:00:00\", \"2019-02-20T00:00:00\", \"2019-02-21T00:00:00\", \"2019-02-22T00:00:00\", \"2019-02-23T00:00:00\", \"2019-02-24T00:00:00\", \"2019-02-25T00:00:00\", \"2019-02-26T00:00:00\", \"2019-02-27T00:00:00\", \"2019-02-28T00:00:00\", \"2019-03-01T00:00:00\", \"2019-03-02T00:00:00\", \"2019-03-03T00:00:00\", \"2019-03-04T00:00:00\", \"2019-03-05T00:00:00\", \"2019-03-06T00:00:00\", \"2019-03-07T00:00:00\", \"2019-03-08T00:00:00\", \"2019-03-09T00:00:00\", \"2019-03-10T00:00:00\", \"2019-03-11T00:00:00\", \"2019-03-12T00:00:00\", \"2019-03-13T00:00:00\", \"2019-03-14T00:00:00\", \"2019-03-15T00:00:00\", \"2019-03-16T00:00:00\", \"2019-03-17T00:00:00\", \"2019-03-18T00:00:00\", \"2019-03-19T00:00:00\", \"2019-03-20T00:00:00\", \"2019-03-21T00:00:00\", \"2019-03-22T00:00:00\", \"2019-03-23T00:00:00\", \"2019-03-24T00:00:00\", \"2019-03-25T00:00:00\", \"2019-03-26T00:00:00\", \"2019-03-27T00:00:00\", \"2019-03-28T00:00:00\", \"2019-03-29T00:00:00\", \"2019-03-30T00:00:00\", \"2019-03-31T00:00:00\", \"2019-04-01T00:00:00\", \"2019-04-02T00:00:00\", \"2019-04-03T00:00:00\", \"2019-04-04T00:00:00\", \"2019-04-05T00:00:00\", \"2019-04-06T00:00:00\", \"2019-04-07T00:00:00\", \"2019-04-08T00:00:00\", \"2019-04-09T00:00:00\", \"2019-04-10T00:00:00\", \"2019-04-11T00:00:00\", \"2019-04-12T00:00:00\", \"2019-04-13T00:00:00\", \"2019-04-14T00:00:00\", \"2019-04-15T00:00:00\", \"2019-04-16T00:00:00\", \"2019-04-17T00:00:00\", \"2019-04-18T00:00:00\", \"2019-04-19T00:00:00\", \"2019-04-20T00:00:00\", \"2019-04-21T00:00:00\", \"2019-04-22T00:00:00\", \"2019-04-23T00:00:00\", \"2019-04-24T00:00:00\", \"2019-04-25T00:00:00\", \"2019-04-26T00:00:00\", \"2019-04-27T00:00:00\", \"2019-04-28T00:00:00\", \"2019-04-29T00:00:00\", \"2019-04-30T00:00:00\", \"2019-05-01T00:00:00\", \"2019-05-02T00:00:00\", \"2019-05-03T00:00:00\", \"2019-05-04T00:00:00\", \"2019-05-05T00:00:00\", \"2019-05-06T00:00:00\", \"2019-05-07T00:00:00\", \"2019-05-08T00:00:00\", \"2019-05-09T00:00:00\", \"2019-05-10T00:00:00\", \"2019-05-11T00:00:00\", \"2019-05-12T00:00:00\", \"2019-05-13T00:00:00\", \"2019-05-14T00:00:00\", \"2019-05-15T00:00:00\", \"2019-05-16T00:00:00\", \"2019-05-17T00:00:00\", \"2019-05-18T00:00:00\", \"2019-05-19T00:00:00\", \"2019-05-20T00:00:00\", \"2019-05-21T00:00:00\", \"2019-05-22T00:00:00\", \"2019-05-23T00:00:00\", \"2019-05-24T00:00:00\", \"2019-05-25T00:00:00\", \"2019-05-26T00:00:00\", \"2019-05-27T00:00:00\", \"2019-05-28T00:00:00\", \"2019-05-29T00:00:00\", \"2019-05-30T00:00:00\", \"2019-05-31T00:00:00\", \"2019-06-01T00:00:00\", \"2019-06-02T00:00:00\", \"2019-06-03T00:00:00\", \"2019-06-04T00:00:00\", \"2019-06-05T00:00:00\", \"2019-06-06T00:00:00\", \"2019-06-07T00:00:00\", \"2019-06-08T00:00:00\", \"2019-06-09T00:00:00\", \"2019-06-10T00:00:00\", \"2019-06-11T00:00:00\", \"2019-06-12T00:00:00\", \"2019-06-13T00:00:00\", \"2019-06-14T00:00:00\", \"2019-06-15T00:00:00\", \"2019-06-16T00:00:00\", \"2019-06-17T00:00:00\", \"2019-06-18T00:00:00\", \"2019-06-19T00:00:00\", \"2019-06-20T00:00:00\", \"2019-06-21T00:00:00\", \"2019-06-22T00:00:00\", \"2019-06-23T00:00:00\", \"2019-06-24T00:00:00\", \"2019-06-25T00:00:00\", \"2019-06-26T00:00:00\", \"2019-06-27T00:00:00\", \"2019-06-28T00:00:00\", \"2019-06-29T00:00:00\", \"2019-06-30T00:00:00\", \"2019-07-01T00:00:00\", \"2019-07-02T00:00:00\", \"2019-07-03T00:00:00\", \"2019-07-04T00:00:00\", \"2019-07-05T00:00:00\", \"2019-07-06T00:00:00\", \"2019-07-07T00:00:00\", \"2019-07-08T00:00:00\", \"2019-07-09T00:00:00\", \"2019-07-10T00:00:00\", \"2019-07-11T00:00:00\", \"2019-07-12T00:00:00\", \"2019-07-13T00:00:00\", \"2019-07-14T00:00:00\", \"2019-07-15T00:00:00\", \"2019-07-16T00:00:00\", \"2019-07-17T00:00:00\", \"2019-07-18T00:00:00\", \"2019-07-19T00:00:00\", \"2019-07-20T00:00:00\", \"2019-07-21T00:00:00\", \"2019-07-22T00:00:00\", \"2019-07-23T00:00:00\", \"2019-07-24T00:00:00\", \"2019-07-25T00:00:00\", \"2019-07-26T00:00:00\", \"2019-07-27T00:00:00\", \"2019-07-28T00:00:00\", \"2019-07-29T00:00:00\", \"2019-07-30T00:00:00\", \"2019-07-31T00:00:00\", \"2019-08-01T00:00:00\", \"2019-08-02T00:00:00\", \"2019-08-03T00:00:00\", \"2019-08-04T00:00:00\", \"2019-08-05T00:00:00\", \"2019-08-06T00:00:00\", \"2019-08-07T00:00:00\", \"2019-08-08T00:00:00\", \"2019-08-09T00:00:00\", \"2019-08-10T00:00:00\", \"2019-08-11T00:00:00\", \"2019-08-12T00:00:00\", \"2019-08-13T00:00:00\", \"2019-08-14T00:00:00\", \"2019-08-15T00:00:00\", \"2019-08-16T00:00:00\", \"2019-08-17T00:00:00\", \"2019-08-18T00:00:00\", \"2019-08-19T00:00:00\", \"2019-08-20T00:00:00\", \"2019-08-21T00:00:00\", \"2019-08-22T00:00:00\", \"2019-08-23T00:00:00\", \"2019-08-24T00:00:00\", \"2019-08-25T00:00:00\", \"2019-08-26T00:00:00\", \"2019-08-27T00:00:00\", \"2019-08-28T00:00:00\", \"2019-08-29T00:00:00\", \"2019-08-30T00:00:00\", \"2019-08-31T00:00:00\", \"2019-09-01T00:00:00\", \"2019-09-02T00:00:00\", \"2019-09-03T00:00:00\", \"2019-09-04T00:00:00\", \"2019-09-05T00:00:00\", \"2019-09-06T00:00:00\", \"2019-09-07T00:00:00\", \"2019-09-08T00:00:00\", \"2019-09-09T00:00:00\", \"2019-09-10T00:00:00\", \"2019-09-11T00:00:00\", \"2019-09-12T00:00:00\", \"2019-09-13T00:00:00\", \"2019-09-14T00:00:00\", \"2019-09-15T00:00:00\", \"2019-09-16T00:00:00\", \"2019-09-17T00:00:00\", \"2019-09-18T00:00:00\", \"2019-09-19T00:00:00\", \"2019-09-20T00:00:00\", \"2019-09-21T00:00:00\", \"2019-09-22T00:00:00\", \"2019-09-23T00:00:00\", \"2019-09-24T00:00:00\", \"2019-09-25T00:00:00\", \"2019-09-26T00:00:00\", \"2019-09-27T00:00:00\", \"2019-09-28T00:00:00\", \"2019-09-29T00:00:00\", \"2019-09-30T00:00:00\", \"2019-10-01T00:00:00\", \"2019-10-02T00:00:00\", \"2019-10-03T00:00:00\", \"2019-10-04T00:00:00\", \"2019-10-05T00:00:00\", \"2019-10-06T00:00:00\", \"2019-10-07T00:00:00\", \"2019-10-08T00:00:00\", \"2019-10-09T00:00:00\", \"2019-10-10T00:00:00\", \"2019-10-11T00:00:00\", \"2019-10-12T00:00:00\", \"2019-10-13T00:00:00\", \"2019-10-14T00:00:00\", \"2019-10-15T00:00:00\", \"2019-10-16T00:00:00\", \"2019-10-17T00:00:00\", \"2019-10-18T00:00:00\", \"2019-10-19T00:00:00\", \"2019-10-20T00:00:00\", \"2019-10-21T00:00:00\", \"2019-10-22T00:00:00\", \"2019-10-23T00:00:00\", \"2019-10-24T00:00:00\", \"2019-10-25T00:00:00\", \"2019-10-26T00:00:00\", \"2019-10-27T00:00:00\", \"2019-10-28T00:00:00\", \"2019-10-29T00:00:00\", \"2019-10-30T00:00:00\", \"2019-10-31T00:00:00\", \"2019-11-01T00:00:00\", \"2019-11-02T00:00:00\", \"2019-11-03T00:00:00\", \"2019-11-04T00:00:00\", \"2019-11-05T00:00:00\", \"2019-11-06T00:00:00\", \"2019-11-07T00:00:00\", \"2019-11-08T00:00:00\", \"2019-11-09T00:00:00\", \"2019-11-10T00:00:00\", \"2019-11-11T00:00:00\", \"2019-11-12T00:00:00\", \"2019-11-13T00:00:00\", \"2019-11-14T00:00:00\", \"2019-11-15T00:00:00\", \"2019-11-16T00:00:00\", \"2019-11-17T00:00:00\", \"2019-11-18T00:00:00\", \"2019-11-19T00:00:00\", \"2019-11-20T00:00:00\", \"2019-11-21T00:00:00\", \"2019-11-22T00:00:00\", \"2019-11-23T00:00:00\", \"2019-11-24T00:00:00\", \"2019-11-25T00:00:00\", \"2019-11-26T00:00:00\", \"2019-11-27T00:00:00\", \"2019-11-28T00:00:00\", \"2019-11-29T00:00:00\", \"2019-11-30T00:00:00\", \"2019-12-01T00:00:00\", \"2019-12-02T00:00:00\", \"2019-12-03T00:00:00\", \"2019-12-04T00:00:00\", \"2019-12-05T00:00:00\", \"2019-12-06T00:00:00\", \"2019-12-07T00:00:00\", \"2019-12-08T00:00:00\", \"2019-12-09T00:00:00\", \"2019-12-10T00:00:00\", \"2019-12-11T00:00:00\", \"2019-12-12T00:00:00\", \"2019-12-13T00:00:00\", \"2019-12-14T00:00:00\", \"2019-12-15T00:00:00\", \"2019-12-16T00:00:00\", \"2019-12-17T00:00:00\", \"2019-12-18T00:00:00\", \"2019-12-19T00:00:00\", \"2019-12-20T00:00:00\", \"2019-12-21T00:00:00\", \"2019-12-22T00:00:00\", \"2019-12-23T00:00:00\", \"2019-12-24T00:00:00\", \"2019-12-25T00:00:00\", \"2019-12-26T00:00:00\", \"2019-12-27T00:00:00\", \"2019-12-28T00:00:00\", \"2019-12-29T00:00:00\", \"2019-12-30T00:00:00\", \"2019-12-31T00:00:00\", \"2020-01-01T00:00:00\", \"2020-01-02T00:00:00\", \"2020-01-03T00:00:00\", \"2020-01-04T00:00:00\", \"2020-01-05T00:00:00\", \"2020-01-06T00:00:00\", \"2020-01-07T00:00:00\", \"2020-01-08T00:00:00\", \"2020-01-09T00:00:00\", \"2020-01-10T00:00:00\", \"2020-01-11T00:00:00\", \"2020-01-12T00:00:00\", \"2020-01-13T00:00:00\", \"2020-01-14T00:00:00\", \"2020-01-15T00:00:00\", \"2020-01-16T00:00:00\", \"2020-01-17T00:00:00\", \"2020-01-18T00:00:00\", \"2020-01-19T00:00:00\", \"2020-01-20T00:00:00\", \"2020-01-21T00:00:00\", \"2020-01-22T00:00:00\", \"2020-01-23T00:00:00\", \"2020-01-24T00:00:00\", \"2020-01-25T00:00:00\", \"2020-01-26T00:00:00\", \"2020-01-27T00:00:00\", \"2020-01-28T00:00:00\", \"2020-01-29T00:00:00\", \"2020-01-30T00:00:00\", \"2020-01-31T00:00:00\", \"2020-02-01T00:00:00\", \"2020-02-02T00:00:00\", \"2020-02-03T00:00:00\", \"2020-02-04T00:00:00\", \"2020-02-05T00:00:00\", \"2020-02-06T00:00:00\", \"2020-02-07T00:00:00\", \"2020-02-08T00:00:00\", \"2020-02-09T00:00:00\", \"2020-02-10T00:00:00\", \"2020-02-11T00:00:00\", \"2020-02-12T00:00:00\", \"2020-02-13T00:00:00\", \"2020-02-14T00:00:00\", \"2020-02-15T00:00:00\", \"2020-02-16T00:00:00\", \"2020-02-17T00:00:00\", \"2020-02-18T00:00:00\", \"2020-02-19T00:00:00\", \"2020-02-20T00:00:00\", \"2020-02-21T00:00:00\", \"2020-02-22T00:00:00\", \"2020-02-23T00:00:00\", \"2020-02-24T00:00:00\", \"2020-02-25T00:00:00\", \"2020-02-26T00:00:00\", \"2020-02-27T00:00:00\", \"2020-02-28T00:00:00\", \"2020-02-29T00:00:00\", \"2020-03-01T00:00:00\", \"2020-03-02T00:00:00\", \"2020-03-03T00:00:00\", \"2020-03-04T00:00:00\", \"2020-03-05T00:00:00\", \"2020-03-06T00:00:00\", \"2020-03-07T00:00:00\", \"2020-03-08T00:00:00\", \"2020-03-09T00:00:00\", \"2020-03-10T00:00:00\", \"2020-03-11T00:00:00\", \"2020-03-12T00:00:00\", \"2020-03-13T00:00:00\", \"2020-03-14T00:00:00\", \"2020-03-15T00:00:00\", \"2020-03-16T00:00:00\", \"2020-03-17T00:00:00\", \"2020-03-18T00:00:00\", \"2020-03-19T00:00:00\", \"2020-03-20T00:00:00\", \"2020-03-21T00:00:00\", \"2020-03-22T00:00:00\", \"2020-03-23T00:00:00\", \"2020-03-24T00:00:00\", \"2020-03-25T00:00:00\", \"2020-03-26T00:00:00\", \"2020-03-27T00:00:00\", \"2020-03-28T00:00:00\", \"2020-03-29T00:00:00\", \"2020-03-30T00:00:00\", \"2020-03-31T00:00:00\", \"2020-04-01T00:00:00\", \"2020-04-02T00:00:00\", \"2020-04-03T00:00:00\", \"2020-04-04T00:00:00\", \"2020-04-05T00:00:00\", \"2020-04-06T00:00:00\", \"2020-04-07T00:00:00\", \"2020-04-08T00:00:00\", \"2020-04-09T00:00:00\", \"2020-04-10T00:00:00\", \"2020-04-11T00:00:00\", \"2020-04-12T00:00:00\", \"2020-04-13T00:00:00\", \"2020-04-14T00:00:00\", \"2020-04-15T00:00:00\", \"2020-04-16T00:00:00\", \"2020-04-17T00:00:00\", \"2020-04-18T00:00:00\", \"2020-04-19T00:00:00\", \"2020-04-20T00:00:00\", \"2020-04-21T00:00:00\", \"2020-04-22T00:00:00\", \"2020-04-23T00:00:00\", \"2020-04-24T00:00:00\", \"2020-04-25T00:00:00\", \"2020-04-26T00:00:00\", \"2020-04-27T00:00:00\", \"2020-04-28T00:00:00\", \"2020-04-29T00:00:00\", \"2020-04-30T00:00:00\", \"2020-05-01T00:00:00\", \"2020-05-02T00:00:00\", \"2020-05-03T00:00:00\", \"2020-05-04T00:00:00\", \"2020-05-05T00:00:00\", \"2020-05-06T00:00:00\", \"2020-05-07T00:00:00\", \"2020-05-08T00:00:00\", \"2020-05-09T00:00:00\", \"2020-05-10T00:00:00\", \"2020-05-11T00:00:00\", \"2020-05-12T00:00:00\", \"2020-05-13T00:00:00\", \"2020-05-14T00:00:00\", \"2020-05-15T00:00:00\", \"2020-05-16T00:00:00\", \"2020-05-17T00:00:00\", \"2020-05-18T00:00:00\", \"2020-05-19T00:00:00\", \"2020-05-20T00:00:00\", \"2020-05-21T00:00:00\", \"2020-05-22T00:00:00\", \"2020-05-23T00:00:00\", \"2020-05-24T00:00:00\", \"2020-05-25T00:00:00\", \"2020-05-26T00:00:00\", \"2020-05-27T00:00:00\", \"2020-05-28T00:00:00\", \"2020-05-29T00:00:00\", \"2020-05-30T00:00:00\", \"2020-05-31T00:00:00\", \"2020-06-01T00:00:00\", \"2020-06-02T00:00:00\", \"2020-06-03T00:00:00\", \"2020-06-04T00:00:00\", \"2020-06-05T00:00:00\", \"2020-06-06T00:00:00\", \"2020-06-07T00:00:00\", \"2020-06-08T00:00:00\", \"2020-06-09T00:00:00\", \"2020-06-10T00:00:00\", \"2020-06-11T00:00:00\", \"2020-06-12T00:00:00\", \"2020-06-13T00:00:00\", \"2020-06-14T00:00:00\", \"2020-06-15T00:00:00\", \"2020-06-16T00:00:00\", \"2020-06-17T00:00:00\", \"2020-06-18T00:00:00\", \"2020-06-19T00:00:00\", \"2020-06-20T00:00:00\", \"2020-06-21T00:00:00\", \"2020-06-22T00:00:00\", \"2020-06-23T00:00:00\", \"2020-06-24T00:00:00\", \"2020-06-25T00:00:00\", \"2020-06-26T00:00:00\", \"2020-06-27T00:00:00\", \"2020-06-28T00:00:00\", \"2020-06-29T00:00:00\", \"2020-06-30T00:00:00\", \"2020-07-01T00:00:00\", \"2020-07-02T00:00:00\", \"2020-07-03T00:00:00\", \"2020-07-04T00:00:00\", \"2020-07-05T00:00:00\", \"2020-07-06T00:00:00\", \"2020-07-07T00:00:00\", \"2020-07-08T00:00:00\", \"2020-07-09T00:00:00\", \"2020-07-10T00:00:00\", \"2020-07-11T00:00:00\", \"2020-07-12T00:00:00\", \"2020-07-13T00:00:00\", \"2020-07-14T00:00:00\", \"2020-07-15T00:00:00\", \"2020-07-16T00:00:00\", \"2020-07-17T00:00:00\", \"2020-07-18T00:00:00\", \"2020-07-19T00:00:00\", \"2020-07-20T00:00:00\", \"2020-07-21T00:00:00\", \"2020-07-22T00:00:00\", \"2020-07-23T00:00:00\", \"2020-07-24T00:00:00\", \"2020-07-25T00:00:00\", \"2020-07-26T00:00:00\", \"2020-07-27T00:00:00\", \"2020-07-28T00:00:00\", \"2020-07-29T00:00:00\", \"2020-07-30T00:00:00\", \"2020-07-31T00:00:00\", \"2020-08-01T00:00:00\", \"2020-08-02T00:00:00\", \"2020-08-03T00:00:00\", \"2020-08-04T00:00:00\", \"2020-08-05T00:00:00\", \"2020-08-06T00:00:00\", \"2020-08-07T00:00:00\", \"2020-08-08T00:00:00\", \"2020-08-09T00:00:00\", \"2020-08-10T00:00:00\", \"2020-08-11T00:00:00\", \"2020-08-12T00:00:00\", \"2020-08-13T00:00:00\", \"2020-08-14T00:00:00\", \"2020-08-15T00:00:00\", \"2020-08-16T00:00:00\", \"2020-08-17T00:00:00\", \"2020-08-18T00:00:00\", \"2020-08-19T00:00:00\", \"2020-08-20T00:00:00\", \"2020-08-21T00:00:00\", \"2020-08-22T00:00:00\", \"2020-08-23T00:00:00\", \"2020-08-24T00:00:00\", \"2020-08-25T00:00:00\", \"2020-08-26T00:00:00\", \"2020-08-27T00:00:00\", \"2020-08-28T00:00:00\", \"2020-08-29T00:00:00\", \"2020-08-30T00:00:00\", \"2020-08-31T00:00:00\", \"2020-09-01T00:00:00\", \"2020-09-02T00:00:00\", \"2020-09-03T00:00:00\", \"2020-09-04T00:00:00\", \"2020-09-05T00:00:00\", \"2020-09-06T00:00:00\", \"2020-09-07T00:00:00\", \"2020-09-08T00:00:00\", \"2020-09-09T00:00:00\", \"2020-09-10T00:00:00\", \"2020-09-11T00:00:00\", \"2020-09-12T00:00:00\", \"2020-09-13T00:00:00\", \"2020-09-14T00:00:00\", \"2020-09-15T00:00:00\", \"2020-09-16T00:00:00\", \"2020-09-17T00:00:00\", \"2020-09-18T00:00:00\", \"2020-09-19T00:00:00\", \"2020-09-20T00:00:00\", \"2020-09-21T00:00:00\", \"2020-09-22T00:00:00\", \"2020-09-23T00:00:00\", \"2020-09-24T00:00:00\", \"2020-09-25T00:00:00\", \"2020-09-26T00:00:00\", \"2020-09-27T00:00:00\", \"2020-09-28T00:00:00\", \"2020-09-29T00:00:00\", \"2020-09-30T00:00:00\", \"2020-10-01T00:00:00\", \"2020-10-02T00:00:00\", \"2020-10-03T00:00:00\", \"2020-10-04T00:00:00\", \"2020-10-05T00:00:00\", \"2020-10-06T00:00:00\", \"2020-10-07T00:00:00\", \"2020-10-08T00:00:00\", \"2020-10-09T00:00:00\", \"2020-10-10T00:00:00\", \"2020-10-11T00:00:00\", \"2020-10-12T00:00:00\", \"2020-10-13T00:00:00\", \"2020-10-14T00:00:00\", \"2020-10-15T00:00:00\", \"2020-10-16T00:00:00\", \"2020-10-17T00:00:00\", \"2020-10-18T00:00:00\", \"2020-10-19T00:00:00\", \"2020-10-20T00:00:00\", \"2020-10-21T00:00:00\", \"2020-10-22T00:00:00\", \"2020-10-23T00:00:00\", \"2020-10-24T00:00:00\", \"2020-10-25T00:00:00\", \"2020-10-26T00:00:00\", \"2020-10-27T00:00:00\", \"2020-10-28T00:00:00\", \"2020-10-29T00:00:00\", \"2020-10-30T00:00:00\", \"2020-10-31T00:00:00\", \"2020-11-01T00:00:00\", \"2020-11-02T00:00:00\", \"2020-11-03T00:00:00\", \"2020-11-04T00:00:00\", \"2020-11-05T00:00:00\", \"2020-11-06T00:00:00\", \"2020-11-07T00:00:00\", \"2020-11-08T00:00:00\", \"2020-11-09T00:00:00\", \"2020-11-10T00:00:00\", \"2020-11-11T00:00:00\", \"2020-11-12T00:00:00\", \"2020-11-13T00:00:00\", \"2020-11-14T00:00:00\", \"2020-11-15T00:00:00\", \"2020-11-16T00:00:00\", \"2020-11-17T00:00:00\", \"2020-11-18T00:00:00\", \"2020-11-19T00:00:00\", \"2020-11-20T00:00:00\", \"2020-11-21T00:00:00\", \"2020-11-22T00:00:00\", \"2020-11-23T00:00:00\", \"2020-11-24T00:00:00\", \"2020-11-25T00:00:00\", \"2020-11-26T00:00:00\", \"2020-11-27T00:00:00\", \"2020-11-28T00:00:00\", \"2020-11-29T00:00:00\", \"2020-11-30T00:00:00\", \"2020-12-01T00:00:00\", \"2020-12-02T00:00:00\", \"2020-12-03T00:00:00\", \"2020-12-04T00:00:00\", \"2020-12-05T00:00:00\", \"2020-12-06T00:00:00\", \"2020-12-07T00:00:00\", \"2020-12-08T00:00:00\", \"2020-12-09T00:00:00\", \"2020-12-10T00:00:00\", \"2020-12-11T00:00:00\", \"2020-12-12T00:00:00\", \"2020-12-13T00:00:00\", \"2020-12-14T00:00:00\", \"2020-12-15T00:00:00\", \"2020-12-16T00:00:00\", \"2020-12-17T00:00:00\", \"2020-12-18T00:00:00\", \"2020-12-19T00:00:00\", \"2020-12-20T00:00:00\", \"2020-12-21T00:00:00\", \"2020-12-22T00:00:00\", \"2020-12-23T00:00:00\", \"2020-12-24T00:00:00\", \"2020-12-25T00:00:00\", \"2020-12-26T00:00:00\", \"2020-12-27T00:00:00\", \"2020-12-28T00:00:00\", \"2020-12-29T00:00:00\", \"2020-12-30T00:00:00\", \"2020-12-31T00:00:00\", \"2021-01-01T00:00:00\", \"2021-01-02T00:00:00\", \"2021-01-03T00:00:00\", \"2021-01-04T00:00:00\", \"2021-01-05T00:00:00\", \"2021-01-06T00:00:00\", \"2021-01-07T00:00:00\", \"2021-01-08T00:00:00\", \"2021-01-09T00:00:00\", \"2021-01-10T00:00:00\", \"2021-01-11T00:00:00\", \"2021-01-12T00:00:00\", \"2021-01-13T00:00:00\", \"2021-01-14T00:00:00\", \"2021-01-15T00:00:00\", \"2021-01-16T00:00:00\", \"2021-01-17T00:00:00\", \"2021-01-18T00:00:00\", \"2021-01-19T00:00:00\", \"2021-01-20T00:00:00\", \"2021-01-21T00:00:00\", \"2021-01-22T00:00:00\", \"2021-01-23T00:00:00\", \"2021-01-24T00:00:00\", \"2021-01-25T00:00:00\", \"2021-01-26T00:00:00\", \"2021-01-27T00:00:00\", \"2021-01-28T00:00:00\", \"2021-01-29T00:00:00\", \"2021-01-30T00:00:00\", \"2021-01-31T00:00:00\", \"2021-02-01T00:00:00\", \"2021-02-02T00:00:00\", \"2021-02-03T00:00:00\", \"2021-02-04T00:00:00\", \"2021-02-05T00:00:00\", \"2021-02-06T00:00:00\", \"2021-02-07T00:00:00\", \"2021-02-08T00:00:00\", \"2021-02-09T00:00:00\", \"2021-02-10T00:00:00\", \"2021-02-11T00:00:00\", \"2021-02-12T00:00:00\", \"2021-02-13T00:00:00\", \"2021-02-14T00:00:00\", \"2021-02-15T00:00:00\", \"2021-02-16T00:00:00\", \"2021-02-17T00:00:00\", \"2021-02-18T00:00:00\", \"2021-02-19T00:00:00\", \"2021-02-20T00:00:00\", \"2021-02-21T00:00:00\", \"2021-02-22T00:00:00\", \"2021-02-23T00:00:00\", \"2021-02-24T00:00:00\", \"2021-02-25T00:00:00\", \"2021-02-26T00:00:00\", \"2021-02-27T00:00:00\", \"2021-02-28T00:00:00\", \"2021-03-01T00:00:00\", \"2021-03-02T00:00:00\", \"2021-03-03T00:00:00\", \"2021-03-04T00:00:00\", \"2021-03-05T00:00:00\", \"2021-03-06T00:00:00\", \"2021-03-07T00:00:00\", \"2021-03-08T00:00:00\", \"2021-03-09T00:00:00\", \"2021-03-10T00:00:00\", \"2021-03-11T00:00:00\", \"2021-03-12T00:00:00\", \"2021-03-13T00:00:00\", \"2021-03-14T00:00:00\", \"2021-03-15T00:00:00\", \"2021-03-16T00:00:00\", \"2021-03-17T00:00:00\", \"2021-03-18T00:00:00\", \"2021-03-19T00:00:00\", \"2021-03-20T00:00:00\", \"2021-03-21T00:00:00\", \"2021-03-22T00:00:00\", \"2021-03-23T00:00:00\", \"2021-03-24T00:00:00\", \"2021-03-25T00:00:00\", \"2021-03-26T00:00:00\", \"2021-03-27T00:00:00\", \"2021-03-28T00:00:00\", \"2021-03-29T00:00:00\", \"2021-03-30T00:00:00\", \"2021-03-31T00:00:00\"], \"xaxis\": \"x\", \"y\": [4.47737025045505, 4.76557638888889, 5.006548588971542, 5.2065301182934105, 5.216679503294504, 6.159829416516853, 6.559451957679567, 6.5498100305552205, 6.899737344729161, 6.682855184544375, 6.585192926993737, 7.028386865415846, 6.9792338518008625, 6.76417486256924, 6.381958652896904, 6.8863639948455635, 6.612607590359568, 6.648479116102838, 6.360670567495074, 6.217394070229456, 6.75538745349778, 6.541046632298194, 6.6185391376823075, 6.484857273391932, 6.444414968956174, 6.398069178481943, 6.165305461720594, 5.456294004303602, 5.288237075832292, 5.608080036954451, 5.469554548585936, 5.636948722711669, 5.605668416007014, 6.117667309253277, 6.2083164330258, 6.164348441738788, 5.834678358875213, 5.611945518092056, 5.612910773482167, 5.7314278203221445, 5.764675949361966, 5.87303546124655, 5.6413590115389685, 5.664325694444471, 5.623666772811597, 5.078319434090468, 4.8517674272019065, 4.634258623371499, 4.67287127084254, 4.372351781094998, 4.360638066356182, 4.568456735858842, 4.488124684835253, 4.537769515122891, 4.819126227387284, 5.123605905092878, 5.018649452527839, 4.943554123794926, 5.031952620226052, 5.019615198596083, 4.9398144474105665, 5.007459491726244, 4.804874586959875, 4.743311704830499, 4.769406826615627, 4.933465224206151, 5.001077498627079, 5.03055937192963, 4.95902947434504, 5.015349730659356, 4.928738279651834, 4.921583296728582, 4.92862503660469, 5.094693828768383, 5.347898497554307, 5.33046329922901, 5.314822820346864, 5.384716679249695, 5.344991665635674, 5.149866392249791, 4.885451707619311, 4.884735016746162, 4.8422089145305085, 4.794570230649451, 4.754967922291642, 4.648795766194519, 4.622450988711974, 4.717548363228928, 4.8326666166050565, 4.829191176795965, 4.848995938183806, 4.905676407022361, 4.8557296458316, 4.894379731189187, 4.970605709399251, 4.943352075122958, 4.961206140778185, 4.934765498777832, 4.846169132964385, 4.754775407407568, 4.746097086056649, 4.810892967566554, 4.850673704620261, 4.862434708020075, 4.892735602380643, 4.970850502618389, 4.9482125595958415, 4.962451656969666, 4.986394816377439, 5.1135478460854555, 5.133788805308046, 5.175554658842158, 5.28790177021237, 5.204346746753393, 5.175715625959394, 5.085599721149209, 5.105348956212718, 5.077819543638922, 5.043083956788329, 4.959684650668981, 4.910547730508417, 4.944261704020626, 4.9567385223218245, 5.096001645952873, 5.095182857239836, 5.102840824061862, 5.070132213212463, 5.0664035289870535, 5.041958211683118, 5.045941968096086, 5.041109188663164, 5.0034789192004245, 4.922471869931436, 4.955873003685481, 4.940617390486817, 4.92518618718518, 4.9629317068120775, 5.016920132063845, 5.024296276906844, 5.0485613982230495, 5.065300976280136, 5.050218248144841, 5.0446301331884005, 5.0569595757977295, 5.06608962684578, 5.085657887591961, 5.090960783060736, 5.080450711805528, 5.067679128232154, 5.077825996547318, 5.0747089490828365, 5.108113785924726, 5.135864937040595, 5.199487228965727, 5.197042095335981, 5.192903114229166, 5.1986504909348294, 5.34879758309952, 5.422461918557745, 5.448770210861567, 5.574620015035976, 5.576685896618394, 5.501543787743653, 5.481977613286527, 5.617780844369569, 5.8576211785528445, 5.8415259931548755, 5.950049375124227, 6.409304316731352, 6.361854490447103, 6.158406630590115, 6.364745085566101, 6.514811547431433, 6.659445721798498, 6.61886752656809, 6.525883700604892, 6.392758061083904, 6.235700647796884, 6.332229624147771, 6.459591293697066, 6.480615471572345, 6.542121842807327, 6.573835297945122, 6.577876490587982, 6.595999886975152, 6.551233551571248, 6.4956274884544545, 6.600182719195384, 6.56747227844597, 6.622659424608011, 6.684434665968873, 6.796744063332773, 7.038870957867952, 7.106548297681224, 7.1513650849566535, 7.580559413101399, 7.545222518966053, 7.510850488850817, 7.7138051032890305, 8.254126189103507, 8.83478357452002, 9.028579318751238, 8.262708219933545, 8.704558023535272, 8.676355249795847, 8.64958949265216, 8.57388225155893, 8.494581196432152, 8.606547811247948, 8.828921361970648, 8.84531095522226, 8.745833319727437, 8.76286743663715, 9.186845420724035, 9.34673945827921, 9.663810166052894, 10.59890366482447, 10.919238769476909, 10.515392472103189, 10.743057798549193, 10.775807413739786, 10.910877236977463, 11.135291659664901, 11.18649517350307, 11.32286951683245, 11.454662264464021, 11.661227385067598, 12.009429026265439, 12.485449703433964, 13.294125125044424, 14.171371753363875, 11.977127168682596, 9.737565053594924, 9.509319132870878, 10.093755091196597, 10.04051299160397, 9.984234058797792, 10.079107325695416, 10.3995422673873, 10.513047934564923, 11.138994259192208, 10.966929294536051, 10.875549053795574, 10.755831468337266, 10.350554528855143, 10.026118178798846, 9.953308121079074, 10.258597109231001, 10.308393567370063, 10.410805958769336, 10.845044211350702, 11.005265750718525, 10.87764174812152, 10.92315121778841, 10.923138017749423, 10.894667169780908, 11.035454774010637, 11.235886230658167, 11.394792235930995, 11.557964256175955, 11.64592282973201, 11.732546781887416, 11.84488180732292, 12.281703420869482, 12.420910956313126, 12.222401972638055, 12.104784008206412, 11.933002536298236, 11.913298153537077, 11.900341458293843, 11.966630888350371, 12.145591876761086, 12.170007791942028, 12.20692208476534, 12.190839582555652, 12.160910916169714, 12.370742021857021, 12.75191009822334, 12.761569516410354, 12.536963383465089, 12.452558766451979, 11.971170247415849, 11.30244256061718, 11.868232375848752, 11.976482690170146, 11.962463026586102, 11.996161373311992, 11.906520570438937, 11.843585918317666, 11.538126663504219, 11.79499774430305, 11.775371135458256, 11.794460709173412, 11.713413555437263, 11.603011598582876, 11.51403044349334, 11.458681708300213, 11.568354030810946, 11.447030332852215, 11.032354346090079, 10.36445138508049, 10.156481975006987, 10.49002820934799, 10.59395197247627, 10.731507560240361, 10.823144753412071, 10.951176119891471, 10.754485787024537, 10.590917268586589, 10.526004706886471, 10.63415730058558, 10.679361281189092, 10.736068926404547, 10.668946980948125, 10.777871945383911, 10.756897555905564, 10.724188343268624, 10.821750578605164, 10.884722113921507, 10.9004519711887, 10.968272863013233, 11.249689977674993, 11.54754684835347, 11.588146815592305, 11.53839910760496, 11.61683014408902, 11.604920859926263, 11.802371768147161, 11.99700103485038, 12.168113879791976, 12.280667530348468, 12.280055798040411, 12.06249844016905, 12.178056830231746, 12.289062864105338, 12.374182186042223, 12.400300181609516, 12.399217514352163, 12.442092787127775, 12.650032688546837, 13.058172464989466, 13.295163375084217, 13.34195928414202, 13.333341225629267, 13.25306331633498, 13.240257669403814, 13.305887490074497, 13.405798689537713, 13.4241685267541, 13.56919912237463, 13.39673364167255, 13.347575248419037, 13.162515117943006, 13.114701252083071, 13.188685318567373, 13.322071352798593, 13.305917625753874, 13.265737642707556, 13.152710337303082, 13.147029433479547, 13.160436193685893, 13.103565089935165, 13.124262544258857, 13.173164309704228, 13.220377777777731, 13.210875536194125, 13.212849634763055, 13.171282544190653, 13.130666010835183, 13.145137313579134, 13.175979710111028, 13.135988922678106, 13.105311674312576, 13.137263243986897, 13.300465501515903, 13.488881708937665, 13.750393280645852, 13.965518701306301, 13.996117014859887, 13.884693408535602, 13.852460678321801, 14.139850048891049, 14.3920062471048, 14.904197200592781, 15.50250219978319, 15.444080253213768, 15.537806027244399, 16.177587861175077, 16.99809353543945, 17.316217322318433, 18.086786104676666, 17.091931360767614, 17.04000693157736, 17.401834151501053, 17.994943250616, 19.063571622907947, 19.21812179824875, 20.103825445391166, 20.58060763837788, 19.978785219028833, 20.083533382459105, 20.429511893948696, 20.378444217827642, 20.79239941961615, 21.277587030499667, 22.296904739455577, 22.84052801210614, 23.36826559122611, 23.683659398315502, 24.797976530811702, 25.573232650060064, 26.04576879938924, 27.177208651232277, 27.26794068519269, 26.981866998235223, 26.766316473734307, 28.0195198924501, 29.644364398692673, 29.878125739318005, 30.559030496158307, 29.27407686354299, 29.741012027875122, 30.01890811721772, 30.859856820407625, 31.23610525836406, 33.00790207305496, 34.14436611727899, 34.18587494483252, 34.19330735004203, 35.31987199140223, 39.287507350665294, 45.98628290634683, 42.28503177341606, 42.98396080677408, 44.56046812097003, 46.268688814156526, 47.134422254246196, 44.62768586710823, 46.04581932830721, 47.35710513482478, 47.13389086206768, 46.798228115055, 46.967505501040016, 47.40541380898042, 54.49132596185437, 61.67488741810617, 69.16976318732033, 71.75979170355495, 64.86580236983524, 67.74475998765082, 72.52620459049663, 78.28142906562044, 86.11554615684086, 92.55911581364806, 90.49470284967725, 92.41081489232587, 93.90466475673064, 98.94291462079404, 108.14832706890282, 130.096689818087, 132.54740624549973, 138.92972843355574, 142.2044933821878, 150.73560259380895, 181.49302973162517, 207.10441916953476, 210.59557611458888, 124.11042616785497, 76.65259930608508, 103.40129364818192, 96.24532544080027, 91.21021178977374, 65.80348925693959, 82.16827487560064, 93.93499533606682, 116.96469780428468, 120.68560236049288, 121.94871467858333, 120.67797498011494, 128.71323761813213, 145.83449478359717, 150.5744936764826, 134.852347126816, 134.21107586151723, 133.12399100430568, 139.7707300991804, 141.72760786985427, 128.58096714142704, 112.42888803997204, 94.1344174287214, 104.54415785048886, 114.27992503960053, 118.77783257343029, 107.91515516004486, 113.03512575081943, 111.67018580286808, 115.13078149919802, 115.99343261014934, 115.23960654734506, 115.86917955169318, 115.80491928328807, 109.5167869404617, 110.72467652723604, 114.78370959564928, 117.46221897334728, 117.85165485104177, 117.37786301896864, 117.76223116923263, 118.20974410085752, 120.50094905544822, 125.7641561461878, 128.68187700982313, 129.4727499661427, 129.34742184356583, 125.86668987312443, 127.58398636892707, 129.12606227835388, 127.66843459176032, 128.27645793113882, 123.93125709358677, 120.1595101465973, 121.45320393769458, 120.66508314990274, 120.22792884610777, 114.31184611948953, 109.6171553775205, 99.94323453609272, 102.70797295706598, 106.02251506489573, 107.82825844441663, 106.73666804647928, 100.23707227607447, 99.64921774969682, 99.91516155442415, 99.97041098688685, 103.90198617671271, 105.35487724870057, 106.0054985644966, 101.72990527552753, 100.52986406900273, 100.21559872977546, 99.1840231668234, 99.53005712720612, 98.59411195725448, 97.96617805020627, 91.91350313643882, 89.75369208600617, 89.05745345523599, 87.6627193915078, 86.05538453366988, 84.72322239442595, 77.8926042510077, 73.02009315087278, 66.99102502786913, 67.22917550017982, 74.07391287244639, 73.75033548120798, 77.51947068566034, 86.1027153915284, 92.15677639103757, 89.28563404491211, 91.81524259209188, 92.1008745581254, 92.70343058756593, 91.28086672071281, 84.42738055274438, 84.67915537167951, 86.30557463873933, 85.27750735592028, 86.09581729951115, 86.54410498569688, 87.4874762168617, 89.0997841441324, 90.17591538159024, 88.92031433226735, 89.62604026316738, 92.7111715459646, 94.0918036031734, 98.68938230181212, 97.38662283645895, 96.91460978028084, 96.02892840158643, 96.20440701574219, 97.49239043158171, 98.05579100325039, 97.62355186329961, 95.46959863542477, 93.4978514029893, 93.08892590443494, 93.81038759317477, 94.18491983740907, 95.93655986825148, 98.90132936224771, 98.78416763316585, 97.93024986283841, 98.4909553862632, 99.04390654494469, 101.74292334382959, 103.71390069971528, 107.75271962218746, 111.38939702739923, 108.20373459311813, 108.21957154612171, 111.06782570782664, 112.27464989620157, 116.82630086820106, 118.43767261928838, 118.54458273365981, 120.80994489253919, 128.03309674230107, 130.17252755149627, 130.6274466827917, 129.68115076075003, 127.72973988741673, 121.63215517641312, 121.31808675421487, 118.68228520315263, 118.87100810190647, 119.18094516050712, 122.68378925382977, 122.88642816192043, 126.80279617751393, 127.60380516759032, 126.23515684251738, 124.71483164524298, 125.8541920908472, 126.70341347615255, 127.35275454069104, 126.03523645184865, 124.02835598903685, 123.33276559733001, 123.04148144403476, 123.19468822466, 122.90059598951748, 124.30083173333347, 124.2262539294475, 125.60656238145904, 126.48244990844007, 127.41455930915032, 126.19351882548261, 127.05005851589551, 121.10194535559668, 111.76156424358342, 120.77908470533667, 121.63787066404473, 121.88240059659314, 123.20011787658346, 123.76824139080185, 125.18975712662149, 125.99373657104503, 126.71496508838841, 127.39161362037808, 129.13021904415461, 135.1514910958667, 137.17846281163537, 143.57373005797197, 141.68243971189926, 147.65074622732615, 161.78534012727775, 165.41241493714253, 173.9860680199966, 188.54843151173495, 195.02040531447662, 193.44262857655582, 181.79256251822207, 181.85740369486436, 185.22470700115372, 194.88935669946085, 198.8565633861391, 202.22066699890885, 200.52382306161806, 202.78499821527402, 204.2072036969382, 205.5720386972294, 217.51474984455206, 236.16211582477777, 255.47069642816533, 282.7500319987482, 314.4201218798403, 342.7312965335935, 304.52210028215234, 331.9314088405351, 349.7337989553474, 377.2607930223398, 410.27600386657576, 420.200700708149, 430.8664372242188, 459.4742652933821, 535.7472026294515, 619.1235802614902, 535.6188594196556, 656.5764556568777, 740.3350003809525, 833.7379268621154, 804.0522036324298, 811.6620471796566, 843.4057462277324, 925.643989341909, 990.3818667730727, 1059.090791615598, 1137.8291193270834, 1018.2756350730895, 1012.6907129018388, 1047.2341510895856, 1092.5843991009704, 1046.084709322549, 947.033372797509, 724.9807115471839, 730.0442301259513, 864.37126013736, 938.126007890989, 909.5136863225994, 865.467195486299, 882.2417213127563, 862.9408443346232, 841.3708413075316, 789.9722869189557, 686.6550094669295, 562.5160516646873, 614.7319566481085, 671.6617332290581, 607.1822232457813, 625.0953049715845, 635.3362142686873, 650.6287230530999, 657.064213430118, 716.1172686621422, 727.9860018878575, 721.0568582385454, 715.0474011083269, 733.5436622573363, 728.7237187172562, 745.1560552022864, 757.3936161969439, 796.1751415011374, 810.922388801576, 865.776282310966, 938.1595503496088, 887.189455390413, 814.8290797609266, 821.5755085100357, 824.0194582231177, 878.2124014087323, 865.2252642457239, 818.7498392276558, 823.1204516908828, 834.3334856870941, 833.9088224970411, 801.0648094194541, 807.931749547683, 814.6778541367224, 832.3323785413927, 822.2257612711545, 817.3223714685372, 814.5914608024916, 788.8808074238364, 796.0019785187083, 812.1499933818218, 801.1834065461176, 778.3919482918159, 794.0526904235911, 791.9527281419084, 801.8114460897871, 812.0104964854025, 818.6721286137425, 809.4614479756902, 805.1103027120957, 802.1880226789588, 780.1064062577111, 720.9200976913295, 705.9291701804549, 693.8931158735832, 673.1293323123051, 689.0239860104728, 662.4331868538895, 643.0782820322682, 631.0448118003992, 652.2307886235428, 639.007769506503, 633.5202006690035, 631.5766546281048, 626.7326172306764, 600.2049499823505, 567.8790189805685, 583.1076208892196, 621.1487843897729, 567.8980401882084, 499.09683805881843, 574.9568720777601, 583.9597120885807, 571.4685285897482, 562.4689160668939, 564.0223869157558, 608.3128550101567, 679.649568335957, 665.7085650467602, 665.6089047227226, 644.0185559457575, 621.4563776867678, 629.0024071826045, 631.0265789015945, 627.0738976628988, 639.137563536896, 642.1081596520518, 635.4590411900209, 633.1578293427744, 634.0788959759506, 627.059879714909, 614.3732906418093, 613.6728946701108, 596.0922181081219, 582.039379708851, 562.7601398018338, 564.0601459496769, 563.4185600441111, 578.0075695449194, 580.3118163905759, 542.8551523959195, 502.7599242083752, 499.3187525950624, 468.1709982191567, 456.16304200574257, 475.2745857060388, 466.16056751310146, 435.38367948315977, 444.8376614966247, 451.7958833012433, 458.67497001815735, 455.0673548045248, 453.16506706878044, 448.6264083465113, 408.5129481208609, 404.32173747956995, 426.47849476868345, 417.514429781056, 447.0876191264298, 487.6011468657954, 518.1791466384976, 506.8574840471908, 488.4041787080415, 493.9397708263589, 504.61825528683016, 502.04225344848913, 495.47099322143345, 490.2203392358962, 489.762558071073, 465.83741229169453, 458.5143579831566, 452.9718663714283, 438.10690196148795, 445.2680850089215, 446.0356442170097, 456.41238719863895, 451.8028846366149, 442.3884677638504, 436.6459117631907, 433.14682070293856, 429.07610442791963, 438.61471839238163, 444.24326621453486, 447.6948787730904, 453.0728581244201, 445.215476593364, 439.79459152064953, 438.7909921480565, 443.50664553277807, 448.5360934799516, 448.22417865333944, 449.266798597829, 447.89558667793347, 446.795881849094, 468.32375368296164, 494.6268915745209, 511.9036531437707, 531.2253624098547, 522.3895572234792, 563.0304191735905, 582.459934525661, 575.7010449331397, 574.7366822967083, 569.7710247261779, 594.5548657366703, 621.996454965852, 646.0919116891199, 637.6119005187911, 666.4216606741951, 643.1308203613332, 653.3131792626563, 657.1119612627356, 652.6211746798449, 655.5570669391395, 649.7996824186205, 649.7037708124376, 639.2341749883011, 617.4345774517196, 589.5451579966456, 570.9424739728051, 565.3345589227564, 596.5776043123161, 595.8808345362642, 608.3101774318067, 605.2930546499667, 592.1362723981848, 589.4415918509343, 599.1720611183188, 590.1306379307737, 585.4224172578676, 568.5346788901732, 569.5000538814653, 584.5640873894303, 597.0116632957426, 596.0962236611001, 621.0705541396595, 648.2174630975737, 647.3487083127078, 646.5965484195311, 637.4470581967602, 630.2420782237439, 632.9809351410823, 627.054098623208, 622.7350048814515, 623.2055612798888, 617.2270847796073, 624.402803803094, 633.9627161409315, 632.3133872896585, 623.5006730280384, 622.45445346302, 619.5044978704075, 619.3395242675625, 625.3990499252988, 629.1580498734644, 624.9685517584167, 621.1748278680506, 622.5538827649054, 620.9079507880973, 610.696876604493, 601.7769444796011, 595.4546536048653, 595.3353706753745, 584.7285809118379, 584.5498924894923, 576.1301813556624, 575.4286622256602, 592.9810359610798, 592.9509408756767, 585.4120156569055, 588.0540159434755, 583.1732737966724, 581.5244333472504, 584.362536043933, 590.4574538363711, 587.9881665558642, 589.397771818114, 584.9397494770973, 568.6654882769205, 552.2954850980105, 520.2085804155727, 507.7611750932709, 503.14541025347137, 505.2704088100448, 478.39731026021155, 480.3144054823219, 493.74401384992655, 522.1319827500278, 514.0070267513605, 504.4070994052844, 504.175580330485, 503.1756495683363, 508.9839920405689, 516.2882207361671, 510.2522253484445, 507.8087830737535, 503.9168631582597, 489.8839509544024, 480.33288719164267, 477.8493741470406, 475.76349671027776, 481.53072058253497, 484.11427288617705, 480.74477221247855, 480.2709920103888, 468.9562655653118, 467.0022141684573, 480.65736958522984, 475.6705109093086, 472.63144345312725, 475.3301733445551, 477.02114179073936, 475.64112538303726, 469.01916986646904, 456.55097535688475, 438.5746532754898, 406.68177531803497, 412.018953432684, 403.8884975271378, 402.66119185522626, 409.6222754700136, 429.5283426733123, 412.3361809316454, 405.90219929864924, 403.546184310208, 392.7380239528539, 378.3226847723056, 380.3915539919723, 385.7853887877362, 379.6085948421112, 369.31642484873606, 347.8909117369689, 315.6735247241385, 320.51020306467376, 328.7433742347187, 340.0423495466349, 365.73264694721485, 363.25033627218386, 359.9726636286149, 363.91591608762144, 379.895813131802, 403.7116435461216, 395.0556809647776, 387.1747615267153, 380.37977730463496, 385.73820098075345, 389.8793311388746, 383.6754618568582, 385.35529762371897, 384.79939807844755, 368.4535127491671, 357.8229991955, 350.43338648483643, 352.8475742627986, 354.13283575967694, 354.54266436182644, 346.65319943252047, 339.5527385460103, 342.64314191223224, 330.0849303607639, 325.01099361291654, 328.77333037193, 326.84656060403756, 337.87234304521553, 342.77478307954874, 345.7248143209166, 343.82184904896536, 351.6974881585687, 367.05103856386074, 367.64278069757285, 396.1726850932458, 426.8589566642086, 397.86900626427104, 387.22349516315967, 384.8390934119963, 397.97589398533756, 382.3145896002525, 379.36032092925353, 366.27881629971785, 352.9107179117048, 358.316339793882, 359.96668282464174, 375.7464602172252, 383.12621274664997, 372.0242975364375, 371.1436181965353, 369.4546189390454, 377.88740202502726, 376.70061326737203, 378.272633571053, 379.49235565523577, 378.6337193496076, 374.1068042936114, 371.63750847616626, 374.6424128643748, 375.75407064764875, 370.0122547523681, 353.48447647725374, 350.61290385393386, 354.09077568743004, 353.61731774046854, 350.2603749379441, 352.1141680319623, 351.9093413491878, 338.53734366724996, 325.2396487663053, 314.6734421687707, 312.9493901619798, 325.0763180940106, 325.07566813452763, 328.4696488088228, 333.5262873934684, 329.81481831024274, 320.01701501381257, 324.0905826036874, 319.4209393003955, 316.1496389559378, 315.6040806314511, 313.19587241136503, 314.39308002497546, 316.1420952970769, 315.2289800075689, 303.8170430034445, 275.74056111203834, 272.08098361801956, null, null, null, 291.8988253230287, 281.52020244141994, 274.9838438586009, 269.51111071903847, 238.93875996316376, 196.12417871685793, 204.99194877198966, 211.72935696717045, 201.18918324363923, 206.3870112433055, 212.75034118693742, 211.25034031453842, 215.3254676079723, 232.75946816437852, 230.78986628825174, 237.9547120528314, 249.27922968234364, 281.23302974696827, 260.55670537383673, 252.86412769606966, 233.49987990197567, 234.129355766448, 229.25070304507665, 219.65536134103812, 226.93129285126366, 236.76002884444816, 225.81400233230562, 222.95955854993076, 220.13436135114227, 226.59359353735087, 225.55895166732253, 221.44965713880563, 218.74778524745136, 221.30696828676062, 220.1768718124546, 232.89784262066024, 246.67696801713615, 249.89797326915655, 234.82420073588523, 239.3808916518296, 240.70887033725617, 238.87245935388222, 244.70855925592693, 245.5742548863577, 242.14370694906214, 236.6459076806041, 238.91205590818402, 238.28021756090607, 236.80353224594248, 249.7698478064157, 251.79977778544102, 251.05557989628034, 262.5364911229806, 274.8875158277707, 277.50731823143724, 269.342880556684, 272.64952128722234, 273.29820151152086, 274.99441512416644, 281.1192230119824, 291.0567344420662, 292.01424584652386, 294.45096638594123, 290.71624652916637, 283.9932964659374, 284.47142982977766, 290.4616033994999, 288.54894919452124, 273.4780861856077, 258.43894113010094, 261.58620899310716, 259.9512092006243, 261.50319273292683, 266.9676801873921, 255.87162951198604, 244.9583372764614, 249.47385393285109, 248.15601511269423, 251.2927138943512, 245.4077650283415, 245.207810335523, 245.32443462187862, 243.3393308076491, 248.3916070268059, 253.8071908091665, 252.89054305572864, 255.11365603932003, 258.10358925470814, 254.3111034944512, 248.8867186528996, 243.70555115079523, 237.9959000151946, 236.14702490183373, 236.530929165434, 232.4474540150797, 219.33940147177407, 220.1208817433678, 226.32393012690906, 224.01776931422933, 222.76956782951052, 224.49044451818102, 224.0879486621493, 226.4338479038506, 235.38739424560444, 234.55250808553836, 231.70085857638227, 228.44745190348627, 219.2983674165432, 221.08516727148495, 225.17420648576388, 224.5954794444061, 231.69567035605877, 234.8614559774651, 233.4090736007955, 238.2116960013721, 238.84006355394413, 234.59773367673253, 233.75144012571494, 231.61977162788884, 239.63886132351774, 242.38802086429504, 240.8677112789699, 240.50449322561286, 240.46405524470174, 241.96341778928436, 236.57221578620874, 237.29697338549101, 236.42475699066753, 235.99946720211494, 235.41871513462792, 232.8788122266256, 233.27092839322586, 235.12374280517378, 236.58376323769724, 239.27786233490053, 239.08524199087518, 237.3545747214286, 236.11856799658494, 235.84559315178723, 235.89951506680202, 235.61213842594088, 233.2925720849831, 231.466026259677, 226.70252934472254, 223.96854399010073, 225.32094882169105, 224.845430922944, 223.7634203144567, 224.44320240023, 224.03371246514584, 225.32661135857657, 229.08957167279138, 228.47605278343414, 228.82206096166337, 229.63292913441333, 230.0966505253856, 232.19514361468026, 234.23102479174642, 240.54957961214575, 249.60843842875337, 247.47525136909005, 247.2193004423856, 242.84193962318082, 243.16392081021564, 245.2933043690937, 244.77206284395498, 242.1153767108197, 241.41021116553836, 241.5908131576703, 245.7042195983682, 249.4715747408026, 252.54288494204198, 261.97249442268753, 259.0172576880866, 256.23848953881577, 254.894593101379, 256.8603458974803, 263.5560780254542, 271.99186849845796, 267.5004006055203, 268.0392938984293, 269.21330468214995, 280.37509133742645, 291.20584348392424, 304.8950629040858, 294.3406046266487, 290.6151031745558, 290.78025219243284, 282.3067335393847, 277.3282787958789, 278.46589086017, 276.35421034708537, 277.1553699085776, 279.3844867836004, 276.5780234766075, 277.12631068719554, 282.9822818087181, 288.9802491484393, 290.94764931395935, 291.30841072113253, 294.68925514740596, 290.8718315413474, 288.0395622304962, 285.1254275533749, 280.9070127377124, 279.7981049769382, 282.77262836664335, 283.8432479154969, 282.9740746040968, 279.05880987716364, 278.0112566839448, 273.6097401016844, 263.99882118345596, 264.65739796889807, 266.03505813290656, 268.48513348612767, 265.003974486836, 265.2657892212509, 264.94782163639314, 258.358331998664, 257.0715912336461, 253.89505591286695, 232.02381831108542, 233.270092409657, 234.15877703472162, 230.55042706142348, 230.09154443486113, 220.5305115804374, 215.30718169090292, 225.84670362652113, 226.0487587438192, 228.17212624763204, 230.23634307764638, 228.70363932777752, 228.91611209534042, 228.4239743506005, 228.4296389253608, 227.8012976379375, 229.45571191385378, 232.56397439959056, 240.11808349556617, 240.71399128705892, 243.4884820033685, 240.45951678591024, 238.7272920566616, 239.94705296670205, 237.95586172508746, 232.31273832954224, 229.5276348861119, 230.00590792700322, 228.47531362960072, 230.3629817266453, 233.16550395477122, 231.53974975208672, 230.42553229799532, 227.37593278603657, 228.28937125678135, 230.1462263020346, 232.01616607060458, 235.25922328432958, 234.23601799421505, 233.09193705865582, 237.08618193391356, 237.6351149018786, 236.75885902527446, 237.11716948750706, 237.81604146062858, 238.5828928973404, 238.8630999519455, 238.58523454054827, 243.28675804867, 245.2143724957496, 243.8000339990923, 243.9361535036922, 244.79131986314562, 246.08747940487115, 246.96722286064264, 247.5583238675302, 251.28163032899755, 254.27342268641607, 259.53060149103464, 268.2274197499756, 265.41773553847287, 262.8951196755487, 267.1874310646672, 268.4728011147325, 272.46929892495507, 277.1793262385555, 280.08835445604524, 289.81212035920817, 284.5759187173883, 292.49394019336825, 301.48988777028137, 309.7632155646183, 324.74817724782315, 322.3890921978682, 315.66682056382626, 337.2262773844377, 384.2596233576912, 448.5324310090731, 400.4484049398338, 372.8500153813955, 383.9802010446535, 382.74902176774293, 375.0543899286325, 364.84252017515917, 314.82850146265275, 326.82282788431553, 333.46990980251786, 333.25977792531563, 327.9979393860004, 321.91454763923224, 335.1637172651144, 334.15523710834356, 331.42407297120025, 319.7954335472602, 324.62246803067984, 324.199267898475, 323.2503670027904, 321.02269100923354, 322.39585471343406, 343.2600505377179, 356.62719624871534, 354.84051239164586, 360.3169358770764, 376.2147984503754, 367.73691325558303, 355.9077788029721, 362.43807600841393, 360.2747350456422, 374.6241133607021, 391.96055905035496, 392.27485412648934, 395.20652921827406, 416.8930527257602, 414.9518346579692, 432.92089095164295, 432.6670335931008, 435.8175107020444, 440.9058854685619, 455.7729401804411, 456.7614013080986, 455.27800867584335, 459.36529524583034, 462.4467484262983, 452.8863937753891, 437.0451766215452, 438.2204727810141, 440.03646048011746, 454.29187391611, 455.0951533534374, 431.3665528710002, 419.09722357426404, 424.4804639126077, 424.9160465111869, 429.52237215464186, 426.343635095184, 432.721515428074, 433.1270232708481, 429.40298005816004, 432.2030764746041, 432.56926358112474, 430.40987019210485, 448.3568639852395, 454.4839047336936, 450.14161510860373, 445.08214445961823, 446.89301265142666, 445.97187918931206, 430.17292236593664, 430.75480665203344, 402.4057253045421, 371.31982795239617, 383.59418510304533, 382.34436553603103, 382.8717125706225, 391.00188093366984, 413.4355786337606, 393.5787752768852, 388.757543829285, 396.0368065654689, 395.7379935315836, 392.8460204418921, 394.0535764681395, 383.2205323316117, 375.63367831109707, 377.5174812156593, 376.94221230963535, 372.50726879883337, 373.13654649095156, 371.28842833843737, 377.549537429035, 387.04418251186564, 376.08121543064556, 375.66909717747785, 375.57785017086854, 373.04829327451677, 377.6724065076635, 377.8795021281913, 380.61634030875723, 387.6651908580838, 398.25805048311094, 401.91550165555844, 402.52131921580684, 413.66368637407464, 419.7585853140795, 419.4718715715872, 429.4992797914444, 437.8880837031418, 436.66975819208943, 426.7163439495515, 420.23464765504195, 422.4720143708099, 423.3587234598413, 431.5847831624502, 428.4590446511012, 435.8479313523435, 433.4532871362989, 430.8919855102148, 420.7738063193295, 418.8151109638164, 403.09496023569795, 404.50691009763904, 409.2135201222043, 412.04469303217985, 411.27381305496544, 413.57980132794006, 419.1979995540232, 413.57608343724684, 412.9302625518918, 413.7340996404481, 415.60877551616005, 415.2530003572942, 417.89479449097126, 412.442590667111, 407.0504269766742, 409.8279813056361, 409.0697519402629, 414.9150383142393, 416.6757230272919, 416.0755204019, 415.426540333506, 415.93227532530153, 419.5997880448501, 422.9896141708546, 418.0322108083886, 412.99623294629185, 415.05624884780855, 415.4480888652984, 418.6386306334314, 418.0164197623057, 418.48244139718776, 421.231964986693, 421.82915698977394, 420.69894918650795, 421.0059145107351, 416.69063324035693, 419.5166928063497, 420.6454848742643, 424.5795151149513, 424.42483348800323, 423.95424834025243, 426.8713259477998, 429.94836421671937, 427.93728812762095, 427.540366021815, 429.29748294654837, 438.3137849400415, 444.75115276915596, 447.48884584007374, 447.6553028676941, 454.3533002115655, 460.4978230876489, 465.8174206051424, 459.89263937329525, 445.3944600056463, 450.90454540103826, 452.4938040553928, 450.7727040708179, 446.15736573051885, 447.07380021786156, 447.90010451725993, 447.5140447400138, 452.2486529769137, 458.51186106448534, 457.7901457275458, 459.0013469675762, 455.915900940656, 453.32065293055575, 451.9540532605304, 454.8597107575076, 455.84029943605515, 456.2696800150375, 456.5271750575303, 453.72745763622765, 453.99478213424356, 449.08703206905113, 441.5250747706843, 442.444908447965, 441.1379972474441, 440.8638566778023, 444.53144364367284, 447.3957418848115, 450.0857625316276, 470.9097450998496, 493.07235483267357, 516.7653387919448, 526.131496338878, 533.6342941589756, 534.0813246271424, 536.5464633066391, 554.4258816600613, 573.4807489768677, 573.9190786825516, 581.5640014922888, 581.8854995644535, 578.1291396559269, 577.9129226470226, 576.0505834305983, 583.2091138458051, 639.8602684784994, 688.6390305836301, 687.8080248158923, 684.9931098242604, 740.4350762555616, 749.1292892072221, 749.7731306535692, 754.4741072047457, 747.564983109628, 682.3384296415855, 650.17747246409, 591.13747181217, 652.8176530965901, 669.180881247142, 638.1234781271081, 639.5186445291002, 648.5149716343755, 632.6660856834561, 650.3456907779846, 674.6831117858471, 687.8347688431596, 675.3167654065403, 670.2815635522159, 672.8185211438491, 673.9124409852392, 642.3020484533021, 646.8860911770281, 649.9809599230418, 646.0747437523299, 649.0199865299893, 657.0512776689442, 662.3391172535412, 657.8565950985969, 663.359145339522, 663.4014286919659, 669.6843600808418, 677.0749431854406, 671.7803856703215, 669.9907019971102, 663.8400784401393, 659.4449467392114, 653.3640587484357, 656.4698611893122, 656.6873305786725, 651.867171255348, 653.3182702025842, 654.6251998186181, 654.9596876876584, 654.9865276918879, 635.1138303748937, 619.8243411406368, 591.5283054278337, 549.1275814998278, 570.6527106500529, 570.8887047264712, 573.6724615810708, 590.5459305070142, 589.2613736560694, 585.7756854131852, 589.8036042050081, 592.1337246585551, 586.1342027599677, 585.7668876766048, 573.8627448826771, 567.3275896019575, 570.8654087047537, 572.5865034132532, 572.057360519102, 571.8002501885252, 575.1617095349236, 578.6968968249965, 579.612494787795, 581.7413993259926, 578.7122913132894, 574.6160452724307, 577.1300236350241, 572.0761307555317, 570.1966801673464, 573.3552524770997, 574.389692392975, 571.9652713925841, 570.4131074683911, 570.7765995211934, 575.9422571837476, 599.5716541961274, 602.6256404754719, 605.551212250221, 610.3473946237896, 620.8441349815998, 621.261695352482, 622.2742569580693, 618.3440688323121, 605.7284846750103, 607.1176506911737, 608.4586754753198, 607.1239533090059, 606.6019636553831, 604.5996096340111, 605.9355118686314, 607.6959915955487, 607.2512069601321, 595.1631471118435, 595.1900744114096, 597.3746959294714, 600.8781489552293, 599.4530637301276, 602.3025652725343, 603.8981464315727, 603.5770544813374, 603.8965200557873, 605.0124943040928, 611.7008985828215, 609.2890933375238, 609.6397181602724, 608.0563672786507, 608.7399270121693, 609.2437201203016, 612.1188572536406, 614.4560699355786, 612.8556185084175, 614.5140330556351, 630.2054615456291, 635.9524728174246, 634.8832855792799, 635.5541529421802, 638.4474187912158, 638.0286184885408, 636.1694864671282, 635.7256292627893, 631.6547792316683, 627.6317031913376, 629.4336323125425, 639.6551371163816, 651.1910514827246, 647.9375677171173, 652.0441363791268, 663.2057482994403, 679.9196242958358, 684.642898424729, 703.429151611969, 701.9252917768983, 697.8118253805313, 719.890239881563, 724.6318013763416, 724.4600623348741, 697.6396868726525, 701.8918457491719, 707.2240063827439, 704.1711722624589, 705.7448732019167, 725.0161295540863, 715.1929059099821, 715.2897110922628, 709.2293553530644, 694.173656158415, 701.0955144495053, 711.2670088771476, 722.9735658001389, 743.4346193816167, 742.5651169403083, 748.31978346034, 741.5385336047938, 732.7611672331523, 741.4451232363805, 741.2264847234892, 736.0948715079165, 732.9763906469955, 731.3370205867533, 727.973735035793, 729.2749840654969, 730.112127754068, 737.6136241480589, 747.9965504660732, 767.3576552758077, 762.4779976180706, 759.5916224909769, 751.6259498688581, 754.7226588017461, 761.2412584708155, 767.4427603141542, 769.5695300193495, 772.1979540310755, 768.09699799765, 774.3424134075153, 778.4461349523048, 777.1806090917851, 777.148496998701, 778.6549266210139, 787.1128192546056, 788.139842761209, 790.9412163146476, 791.699692951858, 813.5219322204138, 856.5891884663812, 897.9041153943989, 900.9064938690744, 876.2186636595766, 899.195057595219, 916.6640048013046, 956.9871677791978, 968.6104780349131, 953.1465123152225, 956.0301501413617, 977.2687315917044, 1012.2297356744073, 1019.980205847046, 1076.4021491879155, 1043.4164442666283, 934.2381924176391, 869.81666071574, 914.1385345341739, 893.4129125603018, 902.5421400038679, 846.14556579472, 782.9227939487608, 807.1934920696388, 827.4125161833754, 817.1036383821923, 827.95997470792, 876.1968994136975, 885.3460961518231, 893.3437118682597, 895.5521460576243, 917.6638954045779, 922.6533209425608, 920.140249089525, 907.1452291439276, 894.4941543464272, 905.8109415178022, 917.1639660544515, 918.2899809374815, 916.766303589746, 916.9664547013928, 940.4041715078379, 970.8349190732414, 992.724627162832, 1011.9417190458154, 1017.7563632511117, 1020.0328167176053, 1020.8255678665985, 1042.3832168057631, 1053.678267966701, 1024.5894299149072, 977.9026940955657, 1007.6053390941064, 1003.3607084319917, 998.8318280439275, 1006.0550672604382, 1009.2883096529171, 1026.6903507647567, 1046.79234165427, 1061.4211192002774, 1053.3764734145475, 1057.318902692743, 1100.1128668867996, 1122.6880136480606, 1147.2072270485432, 1185.3366673154521, 1167.602677058576, 1164.626400185589, 1185.914661904028, 1192.484986933717, 1206.219461479028, 1239.797944235243, 1272.2342893853797, 1269.0734592313197, 1258.6474010640968, 1274.4282999141296, 1254.5284433226034, 1197.7588163212138, 1176.8404417960762, 1202.404756330237, 1167.6419196362483, 1196.7260335776034, 1234.1329483969455, 1243.6767527278123, 1251.4059504277081, 1220.3228554417708, 1130.786587302881, 1034.8189499475488, 1009.2804350414402, 1033.9986836392359, 1083.6050337926717, 1053.8926566698492, 1035.578841116252, 990.2935589091924, 926.940850106243, 964.1475847665174, 998.306201901139, 1043.0908416711789, 1032.980904279755, 1033.4723321287154, 1051.5106728261464, 1077.4147870864945, 1079.8417587982658, 1126.4895843103793, 1142.335082248124, 1130.0867997801727, 1167.290564391669, 1189.4652089881235, 1187.9354866987524, 1193.803924125138, 1207.9173869655563, 1213.3491898950006, 1217.016482950139, 1188.2790060342709, 1173.2279078564954, 1178.1310293002773, 1170.0558274305545, 1172.131642374342, 1200.1182702510064, 1201.1772963456935, 1220.4784245958685, 1241.3399236229181, 1237.5711314970488, 1235.5502373906957, 1243.8078351669456, 1264.8407500755177, 1287.9770410969086, 1313.062538789791, 1324.156031008124, 1329.9205212864244, 1331.0917398051372, 1376.572736987117, 1433.07700125045, 1471.062307917188, 1539.7280976912518, 1556.888895104687, 1540.537994443819, 1542.7873754527773, 1587.8045130212154, 1704.3326557665953, 1746.2477798153454, 1825.6116305208309, 1770.3064100132976, 1706.5298532506263, 1782.117330297327, 1733.1833278208346, 1708.802247620138, 1773.7797194246168, 1824.810536671181, 1925.914744161286, 1973.9800658339586, 2022.5683989403124, 2109.056495527776, 2191.6955960485425, 2366.8175173599993, 2555.230213262082, 2384.2867353238908, 2096.5975440169755, 2188.6578243451745, 2237.8182474801392, 2273.9400759011464, 2253.7279343133005, 2389.600491363434, 2429.220878885904, 2518.651871366979, 2524.622580582777, 2600.6660524093777, 2834.843244535311, 2815.7613989986103, 2753.605753370074, 2823.7768746688225, 2854.0090851680593, 2906.440835680521, 2803.407063460793, 2715.914453143574, 2652.9720124034716, 2356.497271147016, 2450.0059351796153, 2556.0603304922215, 2566.431270089649, 2558.0739135238823, 2661.4707511728443, 2712.1991862183354, 2680.7952264527785, 2718.206414360172, 2657.053625209336, 2559.2133736570463, 2464.835696836526, 2407.682448052603, 2533.626903545069, 2558.6100614753777, 2523.7841036787204, 2462.1679811180898, 2444.546843258715, 2523.885840305525, 2596.593819535901, 2569.844768936771, 2593.7509238846546, 2543.0197290534725, 2516.3351642468415, 2539.243432135624, 2454.99373669556, 2339.412436193402, 2343.7639893680903, 2370.9453313396143, 2279.211963208232, 2073.6270725375334, 1939.79389636073, 2056.438766611142, 2280.788636372811, 2311.6258201928827, 2491.7483353974, 2718.369415621979, 2779.5795842955913, 2767.086798380379, 2753.4785571044795, 2624.097527129029, 2498.828446301669, 2569.1080647517374, 2737.1876529625683, 2717.966921388546, 2675.572404711042, 2760.48728206073, 2769.391513569272, 2713.766482944721, 2743.0580191844833, 2826.8294454762467, 3153.2488821351026, 3235.7917306792015, 3307.8080681583697, 3416.0035214976397, 3341.2042415768747, 3391.9069206047175, 3502.944539907464, 3757.1568447404497, 4022.862826982499, 4167.641197853613, 4166.792023620686, 4165.526218946796, 4345.366499829622, 4227.546657014964, 4054.4593181128153, 4059.637215838545, 4022.5329651518045, 3921.8134010843683, 4141.276447388372, 4180.161836867711, 4356.354477182371, 4311.040683446604, 4340.330148097196, 4304.555902447079, 4464.077336891468, 4575.974514020831, 4669.19259923354, 4801.474447910581, 4683.848466007019, 4575.515664994237, 4361.0020818459, 4251.936921884063, 4528.569157865626, 4583.8382091259045, 4482.159730627046, 4291.994088360863, 4180.416884685211, 4210.1584822397235, 4252.912684283953, 3933.71567302663, 3624.505878028425, 3408.9395077743393, 3695.7280035178505, 3633.851888113405, 3940.8925821267717, 3962.829024987677, 3936.8849267487512, 3791.06085830049, 3626.3595220392435, 3713.660176402944, 3694.894137514371, 3819.93327702472, 3914.7231175544803, 4035.830913773193, 4188.37902106559, 4144.7706752785125, 4270.006563587988, 4290.540538660521, 4395.337382637809, 4311.541945121866, 4249.378923866452, 4255.119234370802, 4359.022931669622, 4351.12101836129, 4495.671155265346, 4643.255593736598, 4811.406373295319, 4786.860452520727, 5114.231278490627, 5617.727998685875, 5665.810265264829, 5609.72463245708, 5673.304884108481, 5625.289679106427, 5401.837393082218, 5653.874508484788, 5788.391980855135, 6072.996288609865, 5909.361846430007, 5868.565634762252, 5658.974436611708, 5547.140594395695, 5826.225913810255, 5822.075937357188, 5749.540433826076, 5883.191147027914, 6122.319069418232, 6239.749251115207, 6501.939809607719, 6951.562440543188, 7239.995811521009, 7257.378827455359, 7457.709889420305, 7227.198207083067, 7102.408925609991, 7386.432695222636, 7244.0399783568055, 6961.094238074874, 6555.824079779672, 6113.814497359839, 6346.716470741186, 6590.159796215452, 7045.879446237248, 7459.012108576524, 7826.673143041315, 7696.537807648095, 7825.417972998166, 8089.820733745144, 8157.12061592917, 8194.218582478063, 8175.019002330478, 8167.55458883378, 8428.594956002527, 8971.59858006919, 9555.697055042774, 9832.17904381704, 10402.663550928068, 9887.543386804504, 10193.943102892485, 10937.459172554165, 11290.72998108751, 11345.1442505132, 11655.130897221186, 12577.93035189583, 14775.059048403487, 15429.647898831276, 14804.000106056277, 14132.601710642339, 16200.092354788894, 16729.855389958673, 16539.760724362503, 16340.115423082672, 17364.205633857277, 18173.93215961112, 19186.169610256275, 18716.81145947776, 18318.276532905882, 16831.69035647014, 16219.341431540313, 13759.523593027072, 14765.470556031954, 13652.628406286822, 13964.7164194229, 15242.60779660485, 15579.674561490996, 14246.326809279137, 14533.09224733401, 13207.977744208323, 13337.513232213194, 13424.11002852813, 13877.579910547882, 14962.379077539552, 14816.62546783891, 15790.44614531669, 16665.2688077382, 16516.38596170831, 15299.470658760409, 14867.467959925685, 14192.252139563872, 13695.063730822887, 13660.871985968379, 14225.001391134012, 13679.838930798953, 13821.791453646538, 12163.32296559722, 10679.943137175675, 11494.871755379161, 11513.812274693057, 12471.589823790624, 11894.460951081925, 11131.872795281588, 10724.394747529022, 11007.581367752427, 11300.302206048962, 11011.409089451754, 11238.475383415956, 11672.84266855346, 11283.738147276055, 10627.912229582136, 9985.909391786581, 9496.94441020416, 8557.56405370818, 8910.523001617488, 8721.449151979412, 7611.002286218681, 6828.327463351177, 7913.2761044551, 8215.914953934966, 8260.488460555463, 8656.289436940868, 8187.925006726366, 8623.874416584827, 8609.526431398393, 9025.422114797526, 9802.718758693474, 10025.739668955262, 10677.391083654175, 10737.50695465314, 10866.69338065033, 11497.698805537511, 10791.642741853477, 10272.367781543957, 10012.328022163469, 9930.968529549433, 9594.995942918604, 9909.968295681614, 10552.22465135208, 10621.087590388193, 10650.396096034734, 10980.885423547215, 11343.897576433323, 11241.633056228118, 11520.944324577442, 11021.900239968742, 10400.180331797797, 9705.47006482103, 8908.273158603826, 9236.925229652239, 9058.462062118782, 9436.663615256984, 9156.049137691416, 8769.041311037916, 8112.739808851261, 8314.895529564386, 8079.47827220771, 7679.330417919928, 8355.37526324061, 8622.898271080625, 8983.204958242703, 8793.123890048048, 8530.088379737852, 8858.011982029719, 8535.604512822458, 8208.097878584129, 7965.567252482298, 7916.297767472615, 7518.138178063432, 6887.522776039158, 7005.29756951454, 6797.119962780489, 6977.693898195268, 7325.336386033411, 7077.685461860624, 6757.937625557506, 6649.33432437685, 6891.63127051887, 6988.298579773687, 6892.064116552366, 6779.428317708363, 6879.999377109889, 7336.352833091173, 7993.173746452505, 8011.189231885208, 8215.01647871813, 8079.964366643196, 8036.063162183466, 8056.830537172492, 8212.921375683192, 8445.13683254687, 8800.071486919654, 8888.504368435319, 8895.180055507684, 9313.931172827306, 9221.422056068632, 8882.861283232156, 9216.859624774994, 9239.921222156729, 9355.87775239579, 9290.35964742299, 8988.335162892581, 9112.211674862185, 9379.426677940148, 9656.065965841874, 9828.78971033086, 9615.297417162696, 9343.777481907433, 9260.789437483407, 9192.930661410934, 9264.895655078955, 8701.13078361202, 8422.732221125816, 8550.100429488886, 8581.069461579958, 8641.886150401542, 8282.230914163076, 8277.580568937332, 8106.207076902395, 8254.360024344645, 8362.012661060517, 8455.062682217067, 8232.819020327775, 7784.482606406806, 7537.973597869779, 7486.165965348579, 7489.731292245389, 7316.840163605535, 7254.987028238581, 7292.843306593192, 7432.153647526799, 7499.828363151246, 7480.733412352112, 7596.895197195411, 7690.332532353291, 7575.08125658878, 7491.535589829449, 7606.224018449095, 7692.36764076018, 7629.357632946007, 7629.968101439593, 7132.95673797986, 6759.825557861631, 6753.665802111364, 6442.164773967491, 6500.870400101531, 6550.586113510626, 6462.303785092676, 6508.7935431943715, 6522.751529419917, 6717.836206551846, 6680.596708920031, 6736.329754928779, 6359.48140550069, 6135.497227675285, 6024.187534068359, 6202.745027815007, 6201.549087859197, 6095.606218067258, 6081.536131659924, 5903.3350651305545, 6363.267733393123, 6349.658373005698, 6452.749425416871, 6596.6386435730465, 6570.818218604788, 6580.844572799896, 6541.7499407861405, 6573.061292749642, 6739.005140367053, 6705.52885587663, 6480.41739654924, 6354.078256082951, 6218.82093996042, 6236.459520477294, 6236.002829669237, 6318.222540104485, 6521.005122006628, 6877.673884476539, 7402.580819460976, 7390.090778422766, 7420.263285339858, 7347.510797165239, 7447.690332778766, 7679.1310273222125, 8071.240982005918, 8253.600201942938, 8196.297390515163, 8021.265475304271, 8179.85724244581, 8202.504260972008, 8133.856846577696, 7914.893663515765, 7569.664617535836, 7589.976547277992, 7393.859998717216, 7248.19318507182, 6995.148068465638, 6987.4779397686125, 6986.620369586734, 6444.573924300412, 6394.012538218752, 6394.70229452832, 6187.899728989208, 6304.229538593539, 6345.582977239521, 6055.9651300889245, 6369.119704365768, 6344.322468393996, 6466.902968943141, 6446.2779260244115, 6397.931503187954, 6444.882562188032, 6399.517082706731, 6579.534865940349, 6433.535462697779, 6551.9624196494215, 6713.632426308655, 6669.849490980345, 6712.800026724519, 6987.025982134507, 7049.058426517115, 6928.897387040069, 6979.619430357056, 7104.904771965173, 7239.352803568614, 7259.716058110025, 7322.0253097385985, 7125.878095826909, 6421.649467325319, 6443.149621722413, 6360.137607993364, 6289.6777442558, 6287.149444328369, 6290.01571579288, 6268.0341195569545, 6440.439900089023, 6500.126741265912, 6518.77484102342, 6483.835941873196, 6397.618977960015, 6295.6989115588485, 6336.3579178004875, 6411.616331150529, 6658.2250047277375, 6705.519654732807, 6706.788306410528, 6638.092075073596, 6412.978684379595, 6461.1649064049925, 6520.6243527188935, 6664.933230875453, 6539.769776320351, 6577.391130137321, 6574.738922028398, 6541.601813838328, 6447.159730831954, 6547.282861345279, 6544.534630075655, 6556.228138106201, 6533.46148428499, 6586.693299841844, 6587.5093743503085, 6517.02112464131, 6213.269504236464, 6201.374329906903, 6196.255289336949, 6225.5597662188575, 6368.720408662159, 6437.5087953294005, 6438.43506971725, 6427.403745500414, 6385.350671101774, 6396.672098457539, 6433.622845639696, 6405.305756726377, 6395.694858119955, 6425.194327446142, 6400.471104649866, 6400.605272615267, 6407.056799822981, 6402.518075462284, 6329.9588707236835, 6264.461252112849, 6277.314048065893, 6310.518269541805, 6351.837184893947, 6333.884228726285, 6364.292617072936, 6404.64182474864, 6412.772047115653, 6506.784737295888, 6449.3924238369345, 6365.7717685738135, 6354.783382672528, 6339.36557517553, 6350.902726011149, 6289.95088737878, 6019.7227104412195, 5494.451718589618, 5530.643468696534, 5484.982991761849, 5533.987997684162, 5203.002613695964, 4531.088454067913, 4446.992618040758, 4468.285270474057, 4248.384644795241, 4203.249342811938, 3756.6290979870123, 3850.7709185623603, 3702.8695056624056, 4057.5183611309053, 4224.29601474399, 4075.157287297426, 4077.9593554114686, 4120.334960044438, 3924.865158529756, 3904.8379829001433, 3802.5065269251004, 3694.7552143453854, 3360.1281882661083, 3384.705131477951, 3467.9381829733334, 3468.777194965975, 3365.4732113485366, 3397.2172194101763, 3360.703122266634, 3233.770037659618, 3180.05366917573, 3216.9546958805904, 3332.9468354800983, 3508.583740392222, 3748.2382697984367, 3922.722019362993, 3972.240273630107, 3851.664719772498, 3977.8974202554828, 4125.19940430708, 3773.119914007183, 3779.442528349269, 3717.73253930538, 3700.705065889969, 3873.412409235216, 3787.834919052921, 3757.171780126566, 3700.220764945071, 3822.9589737913902, 3829.9504441602744, 3784.8429032143754, 3834.252897288229, 3874.350907086532, 4022.521942333539, 4006.1175802793723, 4010.6155503891273, 3795.454169805336, 3636.606292106979, 3626.4558146055897, 3580.4300378013254, 3579.8521768672904, 3641.4523805166373, 3603.401247013818, 3602.8762199115313, 3615.5358711945546, 3671.558714207044, 3607.1337391350025, 3535.774288167154, 3551.6261253083317, 3569.3907052578147, 3553.9142126451698, 3557.073136351457, 3571.2604379449663, 3545.5710144733985, 3437.9135883701065, 3398.563702854585, 3422.981587363193, 3424.7712853219773, 3416.3221104803106, 3431.773967138341, 3425.325968809106, 3414.1070525906594, 3419.3007470225707, 3371.601417214859, 3366.401702940482, 3451.413019785795, 3614.793990878502, 3608.0874078228526, 3595.115486825351, 3577.7960807230875, 3582.1948601241675, 3569.0822576968135, 3570.3920568431254, 3587.546461005075, 3585.4275967889594, 3755.9823584144483, 3900.5677365308725, 3910.7355981621185, 3906.6797541951423, 3925.2826443123695, 3980.06152206518, 3989.5446727177814, 3792.608477301323, 3799.854222197089, 3795.235649358258, 3810.2098596975407, 3813.194319732083, 3805.190932743484, 3801.3458551637123, 3724.935461556636, 3765.717749986356, 3838.749399522843, 3861.3199936295846, 3871.863537431498, 3889.977269271837, 3892.933824573922, 3864.673281775208, 3847.3042096521885, 3853.426843858195, 3850.175915170594, 3877.5979670858314, 3978.544756837428, 3963.0520947296873, 3969.4421748516293, 3976.9557399377436, 3995.34903677681, 4005.9725313263957, 3981.5669647503737, 3980.6674381668063, 3968.476776604064, 3949.7232890549276, 3908.3926810687194, 3993.9453286355497, 4009.169757668744, 4057.4873402451094, 4083.819854433936, 4088.3159367227054, 4125.62797575205, 4646.777833372086, 5038.331919326193, 4971.573066967456, 4980.86882140163, 5042.656988004931, 5128.305635977566, 5241.570694353229, 5221.239640150493, 5270.272678052407, 5129.496737621279, 5047.461057109654, 5084.45696299948, 5078.658447256881, 5121.991216220348, 5098.403068529516, 5218.604225042639, 5263.84802255684, 5259.025546316423, 5313.122677180199, 5288.595950479433, 5317.483825635521, 5531.79908331455, 5486.759304211845, 5423.278682907778, 5149.307688378338, 5165.201411704756, 5169.772314700561, 5155.245700863226, 5200.302502327778, 5304.50131391906, 5361.8458489470795, 5617.751747133297, 5694.911843883758, 5722.261040295728, 5656.949863373023, 5864.344862228271, 5844.275702367326, 6047.378154055736, 6290.738730133015, 6806.255783551329, 7154.745254860869, 7408.011836035397, 7992.089707485142, 8054.587950808817, 7993.4551222136815, 7262.418007899218, 7325.527276476307, 7933.525464209336, 7906.067477353882, 7952.497205948827, 7890.2909730096235, 7702.763979015073, 7983.344116740006, 8046.268309595887, 8127.5312243186045, 8784.562189371667, 8727.320374165727, 8648.244324281599, 8632.743963722436, 8351.777835872286, 8543.899098675776, 8670.302370430381, 8532.705743045528, 7851.947680113111, 7773.49214403368, 7751.680285119101, 7938.510796700723, 7940.551153013324, 7799.437190598829, 7819.6223997914185, 7896.929358996592, 8036.531316716174, 8169.554050361903, 8352.945621689198, 8727.562475929124, 9095.273742793972, 9235.828484187881, 9152.474738581765, 9147.993583905552, 9353.165069269207, 9801.48601844826, 10724.80500475833, 10746.781206169444, 10846.846268886118, 11315.817028152782, 12643.58268406806, 11804.629165520822, 11679.584241003118, 11854.567022205914, 11542.5519109653, 10688.316669892505, 10303.947255003688, 11345.214704756921, 11759.042504677078, 11139.70507995207, 11415.828780286818, 11311.081839364226, 11794.046136211795, 12513.929275472203, 12648.77722987224, 11583.33114395624, 11584.594098212156, 11429.106525295158, 10859.58643773368, 10417.313950106387, 10355.989770849152, 9577.424253618532, 10054.174637386332, 10472.348259581948, 10680.074055009378, 10577.432649922928, 10450.380505223955, 10070.88661588474, 9702.431051005029, 10022.20370806414, 9774.975254395795, 9730.773225166935, 9485.52916660436, 9540.04345651101, 9540.709900848506, 9856.730021180085, 10084.935548616566, 10474.96189261042, 10785.119085869443, 10820.493950888876, 11675.834979007996, 11757.503989232973, 11711.54347617361, 11801.42374175556, 11819.496448074638, 11581.347375174293, 11378.187061370474, 11395.318888798289, 11137.505189024307, 10438.804654989657, 10011.1591996118, 10230.993239122983, 10296.212518717099, 10291.275808693073, 10615.453305420839, 10752.366263786811, 10194.396616859789, 10046.431161598875, 10263.126504725698, 10156.806874106245, 10100.433956554152, 10345.438896420834, 10173.758932339248, 10044.376044128196, 9519.210861383097, 9534.697238214447, 9593.49623751407, 9625.550632604894, 9947.74048265257, 10522.026854342339, 10563.694912048608, 10564.817209534724, 10659.369302854842, 10423.651372520828, 10459.81257227396, 10301.282173031266, 10222.319072824292, 10063.97192252702, 10219.162470668738, 10316.803479383, 10341.22809391632, 10316.854391256593, 10252.821777367, 10216.909930802089, 10194.945536104507, 9990.104432229225, 10174.151560773957, 10039.60458170374, 9979.16044537483, 9878.478041946102, 9424.490710620163, 8448.935015594026, 8252.081687777636, 8039.34744347461, 8158.621855456158, 8074.739528077005, 8072.476608279894, 8362.425686734523, 8257.611118398356, 8244.898599720584, 8146.700804760817, 8108.034848427605, 7980.208379598916, 8040.774269721862, 8209.54004338034, 8338.672202644851, 8560.768110154404, 8398.904302291328, 8334.03172840669, 8358.469283011143, 8308.342125559184, 8264.441375450893, 8064.779191159759, 8032.67157163301, 7962.841632669786, 7959.495536832048, 8019.452704461435, 8222.464702436075, 8199.638670969123, 7745.814862418815, 7450.088800017263, 7880.273694687784, 9318.542266296723, 9412.000791332717, 9476.646249183545, 9383.479470677556, 9193.333562321763, 9172.65791653228, 9154.683537730407, 9280.802011275011, 9218.281222532842, 9256.49321531927, 9343.93759206018, 9335.758807151737, 9237.72392966048, 8981.181828454222, 8810.361853228127, 8890.910008140005, 8797.156021451528, 8734.248384281462, 8747.839833182257, 8655.574441785484, 8539.390631541626, 8470.05812205722, 8514.05775426931, 8379.170480142606, 8115.519775607476, 8098.422936577844, 7848.229724512885, 7342.023811284331, 7242.485902826379, 7145.979653724798, 6961.916463382017, 7140.82248452933, 7251.90188556598, 7522.1795468206565, 7611.617379110383, 7654.448030646007, 7353.1728242575, 7309.417556129305, 7318.914007590968, 7276.681529723191, 7328.946278642844, 7405.076490472255, 7532.571643890705, 7495.8735346271815, 7461.299951510588, 7300.517235776559, 7210.770828864062, 7172.23087527164, 7226.932762721718, 7164.430986278691, 7089.766795422424, 7033.251444460454, 6790.458057709151, 6770.356285148962, 7148.256652996836, 7150.887318191039, 7148.200046592102, 7226.845982467813, 7503.948788487183, 7296.161298202128, 7211.118764492039, 7220.919559387707, 7191.867430805323, 7298.773444304584, 7345.160714564729, 7297.8940072758, 7199.125109310261, 7195.959880919137, 7072.718060388196, 7217.796592976589, 7321.961279170446, 7430.176407826304, 7533.607433066811, 7929.852763244849, 8235.751789674112, 7898.652919300891, 7888.064785803929, 8113.3516734874565, 8111.597134890526, 8102.790337767611, 8574.611704362773, 8743.692143647299, 8674.394696747739, 8852.804577276258, 8891.796207474235, 8847.47614884375, 8644.725950715705, 8646.16670644949, 8665.649329984064, 8435.89609470965, 8383.375637696396, 8321.579885155628, 8429.38161119088, 8723.219793439615, 9041.657634742198, 9331.03335799911, 9370.889559325302, 9342.279203230477, 9372.4790454517, 9377.034387350783, 9330.420463306455, 9202.938405466684, 9402.827316744797, 9689.417025456103, 9776.736692524188, 9812.94476880696, 10080.741284853419, 9922.395658425206, 9957.584287328264, 10344.239488393756, 10286.246258415276, 10262.061382627087, 10143.891251224088, 9905.53388478716, 9720.58739864132, 9846.362842026916, 10098.856047258892, 9582.246888371184, 9689.81293060629, 9660.409944379311, 9869.742437984061, 9735.024157946149, 9490.051177906224, 9033.428049063674, 8796.161047472155, 8698.50545896494, 8686.219811975972, 8557.40909544094, 8747.601872178893, 8791.288506874624, 8761.186508329916, 9019.734690488689, 9098.157252796409, 9054.01732719077, 8570.217180502628, 7882.121460787503, 7948.1695844998985, 7850.057562898232, 6666.828861681947, 5294.226216340619, 5409.897523910415, 5299.768466478685, 4987.528566188408, 5313.470613710445, 5286.3526338184765, 5759.559219221327, 6360.576962319861, 6169.335490041387, 6139.6575794990895, 6105.75892755694, 6653.369801948235, 6662.1118634865325, 6672.075758493254, 6692.090412951914, 6227.921420020939, 6106.838705931526, 6272.913063536245, 6451.665956487229, 6308.267585028201, 6723.733000594228, 6813.907969629615, 6772.950126856649, 6796.93665253496, 7090.590009534128, 7317.770964781325, 7301.8355765682, 7305.015280741797, 6976.306242034371, 6871.943459090964, 6947.878029995828, 6751.706856307271, 6884.6110687179, 6801.816234898123, 6912.495413196599, 7071.970794409302, 7152.378711892614, 7167.837306899235, 7052.47481894915, 6867.564222782019, 7000.488370438222, 7294.0303552136165, 7521.664963669022, 7546.969296773541, 7601.420113809795, 7715.977165080104, 7730.798477109447, 8244.817730054785, 8894.275984848106, 8784.237294789611, 8873.30749644114, 8980.498131093722, 8772.605609500622, 8930.897849771944, 9162.656382082081, 9490.682289070586, 9924.471611509241, 9727.264520009203, 8687.514576195208, 8706.86781146375, 8774.174371737705, 9045.37065620824, 9576.838667853293, 9523.70146860786, 9403.52863179306, 9624.590081784858, 9721.809812126987, 9670.298562048212, 9672.22024027287, 9280.304526939552, 9125.38938387894, 9207.086348352579, 9123.703672053156, 8819.567767945855, 8859.684614940688, 9027.303307965884, 9320.29837284144, 9454.400277184486, 9507.157689765978, 9547.070790837739, 9584.673686512082, 9880.130073087923, 9551.656227813472, 9699.753044387777, 9742.433304025051, 9636.42490419366, 9621.181005193155, 9725.865728072144, 9712.537864100132, 9787.979167636995, 9643.770749980273, 9411.227994969104, 9426.957930261668, 9404.454924191223, 9244.636743114657, 9493.823224875163, 9443.089828411225, 9406.31222964166, 9326.55623233416, 9301.521080751558, 9348.610762526152, 9480.840177574342, 9638.236181634002, 9440.905714494855, 9231.63743639468, 9181.189162993507, 9107.377176268028, 9055.226557576087, 9116.186176574523, 9150.967302372193, 9191.3131155973, 9166.91215183004, 9093.976422783686, 9091.434770188464, 9064.248368366014, 9212.564865902194, 9269.208835551168, 9345.542111787756, 9329.728939791705, 9200.017306576767, 9239.071848692469, 9249.80798003822, 9278.312728507817, 9220.180018134346, 9221.868833295383, 9132.124589478124, 9134.675785907946, 9161.916142345026, 9154.988316042463, 9177.83802635608, 9307.514424799623, 9365.630974525006, 9541.05375131944, 9557.228627253846, 9619.539416528956, 9833.757663554765, 10435.020435200044, 10985.119592693065, 11096.018927142699, 11033.57612881216, 11196.082530679863, 11609.299920575011, 11333.159368325, 11254.703755341316, 11243.645665382306, 11465.10527340036, 11755.58119980418, 11716.45454163439, 11684.851087667359, 11672.63996389167, 11899.989639893063, 11632.959579005568, 11463.752623783324, 11550.921999856255, 11755.189204178818, 11877.00661119965, 11850.905480240968, 12055.303702876055, 12164.471227868784, 11797.516510981275, 11799.367296411448, 11744.315997149659, 11559.962819336119, 11620.874303139944, 11733.996309537497, 11508.906789976032, 11403.610023183352, 11346.299961082279, 11442.459547688202, 11507.263376839917, 11608.74760755728, 11685.003370732291, 11874.703066333668, 11576.820644881931, 11039.34035188682, 10391.276090070347, 10269.156819861464, 10201.622301626756, 10160.401459980221, 10147.865156330336, 10188.10717220251, 10339.348363202087, 10303.176692929865, 10373.14298676979, 10395.79815614824, 10511.037929179522, 10773.720320007988, 10894.810257051739, 10892.69947056249, 10925.284001547227, 11011.9148864677, 10916.043327408688, 10677.247609178121, 10468.0963624125, 10432.543354348958, 10443.041233222235, 10671.366457544078, 10716.403084252077, 10717.279821642376, 10878.69134130314, 10729.29273414583, 10741.202387801055, 10756.04545575765, 10528.595023497923, 10549.760898197565, 10605.08557103368, 10705.22907089827, 10699.882039851738, 10621.103120179863, 10733.863013542014, 10982.214562189922, 11336.503159782991, 11360.13287871076, 11446.903781452429, 11450.608486984722, 11406.007822737847, 11414.77133670104, 11364.972639605227, 11343.918866089589, 11430.201420223273, 11582.173986270824, 11845.090693962153, 12458.417006587151, 12933.042057456963, 12933.517566262844, 13029.421125117015, 13056.068805152434, 13067.725634980572, 13363.252802185396, 13444.61943090971, 13330.450215420808, 13436.017088207294, 13738.3918106993, 13768.601156673616, 13597.37726649308, 13612.71856170971, 13899.773137376074, 14730.150417582641, 15583.101231359724, 15345.531895618045, 15200.276602935046, 15381.907919403448, 15327.3239537691, 15593.693127775707, 15927.901184766653, 16290.91808981322, 16030.094107823612, 15996.799079550008, 16372.227468656267, 17083.50982086735, 17884.628245262506, 17843.01880314236, 18336.446450956217, 18711.31422781042, 18432.242585682645, 18448.16646538194, 18862.79301058334, 19056.07885665344, 17390.736701274283, 16987.86882838683, 17312.290464663183, 17991.016577534723, 18913.21726086737, 19264.72192229652, 18953.713099227087, 19282.563097308335, 19121.886986334714, 18998.079583495823, 19145.785462237138, 19198.998589492392, 18942.096815483357, 18265.61394815205, 18303.163093656254, 17937.336902977106, 18471.600215770442, 19113.10394477644, 19161.339376164568, 19352.60234239375, 20077.722920459753, 22616.832315700016, 22884.61391463473, 23360.905627054184, 23594.349686158675, 23259.466833602102, 23097.83040414722, 23530.78834177154, 23219.253677889596, 24016.3946622597, 25266.163298708314, 27043.386470000005, 26964.020499138907, 26671.00809917778, 28141.234408113214, 28881.524878111817, 29288.824916593705, 30757.429532760427, 33467.36252562915, 31856.12268529163, 32273.087909194484, 34904.997382513895, 38067.44547187983, 39807.603738850725, 40395.370087963165, 39727.27752555421, 34277.110007714575, 34840.250152749315, 34673.97475176043, 38508.45668270349, 37468.42796355629, 36843.58675433091, 35650.73306927528, 36045.591487681944, 36858.91067922985, 35152.737303960435, 32949.072451710425, 31861.05734117567, 32351.590521832655, 32225.854127683655, 33353.08542052355, 31997.221463516013, 31149.419363921512, 31793.884442463186, 35051.46781385279, 34053.71261722708, 33450.20535018025, 33705.97519064721, 34713.696400108354, 36573.09481030624, 37541.548132422206, 37629.51797847051, 39813.988419164954, 38712.167855248204, 41193.12709603572, 46684.490849562455, 45798.7337153625, 46272.21566854445, 47603.415420118086, 47274.103549460124, 48597.22596548196, 47862.99440837787, 48845.16600342642, 50913.92413875071, 51893.311181218756, 53083.8791087993, 56271.288537679146, 57040.016118750056, 54708.31202510767, 48968.837945908424, 49800.28486888126, 49985.71223825459, 46655.920048518725, 47131.72183055901, 44819.98952521181, 47640.75968798191, 48617.28932090135, 50426.987625672904, 49398.2503985708, 47717.64330027977, 48372.175852290966, 50214.53313324514, 50797.92210728791, 53980.847261679024, 55373.137830339525, 56272.19287178024, 56826.56003304944, 58793.75224875479, 60457.42403185595, 57511.55625411448, 55339.80479183194, 56157.71323825554, 58472.645353597276, 58283.219455916624, 58778.91111507154, 57313.32745156554, 56788.182208242426, 54703.38774047086, 55131.84690897436, 52122.25317400414, 53240.713293739194, 55192.25974052954, 55833.58971896135, 56910.365453263476, 58346.02354716799, 58764.349363], \"yaxis\": \"y\"}],\n",
              "                        {\"hovermode\": \"x\", \"legend\": {\"tracegroupgap\": 0}, \"template\": {\"data\": {\"bar\": [{\"error_x\": {\"color\": \"#2a3f5f\"}, \"error_y\": {\"color\": \"#2a3f5f\"}, \"marker\": {\"line\": {\"color\": \"#E5ECF6\", \"width\": 0.5}}, \"type\": \"bar\"}], \"barpolar\": [{\"marker\": {\"line\": {\"color\": \"#E5ECF6\", \"width\": 0.5}}, \"type\": \"barpolar\"}], \"carpet\": [{\"aaxis\": {\"endlinecolor\": \"#2a3f5f\", \"gridcolor\": \"white\", \"linecolor\": \"white\", \"minorgridcolor\": \"white\", \"startlinecolor\": \"#2a3f5f\"}, \"baxis\": {\"endlinecolor\": \"#2a3f5f\", \"gridcolor\": \"white\", \"linecolor\": \"white\", \"minorgridcolor\": \"white\", \"startlinecolor\": \"#2a3f5f\"}, \"type\": \"carpet\"}], \"choropleth\": [{\"colorbar\": {\"outlinewidth\": 0, \"ticks\": \"\"}, \"type\": \"choropleth\"}], \"contour\": [{\"colorbar\": {\"outlinewidth\": 0, \"ticks\": \"\"}, \"colorscale\": [[0.0, \"#0d0887\"], [0.1111111111111111, \"#46039f\"], [0.2222222222222222, \"#7201a8\"], [0.3333333333333333, \"#9c179e\"], [0.4444444444444444, \"#bd3786\"], [0.5555555555555556, \"#d8576b\"], [0.6666666666666666, \"#ed7953\"], [0.7777777777777778, \"#fb9f3a\"], [0.8888888888888888, \"#fdca26\"], [1.0, \"#f0f921\"]], \"type\": \"contour\"}], \"contourcarpet\": [{\"colorbar\": {\"outlinewidth\": 0, \"ticks\": \"\"}, \"type\": \"contourcarpet\"}], \"heatmap\": [{\"colorbar\": {\"outlinewidth\": 0, \"ticks\": \"\"}, \"colorscale\": [[0.0, \"#0d0887\"], [0.1111111111111111, \"#46039f\"], [0.2222222222222222, \"#7201a8\"], [0.3333333333333333, \"#9c179e\"], [0.4444444444444444, \"#bd3786\"], [0.5555555555555556, \"#d8576b\"], [0.6666666666666666, \"#ed7953\"], [0.7777777777777778, \"#fb9f3a\"], [0.8888888888888888, \"#fdca26\"], [1.0, \"#f0f921\"]], \"type\": \"heatmap\"}], \"heatmapgl\": [{\"colorbar\": {\"outlinewidth\": 0, \"ticks\": \"\"}, \"colorscale\": [[0.0, \"#0d0887\"], [0.1111111111111111, \"#46039f\"], [0.2222222222222222, \"#7201a8\"], [0.3333333333333333, \"#9c179e\"], [0.4444444444444444, \"#bd3786\"], [0.5555555555555556, \"#d8576b\"], [0.6666666666666666, \"#ed7953\"], [0.7777777777777778, \"#fb9f3a\"], [0.8888888888888888, \"#fdca26\"], [1.0, \"#f0f921\"]], \"type\": \"heatmapgl\"}], \"histogram\": [{\"marker\": {\"colorbar\": {\"outlinewidth\": 0, \"ticks\": \"\"}}, \"type\": \"histogram\"}], \"histogram2d\": [{\"colorbar\": {\"outlinewidth\": 0, \"ticks\": \"\"}, \"colorscale\": [[0.0, \"#0d0887\"], [0.1111111111111111, \"#46039f\"], [0.2222222222222222, \"#7201a8\"], [0.3333333333333333, \"#9c179e\"], [0.4444444444444444, \"#bd3786\"], [0.5555555555555556, \"#d8576b\"], [0.6666666666666666, \"#ed7953\"], [0.7777777777777778, \"#fb9f3a\"], [0.8888888888888888, \"#fdca26\"], [1.0, \"#f0f921\"]], \"type\": \"histogram2d\"}], \"histogram2dcontour\": [{\"colorbar\": {\"outlinewidth\": 0, \"ticks\": \"\"}, \"colorscale\": [[0.0, \"#0d0887\"], [0.1111111111111111, \"#46039f\"], [0.2222222222222222, \"#7201a8\"], [0.3333333333333333, \"#9c179e\"], [0.4444444444444444, \"#bd3786\"], [0.5555555555555556, \"#d8576b\"], [0.6666666666666666, \"#ed7953\"], [0.7777777777777778, \"#fb9f3a\"], [0.8888888888888888, \"#fdca26\"], [1.0, \"#f0f921\"]], \"type\": \"histogram2dcontour\"}], \"mesh3d\": [{\"colorbar\": {\"outlinewidth\": 0, \"ticks\": \"\"}, \"type\": \"mesh3d\"}], \"parcoords\": [{\"line\": {\"colorbar\": {\"outlinewidth\": 0, \"ticks\": \"\"}}, \"type\": \"parcoords\"}], \"pie\": [{\"automargin\": true, \"type\": \"pie\"}], \"scatter\": [{\"marker\": {\"colorbar\": {\"outlinewidth\": 0, \"ticks\": \"\"}}, \"type\": \"scatter\"}], \"scatter3d\": [{\"line\": {\"colorbar\": {\"outlinewidth\": 0, \"ticks\": \"\"}}, \"marker\": {\"colorbar\": {\"outlinewidth\": 0, \"ticks\": \"\"}}, \"type\": \"scatter3d\"}], \"scattercarpet\": [{\"marker\": {\"colorbar\": {\"outlinewidth\": 0, \"ticks\": \"\"}}, \"type\": \"scattercarpet\"}], \"scattergeo\": [{\"marker\": {\"colorbar\": {\"outlinewidth\": 0, \"ticks\": \"\"}}, \"type\": \"scattergeo\"}], \"scattergl\": [{\"marker\": {\"colorbar\": {\"outlinewidth\": 0, \"ticks\": \"\"}}, \"type\": \"scattergl\"}], \"scattermapbox\": [{\"marker\": {\"colorbar\": {\"outlinewidth\": 0, \"ticks\": \"\"}}, \"type\": \"scattermapbox\"}], \"scatterpolar\": [{\"marker\": {\"colorbar\": {\"outlinewidth\": 0, \"ticks\": \"\"}}, \"type\": \"scatterpolar\"}], \"scatterpolargl\": [{\"marker\": {\"colorbar\": {\"outlinewidth\": 0, \"ticks\": \"\"}}, \"type\": \"scatterpolargl\"}], \"scatterternary\": [{\"marker\": {\"colorbar\": {\"outlinewidth\": 0, \"ticks\": \"\"}}, \"type\": \"scatterternary\"}], \"surface\": [{\"colorbar\": {\"outlinewidth\": 0, \"ticks\": \"\"}, \"colorscale\": [[0.0, \"#0d0887\"], [0.1111111111111111, \"#46039f\"], [0.2222222222222222, \"#7201a8\"], [0.3333333333333333, \"#9c179e\"], [0.4444444444444444, \"#bd3786\"], [0.5555555555555556, \"#d8576b\"], [0.6666666666666666, \"#ed7953\"], [0.7777777777777778, \"#fb9f3a\"], [0.8888888888888888, \"#fdca26\"], [1.0, \"#f0f921\"]], \"type\": \"surface\"}], \"table\": [{\"cells\": {\"fill\": {\"color\": \"#EBF0F8\"}, \"line\": {\"color\": \"white\"}}, \"header\": {\"fill\": {\"color\": \"#C8D4E3\"}, \"line\": {\"color\": \"white\"}}, \"type\": \"table\"}]}, \"layout\": {\"annotationdefaults\": {\"arrowcolor\": \"#2a3f5f\", \"arrowhead\": 0, \"arrowwidth\": 1}, \"coloraxis\": {\"colorbar\": {\"outlinewidth\": 0, \"ticks\": \"\"}}, \"colorscale\": {\"diverging\": [[0, \"#8e0152\"], [0.1, \"#c51b7d\"], [0.2, \"#de77ae\"], [0.3, \"#f1b6da\"], [0.4, \"#fde0ef\"], [0.5, \"#f7f7f7\"], [0.6, \"#e6f5d0\"], [0.7, \"#b8e186\"], [0.8, \"#7fbc41\"], [0.9, \"#4d9221\"], [1, \"#276419\"]], \"sequential\": [[0.0, \"#0d0887\"], [0.1111111111111111, \"#46039f\"], [0.2222222222222222, \"#7201a8\"], [0.3333333333333333, \"#9c179e\"], [0.4444444444444444, \"#bd3786\"], [0.5555555555555556, \"#d8576b\"], [0.6666666666666666, \"#ed7953\"], [0.7777777777777778, \"#fb9f3a\"], [0.8888888888888888, \"#fdca26\"], [1.0, \"#f0f921\"]], \"sequentialminus\": [[0.0, \"#0d0887\"], [0.1111111111111111, \"#46039f\"], [0.2222222222222222, \"#7201a8\"], [0.3333333333333333, \"#9c179e\"], [0.4444444444444444, \"#bd3786\"], [0.5555555555555556, \"#d8576b\"], [0.6666666666666666, \"#ed7953\"], [0.7777777777777778, \"#fb9f3a\"], [0.8888888888888888, \"#fdca26\"], [1.0, \"#f0f921\"]]}, \"colorway\": [\"#636efa\", \"#EF553B\", \"#00cc96\", \"#ab63fa\", \"#FFA15A\", \"#19d3f3\", \"#FF6692\", \"#B6E880\", \"#FF97FF\", \"#FECB52\"], \"font\": {\"color\": \"#2a3f5f\"}, \"geo\": {\"bgcolor\": \"white\", \"lakecolor\": \"white\", \"landcolor\": \"#E5ECF6\", \"showlakes\": true, \"showland\": true, \"subunitcolor\": \"white\"}, \"hoverlabel\": {\"align\": \"left\"}, \"hovermode\": \"closest\", \"mapbox\": {\"style\": \"light\"}, \"paper_bgcolor\": \"white\", \"plot_bgcolor\": \"#E5ECF6\", \"polar\": {\"angularaxis\": {\"gridcolor\": \"white\", \"linecolor\": \"white\", \"ticks\": \"\"}, \"bgcolor\": \"#E5ECF6\", \"radialaxis\": {\"gridcolor\": \"white\", \"linecolor\": \"white\", \"ticks\": \"\"}}, \"scene\": {\"xaxis\": {\"backgroundcolor\": \"#E5ECF6\", \"gridcolor\": \"white\", \"gridwidth\": 2, \"linecolor\": \"white\", \"showbackground\": true, \"ticks\": \"\", \"zerolinecolor\": \"white\"}, \"yaxis\": {\"backgroundcolor\": \"#E5ECF6\", \"gridcolor\": \"white\", \"gridwidth\": 2, \"linecolor\": \"white\", \"showbackground\": true, \"ticks\": \"\", \"zerolinecolor\": \"white\"}, \"zaxis\": {\"backgroundcolor\": \"#E5ECF6\", \"gridcolor\": \"white\", \"gridwidth\": 2, \"linecolor\": \"white\", \"showbackground\": true, \"ticks\": \"\", \"zerolinecolor\": \"white\"}}, \"shapedefaults\": {\"line\": {\"color\": \"#2a3f5f\"}}, \"ternary\": {\"aaxis\": {\"gridcolor\": \"white\", \"linecolor\": \"white\", \"ticks\": \"\"}, \"baxis\": {\"gridcolor\": \"white\", \"linecolor\": \"white\", \"ticks\": \"\"}, \"bgcolor\": \"#E5ECF6\", \"caxis\": {\"gridcolor\": \"white\", \"linecolor\": \"white\", \"ticks\": \"\"}}, \"title\": {\"x\": 0.05}, \"xaxis\": {\"automargin\": true, \"gridcolor\": \"white\", \"linecolor\": \"white\", \"ticks\": \"\", \"title\": {\"standoff\": 15}, \"zerolinecolor\": \"white\", \"zerolinewidth\": 2}, \"yaxis\": {\"automargin\": true, \"gridcolor\": \"white\", \"linecolor\": \"white\", \"ticks\": \"\", \"title\": {\"standoff\": 15}, \"zerolinecolor\": \"white\", \"zerolinewidth\": 2}}}, \"title\": {\"text\": \"Weighted Price with Range Slider and Selectors\"}, \"xaxis\": {\"anchor\": \"y\", \"domain\": [0.0, 1.0], \"rangeselector\": {\"buttons\": [{\"count\": 1, \"label\": \"1m\", \"step\": \"month\", \"stepmode\": \"backward\"}, {\"count\": 6, \"label\": \"6m\", \"step\": \"month\", \"stepmode\": \"backward\"}, {\"count\": 1, \"label\": \"1y\", \"step\": \"year\", \"stepmode\": \"backward\"}, {\"count\": 2, \"label\": \"2y\", \"step\": \"year\", \"stepmode\": \"backward\"}, {\"step\": \"all\"}]}, \"rangeslider\": {\"visible\": true}, \"title\": {\"text\": \"Timestamp\"}}, \"yaxis\": {\"anchor\": \"x\", \"domain\": [0.0, 1.0], \"title\": {\"text\": \"Weighted_Price\"}}},\n",
              "                        {\"responsive\": true}\n",
              "                    ).then(function(){\n",
              "                            \n",
              "var gd = document.getElementById('a77568ae-688c-4ec2-abf7-8cbd35b7b495');\n",
              "var x = new MutationObserver(function (mutations, observer) {{\n",
              "        var display = window.getComputedStyle(gd).display;\n",
              "        if (!display || display === 'none') {{\n",
              "            console.log([gd, 'removed!']);\n",
              "            Plotly.purge(gd);\n",
              "            observer.disconnect();\n",
              "        }}\n",
              "}});\n",
              "\n",
              "// Listen for the removal of the full notebook cells\n",
              "var notebookContainer = gd.closest('#notebook-container');\n",
              "if (notebookContainer) {{\n",
              "    x.observe(notebookContainer, {childList: true});\n",
              "}}\n",
              "\n",
              "// Listen for the clearing of the current output cell\n",
              "var outputEl = gd.closest('.output');\n",
              "if (outputEl) {{\n",
              "    x.observe(outputEl, {childList: true});\n",
              "}}\n",
              "\n",
              "                        })\n",
              "                };\n",
              "                \n",
              "            </script>\n",
              "        </div>\n",
              "</body>\n",
              "</html>"
            ]
          },
          "metadata": {
            "tags": []
          }
        }
      ]
    },
    {
      "cell_type": "code",
      "metadata": {
        "colab": {
          "background_save": true
        },
        "id": "aQ15kMbM61kb"
      },
      "source": [
        "from statsmodels.tsa.seasonal import seasonal_decompose\n",
        "from statsmodels.tsa.stattools import kpss\n",
        "from statsmodels.tsa.stattools import adfuller\n",
        "from statsmodels.graphics.tsaplots import plot_acf, plot_pacf"
      ],
      "execution_count": null,
      "outputs": []
    },
    {
      "cell_type": "code",
      "metadata": {
        "colab": {
          "base_uri": "https://localhost:8080/"
        },
        "id": "QTIEpO0I7sxt",
        "outputId": "60d72b0e-bbd7-488b-9d01-c037acef661b"
      },
      "source": [
        "fill_missing(bitstamp_daily)"
      ],
      "execution_count": null,
      "outputs": [
        {
          "output_type": "stream",
          "text": [
            "   Timestamp      Open  ...  Volume_(Currency)  Weighted_Price\n",
            "0 2011-12-31  4.476415  ...          79.495594        4.477370\n",
            "1 2012-01-01  4.765576  ...          32.971105        4.765576\n",
            "2 2012-01-02  5.006549  ...          75.932706        5.006549\n",
            "3 2012-01-03  5.206530  ...          40.795994        5.206530\n",
            "4 2012-01-04  5.202511  ...          72.860096        5.216680\n",
            "\n",
            "[5 rows x 8 columns]\n",
            "Timestamp            0\n",
            "Open                 0\n",
            "High                 0\n",
            "Low                  0\n",
            "Close                0\n",
            "Volume_(BTC)         0\n",
            "Volume_(Currency)    0\n",
            "Weighted_Price       0\n",
            "dtype: int64\n"
          ],
          "name": "stdout"
        }
      ]
    },
    {
      "cell_type": "code",
      "metadata": {
        "colab": {
          "base_uri": "https://localhost:8080/",
          "height": 593
        },
        "id": "zvvW8d0I7wy0",
        "outputId": "2d9160a9-326b-4457-dbbd-697cae67d9d7"
      },
      "source": [
        "plt.figure(figsize=(15,12))\n",
        "series = bitstamp_daily.Weighted_Price\n",
        "result = seasonal_decompose(series, model='additive',freq=1)\n",
        "result.plot()"
      ],
      "execution_count": null,
      "outputs": [
        {
          "output_type": "execute_result",
          "data": {
            "image/png": "[encoded data removed]",
            "text/plain": [
              "<Figure size 432x288 with 4 Axes>"
            ]
          },
          "metadata": {
            "tags": []
          },
          "execution_count": 25
        },
        {
          "output_type": "display_data",
          "data": {
            "text/plain": [
              "<Figure size 1080x864 with 0 Axes>"
            ]
          },
          "metadata": {
            "tags": []
          }
        },
        {
          "output_type": "display_data",
          "data": {
            "image/png": "[encoded data removed]",
            "text/plain": [
              "<Figure size 432x288 with 4 Axes>"
            ]
          },
          "metadata": {
            "tags": []
          }
        }
      ]
    },
    {
      "cell_type": "code",
      "metadata": {
        "id": "aD8eEK1f71P5"
      },
      "source": [
        "df = bitstamp_daily.set_index(\"Timestamp\")"
      ],
      "execution_count": null,
      "outputs": []
    },
    {
      "cell_type": "code",
      "metadata": {
        "colab": {
          "base_uri": "https://localhost:8080/",
          "height": 386
        },
        "id": "qR0yGuUl9D6F",
        "outputId": "29727a58-d6e2-41c7-bf8f-f4db491fbc46"
      },
      "source": [
        "df.reset_index(drop=False, inplace=True)\n",
        "\n",
        "lag_features = [\"Open\", \"High\", \"Low\", \"Close\",\"Volume_(BTC)\"]\n",
        "window1 = 3\n",
        "window2 = 7\n",
        "window3 = 30\n",
        "\n",
        "df_rolled_3d = df[lag_features].rolling(window=window1, min_periods=0)\n",
        "df_rolled_7d = df[lag_features].rolling(window=window2, min_periods=0)\n",
        "df_rolled_30d = df[lag_features].rolling(window=window3, min_periods=0)\n",
        "\n",
        "df_mean_3d = df_rolled_3d.mean().shift(1).reset_index()\n",
        "df_mean_7d = df_rolled_7d.mean().shift(1).reset_index()\n",
        "df_mean_30d = df_rolled_30d.mean().shift(1).reset_index()\n",
        "\n",
        "df_std_3d = df_rolled_3d.std().shift(1).reset_index()\n",
        "df_std_7d = df_rolled_7d.std().shift(1).reset_index()\n",
        "df_std_30d = df_rolled_30d.std().shift(1).reset_index()\n",
        "\n",
        "for feature in lag_features:\n",
        "    df[f\"{feature}_mean_lag{window1}\"] = df_mean_3d[feature]\n",
        "    df[f\"{feature}_mean_lag{window2}\"] = df_mean_7d[feature]\n",
        "    df[f\"{feature}_mean_lag{window3}\"] = df_mean_30d[feature]\n",
        "    \n",
        "    df[f\"{feature}_std_lag{window1}\"] = df_std_3d[feature]\n",
        "    df[f\"{feature}_std_lag{window2}\"] = df_std_7d[feature]\n",
        "    df[f\"{feature}_std_lag{window3}\"] = df_std_30d[feature]\n",
        "\n",
        "df.fillna(df.mean(), inplace=True)\n",
        "\n",
        "df.set_index(\"Timestamp\", drop=False, inplace=True)\n",
        "df.head()"
      ],
      "execution_count": null,
      "outputs": [
        {
          "output_type": "stream",
          "text": [
            "/usr/local/lib/python3.7/dist-packages/ipykernel_launcher.py:29: FutureWarning:\n",
            "\n",
            "DataFrame.mean and DataFrame.median with numeric_only=None will include datetime64 and datetime64tz columns in a future version.\n",
            "\n"
          ],
          "name": "stderr"
        },
        {
          "output_type": "execute_result",
          "data": {
            "text/html": [
              "<div>\n",
              "<style scoped>\n",
              "    .dataframe tbody tr th:only-of-type {\n",
              "        vertical-align: middle;\n",
              "    }\n",
              "\n",
              "    .dataframe tbody tr th {\n",
              "        vertical-align: top;\n",
              "    }\n",
              "\n",
              "    .dataframe thead th {\n",
              "        text-align: right;\n",
              "    }\n",
              "</style>\n",
              "<table border=\"1\" class=\"dataframe\">\n",
              "  <thead>\n",
              "    <tr style=\"text-align: right;\">\n",
              "      <th></th>\n",
              "      <th>Timestamp</th>\n",
              "      <th>Open</th>\n",
              "      <th>High</th>\n",
              "      <th>Low</th>\n",
              "      <th>Close</th>\n",
              "      <th>Volume_(BTC)</th>\n",
              "      <th>Volume_(Currency)</th>\n",
              "      <th>Weighted_Price</th>\n",
              "      <th>Open_mean_lag3</th>\n",
              "      <th>Open_mean_lag7</th>\n",
              "      <th>Open_mean_lag30</th>\n",
              "      <th>Open_std_lag3</th>\n",
              "      <th>Open_std_lag7</th>\n",
              "      <th>Open_std_lag30</th>\n",
              "      <th>High_mean_lag3</th>\n",
              "      <th>High_mean_lag7</th>\n",
              "      <th>High_mean_lag30</th>\n",
              "      <th>High_std_lag3</th>\n",
              "      <th>High_std_lag7</th>\n",
              "      <th>High_std_lag30</th>\n",
              "      <th>Low_mean_lag3</th>\n",
              "      <th>Low_mean_lag7</th>\n",
              "      <th>Low_mean_lag30</th>\n",
              "      <th>Low_std_lag3</th>\n",
              "      <th>Low_std_lag7</th>\n",
              "      <th>Low_std_lag30</th>\n",
              "      <th>Close_mean_lag3</th>\n",
              "      <th>Close_mean_lag7</th>\n",
              "      <th>Close_mean_lag30</th>\n",
              "      <th>Close_std_lag3</th>\n",
              "      <th>Close_std_lag7</th>\n",
              "      <th>Close_std_lag30</th>\n",
              "      <th>Volume_(BTC)_mean_lag3</th>\n",
              "      <th>Volume_(BTC)_mean_lag7</th>\n",
              "      <th>Volume_(BTC)_mean_lag30</th>\n",
              "      <th>Volume_(BTC)_std_lag3</th>\n",
              "      <th>Volume_(BTC)_std_lag7</th>\n",
              "      <th>Volume_(BTC)_std_lag30</th>\n",
              "    </tr>\n",
              "    <tr>\n",
              "      <th>Timestamp</th>\n",
              "      <th></th>\n",
              "      <th></th>\n",
              "      <th></th>\n",
              "      <th></th>\n",
              "      <th></th>\n",
              "      <th></th>\n",
              "      <th></th>\n",
              "      <th></th>\n",
              "      <th></th>\n",
              "      <th></th>\n",
              "      <th></th>\n",
              "      <th></th>\n",
              "      <th></th>\n",
              "      <th></th>\n",
              "      <th></th>\n",
              "      <th></th>\n",
              "      <th></th>\n",
              "      <th></th>\n",
              "      <th></th>\n",
              "      <th></th>\n",
              "      <th></th>\n",
              "      <th></th>\n",
              "      <th></th>\n",
              "      <th></th>\n",
              "      <th></th>\n",
              "      <th></th>\n",
              "      <th></th>\n",
              "      <th></th>\n",
              "      <th></th>\n",
              "      <th></th>\n",
              "      <th></th>\n",
              "      <th></th>\n",
              "      <th></th>\n",
              "      <th></th>\n",
              "      <th></th>\n",
              "      <th></th>\n",
              "      <th></th>\n",
              "      <th></th>\n",
              "    </tr>\n",
              "  </thead>\n",
              "  <tbody>\n",
              "    <tr>\n",
              "      <th>2011-12-31</th>\n",
              "      <td>2011-12-31</td>\n",
              "      <td>4.476415</td>\n",
              "      <td>4.478946</td>\n",
              "      <td>4.476415</td>\n",
              "      <td>4.478946</td>\n",
              "      <td>17.940426</td>\n",
              "      <td>79.495594</td>\n",
              "      <td>4.477370</td>\n",
              "      <td>4568.640649</td>\n",
              "      <td>4535.780516</td>\n",
              "      <td>4345.894567</td>\n",
              "      <td>112.747300</td>\n",
              "      <td>185.756731</td>\n",
              "      <td>417.815555</td>\n",
              "      <td>4571.885362</td>\n",
              "      <td>4539.008161</td>\n",
              "      <td>4348.997943</td>\n",
              "      <td>112.652701</td>\n",
              "      <td>185.712557</td>\n",
              "      <td>418.084846</td>\n",
              "      <td>4565.245136</td>\n",
              "      <td>4532.401155</td>\n",
              "      <td>4342.638584</td>\n",
              "      <td>112.823368</td>\n",
              "      <td>185.780221</td>\n",
              "      <td>417.508433</td>\n",
              "      <td>4568.632842</td>\n",
              "      <td>4535.771729</td>\n",
              "      <td>4345.881445</td>\n",
              "      <td>112.744372</td>\n",
              "      <td>185.758045</td>\n",
              "      <td>417.825217</td>\n",
              "      <td>9.579974</td>\n",
              "      <td>9.586140</td>\n",
              "      <td>9.601214</td>\n",
              "      <td>3.444517</td>\n",
              "      <td>4.196693</td>\n",
              "      <td>5.179093</td>\n",
              "    </tr>\n",
              "    <tr>\n",
              "      <th>2012-01-01</th>\n",
              "      <td>2012-01-01</td>\n",
              "      <td>4.765576</td>\n",
              "      <td>4.765576</td>\n",
              "      <td>4.765576</td>\n",
              "      <td>4.765576</td>\n",
              "      <td>6.790640</td>\n",
              "      <td>32.971105</td>\n",
              "      <td>4.765576</td>\n",
              "      <td>4.476415</td>\n",
              "      <td>4.476415</td>\n",
              "      <td>4.476415</td>\n",
              "      <td>112.747300</td>\n",
              "      <td>185.756731</td>\n",
              "      <td>417.815555</td>\n",
              "      <td>4.478946</td>\n",
              "      <td>4.478946</td>\n",
              "      <td>4.478946</td>\n",
              "      <td>112.652701</td>\n",
              "      <td>185.712557</td>\n",
              "      <td>418.084846</td>\n",
              "      <td>4.476415</td>\n",
              "      <td>4.476415</td>\n",
              "      <td>4.476415</td>\n",
              "      <td>112.823368</td>\n",
              "      <td>185.780221</td>\n",
              "      <td>417.508433</td>\n",
              "      <td>4.478946</td>\n",
              "      <td>4.478946</td>\n",
              "      <td>4.478946</td>\n",
              "      <td>112.744372</td>\n",
              "      <td>185.758045</td>\n",
              "      <td>417.825217</td>\n",
              "      <td>17.940426</td>\n",
              "      <td>17.940426</td>\n",
              "      <td>17.940426</td>\n",
              "      <td>3.444517</td>\n",
              "      <td>4.196693</td>\n",
              "      <td>5.179093</td>\n",
              "    </tr>\n",
              "    <tr>\n",
              "      <th>2012-01-02</th>\n",
              "      <td>2012-01-02</td>\n",
              "      <td>5.006549</td>\n",
              "      <td>5.006549</td>\n",
              "      <td>5.006549</td>\n",
              "      <td>5.006549</td>\n",
              "      <td>15.183373</td>\n",
              "      <td>75.932706</td>\n",
              "      <td>5.006549</td>\n",
              "      <td>4.620996</td>\n",
              "      <td>4.620996</td>\n",
              "      <td>4.620996</td>\n",
              "      <td>0.204468</td>\n",
              "      <td>0.204468</td>\n",
              "      <td>0.204468</td>\n",
              "      <td>4.622261</td>\n",
              "      <td>4.622261</td>\n",
              "      <td>4.622261</td>\n",
              "      <td>0.202678</td>\n",
              "      <td>0.202678</td>\n",
              "      <td>0.202678</td>\n",
              "      <td>4.620996</td>\n",
              "      <td>4.620996</td>\n",
              "      <td>4.620996</td>\n",
              "      <td>0.204468</td>\n",
              "      <td>0.204468</td>\n",
              "      <td>0.204468</td>\n",
              "      <td>4.622261</td>\n",
              "      <td>4.622261</td>\n",
              "      <td>4.622261</td>\n",
              "      <td>0.202678</td>\n",
              "      <td>0.202678</td>\n",
              "      <td>0.202678</td>\n",
              "      <td>12.365533</td>\n",
              "      <td>12.365533</td>\n",
              "      <td>12.365533</td>\n",
              "      <td>7.884089</td>\n",
              "      <td>7.884089</td>\n",
              "      <td>7.884089</td>\n",
              "    </tr>\n",
              "    <tr>\n",
              "      <th>2012-01-03</th>\n",
              "      <td>2012-01-03</td>\n",
              "      <td>5.206530</td>\n",
              "      <td>5.206530</td>\n",
              "      <td>5.206530</td>\n",
              "      <td>5.206530</td>\n",
              "      <td>7.917041</td>\n",
              "      <td>40.795994</td>\n",
              "      <td>5.206530</td>\n",
              "      <td>4.749513</td>\n",
              "      <td>4.749513</td>\n",
              "      <td>4.749513</td>\n",
              "      <td>0.265431</td>\n",
              "      <td>0.265431</td>\n",
              "      <td>0.265431</td>\n",
              "      <td>4.750357</td>\n",
              "      <td>4.750357</td>\n",
              "      <td>4.750357</td>\n",
              "      <td>0.264130</td>\n",
              "      <td>0.264130</td>\n",
              "      <td>0.264130</td>\n",
              "      <td>4.749513</td>\n",
              "      <td>4.749513</td>\n",
              "      <td>4.749513</td>\n",
              "      <td>0.265431</td>\n",
              "      <td>0.265431</td>\n",
              "      <td>0.265431</td>\n",
              "      <td>4.750357</td>\n",
              "      <td>4.750357</td>\n",
              "      <td>4.750357</td>\n",
              "      <td>0.264130</td>\n",
              "      <td>0.264130</td>\n",
              "      <td>0.264130</td>\n",
              "      <td>13.304813</td>\n",
              "      <td>13.304813</td>\n",
              "      <td>13.304813</td>\n",
              "      <td>5.807423</td>\n",
              "      <td>5.807423</td>\n",
              "      <td>5.807423</td>\n",
              "    </tr>\n",
              "    <tr>\n",
              "      <th>2012-01-04</th>\n",
              "      <td>2012-01-04</td>\n",
              "      <td>5.202511</td>\n",
              "      <td>5.241699</td>\n",
              "      <td>5.202511</td>\n",
              "      <td>5.241699</td>\n",
              "      <td>13.659736</td>\n",
              "      <td>72.860096</td>\n",
              "      <td>5.216680</td>\n",
              "      <td>4.992885</td>\n",
              "      <td>4.863768</td>\n",
              "      <td>4.863768</td>\n",
              "      <td>0.220794</td>\n",
              "      <td>0.314937</td>\n",
              "      <td>0.314937</td>\n",
              "      <td>4.992885</td>\n",
              "      <td>4.864400</td>\n",
              "      <td>4.864400</td>\n",
              "      <td>0.220794</td>\n",
              "      <td>0.313900</td>\n",
              "      <td>0.313900</td>\n",
              "      <td>4.992885</td>\n",
              "      <td>4.863768</td>\n",
              "      <td>4.863768</td>\n",
              "      <td>0.220794</td>\n",
              "      <td>0.314937</td>\n",
              "      <td>0.314937</td>\n",
              "      <td>4.992885</td>\n",
              "      <td>4.864400</td>\n",
              "      <td>4.864400</td>\n",
              "      <td>0.220794</td>\n",
              "      <td>0.313900</td>\n",
              "      <td>0.313900</td>\n",
              "      <td>9.963685</td>\n",
              "      <td>11.957870</td>\n",
              "      <td>11.957870</td>\n",
              "      <td>4.555332</td>\n",
              "      <td>5.453543</td>\n",
              "      <td>5.453543</td>\n",
              "    </tr>\n",
              "  </tbody>\n",
              "</table>\n",
              "</div>"
            ],
            "text/plain": [
              "            Timestamp      Open  ...  Volume_(BTC)_std_lag7  Volume_(BTC)_std_lag30\n",
              "Timestamp                        ...                                               \n",
              "2011-12-31 2011-12-31  4.476415  ...               4.196693                5.179093\n",
              "2012-01-01 2012-01-01  4.765576  ...               4.196693                5.179093\n",
              "2012-01-02 2012-01-02  5.006549  ...               7.884089                7.884089\n",
              "2012-01-03 2012-01-03  5.206530  ...               5.807423                5.807423\n",
              "2012-01-04 2012-01-04  5.202511  ...               5.453543                5.453543\n",
              "\n",
              "[5 rows x 38 columns]"
            ]
          },
          "metadata": {
            "tags": []
          },
          "execution_count": 27
        }
      ]
    },
    {
      "cell_type": "code",
      "metadata": {
        "colab": {
          "base_uri": "https://localhost:8080/",
          "height": 386
        },
        "id": "QQ2pSnfa9I9v",
        "outputId": "b0be4bf7-74db-4bb4-dd1a-f09e8519b1d4"
      },
      "source": [
        "df[\"month\"] = df.Timestamp.dt.month\n",
        "df[\"week\"] = df.Timestamp.dt.week\n",
        "df[\"day\"] = df.Timestamp.dt.day\n",
        "df[\"day_of_week\"] = df.Timestamp.dt.dayofweek\n",
        "df.head()"
      ],
      "execution_count": null,
      "outputs": [
        {
          "output_type": "stream",
          "text": [
            "/usr/local/lib/python3.7/dist-packages/ipykernel_launcher.py:2: FutureWarning:\n",
            "\n",
            "Series.dt.weekofyear and Series.dt.week have been deprecated.  Please use Series.dt.isocalendar().week instead.\n",
            "\n"
          ],
          "name": "stderr"
        },
        {
          "output_type": "execute_result",
          "data": {
            "text/html": [
              "<div>\n",
              "<style scoped>\n",
              "    .dataframe tbody tr th:only-of-type {\n",
              "        vertical-align: middle;\n",
              "    }\n",
              "\n",
              "    .dataframe tbody tr th {\n",
              "        vertical-align: top;\n",
              "    }\n",
              "\n",
              "    .dataframe thead th {\n",
              "        text-align: right;\n",
              "    }\n",
              "</style>\n",
              "<table border=\"1\" class=\"dataframe\">\n",
              "  <thead>\n",
              "    <tr style=\"text-align: right;\">\n",
              "      <th></th>\n",
              "      <th>Timestamp</th>\n",
              "      <th>Open</th>\n",
              "      <th>High</th>\n",
              "      <th>Low</th>\n",
              "      <th>Close</th>\n",
              "      <th>Volume_(BTC)</th>\n",
              "      <th>Volume_(Currency)</th>\n",
              "      <th>Weighted_Price</th>\n",
              "      <th>Open_mean_lag3</th>\n",
              "      <th>Open_mean_lag7</th>\n",
              "      <th>Open_mean_lag30</th>\n",
              "      <th>Open_std_lag3</th>\n",
              "      <th>Open_std_lag7</th>\n",
              "      <th>Open_std_lag30</th>\n",
              "      <th>High_mean_lag3</th>\n",
              "      <th>High_mean_lag7</th>\n",
              "      <th>High_mean_lag30</th>\n",
              "      <th>High_std_lag3</th>\n",
              "      <th>High_std_lag7</th>\n",
              "      <th>High_std_lag30</th>\n",
              "      <th>Low_mean_lag3</th>\n",
              "      <th>Low_mean_lag7</th>\n",
              "      <th>Low_mean_lag30</th>\n",
              "      <th>Low_std_lag3</th>\n",
              "      <th>Low_std_lag7</th>\n",
              "      <th>Low_std_lag30</th>\n",
              "      <th>Close_mean_lag3</th>\n",
              "      <th>Close_mean_lag7</th>\n",
              "      <th>Close_mean_lag30</th>\n",
              "      <th>Close_std_lag3</th>\n",
              "      <th>Close_std_lag7</th>\n",
              "      <th>Close_std_lag30</th>\n",
              "      <th>Volume_(BTC)_mean_lag3</th>\n",
              "      <th>Volume_(BTC)_mean_lag7</th>\n",
              "      <th>Volume_(BTC)_mean_lag30</th>\n",
              "      <th>Volume_(BTC)_std_lag3</th>\n",
              "      <th>Volume_(BTC)_std_lag7</th>\n",
              "      <th>Volume_(BTC)_std_lag30</th>\n",
              "      <th>month</th>\n",
              "      <th>week</th>\n",
              "      <th>day</th>\n",
              "      <th>day_of_week</th>\n",
              "    </tr>\n",
              "    <tr>\n",
              "      <th>Timestamp</th>\n",
              "      <th></th>\n",
              "      <th></th>\n",
              "      <th></th>\n",
              "      <th></th>\n",
              "      <th></th>\n",
              "      <th></th>\n",
              "      <th></th>\n",
              "      <th></th>\n",
              "      <th></th>\n",
              "      <th></th>\n",
              "      <th></th>\n",
              "      <th></th>\n",
              "      <th></th>\n",
              "      <th></th>\n",
              "      <th></th>\n",
              "      <th></th>\n",
              "      <th></th>\n",
              "      <th></th>\n",
              "      <th></th>\n",
              "      <th></th>\n",
              "      <th></th>\n",
              "      <th></th>\n",
              "      <th></th>\n",
              "      <th></th>\n",
              "      <th></th>\n",
              "      <th></th>\n",
              "      <th></th>\n",
              "      <th></th>\n",
              "      <th></th>\n",
              "      <th></th>\n",
              "      <th></th>\n",
              "      <th></th>\n",
              "      <th></th>\n",
              "      <th></th>\n",
              "      <th></th>\n",
              "      <th></th>\n",
              "      <th></th>\n",
              "      <th></th>\n",
              "      <th></th>\n",
              "      <th></th>\n",
              "      <th></th>\n",
              "      <th></th>\n",
              "    </tr>\n",
              "  </thead>\n",
              "  <tbody>\n",
              "    <tr>\n",
              "      <th>2011-12-31</th>\n",
              "      <td>2011-12-31</td>\n",
              "      <td>4.476415</td>\n",
              "      <td>4.478946</td>\n",
              "      <td>4.476415</td>\n",
              "      <td>4.478946</td>\n",
              "      <td>17.940426</td>\n",
              "      <td>79.495594</td>\n",
              "      <td>4.477370</td>\n",
              "      <td>4568.640649</td>\n",
              "      <td>4535.780516</td>\n",
              "      <td>4345.894567</td>\n",
              "      <td>112.747300</td>\n",
              "      <td>185.756731</td>\n",
              "      <td>417.815555</td>\n",
              "      <td>4571.885362</td>\n",
              "      <td>4539.008161</td>\n",
              "      <td>4348.997943</td>\n",
              "      <td>112.652701</td>\n",
              "      <td>185.712557</td>\n",
              "      <td>418.084846</td>\n",
              "      <td>4565.245136</td>\n",
              "      <td>4532.401155</td>\n",
              "      <td>4342.638584</td>\n",
              "      <td>112.823368</td>\n",
              "      <td>185.780221</td>\n",
              "      <td>417.508433</td>\n",
              "      <td>4568.632842</td>\n",
              "      <td>4535.771729</td>\n",
              "      <td>4345.881445</td>\n",
              "      <td>112.744372</td>\n",
              "      <td>185.758045</td>\n",
              "      <td>417.825217</td>\n",
              "      <td>9.579974</td>\n",
              "      <td>9.586140</td>\n",
              "      <td>9.601214</td>\n",
              "      <td>3.444517</td>\n",
              "      <td>4.196693</td>\n",
              "      <td>5.179093</td>\n",
              "      <td>12</td>\n",
              "      <td>52</td>\n",
              "      <td>31</td>\n",
              "      <td>5</td>\n",
              "    </tr>\n",
              "    <tr>\n",
              "      <th>2012-01-01</th>\n",
              "      <td>2012-01-01</td>\n",
              "      <td>4.765576</td>\n",
              "      <td>4.765576</td>\n",
              "      <td>4.765576</td>\n",
              "      <td>4.765576</td>\n",
              "      <td>6.790640</td>\n",
              "      <td>32.971105</td>\n",
              "      <td>4.765576</td>\n",
              "      <td>4.476415</td>\n",
              "      <td>4.476415</td>\n",
              "      <td>4.476415</td>\n",
              "      <td>112.747300</td>\n",
              "      <td>185.756731</td>\n",
              "      <td>417.815555</td>\n",
              "      <td>4.478946</td>\n",
              "      <td>4.478946</td>\n",
              "      <td>4.478946</td>\n",
              "      <td>112.652701</td>\n",
              "      <td>185.712557</td>\n",
              "      <td>418.084846</td>\n",
              "      <td>4.476415</td>\n",
              "      <td>4.476415</td>\n",
              "      <td>4.476415</td>\n",
              "      <td>112.823368</td>\n",
              "      <td>185.780221</td>\n",
              "      <td>417.508433</td>\n",
              "      <td>4.478946</td>\n",
              "      <td>4.478946</td>\n",
              "      <td>4.478946</td>\n",
              "      <td>112.744372</td>\n",
              "      <td>185.758045</td>\n",
              "      <td>417.825217</td>\n",
              "      <td>17.940426</td>\n",
              "      <td>17.940426</td>\n",
              "      <td>17.940426</td>\n",
              "      <td>3.444517</td>\n",
              "      <td>4.196693</td>\n",
              "      <td>5.179093</td>\n",
              "      <td>1</td>\n",
              "      <td>52</td>\n",
              "      <td>1</td>\n",
              "      <td>6</td>\n",
              "    </tr>\n",
              "    <tr>\n",
              "      <th>2012-01-02</th>\n",
              "      <td>2012-01-02</td>\n",
              "      <td>5.006549</td>\n",
              "      <td>5.006549</td>\n",
              "      <td>5.006549</td>\n",
              "      <td>5.006549</td>\n",
              "      <td>15.183373</td>\n",
              "      <td>75.932706</td>\n",
              "      <td>5.006549</td>\n",
              "      <td>4.620996</td>\n",
              "      <td>4.620996</td>\n",
              "      <td>4.620996</td>\n",
              "      <td>0.204468</td>\n",
              "      <td>0.204468</td>\n",
              "      <td>0.204468</td>\n",
              "      <td>4.622261</td>\n",
              "      <td>4.622261</td>\n",
              "      <td>4.622261</td>\n",
              "      <td>0.202678</td>\n",
              "      <td>0.202678</td>\n",
              "      <td>0.202678</td>\n",
              "      <td>4.620996</td>\n",
              "      <td>4.620996</td>\n",
              "      <td>4.620996</td>\n",
              "      <td>0.204468</td>\n",
              "      <td>0.204468</td>\n",
              "      <td>0.204468</td>\n",
              "      <td>4.622261</td>\n",
              "      <td>4.622261</td>\n",
              "      <td>4.622261</td>\n",
              "      <td>0.202678</td>\n",
              "      <td>0.202678</td>\n",
              "      <td>0.202678</td>\n",
              "      <td>12.365533</td>\n",
              "      <td>12.365533</td>\n",
              "      <td>12.365533</td>\n",
              "      <td>7.884089</td>\n",
              "      <td>7.884089</td>\n",
              "      <td>7.884089</td>\n",
              "      <td>1</td>\n",
              "      <td>1</td>\n",
              "      <td>2</td>\n",
              "      <td>0</td>\n",
              "    </tr>\n",
              "    <tr>\n",
              "      <th>2012-01-03</th>\n",
              "      <td>2012-01-03</td>\n",
              "      <td>5.206530</td>\n",
              "      <td>5.206530</td>\n",
              "      <td>5.206530</td>\n",
              "      <td>5.206530</td>\n",
              "      <td>7.917041</td>\n",
              "      <td>40.795994</td>\n",
              "      <td>5.206530</td>\n",
              "      <td>4.749513</td>\n",
              "      <td>4.749513</td>\n",
              "      <td>4.749513</td>\n",
              "      <td>0.265431</td>\n",
              "      <td>0.265431</td>\n",
              "      <td>0.265431</td>\n",
              "      <td>4.750357</td>\n",
              "      <td>4.750357</td>\n",
              "      <td>4.750357</td>\n",
              "      <td>0.264130</td>\n",
              "      <td>0.264130</td>\n",
              "      <td>0.264130</td>\n",
              "      <td>4.749513</td>\n",
              "      <td>4.749513</td>\n",
              "      <td>4.749513</td>\n",
              "      <td>0.265431</td>\n",
              "      <td>0.265431</td>\n",
              "      <td>0.265431</td>\n",
              "      <td>4.750357</td>\n",
              "      <td>4.750357</td>\n",
              "      <td>4.750357</td>\n",
              "      <td>0.264130</td>\n",
              "      <td>0.264130</td>\n",
              "      <td>0.264130</td>\n",
              "      <td>13.304813</td>\n",
              "      <td>13.304813</td>\n",
              "      <td>13.304813</td>\n",
              "      <td>5.807423</td>\n",
              "      <td>5.807423</td>\n",
              "      <td>5.807423</td>\n",
              "      <td>1</td>\n",
              "      <td>1</td>\n",
              "      <td>3</td>\n",
              "      <td>1</td>\n",
              "    </tr>\n",
              "    <tr>\n",
              "      <th>2012-01-04</th>\n",
              "      <td>2012-01-04</td>\n",
              "      <td>5.202511</td>\n",
              "      <td>5.241699</td>\n",
              "      <td>5.202511</td>\n",
              "      <td>5.241699</td>\n",
              "      <td>13.659736</td>\n",
              "      <td>72.860096</td>\n",
              "      <td>5.216680</td>\n",
              "      <td>4.992885</td>\n",
              "      <td>4.863768</td>\n",
              "      <td>4.863768</td>\n",
              "      <td>0.220794</td>\n",
              "      <td>0.314937</td>\n",
              "      <td>0.314937</td>\n",
              "      <td>4.992885</td>\n",
              "      <td>4.864400</td>\n",
              "      <td>4.864400</td>\n",
              "      <td>0.220794</td>\n",
              "      <td>0.313900</td>\n",
              "      <td>0.313900</td>\n",
              "      <td>4.992885</td>\n",
              "      <td>4.863768</td>\n",
              "      <td>4.863768</td>\n",
              "      <td>0.220794</td>\n",
              "      <td>0.314937</td>\n",
              "      <td>0.314937</td>\n",
              "      <td>4.992885</td>\n",
              "      <td>4.864400</td>\n",
              "      <td>4.864400</td>\n",
              "      <td>0.220794</td>\n",
              "      <td>0.313900</td>\n",
              "      <td>0.313900</td>\n",
              "      <td>9.963685</td>\n",
              "      <td>11.957870</td>\n",
              "      <td>11.957870</td>\n",
              "      <td>4.555332</td>\n",
              "      <td>5.453543</td>\n",
              "      <td>5.453543</td>\n",
              "      <td>1</td>\n",
              "      <td>1</td>\n",
              "      <td>4</td>\n",
              "      <td>2</td>\n",
              "    </tr>\n",
              "  </tbody>\n",
              "</table>\n",
              "</div>"
            ],
            "text/plain": [
              "            Timestamp      Open      High  ...  week  day  day_of_week\n",
              "Timestamp                                  ...                        \n",
              "2011-12-31 2011-12-31  4.476415  4.478946  ...    52   31            5\n",
              "2012-01-01 2012-01-01  4.765576  4.765576  ...    52    1            6\n",
              "2012-01-02 2012-01-02  5.006549  5.006549  ...     1    2            0\n",
              "2012-01-03 2012-01-03  5.206530  5.206530  ...     1    3            1\n",
              "2012-01-04 2012-01-04  5.202511  5.241699  ...     1    4            2\n",
              "\n",
              "[5 rows x 42 columns]"
            ]
          },
          "metadata": {
            "tags": []
          },
          "execution_count": 28
        }
      ]
    },
    {
      "cell_type": "code",
      "metadata": {
        "colab": {
          "base_uri": "https://localhost:8080/",
          "height": 386
        },
        "id": "f3b2gmVV9O1i",
        "outputId": "a4ad9506-eec7-4975-c0a1-89b1ca04867a"
      },
      "source": [
        "df[\"month\"] = df.Timestamp.dt.month\n",
        "df[\"week\"] = df.Timestamp.dt.week\n",
        "df[\"day\"] = df.Timestamp.dt.day\n",
        "df[\"day_of_week\"] = df.Timestamp.dt.dayofweek\n",
        "df.head()"
      ],
      "execution_count": null,
      "outputs": [
        {
          "output_type": "stream",
          "text": [
            "/usr/local/lib/python3.7/dist-packages/ipykernel_launcher.py:2: FutureWarning:\n",
            "\n",
            "Series.dt.weekofyear and Series.dt.week have been deprecated.  Please use Series.dt.isocalendar().week instead.\n",
            "\n"
          ],
          "name": "stderr"
        },
        {
          "output_type": "execute_result",
          "data": {
            "text/html": [
              "<div>\n",
              "<style scoped>\n",
              "    .dataframe tbody tr th:only-of-type {\n",
              "        vertical-align: middle;\n",
              "    }\n",
              "\n",
              "    .dataframe tbody tr th {\n",
              "        vertical-align: top;\n",
              "    }\n",
              "\n",
              "    .dataframe thead th {\n",
              "        text-align: right;\n",
              "    }\n",
              "</style>\n",
              "<table border=\"1\" class=\"dataframe\">\n",
              "  <thead>\n",
              "    <tr style=\"text-align: right;\">\n",
              "      <th></th>\n",
              "      <th>Timestamp</th>\n",
              "      <th>Open</th>\n",
              "      <th>High</th>\n",
              "      <th>Low</th>\n",
              "      <th>Close</th>\n",
              "      <th>Volume_(BTC)</th>\n",
              "      <th>Volume_(Currency)</th>\n",
              "      <th>Weighted_Price</th>\n",
              "      <th>Open_mean_lag3</th>\n",
              "      <th>Open_mean_lag7</th>\n",
              "      <th>Open_mean_lag30</th>\n",
              "      <th>Open_std_lag3</th>\n",
              "      <th>Open_std_lag7</th>\n",
              "      <th>Open_std_lag30</th>\n",
              "      <th>High_mean_lag3</th>\n",
              "      <th>High_mean_lag7</th>\n",
              "      <th>High_mean_lag30</th>\n",
              "      <th>High_std_lag3</th>\n",
              "      <th>High_std_lag7</th>\n",
              "      <th>High_std_lag30</th>\n",
              "      <th>Low_mean_lag3</th>\n",
              "      <th>Low_mean_lag7</th>\n",
              "      <th>Low_mean_lag30</th>\n",
              "      <th>Low_std_lag3</th>\n",
              "      <th>Low_std_lag7</th>\n",
              "      <th>Low_std_lag30</th>\n",
              "      <th>Close_mean_lag3</th>\n",
              "      <th>Close_mean_lag7</th>\n",
              "      <th>Close_mean_lag30</th>\n",
              "      <th>Close_std_lag3</th>\n",
              "      <th>Close_std_lag7</th>\n",
              "      <th>Close_std_lag30</th>\n",
              "      <th>Volume_(BTC)_mean_lag3</th>\n",
              "      <th>Volume_(BTC)_mean_lag7</th>\n",
              "      <th>Volume_(BTC)_mean_lag30</th>\n",
              "      <th>Volume_(BTC)_std_lag3</th>\n",
              "      <th>Volume_(BTC)_std_lag7</th>\n",
              "      <th>Volume_(BTC)_std_lag30</th>\n",
              "      <th>month</th>\n",
              "      <th>week</th>\n",
              "      <th>day</th>\n",
              "      <th>day_of_week</th>\n",
              "    </tr>\n",
              "    <tr>\n",
              "      <th>Timestamp</th>\n",
              "      <th></th>\n",
              "      <th></th>\n",
              "      <th></th>\n",
              "      <th></th>\n",
              "      <th></th>\n",
              "      <th></th>\n",
              "      <th></th>\n",
              "      <th></th>\n",
              "      <th></th>\n",
              "      <th></th>\n",
              "      <th></th>\n",
              "      <th></th>\n",
              "      <th></th>\n",
              "      <th></th>\n",
              "      <th></th>\n",
              "      <th></th>\n",
              "      <th></th>\n",
              "      <th></th>\n",
              "      <th></th>\n",
              "      <th></th>\n",
              "      <th></th>\n",
              "      <th></th>\n",
              "      <th></th>\n",
              "      <th></th>\n",
              "      <th></th>\n",
              "      <th></th>\n",
              "      <th></th>\n",
              "      <th></th>\n",
              "      <th></th>\n",
              "      <th></th>\n",
              "      <th></th>\n",
              "      <th></th>\n",
              "      <th></th>\n",
              "      <th></th>\n",
              "      <th></th>\n",
              "      <th></th>\n",
              "      <th></th>\n",
              "      <th></th>\n",
              "      <th></th>\n",
              "      <th></th>\n",
              "      <th></th>\n",
              "      <th></th>\n",
              "    </tr>\n",
              "  </thead>\n",
              "  <tbody>\n",
              "    <tr>\n",
              "      <th>2011-12-31</th>\n",
              "      <td>2011-12-31</td>\n",
              "      <td>4.476415</td>\n",
              "      <td>4.478946</td>\n",
              "      <td>4.476415</td>\n",
              "      <td>4.478946</td>\n",
              "      <td>17.940426</td>\n",
              "      <td>79.495594</td>\n",
              "      <td>4.477370</td>\n",
              "      <td>4568.640649</td>\n",
              "      <td>4535.780516</td>\n",
              "      <td>4345.894567</td>\n",
              "      <td>112.747300</td>\n",
              "      <td>185.756731</td>\n",
              "      <td>417.815555</td>\n",
              "      <td>4571.885362</td>\n",
              "      <td>4539.008161</td>\n",
              "      <td>4348.997943</td>\n",
              "      <td>112.652701</td>\n",
              "      <td>185.712557</td>\n",
              "      <td>418.084846</td>\n",
              "      <td>4565.245136</td>\n",
              "      <td>4532.401155</td>\n",
              "      <td>4342.638584</td>\n",
              "      <td>112.823368</td>\n",
              "      <td>185.780221</td>\n",
              "      <td>417.508433</td>\n",
              "      <td>4568.632842</td>\n",
              "      <td>4535.771729</td>\n",
              "      <td>4345.881445</td>\n",
              "      <td>112.744372</td>\n",
              "      <td>185.758045</td>\n",
              "      <td>417.825217</td>\n",
              "      <td>9.579974</td>\n",
              "      <td>9.586140</td>\n",
              "      <td>9.601214</td>\n",
              "      <td>3.444517</td>\n",
              "      <td>4.196693</td>\n",
              "      <td>5.179093</td>\n",
              "      <td>12</td>\n",
              "      <td>52</td>\n",
              "      <td>31</td>\n",
              "      <td>5</td>\n",
              "    </tr>\n",
              "    <tr>\n",
              "      <th>2012-01-01</th>\n",
              "      <td>2012-01-01</td>\n",
              "      <td>4.765576</td>\n",
              "      <td>4.765576</td>\n",
              "      <td>4.765576</td>\n",
              "      <td>4.765576</td>\n",
              "      <td>6.790640</td>\n",
              "      <td>32.971105</td>\n",
              "      <td>4.765576</td>\n",
              "      <td>4.476415</td>\n",
              "      <td>4.476415</td>\n",
              "      <td>4.476415</td>\n",
              "      <td>112.747300</td>\n",
              "      <td>185.756731</td>\n",
              "      <td>417.815555</td>\n",
              "      <td>4.478946</td>\n",
              "      <td>4.478946</td>\n",
              "      <td>4.478946</td>\n",
              "      <td>112.652701</td>\n",
              "      <td>185.712557</td>\n",
              "      <td>418.084846</td>\n",
              "      <td>4.476415</td>\n",
              "      <td>4.476415</td>\n",
              "      <td>4.476415</td>\n",
              "      <td>112.823368</td>\n",
              "      <td>185.780221</td>\n",
              "      <td>417.508433</td>\n",
              "      <td>4.478946</td>\n",
              "      <td>4.478946</td>\n",
              "      <td>4.478946</td>\n",
              "      <td>112.744372</td>\n",
              "      <td>185.758045</td>\n",
              "      <td>417.825217</td>\n",
              "      <td>17.940426</td>\n",
              "      <td>17.940426</td>\n",
              "      <td>17.940426</td>\n",
              "      <td>3.444517</td>\n",
              "      <td>4.196693</td>\n",
              "      <td>5.179093</td>\n",
              "      <td>1</td>\n",
              "      <td>52</td>\n",
              "      <td>1</td>\n",
              "      <td>6</td>\n",
              "    </tr>\n",
              "    <tr>\n",
              "      <th>2012-01-02</th>\n",
              "      <td>2012-01-02</td>\n",
              "      <td>5.006549</td>\n",
              "      <td>5.006549</td>\n",
              "      <td>5.006549</td>\n",
              "      <td>5.006549</td>\n",
              "      <td>15.183373</td>\n",
              "      <td>75.932706</td>\n",
              "      <td>5.006549</td>\n",
              "      <td>4.620996</td>\n",
              "      <td>4.620996</td>\n",
              "      <td>4.620996</td>\n",
              "      <td>0.204468</td>\n",
              "      <td>0.204468</td>\n",
              "      <td>0.204468</td>\n",
              "      <td>4.622261</td>\n",
              "      <td>4.622261</td>\n",
              "      <td>4.622261</td>\n",
              "      <td>0.202678</td>\n",
              "      <td>0.202678</td>\n",
              "      <td>0.202678</td>\n",
              "      <td>4.620996</td>\n",
              "      <td>4.620996</td>\n",
              "      <td>4.620996</td>\n",
              "      <td>0.204468</td>\n",
              "      <td>0.204468</td>\n",
              "      <td>0.204468</td>\n",
              "      <td>4.622261</td>\n",
              "      <td>4.622261</td>\n",
              "      <td>4.622261</td>\n",
              "      <td>0.202678</td>\n",
              "      <td>0.202678</td>\n",
              "      <td>0.202678</td>\n",
              "      <td>12.365533</td>\n",
              "      <td>12.365533</td>\n",
              "      <td>12.365533</td>\n",
              "      <td>7.884089</td>\n",
              "      <td>7.884089</td>\n",
              "      <td>7.884089</td>\n",
              "      <td>1</td>\n",
              "      <td>1</td>\n",
              "      <td>2</td>\n",
              "      <td>0</td>\n",
              "    </tr>\n",
              "    <tr>\n",
              "      <th>2012-01-03</th>\n",
              "      <td>2012-01-03</td>\n",
              "      <td>5.206530</td>\n",
              "      <td>5.206530</td>\n",
              "      <td>5.206530</td>\n",
              "      <td>5.206530</td>\n",
              "      <td>7.917041</td>\n",
              "      <td>40.795994</td>\n",
              "      <td>5.206530</td>\n",
              "      <td>4.749513</td>\n",
              "      <td>4.749513</td>\n",
              "      <td>4.749513</td>\n",
              "      <td>0.265431</td>\n",
              "      <td>0.265431</td>\n",
              "      <td>0.265431</td>\n",
              "      <td>4.750357</td>\n",
              "      <td>4.750357</td>\n",
              "      <td>4.750357</td>\n",
              "      <td>0.264130</td>\n",
              "      <td>0.264130</td>\n",
              "      <td>0.264130</td>\n",
              "      <td>4.749513</td>\n",
              "      <td>4.749513</td>\n",
              "      <td>4.749513</td>\n",
              "      <td>0.265431</td>\n",
              "      <td>0.265431</td>\n",
              "      <td>0.265431</td>\n",
              "      <td>4.750357</td>\n",
              "      <td>4.750357</td>\n",
              "      <td>4.750357</td>\n",
              "      <td>0.264130</td>\n",
              "      <td>0.264130</td>\n",
              "      <td>0.264130</td>\n",
              "      <td>13.304813</td>\n",
              "      <td>13.304813</td>\n",
              "      <td>13.304813</td>\n",
              "      <td>5.807423</td>\n",
              "      <td>5.807423</td>\n",
              "      <td>5.807423</td>\n",
              "      <td>1</td>\n",
              "      <td>1</td>\n",
              "      <td>3</td>\n",
              "      <td>1</td>\n",
              "    </tr>\n",
              "    <tr>\n",
              "      <th>2012-01-04</th>\n",
              "      <td>2012-01-04</td>\n",
              "      <td>5.202511</td>\n",
              "      <td>5.241699</td>\n",
              "      <td>5.202511</td>\n",
              "      <td>5.241699</td>\n",
              "      <td>13.659736</td>\n",
              "      <td>72.860096</td>\n",
              "      <td>5.216680</td>\n",
              "      <td>4.992885</td>\n",
              "      <td>4.863768</td>\n",
              "      <td>4.863768</td>\n",
              "      <td>0.220794</td>\n",
              "      <td>0.314937</td>\n",
              "      <td>0.314937</td>\n",
              "      <td>4.992885</td>\n",
              "      <td>4.864400</td>\n",
              "      <td>4.864400</td>\n",
              "      <td>0.220794</td>\n",
              "      <td>0.313900</td>\n",
              "      <td>0.313900</td>\n",
              "      <td>4.992885</td>\n",
              "      <td>4.863768</td>\n",
              "      <td>4.863768</td>\n",
              "      <td>0.220794</td>\n",
              "      <td>0.314937</td>\n",
              "      <td>0.314937</td>\n",
              "      <td>4.992885</td>\n",
              "      <td>4.864400</td>\n",
              "      <td>4.864400</td>\n",
              "      <td>0.220794</td>\n",
              "      <td>0.313900</td>\n",
              "      <td>0.313900</td>\n",
              "      <td>9.963685</td>\n",
              "      <td>11.957870</td>\n",
              "      <td>11.957870</td>\n",
              "      <td>4.555332</td>\n",
              "      <td>5.453543</td>\n",
              "      <td>5.453543</td>\n",
              "      <td>1</td>\n",
              "      <td>1</td>\n",
              "      <td>4</td>\n",
              "      <td>2</td>\n",
              "    </tr>\n",
              "  </tbody>\n",
              "</table>\n",
              "</div>"
            ],
            "text/plain": [
              "            Timestamp      Open      High  ...  week  day  day_of_week\n",
              "Timestamp                                  ...                        \n",
              "2011-12-31 2011-12-31  4.476415  4.478946  ...    52   31            5\n",
              "2012-01-01 2012-01-01  4.765576  4.765576  ...    52    1            6\n",
              "2012-01-02 2012-01-02  5.006549  5.006549  ...     1    2            0\n",
              "2012-01-03 2012-01-03  5.206530  5.206530  ...     1    3            1\n",
              "2012-01-04 2012-01-04  5.202511  5.241699  ...     1    4            2\n",
              "\n",
              "[5 rows x 42 columns]"
            ]
          },
          "metadata": {
            "tags": []
          },
          "execution_count": 29
        }
      ]
    },
    {
      "cell_type": "code",
      "metadata": {
        "colab": {
          "base_uri": "https://localhost:8080/",
          "height": 473
        },
        "id": "aTTLegGY9UYC",
        "outputId": "de93cb89-5a00-4f32-b6ce-0df788281036"
      },
      "source": [
        "!pip install pmdarima"
      ],
      "execution_count": null,
      "outputs": [
        {
          "output_type": "stream",
          "text": [
            "Collecting pmdarima\n",
            "\u001b[?25l  Downloading https://files.pythonhosted.org/packages/f4/c2/2a94bce6bba1deac3c0b16dbb14f28de0b9035e3211919cae8448455aa65/pmdarima-1.8.2-cp37-cp37m-manylinux1_x86_64.whl (1.5MB)\n",
            "\r\u001b[K     |▎                               | 10kB 13.0MB/s eta 0:00:01\r\u001b[K     |▌                               | 20kB 18.1MB/s eta 0:00:01\r\u001b[K     |▊                               | 30kB 21.8MB/s eta 0:00:01\r\u001b[K     |█                               | 40kB 18.3MB/s eta 0:00:01\r\u001b[K     |█▏                              | 51kB 9.8MB/s eta 0:00:01\r\u001b[K     |█▍                              | 61kB 11.1MB/s eta 0:00:01\r\u001b[K     |█▋                              | 71kB 9.6MB/s eta 0:00:01\r\u001b[K     |█▉                              | 81kB 10.5MB/s eta 0:00:01\r\u001b[K     |██                              | 92kB 11.0MB/s eta 0:00:01\r\u001b[K     |██▎                             | 102kB 8.8MB/s eta 0:00:01\r\u001b[K     |██▌                             | 112kB 8.8MB/s eta 0:00:01\r\u001b[K     |██▊                             | 122kB 8.8MB/s eta 0:00:01\r\u001b[K     |███                             | 133kB 8.8MB/s eta 0:00:01\r\u001b[K     |███▏                            | 143kB 8.8MB/s eta 0:00:01\r\u001b[K     |███▍                            | 153kB 8.8MB/s eta 0:00:01\r\u001b[K     |███▋                            | 163kB 8.8MB/s eta 0:00:01\r\u001b[K     |███▉                            | 174kB 8.8MB/s eta 0:00:01\r\u001b[K     |████                            | 184kB 8.8MB/s eta 0:00:01\r\u001b[K     |████▎                           | 194kB 8.8MB/s eta 0:00:01\r\u001b[K     |████▌                           | 204kB 8.8MB/s eta 0:00:01\r\u001b[K     |████▊                           | 215kB 8.8MB/s eta 0:00:01\r\u001b[K     |█████                           | 225kB 8.8MB/s eta 0:00:01\r\u001b[K     |█████▏                          | 235kB 8.8MB/s eta 0:00:01\r\u001b[K     |█████▍                          | 245kB 8.8MB/s eta 0:00:01\r\u001b[K     |█████▋                          | 256kB 8.8MB/s eta 0:00:01\r\u001b[K     |█████▉                          | 266kB 8.8MB/s eta 0:00:01\r\u001b[K     |██████                          | 276kB 8.8MB/s eta 0:00:01\r\u001b[K     |██████▎                         | 286kB 8.8MB/s eta 0:00:01\r\u001b[K     |██████▌                         | 296kB 8.8MB/s eta 0:00:01\r\u001b[K     |██████▊                         | 307kB 8.8MB/s eta 0:00:01\r\u001b[K     |███████                         | 317kB 8.8MB/s eta 0:00:01\r\u001b[K     |███████▏                        | 327kB 8.8MB/s eta 0:00:01\r\u001b[K     |███████▍                        | 337kB 8.8MB/s eta 0:00:01\r\u001b[K     |███████▋                        | 348kB 8.8MB/s eta 0:00:01\r\u001b[K     |███████▉                        | 358kB 8.8MB/s eta 0:00:01\r\u001b[K     |████████                        | 368kB 8.8MB/s eta 0:00:01\r\u001b[K     |████████▎                       | 378kB 8.8MB/s eta 0:00:01\r\u001b[K     |████████▌                       | 389kB 8.8MB/s eta 0:00:01\r\u001b[K     |████████▊                       | 399kB 8.8MB/s eta 0:00:01\r\u001b[K     |█████████                       | 409kB 8.8MB/s eta 0:00:01\r\u001b[K     |█████████▎                      | 419kB 8.8MB/s eta 0:00:01\r\u001b[K     |█████████▌                      | 430kB 8.8MB/s eta 0:00:01\r\u001b[K     |█████████▊                      | 440kB 8.8MB/s eta 0:00:01\r\u001b[K     |██████████                      | 450kB 8.8MB/s eta 0:00:01\r\u001b[K     |██████████▏                     | 460kB 8.8MB/s eta 0:00:01\r\u001b[K     |██████████▍                     | 471kB 8.8MB/s eta 0:00:01\r\u001b[K     |██████████▋                     | 481kB 8.8MB/s eta 0:00:01\r\u001b[K     |██████████▉                     | 491kB 8.8MB/s eta 0:00:01\r\u001b[K     |███████████                     | 501kB 8.8MB/s eta 0:00:01\r\u001b[K     |███████████▎                    | 512kB 8.8MB/s eta 0:00:01\r\u001b[K     |███████████▌                    | 522kB 8.8MB/s eta 0:00:01\r\u001b[K     |███████████▊                    | 532kB 8.8MB/s eta 0:00:01\r\u001b[K     |████████████                    | 542kB 8.8MB/s eta 0:00:01\r\u001b[K     |████████████▏                   | 552kB 8.8MB/s eta 0:00:01\r\u001b[K     |████████████▍                   | 563kB 8.8MB/s eta 0:00:01\r\u001b[K     |████████████▋                   | 573kB 8.8MB/s eta 0:00:01\r\u001b[K     |████████████▉                   | 583kB 8.8MB/s eta 0:00:01\r\u001b[K     |█████████████                   | 593kB 8.8MB/s eta 0:00:01\r\u001b[K     |█████████████▎                  | 604kB 8.8MB/s eta 0:00:01\r\u001b[K     |█████████████▌                  | 614kB 8.8MB/s eta 0:00:01\r\u001b[K     |█████████████▊                  | 624kB 8.8MB/s eta 0:00:01\r\u001b[K     |██████████████                  | 634kB 8.8MB/s eta 0:00:01\r\u001b[K     |██████████████▏                 | 645kB 8.8MB/s eta 0:00:01\r\u001b[K     |██████████████▍                 | 655kB 8.8MB/s eta 0:00:01\r\u001b[K     |██████████████▋                 | 665kB 8.8MB/s eta 0:00:01\r\u001b[K     |██████████████▉                 | 675kB 8.8MB/s eta 0:00:01\r\u001b[K     |███████████████                 | 686kB 8.8MB/s eta 0:00:01\r\u001b[K     |███████████████▎                | 696kB 8.8MB/s eta 0:00:01\r\u001b[K     |███████████████▌                | 706kB 8.8MB/s eta 0:00:01\r\u001b[K     |███████████████▊                | 716kB 8.8MB/s eta 0:00:01\r\u001b[K     |████████████████                | 727kB 8.8MB/s eta 0:00:01\r\u001b[K     |████████████████▏               | 737kB 8.8MB/s eta 0:00:01\r\u001b[K     |████████████████▍               | 747kB 8.8MB/s eta 0:00:01\r\u001b[K     |████████████████▋               | 757kB 8.8MB/s eta 0:00:01\r\u001b[K     |████████████████▉               | 768kB 8.8MB/s eta 0:00:01\r\u001b[K     |█████████████████               | 778kB 8.8MB/s eta 0:00:01\r\u001b[K     |█████████████████▎              | 788kB 8.8MB/s eta 0:00:01\r\u001b[K     |█████████████████▌              | 798kB 8.8MB/s eta 0:00:01\r\u001b[K     |█████████████████▊              | 808kB 8.8MB/s eta 0:00:01\r\u001b[K     |██████████████████              | 819kB 8.8MB/s eta 0:00:01\r\u001b[K     |██████████████████▎             | 829kB 8.8MB/s eta 0:00:01\r\u001b[K     |██████████████████▌             | 839kB 8.8MB/s eta 0:00:01\r\u001b[K     |██████████████████▊             | 849kB 8.8MB/s eta 0:00:01\r\u001b[K     |███████████████████             | 860kB 8.8MB/s eta 0:00:01\r\u001b[K     |███████████████████▏            | 870kB 8.8MB/s eta 0:00:01\r\u001b[K     |███████████████████▍            | 880kB 8.8MB/s eta 0:00:01\r\u001b[K     |███████████████████▋            | 890kB 8.8MB/s eta 0:00:01\r\u001b[K     |███████████████████▉            | 901kB 8.8MB/s eta 0:00:01\r\u001b[K     |████████████████████            | 911kB 8.8MB/s eta 0:00:01\r\u001b[K     |████████████████████▎           | 921kB 8.8MB/s eta 0:00:01\r\u001b[K     |████████████████████▌           | 931kB 8.8MB/s eta 0:00:01\r\u001b[K     |████████████████████▊           | 942kB 8.8MB/s eta 0:00:01\r\u001b[K     |█████████████████████           | 952kB 8.8MB/s eta 0:00:01\r\u001b[K     |█████████████████████▏          | 962kB 8.8MB/s eta 0:00:01\r\u001b[K     |█████████████████████▍          | 972kB 8.8MB/s eta 0:00:01\r\u001b[K     |█████████████████████▋          | 983kB 8.8MB/s eta 0:00:01\r\u001b[K     |█████████████████████▉          | 993kB 8.8MB/s eta 0:00:01\r\u001b[K     |██████████████████████          | 1.0MB 8.8MB/s eta 0:00:01\r\u001b[K     |██████████████████████▎         | 1.0MB 8.8MB/s eta 0:00:01\r\u001b[K     |██████████████████████▌         | 1.0MB 8.8MB/s eta 0:00:01\r\u001b[K     |██████████████████████▊         | 1.0MB 8.8MB/s eta 0:00:01\r\u001b[K     |███████████████████████         | 1.0MB 8.8MB/s eta 0:00:01\r\u001b[K     |███████████████████████▏        | 1.1MB 8.8MB/s eta 0:00:01\r\u001b[K     |███████████████████████▍        | 1.1MB 8.8MB/s eta 0:00:01\r\u001b[K     |███████████████████████▋        | 1.1MB 8.8MB/s eta 0:00:01\r\u001b[K     |███████████████████████▉        | 1.1MB 8.8MB/s eta 0:00:01\r\u001b[K     |████████████████████████        | 1.1MB 8.8MB/s eta 0:00:01\r\u001b[K     |████████████████████████▎       | 1.1MB 8.8MB/s eta 0:00:01\r\u001b[K     |████████████████████████▌       | 1.1MB 8.8MB/s eta 0:00:01\r\u001b[K     |████████████████████████▊       | 1.1MB 8.8MB/s eta 0:00:01\r\u001b[K     |█████████████████████████       | 1.1MB 8.8MB/s eta 0:00:01\r\u001b[K     |█████████████████████████▏      | 1.1MB 8.8MB/s eta 0:00:01\r\u001b[K     |█████████████████████████▍      | 1.2MB 8.8MB/s eta 0:00:01\r\u001b[K     |█████████████████████████▋      | 1.2MB 8.8MB/s eta 0:00:01\r\u001b[K     |█████████████████████████▉      | 1.2MB 8.8MB/s eta 0:00:01\r\u001b[K     |██████████████████████████      | 1.2MB 8.8MB/s eta 0:00:01\r\u001b[K     |██████████████████████████▎     | 1.2MB 8.8MB/s eta 0:00:01\r\u001b[K     |██████████████████████████▌     | 1.2MB 8.8MB/s eta 0:00:01\r\u001b[K     |██████████████████████████▊     | 1.2MB 8.8MB/s eta 0:00:01\r\u001b[K     |███████████████████████████     | 1.2MB 8.8MB/s eta 0:00:01\r\u001b[K     |███████████████████████████▎    | 1.2MB 8.8MB/s eta 0:00:01\r\u001b[K     |███████████████████████████▌    | 1.2MB 8.8MB/s eta 0:00:01\r\u001b[K     |███████████████████████████▊    | 1.3MB 8.8MB/s eta 0:00:01\r\u001b[K     |████████████████████████████    | 1.3MB 8.8MB/s eta 0:00:01\r\u001b[K     |████████████████████████████▏   | 1.3MB 8.8MB/s eta 0:00:01\r\u001b[K     |████████████████████████████▍   | 1.3MB 8.8MB/s eta 0:00:01\r\u001b[K     |████████████████████████████▋   | 1.3MB 8.8MB/s eta 0:00:01\r\u001b[K     |████████████████████████████▉   | 1.3MB 8.8MB/s eta 0:00:01\r\u001b[K     |█████████████████████████████   | 1.3MB 8.8MB/s eta 0:00:01\r\u001b[K     |█████████████████████████████▎  | 1.3MB 8.8MB/s eta 0:00:01\r\u001b[K     |█████████████████████████████▌  | 1.3MB 8.8MB/s eta 0:00:01\r\u001b[K     |█████████████████████████████▊  | 1.4MB 8.8MB/s eta 0:00:01\r\u001b[K     |██████████████████████████████  | 1.4MB 8.8MB/s eta 0:00:01\r\u001b[K     |██████████████████████████████▏ | 1.4MB 8.8MB/s eta 0:00:01\r\u001b[K     |██████████████████████████████▍ | 1.4MB 8.8MB/s eta 0:00:01\r\u001b[K     |██████████████████████████████▋ | 1.4MB 8.8MB/s eta 0:00:01\r\u001b[K     |██████████████████████████████▉ | 1.4MB 8.8MB/s eta 0:00:01\r\u001b[K     |███████████████████████████████ | 1.4MB 8.8MB/s eta 0:00:01\r\u001b[K     |███████████████████████████████▎| 1.4MB 8.8MB/s eta 0:00:01\r\u001b[K     |███████████████████████████████▌| 1.4MB 8.8MB/s eta 0:00:01\r\u001b[K     |███████████████████████████████▊| 1.4MB 8.8MB/s eta 0:00:01\r\u001b[K     |████████████████████████████████| 1.5MB 8.8MB/s eta 0:00:01\r\u001b[K     |████████████████████████████████| 1.5MB 8.8MB/s \n",
            "\u001b[?25hRequirement already satisfied: scikit-learn>=0.22 in /usr/local/lib/python3.7/dist-packages (from pmdarima) (0.22.2.post1)\n",
            "Requirement already satisfied: joblib>=0.11 in /usr/local/lib/python3.7/dist-packages (from pmdarima) (1.0.1)\n",
            "Requirement already satisfied: setuptools!=50.0.0,>=38.6.0 in /usr/local/lib/python3.7/dist-packages (from pmdarima) (57.0.0)\n",
            "Requirement already satisfied: pandas>=0.19 in /usr/local/lib/python3.7/dist-packages (from pmdarima) (1.1.5)\n",
            "Requirement already satisfied: scipy>=1.3.2 in /usr/local/lib/python3.7/dist-packages (from pmdarima) (1.4.1)\n",
            "Requirement already satisfied: Cython!=0.29.18,>=0.29 in /usr/local/lib/python3.7/dist-packages (from pmdarima) (0.29.23)\n",
            "Requirement already satisfied: numpy~=1.19.0 in /usr/local/lib/python3.7/dist-packages (from pmdarima) (1.19.5)\n",
            "Collecting statsmodels!=0.12.0,>=0.11\n",
            "\u001b[?25l  Downloading https://files.pythonhosted.org/packages/da/69/8eef30a6237c54f3c0b524140e2975f4b1eea3489b45eb3339574fc8acee/statsmodels-0.12.2-cp37-cp37m-manylinux1_x86_64.whl (9.5MB)\n",
            "\u001b[K     |████████████████████████████████| 9.5MB 29.9MB/s \n",
            "\u001b[?25hRequirement already satisfied: urllib3 in /usr/local/lib/python3.7/dist-packages (from pmdarima) (1.24.3)\n",
            "Requirement already satisfied: pytz>=2017.2 in /usr/local/lib/python3.7/dist-packages (from pandas>=0.19->pmdarima) (2018.9)\n",
            "Requirement already satisfied: python-dateutil>=2.7.3 in /usr/local/lib/python3.7/dist-packages (from pandas>=0.19->pmdarima) (2.8.1)\n",
            "Requirement already satisfied: patsy>=0.5 in /usr/local/lib/python3.7/dist-packages (from statsmodels!=0.12.0,>=0.11->pmdarima) (0.5.1)\n",
            "Requirement already satisfied: six>=1.5 in /usr/local/lib/python3.7/dist-packages (from python-dateutil>=2.7.3->pandas>=0.19->pmdarima) (1.15.0)\n",
            "Installing collected packages: statsmodels, pmdarima\n",
            "  Found existing installation: statsmodels 0.10.2\n",
            "    Uninstalling statsmodels-0.10.2:\n",
            "      Successfully uninstalled statsmodels-0.10.2\n",
            "Successfully installed pmdarima-1.8.2 statsmodels-0.12.2\n"
          ],
          "name": "stdout"
        },
        {
          "output_type": "display_data",
          "data": {
            "application/vnd.colab-display-data+json": {
              "pip_warning": {
                "packages": [
                  "statsmodels"
                ]
              }
            }
          },
          "metadata": {
            "tags": []
          }
        }
      ]
    },
    {
      "cell_type": "code",
      "metadata": {
        "colab": {
          "base_uri": "https://localhost:8080/"
        },
        "id": "YdY4Y6n5-UdV",
        "outputId": "850f1af3-33be-4de1-8a39-e674ff273a07"
      },
      "source": [
        "df_train = df[df.Timestamp < \"2020\"]\n",
        "df_valid = df[df.Timestamp >= \"2020\"]\n",
        "\n",
        "print('train shape :', df_train.shape)\n",
        "print('validation shape :', df_valid.shape)"
      ],
      "execution_count": null,
      "outputs": [
        {
          "output_type": "stream",
          "text": [
            "train shape : (2923, 42)\n",
            "validation shape : (456, 42)\n"
          ],
          "name": "stdout"
        }
      ]
    },
    {
      "cell_type": "code",
      "metadata": {
        "id": "3Xrb4RAm9j6R"
      },
      "source": [
        "import pmdarima as pm"
      ],
      "execution_count": null,
      "outputs": []
    },
    {
      "cell_type": "code",
      "metadata": {
        "id": "GWSiQOM19pdP"
      },
      "source": [
        "exogenous_features = ['Open_mean_lag3',\n",
        "       'Open_mean_lag7', 'Open_mean_lag30', 'Open_std_lag3', 'Open_std_lag7',\n",
        "       'Open_std_lag30', 'High_mean_lag3', 'High_mean_lag7', 'High_mean_lag30',\n",
        "       'High_std_lag3', 'High_std_lag7', 'High_std_lag30', 'Low_mean_lag3',\n",
        "       'Low_mean_lag7', 'Low_mean_lag30', 'Low_std_lag3', 'Low_std_lag7',\n",
        "       'Low_std_lag30', 'Close_mean_lag3', 'Close_mean_lag7',\n",
        "       'Close_mean_lag30', 'Close_std_lag3', 'Close_std_lag7',\n",
        "       'Close_std_lag30', 'Volume_(BTC)_mean_lag3', 'Volume_(BTC)_mean_lag7',\n",
        "       'Volume_(BTC)_mean_lag30', 'Volume_(BTC)_std_lag3',\n",
        "       'Volume_(BTC)_std_lag7', 'Volume_(BTC)_std_lag30', 'month', 'week',\n",
        "       'day', 'day_of_week']"
      ],
      "execution_count": null,
      "outputs": []
    },
    {
      "cell_type": "code",
      "metadata": {
        "colab": {
          "base_uri": "https://localhost:8080/"
        },
        "id": "JhoIccGL9t2V",
        "outputId": "980bc0aa-beb5-447e-d2dd-72125ab8a37e"
      },
      "source": [
        "model = pm.auto_arima(df_train.Weighted_Price, exogenous=df_train[exogenous_features], trace=True, error_action=\"ignore\", suppress_warnings=True)\n",
        "model.fit(df_train.Weighted_Price, exogenous=df_train[exogenous_features])\n",
        "\n",
        "forecast = model.predict(n_periods=len(df_valid), exogenous=df_valid[exogenous_features])\n",
        "df_valid[\"Forecast_ARIMAX\"] = forecast"
      ],
      "execution_count": null,
      "outputs": [
        {
          "output_type": "stream",
          "text": [
            "Performing stepwise search to minimize aic\n",
            " ARIMA(2,0,2)(0,0,0)[0] intercept   : AIC=39224.077, Time=40.14 sec\n",
            " ARIMA(0,0,0)(0,0,0)[0] intercept   : AIC=40299.748, Time=7.28 sec\n",
            " ARIMA(1,0,0)(0,0,0)[0] intercept   : AIC=inf, Time=24.68 sec\n",
            " ARIMA(0,0,1)(0,0,0)[0] intercept   : AIC=39581.421, Time=31.79 sec\n",
            " ARIMA(0,0,0)(0,0,0)[0]             : AIC=40335.387, Time=33.16 sec\n",
            " ARIMA(1,0,2)(0,0,0)[0] intercept   : AIC=39203.214, Time=38.06 sec\n",
            " ARIMA(0,0,2)(0,0,0)[0] intercept   : AIC=39235.720, Time=35.01 sec\n",
            " ARIMA(1,0,1)(0,0,0)[0] intercept   : AIC=39363.405, Time=33.69 sec\n",
            " ARIMA(1,0,3)(0,0,0)[0] intercept   : AIC=39200.549, Time=41.32 sec\n",
            " ARIMA(0,0,3)(0,0,0)[0] intercept   : AIC=39230.217, Time=38.72 sec\n",
            " ARIMA(2,0,3)(0,0,0)[0] intercept   : AIC=39225.845, Time=42.73 sec\n",
            " ARIMA(1,0,4)(0,0,0)[0] intercept   : AIC=39237.014, Time=46.70 sec\n",
            " ARIMA(0,0,4)(0,0,0)[0] intercept   : AIC=39235.125, Time=46.64 sec\n",
            " ARIMA(2,0,4)(0,0,0)[0] intercept   : AIC=39234.628, Time=47.89 sec\n",
            " ARIMA(1,0,3)(0,0,0)[0]             : AIC=39218.120, Time=39.53 sec\n",
            "\n",
            "Best model:  ARIMA(1,0,3)(0,0,0)[0] intercept\n",
            "Total fit time: 547.409 seconds\n"
          ],
          "name": "stdout"
        },
        {
          "output_type": "stream",
          "text": [
            "/usr/local/lib/python3.7/dist-packages/ipykernel_launcher.py:5: SettingWithCopyWarning:\n",
            "\n",
            "\n",
            "A value is trying to be set on a copy of a slice from a DataFrame.\n",
            "Try using .loc[row_indexer,col_indexer] = value instead\n",
            "\n",
            "See the caveats in the documentation: https://pandas.pydata.org/pandas-docs/stable/user_guide/indexing.html#returning-a-view-versus-a-copy\n",
            "\n"
          ],
          "name": "stderr"
        }
      ]
    },
    {
      "cell_type": "code",
      "metadata": {
        "colab": {
          "base_uri": "https://localhost:8080/",
          "height": 467
        },
        "id": "I0AxCTI99xoi",
        "outputId": "0f23a9d1-bc7f-403e-d09a-58abeb95a59d"
      },
      "source": [
        "df_valid[[\"Weighted_Price\", \"Forecast_ARIMAX\"]].plot(figsize=(14, 7))"
      ],
      "execution_count": null,
      "outputs": [
        {
          "output_type": "execute_result",
          "data": {
            "text/plain": [
              "<matplotlib.axes._subplots.AxesSubplot at 0x7f7620706b10>"
            ]
          },
          "metadata": {
            "tags": []
          },
          "execution_count": 37
        },
        {
          "output_type": "display_data",
          "data": {
            "image/png": "[encoded data removed]",
            "text/plain": [
              "<Figure size 1008x504 with 1 Axes>"
            ]
          },
          "metadata": {
            "tags": []
          }
        }
      ]
    },
    {
      "cell_type": "code",
      "metadata": {
        "colab": {
          "base_uri": "https://localhost:8080/"
        },
        "id": "RHn_OxmtCsmF",
        "outputId": "da4917f1-6db7-42cd-f12f-b3ad822bf0f8"
      },
      "source": [
        "from sklearn.metrics import mean_squared_error, mean_absolute_error\n",
        "\n",
        "print(\"RMSE of Auto ARIMAX:\", np.sqrt(mean_squared_error(df_valid.Weighted_Price, df_valid.Forecast_ARIMAX)))\n",
        "\n",
        "print(\"\\nMAE of Auto ARIMAX:\", mean_absolute_error(df_valid.Weighted_Price, df_valid.Forecast_ARIMAX))"
      ],
      "execution_count": null,
      "outputs": [
        {
          "output_type": "stream",
          "text": [
            "RMSE of Auto ARIMAX: 1165.141512318165\n",
            "\n",
            "MAE of Auto ARIMAX: 657.1939439158194\n"
          ],
          "name": "stdout"
        }
      ]
    },
    {
      "cell_type": "markdown",
      "metadata": {
        "id": "e7pbqQy6F29q"
      },
      "source": [
        "## Facebook Prophet"
      ]
    },
    {
      "cell_type": "code",
      "metadata": {
        "id": "pi8JCVrVDKU7"
      },
      "source": [
        "from fbprophet import Prophet"
      ],
      "execution_count": null,
      "outputs": []
    },
    {
      "cell_type": "code",
      "metadata": {
        "colab": {
          "base_uri": "https://localhost:8080/"
        },
        "id": "3Yq94AxkGF_e",
        "outputId": "0161206a-0d0b-4e8f-afe2-a330f45e7c36"
      },
      "source": [
        "daily_data = bitstamp.resample(\"24H\").mean() #daily resampling\n",
        "fill_missing(daily_data)"
      ],
      "execution_count": null,
      "outputs": [
        {
          "output_type": "stream",
          "text": [
            "                Open      High  ...  Volume_(Currency)  Weighted_Price\n",
            "Timestamp                       ...                                   \n",
            "2011-12-31  4.476415  4.478946  ...          79.495594        4.477370\n",
            "2012-01-01  4.765576  4.765576  ...          32.971105        4.765576\n",
            "2012-01-02  5.006549  5.006549  ...          75.932706        5.006549\n",
            "2012-01-03  5.206530  5.206530  ...          40.795994        5.206530\n",
            "2012-01-04  5.202511  5.241699  ...          72.860096        5.216680\n",
            "\n",
            "[5 rows x 7 columns]\n",
            "Open                 0\n",
            "High                 0\n",
            "Low                  0\n",
            "Close                0\n",
            "Volume_(BTC)         0\n",
            "Volume_(Currency)    0\n",
            "Weighted_Price       0\n",
            "dtype: int64\n"
          ],
          "name": "stdout"
        }
      ]
    },
    {
      "cell_type": "code",
      "metadata": {
        "colab": {
          "base_uri": "https://localhost:8080/",
          "height": 191
        },
        "id": "ruA9NYTMGGqC",
        "outputId": "e6e8f49b-d965-42ef-ea40-7e3fbfd5a87f"
      },
      "source": [
        "daily_data_fb = daily_data.reset_index()[['Timestamp','Weighted_Price']].rename({'Timestamp':'ds','Weighted_Price':'y'}, axis=1)\n",
        "daily_data_fb.head()"
      ],
      "execution_count": null,
      "outputs": [
        {
          "output_type": "execute_result",
          "data": {
            "text/html": [
              "<div>\n",
              "<style scoped>\n",
              "    .dataframe tbody tr th:only-of-type {\n",
              "        vertical-align: middle;\n",
              "    }\n",
              "\n",
              "    .dataframe tbody tr th {\n",
              "        vertical-align: top;\n",
              "    }\n",
              "\n",
              "    .dataframe thead th {\n",
              "        text-align: right;\n",
              "    }\n",
              "</style>\n",
              "<table border=\"1\" class=\"dataframe\">\n",
              "  <thead>\n",
              "    <tr style=\"text-align: right;\">\n",
              "      <th></th>\n",
              "      <th>ds</th>\n",
              "      <th>y</th>\n",
              "    </tr>\n",
              "  </thead>\n",
              "  <tbody>\n",
              "    <tr>\n",
              "      <th>0</th>\n",
              "      <td>2011-12-31</td>\n",
              "      <td>4.477370</td>\n",
              "    </tr>\n",
              "    <tr>\n",
              "      <th>1</th>\n",
              "      <td>2012-01-01</td>\n",
              "      <td>4.765576</td>\n",
              "    </tr>\n",
              "    <tr>\n",
              "      <th>2</th>\n",
              "      <td>2012-01-02</td>\n",
              "      <td>5.006549</td>\n",
              "    </tr>\n",
              "    <tr>\n",
              "      <th>3</th>\n",
              "      <td>2012-01-03</td>\n",
              "      <td>5.206530</td>\n",
              "    </tr>\n",
              "    <tr>\n",
              "      <th>4</th>\n",
              "      <td>2012-01-04</td>\n",
              "      <td>5.216680</td>\n",
              "    </tr>\n",
              "  </tbody>\n",
              "</table>\n",
              "</div>"
            ],
            "text/plain": [
              "          ds         y\n",
              "0 2011-12-31  4.477370\n",
              "1 2012-01-01  4.765576\n",
              "2 2012-01-02  5.006549\n",
              "3 2012-01-03  5.206530\n",
              "4 2012-01-04  5.216680"
            ]
          },
          "metadata": {
            "tags": []
          },
          "execution_count": 41
        }
      ]
    },
    {
      "cell_type": "code",
      "metadata": {
        "id": "hLmv-7Z0GL7D"
      },
      "source": [
        "split_date = \"2020-01-01\"\n",
        "train_filt = daily_data_fb['ds'] <= split_date\n",
        "test_filt = daily_data_fb['ds'] > split_date\n",
        "\n",
        "train_fb = daily_data_fb[train_filt]\n",
        "test_fb = daily_data_fb[test_filt]"
      ],
      "execution_count": null,
      "outputs": []
    },
    {
      "cell_type": "code",
      "metadata": {
        "colab": {
          "base_uri": "https://localhost:8080/"
        },
        "id": "a3kLKiciGO88",
        "outputId": "1d431179-ac0f-4fc0-ae11-766fbb7d6002"
      },
      "source": [
        "print(\"train data shape :\", train_fb.shape)\n",
        "print(\"test data shape :\", test_fb.shape)"
      ],
      "execution_count": null,
      "outputs": [
        {
          "output_type": "stream",
          "text": [
            "train data shape : (2924, 2)\n",
            "test data shape : (455, 2)\n"
          ],
          "name": "stdout"
        }
      ]
    },
    {
      "cell_type": "code",
      "metadata": {
        "colab": {
          "base_uri": "https://localhost:8080/",
          "height": 336
        },
        "id": "wYNoXSkGGRml",
        "outputId": "79300515-a6b4-4211-e2b7-b4bc8b39a4de"
      },
      "source": [
        "model_fbp = Prophet()\n",
        "for feature in exogenous_features:\n",
        "    model_fbp.add_regressor(feature)\n",
        "\n",
        "model_fbp.fit(df_train[[\"Timestamp\", \"Weighted_Price\"] + exogenous_features].rename(columns={\"Timestamp\": \"ds\", \"Weighted_Price\": \"y\"}))\n",
        "\n",
        "forecast = model_fbp.predict(df_valid[[\"Timestamp\", \"Weighted_Price\"] + exogenous_features].rename(columns={\"Timestamp\": \"ds\"}))\n",
        "forecast.head()"
      ],
      "execution_count": null,
      "outputs": [
        {
          "output_type": "stream",
          "text": [
            "INFO:fbprophet:Disabling daily seasonality. Run prophet with daily_seasonality=True to override this.\n"
          ],
          "name": "stderr"
        },
        {
          "output_type": "execute_result",
          "data": {
            "text/html": [
              "<div>\n",
              "<style scoped>\n",
              "    .dataframe tbody tr th:only-of-type {\n",
              "        vertical-align: middle;\n",
              "    }\n",
              "\n",
              "    .dataframe tbody tr th {\n",
              "        vertical-align: top;\n",
              "    }\n",
              "\n",
              "    .dataframe thead th {\n",
              "        text-align: right;\n",
              "    }\n",
              "</style>\n",
              "<table border=\"1\" class=\"dataframe\">\n",
              "  <thead>\n",
              "    <tr style=\"text-align: right;\">\n",
              "      <th></th>\n",
              "      <th>ds</th>\n",
              "      <th>trend</th>\n",
              "      <th>yhat_lower</th>\n",
              "      <th>yhat_upper</th>\n",
              "      <th>trend_lower</th>\n",
              "      <th>trend_upper</th>\n",
              "      <th>Close_mean_lag3</th>\n",
              "      <th>Close_mean_lag3_lower</th>\n",
              "      <th>Close_mean_lag3_upper</th>\n",
              "      <th>Close_mean_lag30</th>\n",
              "      <th>Close_mean_lag30_lower</th>\n",
              "      <th>Close_mean_lag30_upper</th>\n",
              "      <th>Close_mean_lag7</th>\n",
              "      <th>Close_mean_lag7_lower</th>\n",
              "      <th>Close_mean_lag7_upper</th>\n",
              "      <th>Close_std_lag3</th>\n",
              "      <th>Close_std_lag3_lower</th>\n",
              "      <th>Close_std_lag3_upper</th>\n",
              "      <th>Close_std_lag30</th>\n",
              "      <th>Close_std_lag30_lower</th>\n",
              "      <th>Close_std_lag30_upper</th>\n",
              "      <th>Close_std_lag7</th>\n",
              "      <th>Close_std_lag7_lower</th>\n",
              "      <th>Close_std_lag7_upper</th>\n",
              "      <th>High_mean_lag3</th>\n",
              "      <th>High_mean_lag3_lower</th>\n",
              "      <th>High_mean_lag3_upper</th>\n",
              "      <th>High_mean_lag30</th>\n",
              "      <th>High_mean_lag30_lower</th>\n",
              "      <th>High_mean_lag30_upper</th>\n",
              "      <th>High_mean_lag7</th>\n",
              "      <th>High_mean_lag7_lower</th>\n",
              "      <th>High_mean_lag7_upper</th>\n",
              "      <th>High_std_lag3</th>\n",
              "      <th>High_std_lag3_lower</th>\n",
              "      <th>High_std_lag3_upper</th>\n",
              "      <th>High_std_lag30</th>\n",
              "      <th>High_std_lag30_lower</th>\n",
              "      <th>High_std_lag30_upper</th>\n",
              "      <th>High_std_lag7</th>\n",
              "      <th>...</th>\n",
              "      <th>Volume_(BTC)_mean_lag7</th>\n",
              "      <th>Volume_(BTC)_mean_lag7_lower</th>\n",
              "      <th>Volume_(BTC)_mean_lag7_upper</th>\n",
              "      <th>Volume_(BTC)_std_lag3</th>\n",
              "      <th>Volume_(BTC)_std_lag3_lower</th>\n",
              "      <th>Volume_(BTC)_std_lag3_upper</th>\n",
              "      <th>Volume_(BTC)_std_lag30</th>\n",
              "      <th>Volume_(BTC)_std_lag30_lower</th>\n",
              "      <th>Volume_(BTC)_std_lag30_upper</th>\n",
              "      <th>Volume_(BTC)_std_lag7</th>\n",
              "      <th>Volume_(BTC)_std_lag7_lower</th>\n",
              "      <th>Volume_(BTC)_std_lag7_upper</th>\n",
              "      <th>additive_terms</th>\n",
              "      <th>additive_terms_lower</th>\n",
              "      <th>additive_terms_upper</th>\n",
              "      <th>day</th>\n",
              "      <th>day_lower</th>\n",
              "      <th>day_upper</th>\n",
              "      <th>day_of_week</th>\n",
              "      <th>day_of_week_lower</th>\n",
              "      <th>day_of_week_upper</th>\n",
              "      <th>extra_regressors_additive</th>\n",
              "      <th>extra_regressors_additive_lower</th>\n",
              "      <th>extra_regressors_additive_upper</th>\n",
              "      <th>month</th>\n",
              "      <th>month_lower</th>\n",
              "      <th>month_upper</th>\n",
              "      <th>week</th>\n",
              "      <th>week_lower</th>\n",
              "      <th>week_upper</th>\n",
              "      <th>weekly</th>\n",
              "      <th>weekly_lower</th>\n",
              "      <th>weekly_upper</th>\n",
              "      <th>yearly</th>\n",
              "      <th>yearly_lower</th>\n",
              "      <th>yearly_upper</th>\n",
              "      <th>multiplicative_terms</th>\n",
              "      <th>multiplicative_terms_lower</th>\n",
              "      <th>multiplicative_terms_upper</th>\n",
              "      <th>yhat</th>\n",
              "    </tr>\n",
              "  </thead>\n",
              "  <tbody>\n",
              "    <tr>\n",
              "      <th>0</th>\n",
              "      <td>2020-01-01</td>\n",
              "      <td>2697.094994</td>\n",
              "      <td>7118.261251</td>\n",
              "      <td>7723.489342</td>\n",
              "      <td>2697.094994</td>\n",
              "      <td>2697.094994</td>\n",
              "      <td>4789.507847</td>\n",
              "      <td>4789.507847</td>\n",
              "      <td>4789.507847</td>\n",
              "      <td>13.482521</td>\n",
              "      <td>13.482521</td>\n",
              "      <td>13.482521</td>\n",
              "      <td>454.121132</td>\n",
              "      <td>454.121132</td>\n",
              "      <td>454.121132</td>\n",
              "      <td>1131.913316</td>\n",
              "      <td>1131.913316</td>\n",
              "      <td>1131.913316</td>\n",
              "      <td>-196.335373</td>\n",
              "      <td>-196.335373</td>\n",
              "      <td>-196.335373</td>\n",
              "      <td>-417.027538</td>\n",
              "      <td>-417.027538</td>\n",
              "      <td>-417.027538</td>\n",
              "      <td>-1548.482185</td>\n",
              "      <td>-1548.482185</td>\n",
              "      <td>-1548.482185</td>\n",
              "      <td>685.796707</td>\n",
              "      <td>685.796707</td>\n",
              "      <td>685.796707</td>\n",
              "      <td>7667.638325</td>\n",
              "      <td>7667.638325</td>\n",
              "      <td>7667.638325</td>\n",
              "      <td>342.080436</td>\n",
              "      <td>342.080436</td>\n",
              "      <td>342.080436</td>\n",
              "      <td>-1305.145503</td>\n",
              "      <td>-1305.145503</td>\n",
              "      <td>-1305.145503</td>\n",
              "      <td>458.285693</td>\n",
              "      <td>...</td>\n",
              "      <td>-35.909855</td>\n",
              "      <td>-35.909855</td>\n",
              "      <td>-35.909855</td>\n",
              "      <td>-5.599113</td>\n",
              "      <td>-5.599113</td>\n",
              "      <td>-5.599113</td>\n",
              "      <td>-8.593909</td>\n",
              "      <td>-8.593909</td>\n",
              "      <td>-8.593909</td>\n",
              "      <td>20.643309</td>\n",
              "      <td>20.643309</td>\n",
              "      <td>20.643309</td>\n",
              "      <td>4715.226088</td>\n",
              "      <td>4715.226088</td>\n",
              "      <td>4715.226088</td>\n",
              "      <td>12.4598</td>\n",
              "      <td>12.4598</td>\n",
              "      <td>12.4598</td>\n",
              "      <td>-0.513261</td>\n",
              "      <td>-0.513261</td>\n",
              "      <td>-0.513261</td>\n",
              "      <td>4773.261260</td>\n",
              "      <td>4773.261260</td>\n",
              "      <td>4773.261260</td>\n",
              "      <td>106.957106</td>\n",
              "      <td>106.957106</td>\n",
              "      <td>106.957106</td>\n",
              "      <td>95.011173</td>\n",
              "      <td>95.011173</td>\n",
              "      <td>95.011173</td>\n",
              "      <td>0.664994</td>\n",
              "      <td>0.664994</td>\n",
              "      <td>0.664994</td>\n",
              "      <td>-58.700166</td>\n",
              "      <td>-58.700166</td>\n",
              "      <td>-58.700166</td>\n",
              "      <td>0.0</td>\n",
              "      <td>0.0</td>\n",
              "      <td>0.0</td>\n",
              "      <td>7412.321082</td>\n",
              "    </tr>\n",
              "    <tr>\n",
              "      <th>1</th>\n",
              "      <td>2020-01-02</td>\n",
              "      <td>2697.181142</td>\n",
              "      <td>7033.989817</td>\n",
              "      <td>7648.215004</td>\n",
              "      <td>2697.181142</td>\n",
              "      <td>2697.181142</td>\n",
              "      <td>4739.162492</td>\n",
              "      <td>4739.162492</td>\n",
              "      <td>4739.162492</td>\n",
              "      <td>13.471689</td>\n",
              "      <td>13.471689</td>\n",
              "      <td>13.471689</td>\n",
              "      <td>453.909674</td>\n",
              "      <td>453.909674</td>\n",
              "      <td>453.909674</td>\n",
              "      <td>-571.583759</td>\n",
              "      <td>-571.583759</td>\n",
              "      <td>-571.583759</td>\n",
              "      <td>-197.466639</td>\n",
              "      <td>-197.466639</td>\n",
              "      <td>-197.466639</td>\n",
              "      <td>-398.912784</td>\n",
              "      <td>-398.912784</td>\n",
              "      <td>-398.912784</td>\n",
              "      <td>-1532.205492</td>\n",
              "      <td>-1532.205492</td>\n",
              "      <td>-1532.205492</td>\n",
              "      <td>685.238408</td>\n",
              "      <td>685.238408</td>\n",
              "      <td>685.238408</td>\n",
              "      <td>7663.927122</td>\n",
              "      <td>7663.927122</td>\n",
              "      <td>7663.927122</td>\n",
              "      <td>-173.750073</td>\n",
              "      <td>-173.750073</td>\n",
              "      <td>-173.750073</td>\n",
              "      <td>-1312.492342</td>\n",
              "      <td>-1312.492342</td>\n",
              "      <td>-1312.492342</td>\n",
              "      <td>437.584436</td>\n",
              "      <td>...</td>\n",
              "      <td>-36.075000</td>\n",
              "      <td>-36.075000</td>\n",
              "      <td>-36.075000</td>\n",
              "      <td>-4.776249</td>\n",
              "      <td>-4.776249</td>\n",
              "      <td>-4.776249</td>\n",
              "      <td>-8.498037</td>\n",
              "      <td>-8.498037</td>\n",
              "      <td>-8.498037</td>\n",
              "      <td>20.304805</td>\n",
              "      <td>20.304805</td>\n",
              "      <td>20.304805</td>\n",
              "      <td>4643.022149</td>\n",
              "      <td>4643.022149</td>\n",
              "      <td>4643.022149</td>\n",
              "      <td>11.6142</td>\n",
              "      <td>11.6142</td>\n",
              "      <td>11.6142</td>\n",
              "      <td>0.000000</td>\n",
              "      <td>0.000000</td>\n",
              "      <td>0.000000</td>\n",
              "      <td>4731.674557</td>\n",
              "      <td>4731.674557</td>\n",
              "      <td>4731.674557</td>\n",
              "      <td>106.957106</td>\n",
              "      <td>106.957106</td>\n",
              "      <td>106.957106</td>\n",
              "      <td>95.011173</td>\n",
              "      <td>95.011173</td>\n",
              "      <td>95.011173</td>\n",
              "      <td>-8.989473</td>\n",
              "      <td>-8.989473</td>\n",
              "      <td>-8.989473</td>\n",
              "      <td>-79.662936</td>\n",
              "      <td>-79.662936</td>\n",
              "      <td>-79.662936</td>\n",
              "      <td>0.0</td>\n",
              "      <td>0.0</td>\n",
              "      <td>0.0</td>\n",
              "      <td>7340.203291</td>\n",
              "    </tr>\n",
              "    <tr>\n",
              "      <th>2</th>\n",
              "      <td>2020-01-03</td>\n",
              "      <td>2697.267291</td>\n",
              "      <td>6885.025843</td>\n",
              "      <td>7526.102771</td>\n",
              "      <td>2697.267291</td>\n",
              "      <td>2697.267291</td>\n",
              "      <td>4663.217420</td>\n",
              "      <td>4663.217420</td>\n",
              "      <td>4663.217420</td>\n",
              "      <td>13.448321</td>\n",
              "      <td>13.448321</td>\n",
              "      <td>13.448321</td>\n",
              "      <td>451.870697</td>\n",
              "      <td>451.870697</td>\n",
              "      <td>451.870697</td>\n",
              "      <td>861.442944</td>\n",
              "      <td>861.442944</td>\n",
              "      <td>861.442944</td>\n",
              "      <td>-192.671177</td>\n",
              "      <td>-192.671177</td>\n",
              "      <td>-192.671177</td>\n",
              "      <td>-128.584540</td>\n",
              "      <td>-128.584540</td>\n",
              "      <td>-128.584540</td>\n",
              "      <td>-1507.713711</td>\n",
              "      <td>-1507.713711</td>\n",
              "      <td>-1507.713711</td>\n",
              "      <td>684.045517</td>\n",
              "      <td>684.045517</td>\n",
              "      <td>684.045517</td>\n",
              "      <td>7629.463831</td>\n",
              "      <td>7629.463831</td>\n",
              "      <td>7629.463831</td>\n",
              "      <td>255.687932</td>\n",
              "      <td>255.687932</td>\n",
              "      <td>255.687932</td>\n",
              "      <td>-1280.324971</td>\n",
              "      <td>-1280.324971</td>\n",
              "      <td>-1280.324971</td>\n",
              "      <td>141.874048</td>\n",
              "      <td>...</td>\n",
              "      <td>-35.712788</td>\n",
              "      <td>-35.712788</td>\n",
              "      <td>-35.712788</td>\n",
              "      <td>-4.636146</td>\n",
              "      <td>-4.636146</td>\n",
              "      <td>-4.636146</td>\n",
              "      <td>-8.522766</td>\n",
              "      <td>-8.522766</td>\n",
              "      <td>-8.522766</td>\n",
              "      <td>19.923525</td>\n",
              "      <td>19.923525</td>\n",
              "      <td>19.923525</td>\n",
              "      <td>4509.543737</td>\n",
              "      <td>4509.543737</td>\n",
              "      <td>4509.543737</td>\n",
              "      <td>10.7686</td>\n",
              "      <td>10.7686</td>\n",
              "      <td>10.7686</td>\n",
              "      <td>0.513261</td>\n",
              "      <td>0.513261</td>\n",
              "      <td>0.513261</td>\n",
              "      <td>4617.790155</td>\n",
              "      <td>4617.790155</td>\n",
              "      <td>4617.790155</td>\n",
              "      <td>106.957106</td>\n",
              "      <td>106.957106</td>\n",
              "      <td>106.957106</td>\n",
              "      <td>95.011173</td>\n",
              "      <td>95.011173</td>\n",
              "      <td>95.011173</td>\n",
              "      <td>-8.429995</td>\n",
              "      <td>-8.429995</td>\n",
              "      <td>-8.429995</td>\n",
              "      <td>-99.816423</td>\n",
              "      <td>-99.816423</td>\n",
              "      <td>-99.816423</td>\n",
              "      <td>0.0</td>\n",
              "      <td>0.0</td>\n",
              "      <td>0.0</td>\n",
              "      <td>7206.811027</td>\n",
              "    </tr>\n",
              "    <tr>\n",
              "      <th>3</th>\n",
              "      <td>2020-01-04</td>\n",
              "      <td>2697.353439</td>\n",
              "      <td>6930.801826</td>\n",
              "      <td>7563.611438</td>\n",
              "      <td>2697.353439</td>\n",
              "      <td>2697.353439</td>\n",
              "      <td>4669.574095</td>\n",
              "      <td>4669.574095</td>\n",
              "      <td>4669.574095</td>\n",
              "      <td>13.442784</td>\n",
              "      <td>13.442784</td>\n",
              "      <td>13.442784</td>\n",
              "      <td>452.229730</td>\n",
              "      <td>452.229730</td>\n",
              "      <td>452.229730</td>\n",
              "      <td>1507.164773</td>\n",
              "      <td>1507.164773</td>\n",
              "      <td>1507.164773</td>\n",
              "      <td>-193.424639</td>\n",
              "      <td>-193.424639</td>\n",
              "      <td>-193.424639</td>\n",
              "      <td>-139.792852</td>\n",
              "      <td>-139.792852</td>\n",
              "      <td>-139.792852</td>\n",
              "      <td>-1509.939515</td>\n",
              "      <td>-1509.939515</td>\n",
              "      <td>-1509.939515</td>\n",
              "      <td>683.755067</td>\n",
              "      <td>683.755067</td>\n",
              "      <td>683.755067</td>\n",
              "      <td>7635.691993</td>\n",
              "      <td>7635.691993</td>\n",
              "      <td>7635.691993</td>\n",
              "      <td>469.853888</td>\n",
              "      <td>469.853888</td>\n",
              "      <td>469.853888</td>\n",
              "      <td>-1285.800706</td>\n",
              "      <td>-1285.800706</td>\n",
              "      <td>-1285.800706</td>\n",
              "      <td>153.979865</td>\n",
              "      <td>...</td>\n",
              "      <td>-33.966874</td>\n",
              "      <td>-33.966874</td>\n",
              "      <td>-33.966874</td>\n",
              "      <td>-2.109700</td>\n",
              "      <td>-2.109700</td>\n",
              "      <td>-2.109700</td>\n",
              "      <td>-8.493760</td>\n",
              "      <td>-8.493760</td>\n",
              "      <td>-8.493760</td>\n",
              "      <td>15.535379</td>\n",
              "      <td>15.535379</td>\n",
              "      <td>15.535379</td>\n",
              "      <td>4558.348251</td>\n",
              "      <td>4558.348251</td>\n",
              "      <td>4558.348251</td>\n",
              "      <td>9.9230</td>\n",
              "      <td>9.9230</td>\n",
              "      <td>9.9230</td>\n",
              "      <td>1.026521</td>\n",
              "      <td>1.026521</td>\n",
              "      <td>1.026521</td>\n",
              "      <td>4666.083153</td>\n",
              "      <td>4666.083153</td>\n",
              "      <td>4666.083153</td>\n",
              "      <td>106.957106</td>\n",
              "      <td>106.957106</td>\n",
              "      <td>106.957106</td>\n",
              "      <td>95.011173</td>\n",
              "      <td>95.011173</td>\n",
              "      <td>95.011173</td>\n",
              "      <td>11.281301</td>\n",
              "      <td>11.281301</td>\n",
              "      <td>11.281301</td>\n",
              "      <td>-119.016203</td>\n",
              "      <td>-119.016203</td>\n",
              "      <td>-119.016203</td>\n",
              "      <td>0.0</td>\n",
              "      <td>0.0</td>\n",
              "      <td>0.0</td>\n",
              "      <td>7255.701690</td>\n",
              "    </tr>\n",
              "    <tr>\n",
              "      <th>4</th>\n",
              "      <td>2020-01-05</td>\n",
              "      <td>2697.439587</td>\n",
              "      <td>6919.900755</td>\n",
              "      <td>7554.172194</td>\n",
              "      <td>2697.439587</td>\n",
              "      <td>2697.439587</td>\n",
              "      <td>4712.059655</td>\n",
              "      <td>4712.059655</td>\n",
              "      <td>4712.059655</td>\n",
              "      <td>13.442174</td>\n",
              "      <td>13.442174</td>\n",
              "      <td>13.442174</td>\n",
              "      <td>452.547405</td>\n",
              "      <td>452.547405</td>\n",
              "      <td>452.547405</td>\n",
              "      <td>6379.875715</td>\n",
              "      <td>6379.875715</td>\n",
              "      <td>6379.875715</td>\n",
              "      <td>-193.798884</td>\n",
              "      <td>-193.798884</td>\n",
              "      <td>-193.798884</td>\n",
              "      <td>-110.798682</td>\n",
              "      <td>-110.798682</td>\n",
              "      <td>-110.798682</td>\n",
              "      <td>-1523.712744</td>\n",
              "      <td>-1523.712744</td>\n",
              "      <td>-1523.712744</td>\n",
              "      <td>683.709947</td>\n",
              "      <td>683.709947</td>\n",
              "      <td>683.709947</td>\n",
              "      <td>7641.039354</td>\n",
              "      <td>7641.039354</td>\n",
              "      <td>7641.039354</td>\n",
              "      <td>1937.758770</td>\n",
              "      <td>1937.758770</td>\n",
              "      <td>1937.758770</td>\n",
              "      <td>-1289.432687</td>\n",
              "      <td>-1289.432687</td>\n",
              "      <td>-1289.432687</td>\n",
              "      <td>122.321543</td>\n",
              "      <td>...</td>\n",
              "      <td>-33.240331</td>\n",
              "      <td>-33.240331</td>\n",
              "      <td>-33.240331</td>\n",
              "      <td>-3.208310</td>\n",
              "      <td>-3.208310</td>\n",
              "      <td>-3.208310</td>\n",
              "      <td>-8.490959</td>\n",
              "      <td>-8.490959</td>\n",
              "      <td>-8.490959</td>\n",
              "      <td>16.050756</td>\n",
              "      <td>16.050756</td>\n",
              "      <td>16.050756</td>\n",
              "      <td>4544.498000</td>\n",
              "      <td>4544.498000</td>\n",
              "      <td>4544.498000</td>\n",
              "      <td>9.0774</td>\n",
              "      <td>9.0774</td>\n",
              "      <td>9.0774</td>\n",
              "      <td>1.539782</td>\n",
              "      <td>1.539782</td>\n",
              "      <td>1.539782</td>\n",
              "      <td>4679.537682</td>\n",
              "      <td>4679.537682</td>\n",
              "      <td>4679.537682</td>\n",
              "      <td>106.957106</td>\n",
              "      <td>106.957106</td>\n",
              "      <td>106.957106</td>\n",
              "      <td>95.011173</td>\n",
              "      <td>95.011173</td>\n",
              "      <td>95.011173</td>\n",
              "      <td>2.095315</td>\n",
              "      <td>2.095315</td>\n",
              "      <td>2.095315</td>\n",
              "      <td>-137.134997</td>\n",
              "      <td>-137.134997</td>\n",
              "      <td>-137.134997</td>\n",
              "      <td>0.0</td>\n",
              "      <td>0.0</td>\n",
              "      <td>0.0</td>\n",
              "      <td>7241.937587</td>\n",
              "    </tr>\n",
              "  </tbody>\n",
              "</table>\n",
              "<p>5 rows × 124 columns</p>\n",
              "</div>"
            ],
            "text/plain": [
              "          ds        trend  ...  multiplicative_terms_upper         yhat\n",
              "0 2020-01-01  2697.094994  ...                         0.0  7412.321082\n",
              "1 2020-01-02  2697.181142  ...                         0.0  7340.203291\n",
              "2 2020-01-03  2697.267291  ...                         0.0  7206.811027\n",
              "3 2020-01-04  2697.353439  ...                         0.0  7255.701690\n",
              "4 2020-01-05  2697.439587  ...                         0.0  7241.937587\n",
              "\n",
              "[5 rows x 124 columns]"
            ]
          },
          "metadata": {
            "tags": []
          },
          "execution_count": 44
        }
      ]
    },
    {
      "cell_type": "code",
      "metadata": {
        "colab": {
          "base_uri": "https://localhost:8080/"
        },
        "id": "67Y6wUK7GXLW",
        "outputId": "5a48df0e-ea6b-4a9a-a083-2bf951af2bb7"
      },
      "source": [
        "df_valid[\"Forecast_Prophet\"] = forecast.yhat.values"
      ],
      "execution_count": null,
      "outputs": [
        {
          "output_type": "stream",
          "text": [
            "/usr/local/lib/python3.7/dist-packages/ipykernel_launcher.py:1: SettingWithCopyWarning:\n",
            "\n",
            "\n",
            "A value is trying to be set on a copy of a slice from a DataFrame.\n",
            "Try using .loc[row_indexer,col_indexer] = value instead\n",
            "\n",
            "See the caveats in the documentation: https://pandas.pydata.org/pandas-docs/stable/user_guide/indexing.html#returning-a-view-versus-a-copy\n",
            "\n"
          ],
          "name": "stderr"
        }
      ]
    },
    {
      "cell_type": "code",
      "metadata": {
        "colab": {
          "base_uri": "https://localhost:8080/",
          "height": 467
        },
        "id": "_TG10V4jGbOa",
        "outputId": "16a7b1e7-3192-4967-906a-f96bdfe6f071"
      },
      "source": [
        "df_valid[[\"Weighted_Price\", \"Forecast_Prophet\"]].plot(figsize=(14, 7))"
      ],
      "execution_count": null,
      "outputs": [
        {
          "output_type": "execute_result",
          "data": {
            "text/plain": [
              "<matplotlib.axes._subplots.AxesSubplot at 0x7f761de44c50>"
            ]
          },
          "metadata": {
            "tags": []
          },
          "execution_count": 47
        },
        {
          "output_type": "display_data",
          "data": {
            "image/png": "[encoded data removed]",
            "text/plain": [
              "<Figure size 1008x504 with 1 Axes>"
            ]
          },
          "metadata": {
            "tags": []
          }
        }
      ]
    },
    {
      "cell_type": "code",
      "metadata": {
        "colab": {
          "base_uri": "https://localhost:8080/"
        },
        "id": "o-PIOjslGjwa",
        "outputId": "f762d2b1-07b8-4602-d55a-2a395e7a5177"
      },
      "source": [
        "test_mae = mean_absolute_error(df_valid['Weighted_Price'], df_valid['Forecast_Prophet'])\n",
        "test_rmse = np.sqrt(mean_squared_error(df_valid['Weighted_Price'], df_valid['Forecast_Prophet']))\n",
        "\n",
        "print(f\" Prophet's MAE : {test_mae}\")\n",
        "print(f\"Prophet's RMSE : {test_rmse}\")"
      ],
      "execution_count": null,
      "outputs": [
        {
          "output_type": "stream",
          "text": [
            " Prophet's MAE : 684.8617395159514\n",
            "Prophet's RMSE : 1300.8177166570993\n"
          ],
          "name": "stdout"
        }
      ]
    },
    {
      "cell_type": "code",
      "metadata": {
        "id": "9lytLkkVHWmX"
      },
      "source": [
        ""
      ],
      "execution_count": null,
      "outputs": []
    },
    {
      "cell_type": "code",
      "metadata": {
        "id": "ahfvLnBDG25k"
      },
      "source": [
        ""
      ],
      "execution_count": null,
      "outputs": []
    },
    {
      "cell_type": "markdown",
      "metadata": {
        "id": "c5_--xFJHSt7"
      },
      "source": [
        "**XG Boost**"
      ]
    },
    {
      "cell_type": "code",
      "metadata": {
        "id": "2lyR8aukHaKW"
      },
      "source": [
        "from sklearn import ensemble\n",
        "from sklearn import metrics\n",
        "from sklearn.model_selection import RandomizedSearchCV\n",
        "import xgboost as xgb\n",
        "from xgboost import plot_importance, plot_tree\n",
        "from sklearn.metrics import mean_squared_error, mean_absolute_error\n",
        "plt.style.use('fivethirtyeight')\n",
        "\n",
        "from datetime import datetime"
      ],
      "execution_count": null,
      "outputs": []
    },
    {
      "cell_type": "code",
      "metadata": {
        "id": "xg77NN8bHdY3"
      },
      "source": [
        "X_train, y_train = df_train[exogenous_features], df_train.Weighted_Price\n",
        "X_test, y_test = df_valid[exogenous_features], df_valid.Weighted_Price"
      ],
      "execution_count": null,
      "outputs": []
    },
    {
      "cell_type": "code",
      "metadata": {
        "id": "HKHlwtQXHgbD"
      },
      "source": [
        "reg = xgb.XGBRegressor()"
      ],
      "execution_count": null,
      "outputs": []
    },
    {
      "cell_type": "code",
      "metadata": {
        "id": "V0LByELKHicj"
      },
      "source": [
        "\n",
        "params={\n",
        " \"learning_rate\"    : [0.05, 0.10, 0.15, 0.20, 0.25, 0.30],\n",
        " \"max_depth\"        : [1, 3, 4, 5, 6, 7],\n",
        " \"n_estimators\"     : [int(x) for x in np.linspace(start=100, stop=2000, num=10)],\n",
        " \"min_child_weight\" : [int(x) for x in np.arange(3, 15, 1)],\n",
        " \"gamma\"            : [ 0.0, 0.1, 0.2 , 0.3, 0.4, 0.5, 0.6, 0.7, 0.8, 0.9, 1],\n",
        " \"subsample\"        : [0.1, 0.2, 0.3, 0.4, 0.5, 0.6, 0.7, 0.8, 0.9, 1],\n",
        " \"colsample_bytree\" : [0.5, 0.6, 0.7, 0.8, 0.9, 1],\n",
        " \"colsample_bylevel\": [0.5, 0.6, 0.7, 0.8, 0.9, 1],  \n",
        " \n",
        "}"
      ],
      "execution_count": null,
      "outputs": []
    },
    {
      "cell_type": "code",
      "metadata": {
        "id": "tyn98tEBHm1L"
      },
      "source": [
        "model  = RandomizedSearchCV(    \n",
        "                reg,\n",
        "                param_distributions=params,\n",
        "                n_iter=10,\n",
        "                n_jobs=-1,\n",
        "                cv=5,\n",
        "                verbose=3,\n",
        ")"
      ],
      "execution_count": null,
      "outputs": []
    },
    {
      "cell_type": "code",
      "metadata": {
        "colab": {
          "base_uri": "https://localhost:8080/"
        },
        "id": "_xKjKerSHpbj",
        "outputId": "4313d279-0f33-4d26-8e89-fa125c659204"
      },
      "source": [
        "model.fit(X_train, y_train)"
      ],
      "execution_count": null,
      "outputs": [
        {
          "output_type": "stream",
          "text": [
            "Fitting 5 folds for each of 10 candidates, totalling 50 fits\n"
          ],
          "name": "stdout"
        },
        {
          "output_type": "stream",
          "text": [
            "[Parallel(n_jobs=-1)]: Using backend LokyBackend with 2 concurrent workers.\n",
            "[Parallel(n_jobs=-1)]: Done  28 tasks      | elapsed:  2.2min\n",
            "[Parallel(n_jobs=-1)]: Done  50 out of  50 | elapsed:  3.3min finished\n"
          ],
          "name": "stderr"
        },
        {
          "output_type": "stream",
          "text": [
            "[22:40:14] WARNING: /workspace/src/objective/regression_obj.cu:152: reg:linear is now deprecated in favor of reg:squarederror.\n"
          ],
          "name": "stdout"
        },
        {
          "output_type": "execute_result",
          "data": {
            "text/plain": [
              "RandomizedSearchCV(cv=5, error_score=nan,\n",
              "                   estimator=XGBRegressor(base_score=0.5, booster='gbtree',\n",
              "                                          colsample_bylevel=1,\n",
              "                                          colsample_bynode=1,\n",
              "                                          colsample_bytree=1, gamma=0,\n",
              "                                          importance_type='gain',\n",
              "                                          learning_rate=0.1, max_delta_step=0,\n",
              "                                          max_depth=3, min_child_weight=1,\n",
              "                                          missing=None, n_estimators=100,\n",
              "                                          n_jobs=1, nthread=None,\n",
              "                                          objective='reg:linear',\n",
              "                                          random_state=0, reg_alpha=...\n",
              "                                                  0.6, 0.7, 0.8, 0.9, 1],\n",
              "                                        'learning_rate': [0.05, 0.1, 0.15, 0.2,\n",
              "                                                          0.25, 0.3],\n",
              "                                        'max_depth': [1, 3, 4, 5, 6, 7],\n",
              "                                        'min_child_weight': [3, 4, 5, 6, 7, 8,\n",
              "                                                             9, 10, 11, 12, 13,\n",
              "                                                             14],\n",
              "                                        'n_estimators': [100, 311, 522, 733,\n",
              "                                                         944, 1155, 1366, 1577,\n",
              "                                                         1788, 2000],\n",
              "                                        'subsample': [0.1, 0.2, 0.3, 0.4, 0.5,\n",
              "                                                      0.6, 0.7, 0.8, 0.9, 1]},\n",
              "                   pre_dispatch='2*n_jobs', random_state=None, refit=True,\n",
              "                   return_train_score=False, scoring=None, verbose=3)"
            ]
          },
          "metadata": {
            "tags": []
          },
          "execution_count": 54
        }
      ]
    },
    {
      "cell_type": "code",
      "metadata": {
        "colab": {
          "base_uri": "https://localhost:8080/"
        },
        "id": "TcXZbhYEHr33",
        "outputId": "787f22a1-539d-4388-8447-76eacc15eb0f"
      },
      "source": [
        "df_valid['Forecast_XGBoost'] = model.predict(X_test)\n",
        "\n",
        "overall_data = pd.concat([df_train, df_valid], sort=False)\n"
      ],
      "execution_count": null,
      "outputs": [
        {
          "output_type": "stream",
          "text": [
            "/usr/local/lib/python3.7/dist-packages/ipykernel_launcher.py:1: SettingWithCopyWarning:\n",
            "\n",
            "\n",
            "A value is trying to be set on a copy of a slice from a DataFrame.\n",
            "Try using .loc[row_indexer,col_indexer] = value instead\n",
            "\n",
            "See the caveats in the documentation: https://pandas.pydata.org/pandas-docs/stable/user_guide/indexing.html#returning-a-view-versus-a-copy\n",
            "\n"
          ],
          "name": "stderr"
        }
      ]
    },
    {
      "cell_type": "code",
      "metadata": {
        "colab": {
          "base_uri": "https://localhost:8080/",
          "height": 391
        },
        "id": "Nvf1W6PbK48D",
        "outputId": "b38ce55d-96f6-4450-9b08-d279a872cb83"
      },
      "source": [
        "df_valid[['Weighted_Price','Forecast_XGBoost']].plot(figsize=(15, 5))"
      ],
      "execution_count": null,
      "outputs": [
        {
          "output_type": "execute_result",
          "data": {
            "text/plain": [
              "<matplotlib.axes._subplots.AxesSubplot at 0x7f76134d8ed0>"
            ]
          },
          "metadata": {
            "tags": []
          },
          "execution_count": 58
        },
        {
          "output_type": "display_data",
          "data": {
            "image/png": "[encoded data removed]",
            "text/plain": [
              "<Figure size 1080x360 with 1 Axes>"
            ]
          },
          "metadata": {
            "tags": []
          }
        }
      ]
    },
    {
      "cell_type": "code",
      "metadata": {
        "colab": {
          "base_uri": "https://localhost:8080/"
        },
        "id": "6IDZRU2WLt0R",
        "outputId": "a96010f1-8a41-4f07-b530-e8a7a271752c"
      },
      "source": [
        "test_mae = mean_absolute_error(df_valid['Weighted_Price'], df_valid['Forecast_XGBoost'])\n",
        "test_rmse = np.sqrt(mean_squared_error(df_valid['Weighted_Price'], df_valid['Forecast_XGBoost']))\n",
        "\n",
        "\n",
        "print(f\"test MAE : {test_mae}\")\n",
        "print(f\"test RMSE : {test_rmse}\")\n"
      ],
      "execution_count": null,
      "outputs": [
        {
          "output_type": "stream",
          "text": [
            "test MAE : 6393.130102415225\n",
            "test RMSE : 13356.43559358792\n"
          ],
          "name": "stdout"
        }
      ]
    },
    {
      "cell_type": "code",
      "metadata": {
        "colab": {
          "base_uri": "https://localhost:8080/",
          "height": 508
        },
        "id": "dFm5Q3SFMBHs",
        "outputId": "c2aac12b-ff1e-4ce1-8e0b-dc886ec63e29"
      },
      "source": [
        "df_valid[[\"Weighted_Price\", \"Forecast_ARIMAX\", \"Forecast_Prophet\", \"Forecast_XGBoost\"]].plot(figsize=(14,7))"
      ],
      "execution_count": null,
      "outputs": [
        {
          "output_type": "execute_result",
          "data": {
            "text/plain": [
              "<matplotlib.axes._subplots.AxesSubplot at 0x7f76134e0090>"
            ]
          },
          "metadata": {
            "tags": []
          },
          "execution_count": 62
        },
        {
          "output_type": "display_data",
          "data": {
            "image/png": "[encoded data removed]",
            "text/plain": [
              "<Figure size 1008x504 with 1 Axes>"
            ]
          },
          "metadata": {
            "tags": []
          }
        }
      ]
    },
    {
      "cell_type": "code",
      "metadata": {
        "colab": {
          "base_uri": "https://localhost:8080/"
        },
        "id": "UcflsuLfMScm",
        "outputId": "b9dd6601-b05f-4184-fcda-d247be28e64a"
      },
      "source": [
        "arimax_rmse = np.sqrt(mean_squared_error(df_valid['Weighted_Price'], df_valid['Forecast_ARIMAX']))\n",
        "fbp_rmse = np.sqrt(mean_squared_error(df_valid['Weighted_Price'], df_valid['Forecast_Prophet']))\n",
        "xgb_rmse = np.sqrt(mean_squared_error(df_valid['Weighted_Price'], df_valid['Forecast_XGBoost']))\n",
        "\n",
        "arimax_mae = mean_absolute_error(df_valid['Weighted_Price'], df_valid['Forecast_ARIMAX'])\n",
        "fbp_mae = mean_absolute_error(df_valid['Weighted_Price'], df_valid['Forecast_Prophet'])\n",
        "xgb_mae = mean_absolute_error(df_valid['Weighted_Price'], df_valid['Forecast_XGBoost'])\n",
        "\n",
        "\n",
        "print(\"ARIMAX RMSE :\", arimax_rmse)\n",
        "print(\"FB Prophet RMSE :\", fbp_rmse)\n",
        "print(\"XGBoost RMSE :\", xgb_rmse)\n",
        "\n",
        "print(\"\\nARIMAX MAE :\", arimax_mae)\n",
        "print(\"FB Prophet MAE :\", fbp_mae)\n",
        "print(\"XGBoost MAE :\", xgb_mae)"
      ],
      "execution_count": null,
      "outputs": [
        {
          "output_type": "stream",
          "text": [
            "ARIMAX RMSE : 1165.141512318165\n",
            "FB Prophet RMSE : 1300.8177166570993\n",
            "XGBoost RMSE : 13356.43559358792\n",
            "\n",
            "ARIMAX MAE : 657.1939439158194\n",
            "FB Prophet MAE : 684.8617395159514\n",
            "XGBoost MAE : 6393.130102415225\n"
          ],
          "name": "stdout"
        }
      ]
    },
    {
      "cell_type": "code",
      "metadata": {
        "id": "7K1OmkIFM_R7"
      },
      "source": [
        ""
      ],
      "execution_count": null,
      "outputs": []
    }
  ]
}