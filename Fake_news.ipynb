{
  "nbformat": 4,
  "nbformat_minor": 0,
  "metadata": {
    "colab": {
      "name": "Fake news.ipynb",
      "provenance": [],
      "collapsed_sections": [],
      "authorship_tag": "ABX9TyOUGnW8I0Ym5CHVXkWjI4pS",
      "include_colab_link": true
    },
    "kernelspec": {
      "name": "python3",
      "display_name": "Python 3"
    },
    "language_info": {
      "name": "python"
    }
  },
  "cells": [
    {
      "cell_type": "markdown",
      "metadata": {
        "id": "view-in-github",
        "colab_type": "text"
      },
      "source": [
        "<a href=\"https://colab.research.google.com/github/rajgaurang/myprofile/blob/master/Fake_news.ipynb\" target=\"_parent\"><img src=\"https://colab.research.google.com/assets/colab-badge.svg\" alt=\"Open In Colab\"/></a>"
      ]
    },
    {
      "cell_type": "code",
      "metadata": {
        "id": "ANbUyo5lvPDb"
      },
      "source": [
        "import numpy as np\n",
        "import pandas as pd\n",
        "import seaborn as sns\n",
        "import matplotlib.pyplot as plt\n",
        "%matplotlib inline\n",
        "import string\n",
        "import nltk\n",
        "from nltk.corpus import stopwords\n",
        "from nltk.stem.porter import PorterStemmer\n",
        "from nltk import word_tokenize\n",
        "from nltk.tokenize import WhitespaceTokenizer \n",
        "from sklearn.feature_extraction.text import CountVectorizer\n",
        "from sklearn.feature_extraction.text import TfidfTransformer\n",
        "from sklearn.naive_bayes import MultinomialNB\n",
        "from sklearn.pipeline import Pipeline\n",
        "from sklearn.ensemble import RandomForestClassifier\n",
        "from sklearn.linear_model import PassiveAggressiveClassifier\n",
        "from sklearn.model_selection import train_test_split\n",
        "from sklearn.metrics import classification_report,confusion_matrix,accuracy_score"
      ],
      "execution_count": null,
      "outputs": []
    },
    {
      "cell_type": "code",
      "metadata": {
        "colab": {
          "base_uri": "https://localhost:8080/"
        },
        "id": "ctJNMSXG_Jra",
        "outputId": "aa29ad4c-f6a2-4fa9-b602-94f8243c9340"
      },
      "source": [
        "from google.colab import drive \n",
        "drive.mount('/content/drive')"
      ],
      "execution_count": null,
      "outputs": [
        {
          "output_type": "stream",
          "text": [
            "Drive already mounted at /content/drive; to attempt to forcibly remount, call drive.mount(\"/content/drive\", force_remount=True).\n"
          ],
          "name": "stdout"
        }
      ]
    },
    {
      "cell_type": "code",
      "metadata": {
        "id": "twKqSHRBvgJV"
      },
      "source": [
        "df_real = pd.read_csv(\"/content/drive/MyDrive/news/BuzzFeed_real_news_content.csv\")"
      ],
      "execution_count": null,
      "outputs": []
    },
    {
      "cell_type": "code",
      "metadata": {
        "colab": {
          "base_uri": "https://localhost:8080/"
        },
        "id": "z3ehjD9OCrnA",
        "outputId": "710043e9-1f21-4c87-e54f-994c49e63581"
      },
      "source": [
        "df_real.shape"
      ],
      "execution_count": null,
      "outputs": [
        {
          "output_type": "execute_result",
          "data": {
            "text/plain": [
              "(91, 12)"
            ]
          },
          "metadata": {
            "tags": []
          },
          "execution_count": 185
        }
      ]
    },
    {
      "cell_type": "code",
      "metadata": {
        "id": "nZs_yvPIC6M-"
      },
      "source": [
        "df_fake=pd.read_csv('/content/drive/MyDrive/news/BuzzFeed_fake_news_content.csv')"
      ],
      "execution_count": null,
      "outputs": []
    },
    {
      "cell_type": "code",
      "metadata": {
        "colab": {
          "base_uri": "https://localhost:8080/"
        },
        "id": "_itX6lqhDOIn",
        "outputId": "8968b9bf-47de-4827-f9e2-ea7dd701c455"
      },
      "source": [
        "df_fake.shape"
      ],
      "execution_count": null,
      "outputs": [
        {
          "output_type": "execute_result",
          "data": {
            "text/plain": [
              "(91, 12)"
            ]
          },
          "metadata": {
            "tags": []
          },
          "execution_count": 187
        }
      ]
    },
    {
      "cell_type": "code",
      "metadata": {
        "id": "rc-3IYp2DRXJ"
      },
      "source": [
        "df=pd.concat([df_real,df_fake],axis=0)"
      ],
      "execution_count": null,
      "outputs": []
    },
    {
      "cell_type": "code",
      "metadata": {
        "colab": {
          "base_uri": "https://localhost:8080/"
        },
        "id": "lUSS6VyDDT7T",
        "outputId": "1b178028-515e-411b-cc25-1ce5f55c77ff"
      },
      "source": [
        "df.shape"
      ],
      "execution_count": null,
      "outputs": [
        {
          "output_type": "execute_result",
          "data": {
            "text/plain": [
              "(182, 12)"
            ]
          },
          "metadata": {
            "tags": []
          },
          "execution_count": 189
        }
      ]
    },
    {
      "cell_type": "code",
      "metadata": {
        "id": "KH5M0cAyDoLv"
      },
      "source": [
        "df['news_type']=df['id'].apply(lambda x: x.split('_')[0])"
      ],
      "execution_count": null,
      "outputs": []
    },
    {
      "cell_type": "code",
      "metadata": {
        "colab": {
          "base_uri": "https://localhost:8080/",
          "height": 318
        },
        "id": "6RI2vMWZDqia",
        "outputId": "b4e3106f-d6d1-4d99-af4d-e3b4eca0754a"
      },
      "source": [
        "df.head(2)"
      ],
      "execution_count": null,
      "outputs": [
        {
          "output_type": "execute_result",
          "data": {
            "text/html": [
              "<div>\n",
              "<style scoped>\n",
              "    .dataframe tbody tr th:only-of-type {\n",
              "        vertical-align: middle;\n",
              "    }\n",
              "\n",
              "    .dataframe tbody tr th {\n",
              "        vertical-align: top;\n",
              "    }\n",
              "\n",
              "    .dataframe thead th {\n",
              "        text-align: right;\n",
              "    }\n",
              "</style>\n",
              "<table border=\"1\" class=\"dataframe\">\n",
              "  <thead>\n",
              "    <tr style=\"text-align: right;\">\n",
              "      <th></th>\n",
              "      <th>id</th>\n",
              "      <th>title</th>\n",
              "      <th>text</th>\n",
              "      <th>url</th>\n",
              "      <th>top_img</th>\n",
              "      <th>authors</th>\n",
              "      <th>source</th>\n",
              "      <th>publish_date</th>\n",
              "      <th>movies</th>\n",
              "      <th>images</th>\n",
              "      <th>canonical_link</th>\n",
              "      <th>meta_data</th>\n",
              "      <th>news_type</th>\n",
              "    </tr>\n",
              "  </thead>\n",
              "  <tbody>\n",
              "    <tr>\n",
              "      <th>0</th>\n",
              "      <td>Real_1-Webpage</td>\n",
              "      <td>Another Terrorist Attack in NYC…Why Are we STI...</td>\n",
              "      <td>On Saturday, September 17 at 8:30 pm EST, an e...</td>\n",
              "      <td>http://eaglerising.com/36942/another-terrorist...</td>\n",
              "      <td>http://eaglerising.com/wp-content/uploads/2016...</td>\n",
              "      <td>View All Posts,Leonora Cravotta</td>\n",
              "      <td>http://eaglerising.com</td>\n",
              "      <td>{'$date': 1474528230000}</td>\n",
              "      <td>NaN</td>\n",
              "      <td>http://constitution.com/wp-content/uploads/201...</td>\n",
              "      <td>http://eaglerising.com/36942/another-terrorist...</td>\n",
              "      <td>{\"description\": \"\\u201cWe believe at this poin...</td>\n",
              "      <td>Real</td>\n",
              "    </tr>\n",
              "    <tr>\n",
              "      <th>1</th>\n",
              "      <td>Real_10-Webpage</td>\n",
              "      <td>Donald Trump: Drugs a 'Very, Very Big Factor' ...</td>\n",
              "      <td>Less than a day after protests over the police...</td>\n",
              "      <td>http://abcn.ws/2d4lNn9</td>\n",
              "      <td>http://a.abcnews.com/images/Politics/AP_donald...</td>\n",
              "      <td>More Candace,Adam Kelsey,Abc News,More Adam</td>\n",
              "      <td>http://abcn.ws</td>\n",
              "      <td>NaN</td>\n",
              "      <td>NaN</td>\n",
              "      <td>http://www.googleadservices.com/pagead/convers...</td>\n",
              "      <td>http://abcnews.go.com/Politics/donald-trump-dr...</td>\n",
              "      <td>{\"fb_title\": \"Trump: Drugs a 'Very, Very Big F...</td>\n",
              "      <td>Real</td>\n",
              "    </tr>\n",
              "  </tbody>\n",
              "</table>\n",
              "</div>"
            ],
            "text/plain": [
              "                id  ... news_type\n",
              "0   Real_1-Webpage  ...      Real\n",
              "1  Real_10-Webpage  ...      Real\n",
              "\n",
              "[2 rows x 13 columns]"
            ]
          },
          "metadata": {
            "tags": []
          },
          "execution_count": 191
        }
      ]
    },
    {
      "cell_type": "code",
      "metadata": {
        "id": "u-RA7Yd2Du29"
      },
      "source": [
        "df.drop(['id','url', 'top_img','authors','publish_date','canonical_link','meta_data'],axis=1, inplace=True)"
      ],
      "execution_count": null,
      "outputs": []
    },
    {
      "cell_type": "code",
      "metadata": {
        "colab": {
          "base_uri": "https://localhost:8080/"
        },
        "id": "f1LT7ZRKD916",
        "outputId": "bc5aa090-1911-4867-d7a8-f97639e51798"
      },
      "source": [
        "df.isnull().sum()"
      ],
      "execution_count": null,
      "outputs": [
        {
          "output_type": "execute_result",
          "data": {
            "text/plain": [
              "title          0\n",
              "text           0\n",
              "source         8\n",
              "movies       157\n",
              "images        10\n",
              "news_type      0\n",
              "dtype: int64"
            ]
          },
          "metadata": {
            "tags": []
          },
          "execution_count": 193
        }
      ]
    },
    {
      "cell_type": "code",
      "metadata": {
        "colab": {
          "base_uri": "https://localhost:8080/"
        },
        "id": "iZJACyFuEAZO",
        "outputId": "c630fac5-6808-4773-9311-8992c72d62a4"
      },
      "source": [
        "(df.isnull().sum())/(df.shape[0])*100"
      ],
      "execution_count": null,
      "outputs": [
        {
          "output_type": "execute_result",
          "data": {
            "text/plain": [
              "title         0.000000\n",
              "text          0.000000\n",
              "source        4.395604\n",
              "movies       86.263736\n",
              "images        5.494505\n",
              "news_type     0.000000\n",
              "dtype: float64"
            ]
          },
          "metadata": {
            "tags": []
          },
          "execution_count": 194
        }
      ]
    },
    {
      "cell_type": "code",
      "metadata": {
        "id": "KwIpTRVFEDi2"
      },
      "source": [
        "df['contain_movies']=df['movies'].apply(lambda x: 0 if str(x)=='nan' else 1)"
      ],
      "execution_count": null,
      "outputs": []
    },
    {
      "cell_type": "code",
      "metadata": {
        "id": "NvZZ5kYkEH-g"
      },
      "source": [
        "df['contain_images']=df['images'].apply(lambda x: 0 if str(x)=='nan' else 1)"
      ],
      "execution_count": null,
      "outputs": []
    },
    {
      "cell_type": "code",
      "metadata": {
        "id": "GPQG4d25EKMA"
      },
      "source": [
        "df.drop(['movies','images'],axis=1,inplace=True)"
      ],
      "execution_count": null,
      "outputs": []
    },
    {
      "cell_type": "code",
      "metadata": {
        "colab": {
          "base_uri": "https://localhost:8080/",
          "height": 111
        },
        "id": "4Y8Y-HByEOKx",
        "outputId": "c03e89bf-91d8-4de3-fdc1-2085b2186e11"
      },
      "source": [
        "df.head(2)"
      ],
      "execution_count": null,
      "outputs": [
        {
          "output_type": "execute_result",
          "data": {
            "text/html": [
              "<div>\n",
              "<style scoped>\n",
              "    .dataframe tbody tr th:only-of-type {\n",
              "        vertical-align: middle;\n",
              "    }\n",
              "\n",
              "    .dataframe tbody tr th {\n",
              "        vertical-align: top;\n",
              "    }\n",
              "\n",
              "    .dataframe thead th {\n",
              "        text-align: right;\n",
              "    }\n",
              "</style>\n",
              "<table border=\"1\" class=\"dataframe\">\n",
              "  <thead>\n",
              "    <tr style=\"text-align: right;\">\n",
              "      <th></th>\n",
              "      <th>title</th>\n",
              "      <th>text</th>\n",
              "      <th>source</th>\n",
              "      <th>news_type</th>\n",
              "      <th>contain_movies</th>\n",
              "      <th>contain_images</th>\n",
              "    </tr>\n",
              "  </thead>\n",
              "  <tbody>\n",
              "    <tr>\n",
              "      <th>0</th>\n",
              "      <td>Another Terrorist Attack in NYC…Why Are we STI...</td>\n",
              "      <td>On Saturday, September 17 at 8:30 pm EST, an e...</td>\n",
              "      <td>http://eaglerising.com</td>\n",
              "      <td>Real</td>\n",
              "      <td>0</td>\n",
              "      <td>1</td>\n",
              "    </tr>\n",
              "    <tr>\n",
              "      <th>1</th>\n",
              "      <td>Donald Trump: Drugs a 'Very, Very Big Factor' ...</td>\n",
              "      <td>Less than a day after protests over the police...</td>\n",
              "      <td>http://abcn.ws</td>\n",
              "      <td>Real</td>\n",
              "      <td>0</td>\n",
              "      <td>1</td>\n",
              "    </tr>\n",
              "  </tbody>\n",
              "</table>\n",
              "</div>"
            ],
            "text/plain": [
              "                                               title  ... contain_images\n",
              "0  Another Terrorist Attack in NYC…Why Are we STI...  ...              1\n",
              "1  Donald Trump: Drugs a 'Very, Very Big Factor' ...  ...              1\n",
              "\n",
              "[2 rows x 6 columns]"
            ]
          },
          "metadata": {
            "tags": []
          },
          "execution_count": 198
        }
      ]
    },
    {
      "cell_type": "code",
      "metadata": {
        "id": "VBwcSGqqEQec"
      },
      "source": [
        "real_order=df[df['news_type']=='Real']['source'].value_counts().sort_values(ascending=False).index"
      ],
      "execution_count": null,
      "outputs": []
    },
    {
      "cell_type": "code",
      "metadata": {
        "colab": {
          "base_uri": "https://localhost:8080/",
          "height": 409
        },
        "id": "vNd4_drwETl3",
        "outputId": "d50abacc-89c1-487e-91f4-8a25a35bc7b1"
      },
      "source": [
        "plt.figure(figsize=(10,6))\n",
        "sns.countplot(y='source', data=df[df['news_type']=='Real'],order=real_order,palette='inferno_r')\n",
        "plt.xlabel('Count',fontsize=12)\n",
        "plt.ylabel('Source',fontsize=12)\n",
        "plt.title('Sources of Real News',fontsize=15)\n",
        "plt.show()"
      ],
      "execution_count": null,
      "outputs": [
        {
          "output_type": "display_data",
          "data": {
            "image/png": "[encoded data removed]",
            "text/plain": [
              "<Figure size 720x432 with 1 Axes>"
            ]
          },
          "metadata": {
            "tags": [],
            "needs_background": "light"
          }
        }
      ]
    },
    {
      "cell_type": "code",
      "metadata": {
        "id": "2mqvbGAxEV0f"
      },
      "source": [
        "fake_order=df[df['news_type']=='Fake']['source'].value_counts().sort_values(ascending=False).index"
      ],
      "execution_count": null,
      "outputs": []
    },
    {
      "cell_type": "code",
      "metadata": {
        "colab": {
          "base_uri": "https://localhost:8080/",
          "height": 412
        },
        "id": "-6v8ZkwCE7GU",
        "outputId": "28d159d7-4169-4026-9333-4a594f6d5306"
      },
      "source": [
        "plt.figure(figsize=(10,6))\n",
        "sns.countplot(y='source',data=df[df['news_type']=='Fake'],order=fake_order,palette='inferno_r')\n",
        "plt.xlabel('Count',fontsize=12)\n",
        "plt.ylabel('Source',fontsize=12)\n",
        "plt.title('Sources of Fake News',fontsize=20)\n",
        "plt.show()\n"
      ],
      "execution_count": null,
      "outputs": [
        {
          "output_type": "display_data",
          "data": {
            "image/png": "[encoded data removed]",
            "text/plain": [
              "<Figure size 720x432 with 1 Axes>"
            ]
          },
          "metadata": {
            "tags": [],
            "needs_background": "light"
          }
        }
      ]
    },
    {
      "cell_type": "code",
      "metadata": {
        "colab": {
          "base_uri": "https://localhost:8080/"
        },
        "id": "o6t5C0DoE-22",
        "outputId": "0ec57e13-f5de-4ad5-9edc-a48a8950e94d"
      },
      "source": [
        "new=[]\n",
        "for x in df[df['news_type']=='Fake']['source'].unique():\n",
        "    if x in df[df['news_type']=='Real']['source'].unique():\n",
        "        new.append(x)\n",
        "print(new)"
      ],
      "execution_count": null,
      "outputs": [
        {
          "output_type": "stream",
          "text": [
            "['http://www.addictinginfo.org', 'http://eaglerising.com', 'http://conservativebyte.com', 'http://winningdemocrats.com', 'http://freedomdaily.com', 'http://occupydemocrats.com', 'http://rightwingnews.com', 'http://addictinginfo.org']\n"
          ],
          "name": "stdout"
        }
      ]
    },
    {
      "cell_type": "code",
      "metadata": {
        "id": "DFpPzajcFTd9"
      },
      "source": [
        "df['common']=df['source'].apply(lambda x: x if x in new else 0)"
      ],
      "execution_count": null,
      "outputs": []
    },
    {
      "cell_type": "code",
      "metadata": {
        "id": "E5l55Rp9FYuJ"
      },
      "source": [
        "df1=df[df['common']!=0]"
      ],
      "execution_count": null,
      "outputs": []
    },
    {
      "cell_type": "code",
      "metadata": {
        "colab": {
          "base_uri": "https://localhost:8080/",
          "height": 412
        },
        "id": "SMZJRxGgFa69",
        "outputId": "98705949-7441-439c-86f6-3dee646c0cf6"
      },
      "source": [
        "plt.figure(figsize=(10,6))\n",
        "sns.countplot(y='common',data=df1,hue='news_type',palette='inferno_r')\n",
        "plt.xlabel('Count',fontsize=12)\n",
        "plt.ylabel('Source',fontsize=12)\n",
        "plt.legend(loc='best', title='News Type',fontsize=10)\n",
        "plt.title('Common Sources of Real and Fake News',fontsize=20)\n",
        "plt.show()"
      ],
      "execution_count": null,
      "outputs": [
        {
          "output_type": "display_data",
          "data": {
            "image/png": "[encoded data removed]",
            "text/plain": [
              "<Figure size 720x432 with 1 Axes>"
            ]
          },
          "metadata": {
            "tags": [],
            "needs_background": "light"
          }
        }
      ]
    },
    {
      "cell_type": "code",
      "metadata": {
        "colab": {
          "base_uri": "https://localhost:8080/",
          "height": 411
        },
        "id": "dREjDkD5Fc1q",
        "outputId": "e13735aa-9d49-4f2f-9cb6-64f25a163542"
      },
      "source": [
        "plt.figure(figsize=(10,6))\n",
        "sns.countplot(x='contain_movies', data=df, hue='news_type', palette='inferno_r')\n",
        "plt.xlabel('Movies Linked to News',fontsize=12)\n",
        "plt.ylabel('Count',fontsize=12)\n",
        "plt.legend(loc='best', title='News Type',fontsize=10)\n",
        "plt.title('Number of Different News Type Versus Linked Movies',fontsize=18)\n",
        "plt.show()"
      ],
      "execution_count": null,
      "outputs": [
        {
          "output_type": "display_data",
          "data": {
            "image/png": "[encoded data removed]",
            "text/plain": [
              "<Figure size 720x432 with 1 Axes>"
            ]
          },
          "metadata": {
            "tags": [],
            "needs_background": "light"
          }
        }
      ]
    },
    {
      "cell_type": "code",
      "metadata": {
        "colab": {
          "base_uri": "https://localhost:8080/",
          "height": 411
        },
        "id": "xd1E77yEFsLZ",
        "outputId": "a937d0a2-bfe2-4d57-e8ff-43ba43f22745"
      },
      "source": [
        "plt.figure(figsize=(10,6))\n",
        "sns.countplot(x='contain_images', data=df, hue='news_type', palette='inferno_r')\n",
        "plt.xlabel('Images Linked to News',fontsize=12)\n",
        "plt.ylabel('Count',fontsize=12)\n",
        "plt.legend(loc='upper left', title='News Type',fontsize=10)\n",
        "plt.title('Number of Different News Type Versus Linked Images',fontsize=18)\n",
        "plt.show()"
      ],
      "execution_count": null,
      "outputs": [
        {
          "output_type": "display_data",
          "data": {
            "image/png": "[encoded data removed]",
            "text/plain": [
              "<Figure size 720x432 with 1 Axes>"
            ]
          },
          "metadata": {
            "tags": [],
            "needs_background": "light"
          }
        }
      ]
    },
    {
      "cell_type": "code",
      "metadata": {
        "id": "xoo2QUZ7F8Ql"
      },
      "source": [
        "ps=PorterStemmer()\n",
        "wst= WhitespaceTokenizer() \n",
        "\n",
        "##### 1. Converting text to lower case\n",
        "def lower_func (x):\n",
        "    return x.lower()\n",
        "\n",
        "\n",
        "##### 2. Removing Numbers from the text corpus\n",
        "def remove_number_func (x): \n",
        "    new=\"\"\n",
        "    for a in x:\n",
        "        if a.isdigit()==False:\n",
        "            new=new+a\n",
        "    return new\n",
        "\n",
        "\n",
        "##### 3. Removing punctuation \n",
        "def remove_punc_func(x):\n",
        "    new=''\n",
        "    for a in x:\n",
        "        if a not in string.punctuation:\n",
        "            new=new+a\n",
        "    return new\n",
        "\n",
        "##### 4. Removing special characters\n",
        "def remove_spec_char_func(x):\n",
        "    new=''\n",
        "    for a in x:\n",
        "        if (a.isalnum()==True) or (a==' '):\n",
        "            new=new+a\n",
        "    return(new)\n",
        "\n",
        "##### 5. Removing english stopwords\n",
        "def remove_stopwords(x):\n",
        "    new=[]\n",
        "    for a in x.split():\n",
        "        if a not in stopwords.words('english'):\n",
        "            new.append(a)\n",
        "    return \" \".join(new)\n",
        "\n",
        "##### 6. Stemming words to root words\n",
        "def stem_func(x):\n",
        "    wordlist = word_tokenize(x)\n",
        "    psstem = [ps.stem(a) for a in wordlist]\n",
        "    return ' '.join(psstem)\n",
        "\n",
        "##### 7. Removing extra whitespaces \n",
        "def remove_whitespace_func(x):\n",
        "    return(wst.tokenize(x))\n",
        "\n",
        "def compose(f, g):\n",
        "    return lambda x: f(g(x))\n",
        "\n",
        "final=compose(compose(compose(compose(compose(compose(remove_whitespace_func,stem_func),remove_stopwords),remove_spec_char_func),remove_punc_func),remove_number_func),lower_func)"
      ],
      "execution_count": null,
      "outputs": []
    },
    {
      "cell_type": "code",
      "metadata": {
        "id": "QxiTJ2geGJll"
      },
      "source": [
        "df_fake=df[df['news_type']=='Fake']"
      ],
      "execution_count": null,
      "outputs": []
    },
    {
      "cell_type": "code",
      "metadata": {
        "colab": {
          "base_uri": "https://localhost:8080/"
        },
        "id": "JHY1PrUlGnnt",
        "outputId": "57e4acb2-512a-498a-fd72-c09718b1843b"
      },
      "source": [
        "import nltk\n",
        "nltk.download('stopwords')\n",
        "nltk.download('punkt')"
      ],
      "execution_count": null,
      "outputs": [
        {
          "output_type": "stream",
          "text": [
            "[nltk_data] Downloading package stopwords to /root/nltk_data...\n",
            "[nltk_data]   Package stopwords is already up-to-date!\n",
            "[nltk_data] Downloading package punkt to /root/nltk_data...\n",
            "[nltk_data]   Package punkt is already up-to-date!\n"
          ],
          "name": "stdout"
        },
        {
          "output_type": "execute_result",
          "data": {
            "text/plain": [
              "True"
            ]
          },
          "metadata": {
            "tags": []
          },
          "execution_count": 211
        }
      ]
    },
    {
      "cell_type": "code",
      "metadata": {
        "id": "w805V-tXGPDm"
      },
      "source": [
        "cv1 = CountVectorizer(analyzer=final)\n",
        "cv1.fit(df_fake['title'])\n",
        "bow1=cv1.transform(df_fake['title'])"
      ],
      "execution_count": null,
      "outputs": []
    },
    {
      "cell_type": "code",
      "metadata": {
        "colab": {
          "base_uri": "https://localhost:8080/"
        },
        "id": "5AkJH_rNGRtb",
        "outputId": "743f2db0-6f4a-4493-8063-11b161da08d7"
      },
      "source": [
        "pd.DataFrame(bow1.todense()).shape"
      ],
      "execution_count": null,
      "outputs": [
        {
          "output_type": "execute_result",
          "data": {
            "text/plain": [
              "(91, 459)"
            ]
          },
          "metadata": {
            "tags": []
          },
          "execution_count": 213
        }
      ]
    },
    {
      "cell_type": "code",
      "metadata": {
        "id": "YUVtZaC5G5Qa"
      },
      "source": [
        "new1=[]\n",
        "for x in range(0,459):\n",
        "    new1.append(cv1.get_feature_names()[x])"
      ],
      "execution_count": null,
      "outputs": []
    },
    {
      "cell_type": "code",
      "metadata": {
        "id": "BvRsU0WgG7q4"
      },
      "source": [
        "matrix1=pd.DataFrame(bow1.todense(),columns=new1)"
      ],
      "execution_count": null,
      "outputs": []
    },
    {
      "cell_type": "code",
      "metadata": {
        "id": "g1npgZvHG-8T"
      },
      "source": [
        "sm1=[]\n",
        "for x in new1:\n",
        "    sm1.append(matrix1[x].sum())"
      ],
      "execution_count": null,
      "outputs": []
    },
    {
      "cell_type": "code",
      "metadata": {
        "id": "xievO461HAza"
      },
      "source": [
        "trans1=matrix1.transpose()"
      ],
      "execution_count": null,
      "outputs": []
    },
    {
      "cell_type": "code",
      "metadata": {
        "id": "XUZBxyQ5HC4Y"
      },
      "source": [
        "trans1['sum']=sm1"
      ],
      "execution_count": null,
      "outputs": []
    },
    {
      "cell_type": "code",
      "metadata": {
        "id": "SbYZ24h9HFgE"
      },
      "source": [
        "top1=trans1.sort_values(by='sum', ascending=False).head(20)"
      ],
      "execution_count": null,
      "outputs": []
    },
    {
      "cell_type": "code",
      "metadata": {
        "id": "iQpXVAHdHHj0"
      },
      "source": [
        "df_real=df[df['news_type']=='Real']"
      ],
      "execution_count": null,
      "outputs": []
    },
    {
      "cell_type": "code",
      "metadata": {
        "id": "yU-aOUpjHKAd"
      },
      "source": [
        "cv2 = CountVectorizer(analyzer=final)\n",
        "cv2.fit(df_real['title'])\n",
        "bow2=cv2.transform(df_real['title'])"
      ],
      "execution_count": null,
      "outputs": []
    },
    {
      "cell_type": "code",
      "metadata": {
        "colab": {
          "base_uri": "https://localhost:8080/"
        },
        "id": "jn4TkzzMHM2T",
        "outputId": "7fe01674-dd23-496c-f364-f43b7d2056ce"
      },
      "source": [
        "pd.DataFrame(bow2.todense()).shape"
      ],
      "execution_count": null,
      "outputs": [
        {
          "output_type": "execute_result",
          "data": {
            "text/plain": [
              "(91, 436)"
            ]
          },
          "metadata": {
            "tags": []
          },
          "execution_count": 222
        }
      ]
    },
    {
      "cell_type": "code",
      "metadata": {
        "id": "Bh9wLX5dHO1f"
      },
      "source": [
        "new2=[]\n",
        "for x in range(0,436):\n",
        "    new2.append(cv2.get_feature_names()[x])"
      ],
      "execution_count": null,
      "outputs": []
    },
    {
      "cell_type": "code",
      "metadata": {
        "id": "9DE-JDuQHRjI"
      },
      "source": [
        "matrix2=pd.DataFrame(bow2.todense(),columns=new2)"
      ],
      "execution_count": null,
      "outputs": []
    },
    {
      "cell_type": "code",
      "metadata": {
        "id": "PJTEyDBjHTvV"
      },
      "source": [
        "sm2=[]\n",
        "for x in new2:\n",
        "    sm2.append(matrix2[x].sum())"
      ],
      "execution_count": null,
      "outputs": []
    },
    {
      "cell_type": "code",
      "metadata": {
        "id": "a-tNM9lVHVxq"
      },
      "source": [
        "trans2=matrix2.transpose()"
      ],
      "execution_count": null,
      "outputs": []
    },
    {
      "cell_type": "code",
      "metadata": {
        "id": "_l-dAjZNHYhf"
      },
      "source": [
        "trans2['sum']=sm2"
      ],
      "execution_count": null,
      "outputs": []
    },
    {
      "cell_type": "code",
      "metadata": {
        "id": "m4-Hg4cOHaPc"
      },
      "source": [
        "top2=trans2.sort_values(by='sum', ascending=False).head(20)"
      ],
      "execution_count": null,
      "outputs": []
    },
    {
      "cell_type": "code",
      "metadata": {
        "id": "4MpM9rqjHcEr"
      },
      "source": [
        "top1.drop(list(range(0,91)),axis=1,inplace=True)"
      ],
      "execution_count": null,
      "outputs": []
    },
    {
      "cell_type": "code",
      "metadata": {
        "id": "nhoQYZmgHfEN"
      },
      "source": [
        "top1['type']=['Fake']*20\n",
        "top2.drop(list(range(0,91)),axis=1,inplace=True)\n",
        "top2['type']=['Real']*20\n",
        "conc1=pd.concat([top1,top2])"
      ],
      "execution_count": null,
      "outputs": []
    },
    {
      "cell_type": "code",
      "metadata": {
        "colab": {
          "base_uri": "https://localhost:8080/",
          "height": 632
        },
        "id": "OSFxHE75Hr7G",
        "outputId": "e091dbdf-bd52-4ce6-8f60-220cd1537dec"
      },
      "source": [
        "plt.figure(figsize=(12,10))\n",
        "sns.barplot(y=conc1.index,x='sum',data=conc1,hue='type',palette='inferno_r')\n",
        "plt.xticks(rotation=90)\n",
        "plt.xlabel('Term Frequency of Words',fontsize=12)\n",
        "plt.ylabel('Top Words in Titles',fontsize=12)\n",
        "plt.legend(title='News Type',fontsize=12)\n",
        "plt.title('Frequency of Words in the Title of News',fontsize=20)\n",
        "plt.show()"
      ],
      "execution_count": null,
      "outputs": [
        {
          "output_type": "display_data",
          "data": {
            "image/png": "[encoded data removed]",
            "text/plain": [
              "<Figure size 864x720 with 1 Axes>"
            ]
          },
          "metadata": {
            "tags": [],
            "needs_background": "light"
          }
        }
      ]
    },
    {
      "cell_type": "code",
      "metadata": {
        "id": "7Omc5SFLHvHV"
      },
      "source": [
        "cv3 = CountVectorizer(analyzer=final)\n",
        "cv3.fit(df_fake['text'])\n",
        "bow3=cv3.transform(df_fake['text'])"
      ],
      "execution_count": null,
      "outputs": []
    },
    {
      "cell_type": "code",
      "metadata": {
        "colab": {
          "base_uri": "https://localhost:8080/"
        },
        "id": "66356aP6O5b4",
        "outputId": "bb90e3b4-5db3-4bd2-de54-c2625a5b30d4"
      },
      "source": [
        "pd.DataFrame(bow3.todense()).shape"
      ],
      "execution_count": null,
      "outputs": [
        {
          "output_type": "execute_result",
          "data": {
            "text/plain": [
              "(91, 4958)"
            ]
          },
          "metadata": {
            "tags": []
          },
          "execution_count": 233
        }
      ]
    },
    {
      "cell_type": "code",
      "metadata": {
        "id": "nthGpcjDO_IK"
      },
      "source": [
        "new3=[]\n",
        "for x in range(0,4958):\n",
        "    new3.append(cv3.get_feature_names()[x])\n",
        "matrix3=pd.DataFrame(bow3.todense(),columns=new3)\n",
        "sm3=[]\n",
        "for x in new3:\n",
        "    sm3.append(matrix3[x].sum())"
      ],
      "execution_count": null,
      "outputs": []
    },
    {
      "cell_type": "code",
      "metadata": {
        "id": "CNhKSqvKPEoo"
      },
      "source": [
        "trans3=matrix3.transpose()\n",
        "trans3['sum']=sm3\n",
        "top3=trans3.sort_values(by='sum', ascending=False).head(30)"
      ],
      "execution_count": null,
      "outputs": []
    },
    {
      "cell_type": "code",
      "metadata": {
        "colab": {
          "base_uri": "https://localhost:8080/"
        },
        "id": "pK2QZ52mPJ0w",
        "outputId": "58ffd652-3c50-4528-8a18-74d61b741bae"
      },
      "source": [
        "cv4 = CountVectorizer(analyzer=final)\n",
        "cv4.fit(df_real['text'])\n",
        "bow4=cv4.transform(df_real['text'])\n",
        "pd.DataFrame(bow4.todense()).shape"
      ],
      "execution_count": null,
      "outputs": [
        {
          "output_type": "execute_result",
          "data": {
            "text/plain": [
              "(91, 6529)"
            ]
          },
          "metadata": {
            "tags": []
          },
          "execution_count": 236
        }
      ]
    },
    {
      "cell_type": "code",
      "metadata": {
        "id": "33FA8dIqPNk0"
      },
      "source": [
        "new4=[]\n",
        "for x in range(0,6529):\n",
        "    new4.append(cv4.get_feature_names()[x])"
      ],
      "execution_count": null,
      "outputs": []
    },
    {
      "cell_type": "code",
      "metadata": {
        "id": "3lyVROq2PS1F"
      },
      "source": [
        "matrix4=pd.DataFrame(bow4.todense(),columns=new4)"
      ],
      "execution_count": null,
      "outputs": []
    },
    {
      "cell_type": "code",
      "metadata": {
        "id": "0eeoepEDPXDE"
      },
      "source": [
        "sm4=[]\n",
        "for x in new4:\n",
        "    sm4.append(matrix4[x].sum())"
      ],
      "execution_count": null,
      "outputs": []
    },
    {
      "cell_type": "code",
      "metadata": {
        "id": "GPFB3mppPcpv"
      },
      "source": [
        "trans4=matrix4.transpose()"
      ],
      "execution_count": null,
      "outputs": []
    },
    {
      "cell_type": "code",
      "metadata": {
        "id": "OoRZfVWCQb0n"
      },
      "source": [
        "trans4['sum']=sm4"
      ],
      "execution_count": null,
      "outputs": []
    },
    {
      "cell_type": "code",
      "metadata": {
        "id": "L6CvczlUQd48"
      },
      "source": [
        "top4=trans4.sort_values(by='sum', ascending=False).head(30)"
      ],
      "execution_count": null,
      "outputs": []
    },
    {
      "cell_type": "code",
      "metadata": {
        "id": "fy-MoSOdQf7M"
      },
      "source": [
        "top3.drop(list(range(0,91)),axis=1,inplace=True)"
      ],
      "execution_count": null,
      "outputs": []
    },
    {
      "cell_type": "code",
      "metadata": {
        "id": "1iS_NEcdQjMb"
      },
      "source": [
        "top3['type']=['Fake']*30"
      ],
      "execution_count": null,
      "outputs": []
    },
    {
      "cell_type": "code",
      "metadata": {
        "id": "wPggrOeXQ5Ud"
      },
      "source": [
        "top4.drop(list(range(0,91)),axis=1,inplace=True)"
      ],
      "execution_count": null,
      "outputs": []
    },
    {
      "cell_type": "code",
      "metadata": {
        "id": "378astO6RMzT"
      },
      "source": [
        "top4['type']=['Real']*30"
      ],
      "execution_count": null,
      "outputs": []
    },
    {
      "cell_type": "code",
      "metadata": {
        "id": "Wa1vTZuBRnFI"
      },
      "source": [
        "conc2=pd.concat([top3,top4])"
      ],
      "execution_count": null,
      "outputs": []
    },
    {
      "cell_type": "code",
      "metadata": {
        "colab": {
          "base_uri": "https://localhost:8080/",
          "height": 638
        },
        "id": "sGvZxpHxUWOi",
        "outputId": "84a15d65-fe75-45d3-e574-f6d74261aed4"
      },
      "source": [
        "plt.figure(figsize=(12,10))\n",
        "sns.barplot(y=conc2.index,x='sum',data=conc2,hue='type',palette='viridis')\n",
        "plt.xticks(rotation=90)\n",
        "plt.xlabel('Term Frequency of Words',fontsize=12)\n",
        "plt.ylabel('Top Words in Texts',fontsize=12)\n",
        "plt.legend(title='News Type',fontsize=12,loc='lower right')\n",
        "plt.title('Frequency of Words in the Text of News',fontsize=20)\n",
        "plt.show()"
      ],
      "execution_count": null,
      "outputs": [
        {
          "output_type": "display_data",
          "data": {
            "image/png": "[encoded data removed]",
            "text/plain": [
              "<Figure size 864x720 with 1 Axes>"
            ]
          },
          "metadata": {
            "tags": [],
            "needs_background": "light"
          }
        }
      ]
    },
    {
      "cell_type": "code",
      "metadata": {
        "id": "mjrFSgAgiFuF"
      },
      "source": [
        "df['title_length']=df['title'].apply(lambda x: len(x))"
      ],
      "execution_count": null,
      "outputs": []
    },
    {
      "cell_type": "code",
      "metadata": {
        "colab": {
          "base_uri": "https://localhost:8080/",
          "height": 409
        },
        "id": "LEhPcWyyiLKD",
        "outputId": "015ee289-f861-4e55-86d9-c13ff6073d81"
      },
      "source": [
        "plt.figure(figsize=(10,6))\n",
        "sns.kdeplot(df[df['news_type']=='Real']['title_length'])\n",
        "sns.kdeplot(df[df['news_type']=='Fake']['title_length'])\n",
        "plt.xlabel('Title Length',fontsize=12)\n",
        "plt.ylabel('Density',fontsize=12)\n",
        "plt.legend(title='News Type',fontsize=10,labels=['Real','Fake'])\n",
        "plt.title('Distribuiton of Title Length for Real and Fake News',fontsize=15)\n",
        "plt.show()"
      ],
      "execution_count": null,
      "outputs": [
        {
          "output_type": "display_data",
          "data": {
            "image/png": "[encoded data removed]",
            "text/plain": [
              "<Figure size 720x432 with 1 Axes>"
            ]
          },
          "metadata": {
            "tags": [],
            "needs_background": "light"
          }
        }
      ]
    },
    {
      "cell_type": "code",
      "metadata": {
        "id": "gcPPgqyiiNLF"
      },
      "source": [
        "X1=df['text']\n",
        "y1=df['news_type']"
      ],
      "execution_count": null,
      "outputs": []
    },
    {
      "cell_type": "code",
      "metadata": {
        "id": "u_SNNeUviQxr"
      },
      "source": [
        "X1_train, X1_test, y1_train, y1_test = train_test_split(X1, y1, test_size=0.3, random_state=42)"
      ],
      "execution_count": null,
      "outputs": []
    },
    {
      "cell_type": "code",
      "metadata": {
        "id": "8tzMuySViSss"
      },
      "source": [
        "pp=Pipeline([\n",
        "    ('bow',CountVectorizer(analyzer=final)),\n",
        "    ('tfidf',TfidfTransformer()),\n",
        "    ('classifier',RandomForestClassifier())\n",
        "    ])"
      ],
      "execution_count": null,
      "outputs": []
    },
    {
      "cell_type": "code",
      "metadata": {
        "colab": {
          "base_uri": "https://localhost:8080/"
        },
        "id": "2cZBQPabiV1M",
        "outputId": "2c520b15-f5c1-438d-d817-2d9f6810ee54"
      },
      "source": [
        "pp.fit(X1_train,y1_train)"
      ],
      "execution_count": null,
      "outputs": [
        {
          "output_type": "execute_result",
          "data": {
            "text/plain": [
              "Pipeline(memory=None,\n",
              "         steps=[('bow',\n",
              "                 CountVectorizer(analyzer=<function compose.<locals>.<lambda> at 0x7f811c7ac050>,\n",
              "                                 binary=False, decode_error='strict',\n",
              "                                 dtype=<class 'numpy.int64'>, encoding='utf-8',\n",
              "                                 input='content', lowercase=True, max_df=1.0,\n",
              "                                 max_features=None, min_df=1,\n",
              "                                 ngram_range=(1, 1), preprocessor=None,\n",
              "                                 stop_words=None, strip_accents=None,\n",
              "                                 token_pattern='(?u)...\n",
              "                 RandomForestClassifier(bootstrap=True, ccp_alpha=0.0,\n",
              "                                        class_weight=None, criterion='gini',\n",
              "                                        max_depth=None, max_features='auto',\n",
              "                                        max_leaf_nodes=None, max_samples=None,\n",
              "                                        min_impurity_decrease=0.0,\n",
              "                                        min_impurity_split=None,\n",
              "                                        min_samples_leaf=1, min_samples_split=2,\n",
              "                                        min_weight_fraction_leaf=0.0,\n",
              "                                        n_estimators=100, n_jobs=None,\n",
              "                                        oob_score=False, random_state=None,\n",
              "                                        verbose=0, warm_start=False))],\n",
              "         verbose=False)"
            ]
          },
          "metadata": {
            "tags": []
          },
          "execution_count": 256
        }
      ]
    },
    {
      "cell_type": "code",
      "metadata": {
        "id": "tRorF0mtiXao"
      },
      "source": [
        "predictions1=pp.predict(X1_test)"
      ],
      "execution_count": null,
      "outputs": []
    },
    {
      "cell_type": "code",
      "metadata": {
        "colab": {
          "base_uri": "https://localhost:8080/"
        },
        "id": "BhYi8cLJic4p",
        "outputId": "e67cafd3-e88e-4aec-e270-41d9ecb5b559"
      },
      "source": [
        "print(confusion_matrix(y1_test, predictions1))\n",
        "print('\\n')\n",
        "print(classification_report(y1_test, predictions1))"
      ],
      "execution_count": null,
      "outputs": [
        {
          "output_type": "stream",
          "text": [
            "[[22  4]\n",
            " [ 7 22]]\n",
            "\n",
            "\n",
            "              precision    recall  f1-score   support\n",
            "\n",
            "        Fake       0.76      0.85      0.80        26\n",
            "        Real       0.85      0.76      0.80        29\n",
            "\n",
            "    accuracy                           0.80        55\n",
            "   macro avg       0.80      0.80      0.80        55\n",
            "weighted avg       0.80      0.80      0.80        55\n",
            "\n"
          ],
          "name": "stdout"
        }
      ]
    },
    {
      "cell_type": "code",
      "metadata": {
        "id": "Te38q5AHiga4"
      },
      "source": [
        "pp=Pipeline([\n",
        "    ('bow',CountVectorizer()),\n",
        "    ('tfidf',TfidfTransformer()),\n",
        "    ('classifier',RandomForestClassifier())\n",
        "    ])"
      ],
      "execution_count": null,
      "outputs": []
    },
    {
      "cell_type": "code",
      "metadata": {
        "colab": {
          "base_uri": "https://localhost:8080/"
        },
        "id": "w7slUXTtipCs",
        "outputId": "59646a44-4125-4a3d-dbf1-8e2546ae1551"
      },
      "source": [
        "pp.fit(X1_train,y1_train)"
      ],
      "execution_count": null,
      "outputs": [
        {
          "output_type": "execute_result",
          "data": {
            "text/plain": [
              "Pipeline(memory=None,\n",
              "         steps=[('bow',\n",
              "                 CountVectorizer(analyzer='word', binary=False,\n",
              "                                 decode_error='strict',\n",
              "                                 dtype=<class 'numpy.int64'>, encoding='utf-8',\n",
              "                                 input='content', lowercase=True, max_df=1.0,\n",
              "                                 max_features=None, min_df=1,\n",
              "                                 ngram_range=(1, 1), preprocessor=None,\n",
              "                                 stop_words=None, strip_accents=None,\n",
              "                                 token_pattern='(?u)\\\\b\\\\w\\\\w+\\\\b',\n",
              "                                 tokenizer=None, vocabulary=None...\n",
              "                 RandomForestClassifier(bootstrap=True, ccp_alpha=0.0,\n",
              "                                        class_weight=None, criterion='gini',\n",
              "                                        max_depth=None, max_features='auto',\n",
              "                                        max_leaf_nodes=None, max_samples=None,\n",
              "                                        min_impurity_decrease=0.0,\n",
              "                                        min_impurity_split=None,\n",
              "                                        min_samples_leaf=1, min_samples_split=2,\n",
              "                                        min_weight_fraction_leaf=0.0,\n",
              "                                        n_estimators=100, n_jobs=None,\n",
              "                                        oob_score=False, random_state=None,\n",
              "                                        verbose=0, warm_start=False))],\n",
              "         verbose=False)"
            ]
          },
          "metadata": {
            "tags": []
          },
          "execution_count": 261
        }
      ]
    },
    {
      "cell_type": "code",
      "metadata": {
        "id": "U7igP3tFisUe"
      },
      "source": [
        "predictions2=pp.predict(X1_test)"
      ],
      "execution_count": null,
      "outputs": []
    },
    {
      "cell_type": "code",
      "metadata": {
        "colab": {
          "base_uri": "https://localhost:8080/"
        },
        "id": "FMWW0u5_ixxO",
        "outputId": "91c434ec-6f01-4240-bc8b-7a9e3b33c30f"
      },
      "source": [
        "print(confusion_matrix(y1_test, predictions2))\n",
        "print('\\n')\n",
        "print(classification_report(y1_test, predictions2))"
      ],
      "execution_count": null,
      "outputs": [
        {
          "output_type": "stream",
          "text": [
            "[[18  8]\n",
            " [ 5 24]]\n",
            "\n",
            "\n",
            "              precision    recall  f1-score   support\n",
            "\n",
            "        Fake       0.78      0.69      0.73        26\n",
            "        Real       0.75      0.83      0.79        29\n",
            "\n",
            "    accuracy                           0.76        55\n",
            "   macro avg       0.77      0.76      0.76        55\n",
            "weighted avg       0.77      0.76      0.76        55\n",
            "\n"
          ],
          "name": "stdout"
        }
      ]
    },
    {
      "cell_type": "code",
      "metadata": {
        "id": "Pzjfqx_4i0eo"
      },
      "source": [
        "pp=Pipeline([\n",
        "    ('bow',CountVectorizer(analyzer=final)),\n",
        "    ('tfidf',TfidfTransformer()),\n",
        "    ('classifier',MultinomialNB())\n",
        "    ])"
      ],
      "execution_count": null,
      "outputs": []
    },
    {
      "cell_type": "code",
      "metadata": {
        "colab": {
          "base_uri": "https://localhost:8080/"
        },
        "id": "KUKIF7V1i5SG",
        "outputId": "8a9148ec-209b-49a9-a7b1-7c3462b5fff1"
      },
      "source": [
        "pp.fit(X1_train,y1_train)"
      ],
      "execution_count": null,
      "outputs": [
        {
          "output_type": "execute_result",
          "data": {
            "text/plain": [
              "Pipeline(memory=None,\n",
              "         steps=[('bow',\n",
              "                 CountVectorizer(analyzer=<function compose.<locals>.<lambda> at 0x7f811c7ac050>,\n",
              "                                 binary=False, decode_error='strict',\n",
              "                                 dtype=<class 'numpy.int64'>, encoding='utf-8',\n",
              "                                 input='content', lowercase=True, max_df=1.0,\n",
              "                                 max_features=None, min_df=1,\n",
              "                                 ngram_range=(1, 1), preprocessor=None,\n",
              "                                 stop_words=None, strip_accents=None,\n",
              "                                 token_pattern='(?u)\\\\b\\\\w\\\\w+\\\\b',\n",
              "                                 tokenizer=None, vocabulary=None)),\n",
              "                ('tfidf',\n",
              "                 TfidfTransformer(norm='l2', smooth_idf=True,\n",
              "                                  sublinear_tf=False, use_idf=True)),\n",
              "                ('classifier',\n",
              "                 MultinomialNB(alpha=1.0, class_prior=None, fit_prior=True))],\n",
              "         verbose=False)"
            ]
          },
          "metadata": {
            "tags": []
          },
          "execution_count": 265
        }
      ]
    },
    {
      "cell_type": "code",
      "metadata": {
        "id": "eA6uktEhi7i3"
      },
      "source": [
        "predictions3=pp.predict(X1_test)"
      ],
      "execution_count": null,
      "outputs": []
    },
    {
      "cell_type": "code",
      "metadata": {
        "colab": {
          "base_uri": "https://localhost:8080/"
        },
        "id": "0gH7nllzi9wS",
        "outputId": "573019df-b485-4e37-ed2d-c7d86ca3dd2d"
      },
      "source": [
        "print(confusion_matrix(y1_test, predictions3))\n",
        "print('\\n')\n",
        "print(classification_report(y1_test, predictions3))"
      ],
      "execution_count": null,
      "outputs": [
        {
          "output_type": "stream",
          "text": [
            "[[22  4]\n",
            " [13 16]]\n",
            "\n",
            "\n",
            "              precision    recall  f1-score   support\n",
            "\n",
            "        Fake       0.63      0.85      0.72        26\n",
            "        Real       0.80      0.55      0.65        29\n",
            "\n",
            "    accuracy                           0.69        55\n",
            "   macro avg       0.71      0.70      0.69        55\n",
            "weighted avg       0.72      0.69      0.69        55\n",
            "\n"
          ],
          "name": "stdout"
        }
      ]
    },
    {
      "cell_type": "code",
      "metadata": {
        "id": "E1ngt5-XjBCY"
      },
      "source": [
        "pp=Pipeline([\n",
        "    ('bow',CountVectorizer()),\n",
        "    ('tfidf',TfidfTransformer()),\n",
        "    ('classifier',MultinomialNB())\n",
        "    ])"
      ],
      "execution_count": null,
      "outputs": []
    },
    {
      "cell_type": "code",
      "metadata": {
        "colab": {
          "base_uri": "https://localhost:8080/"
        },
        "id": "hfYOgwbAjEB_",
        "outputId": "ec6f6472-a758-4b99-c5a5-562291651911"
      },
      "source": [
        "pp.fit(X1_train,y1_train)"
      ],
      "execution_count": null,
      "outputs": [
        {
          "output_type": "execute_result",
          "data": {
            "text/plain": [
              "Pipeline(memory=None,\n",
              "         steps=[('bow',\n",
              "                 CountVectorizer(analyzer='word', binary=False,\n",
              "                                 decode_error='strict',\n",
              "                                 dtype=<class 'numpy.int64'>, encoding='utf-8',\n",
              "                                 input='content', lowercase=True, max_df=1.0,\n",
              "                                 max_features=None, min_df=1,\n",
              "                                 ngram_range=(1, 1), preprocessor=None,\n",
              "                                 stop_words=None, strip_accents=None,\n",
              "                                 token_pattern='(?u)\\\\b\\\\w\\\\w+\\\\b',\n",
              "                                 tokenizer=None, vocabulary=None)),\n",
              "                ('tfidf',\n",
              "                 TfidfTransformer(norm='l2', smooth_idf=True,\n",
              "                                  sublinear_tf=False, use_idf=True)),\n",
              "                ('classifier',\n",
              "                 MultinomialNB(alpha=1.0, class_prior=None, fit_prior=True))],\n",
              "         verbose=False)"
            ]
          },
          "metadata": {
            "tags": []
          },
          "execution_count": 269
        }
      ]
    },
    {
      "cell_type": "code",
      "metadata": {
        "id": "nsmk5hPqjGD_"
      },
      "source": [
        "predictions4=pp.predict(X1_test)\n"
      ],
      "execution_count": null,
      "outputs": []
    },
    {
      "cell_type": "code",
      "metadata": {
        "colab": {
          "base_uri": "https://localhost:8080/"
        },
        "id": "hwURLnY2jJkJ",
        "outputId": "1b775a58-7ed2-4790-f41d-5c16dbf48e1f"
      },
      "source": [
        "print(confusion_matrix(y1_test, predictions4))\n",
        "print('\\n')\n",
        "print(classification_report(y1_test, predictions4))"
      ],
      "execution_count": null,
      "outputs": [
        {
          "output_type": "stream",
          "text": [
            "[[25  1]\n",
            " [17 12]]\n",
            "\n",
            "\n",
            "              precision    recall  f1-score   support\n",
            "\n",
            "        Fake       0.60      0.96      0.74        26\n",
            "        Real       0.92      0.41      0.57        29\n",
            "\n",
            "    accuracy                           0.67        55\n",
            "   macro avg       0.76      0.69      0.65        55\n",
            "weighted avg       0.77      0.67      0.65        55\n",
            "\n"
          ],
          "name": "stdout"
        }
      ]
    },
    {
      "cell_type": "code",
      "metadata": {
        "id": "9cvXxr7-jLZU"
      },
      "source": [
        "pp=Pipeline([\n",
        "    ('bow',CountVectorizer(analyzer=final)),\n",
        "    ('tfidf',TfidfTransformer()),\n",
        "    ('classifier',PassiveAggressiveClassifier())\n",
        "    ])"
      ],
      "execution_count": null,
      "outputs": []
    },
    {
      "cell_type": "code",
      "metadata": {
        "colab": {
          "base_uri": "https://localhost:8080/"
        },
        "id": "Nfgy47ZTjO97",
        "outputId": "2a686435-7c99-4ed6-8d23-fbdb8f2aedf6"
      },
      "source": [
        "pp.fit(X1_train,y1_train)"
      ],
      "execution_count": null,
      "outputs": [
        {
          "output_type": "execute_result",
          "data": {
            "text/plain": [
              "Pipeline(memory=None,\n",
              "         steps=[('bow',\n",
              "                 CountVectorizer(analyzer=<function compose.<locals>.<lambda> at 0x7f811c7ac050>,\n",
              "                                 binary=False, decode_error='strict',\n",
              "                                 dtype=<class 'numpy.int64'>, encoding='utf-8',\n",
              "                                 input='content', lowercase=True, max_df=1.0,\n",
              "                                 max_features=None, min_df=1,\n",
              "                                 ngram_range=(1, 1), preprocessor=None,\n",
              "                                 stop_words=None, strip_accents=None,\n",
              "                                 token_pattern='(?u)...\n",
              "                 TfidfTransformer(norm='l2', smooth_idf=True,\n",
              "                                  sublinear_tf=False, use_idf=True)),\n",
              "                ('classifier',\n",
              "                 PassiveAggressiveClassifier(C=1.0, average=False,\n",
              "                                             class_weight=None,\n",
              "                                             early_stopping=False,\n",
              "                                             fit_intercept=True, loss='hinge',\n",
              "                                             max_iter=1000, n_iter_no_change=5,\n",
              "                                             n_jobs=None, random_state=None,\n",
              "                                             shuffle=True, tol=0.001,\n",
              "                                             validation_fraction=0.1, verbose=0,\n",
              "                                             warm_start=False))],\n",
              "         verbose=False)"
            ]
          },
          "metadata": {
            "tags": []
          },
          "execution_count": 273
        }
      ]
    },
    {
      "cell_type": "code",
      "metadata": {
        "id": "osS2Na15jQ2v"
      },
      "source": [
        "predictions5=pp.predict(X1_test)"
      ],
      "execution_count": null,
      "outputs": []
    },
    {
      "cell_type": "code",
      "metadata": {
        "colab": {
          "base_uri": "https://localhost:8080/"
        },
        "id": "rxvCMRhfjShf",
        "outputId": "0ddf8a83-f2f1-4b6d-9804-8cdf632dfd06"
      },
      "source": [
        "print(confusion_matrix(y1_test, predictions5))\n",
        "print('\\n')\n",
        "print(classification_report(y1_test, predictions5))"
      ],
      "execution_count": null,
      "outputs": [
        {
          "output_type": "stream",
          "text": [
            "[[21  5]\n",
            " [ 8 21]]\n",
            "\n",
            "\n",
            "              precision    recall  f1-score   support\n",
            "\n",
            "        Fake       0.72      0.81      0.76        26\n",
            "        Real       0.81      0.72      0.76        29\n",
            "\n",
            "    accuracy                           0.76        55\n",
            "   macro avg       0.77      0.77      0.76        55\n",
            "weighted avg       0.77      0.76      0.76        55\n",
            "\n"
          ],
          "name": "stdout"
        }
      ]
    },
    {
      "cell_type": "code",
      "metadata": {
        "id": "cfK5aY_yjVxc"
      },
      "source": [
        "pp=Pipeline([\n",
        "    ('bow',CountVectorizer()),\n",
        "    ('tfidf',TfidfTransformer()),\n",
        "    ('classifier',PassiveAggressiveClassifier())\n",
        "    ])"
      ],
      "execution_count": null,
      "outputs": []
    },
    {
      "cell_type": "code",
      "metadata": {
        "colab": {
          "base_uri": "https://localhost:8080/"
        },
        "id": "yFIE-h7Gja9y",
        "outputId": "8ca4eaa1-1621-4d19-c8c2-19b07dbf6609"
      },
      "source": [
        "pp.fit(X1_train,y1_train)"
      ],
      "execution_count": null,
      "outputs": [
        {
          "output_type": "execute_result",
          "data": {
            "text/plain": [
              "Pipeline(memory=None,\n",
              "         steps=[('bow',\n",
              "                 CountVectorizer(analyzer='word', binary=False,\n",
              "                                 decode_error='strict',\n",
              "                                 dtype=<class 'numpy.int64'>, encoding='utf-8',\n",
              "                                 input='content', lowercase=True, max_df=1.0,\n",
              "                                 max_features=None, min_df=1,\n",
              "                                 ngram_range=(1, 1), preprocessor=None,\n",
              "                                 stop_words=None, strip_accents=None,\n",
              "                                 token_pattern='(?u)\\\\b\\\\w\\\\w+\\\\b',\n",
              "                                 tokenizer=None, vocabulary=None...\n",
              "                 TfidfTransformer(norm='l2', smooth_idf=True,\n",
              "                                  sublinear_tf=False, use_idf=True)),\n",
              "                ('classifier',\n",
              "                 PassiveAggressiveClassifier(C=1.0, average=False,\n",
              "                                             class_weight=None,\n",
              "                                             early_stopping=False,\n",
              "                                             fit_intercept=True, loss='hinge',\n",
              "                                             max_iter=1000, n_iter_no_change=5,\n",
              "                                             n_jobs=None, random_state=None,\n",
              "                                             shuffle=True, tol=0.001,\n",
              "                                             validation_fraction=0.1, verbose=0,\n",
              "                                             warm_start=False))],\n",
              "         verbose=False)"
            ]
          },
          "metadata": {
            "tags": []
          },
          "execution_count": 277
        }
      ]
    },
    {
      "cell_type": "code",
      "metadata": {
        "id": "rshwgxArjc2C"
      },
      "source": [
        "predictions6=pp.predict(X1_test)"
      ],
      "execution_count": null,
      "outputs": []
    },
    {
      "cell_type": "code",
      "metadata": {
        "colab": {
          "base_uri": "https://localhost:8080/"
        },
        "id": "TVEFGflUjf-1",
        "outputId": "fa040697-9f6e-4555-8de2-4d74d2c3c3d6"
      },
      "source": [
        "print(confusion_matrix(y1_test, predictions6))\n",
        "print('\\n')\n",
        "print(classification_report(y1_test, predictions6))"
      ],
      "execution_count": null,
      "outputs": [
        {
          "output_type": "stream",
          "text": [
            "[[23  3]\n",
            " [ 2 27]]\n",
            "\n",
            "\n",
            "              precision    recall  f1-score   support\n",
            "\n",
            "        Fake       0.92      0.88      0.90        26\n",
            "        Real       0.90      0.93      0.92        29\n",
            "\n",
            "    accuracy                           0.91        55\n",
            "   macro avg       0.91      0.91      0.91        55\n",
            "weighted avg       0.91      0.91      0.91        55\n",
            "\n"
          ],
          "name": "stdout"
        }
      ]
    },
    {
      "cell_type": "code",
      "metadata": {
        "id": "y-08Xrrijh4z"
      },
      "source": [
        "X2=df['title']\n",
        "y2=df['news_type']"
      ],
      "execution_count": null,
      "outputs": []
    },
    {
      "cell_type": "code",
      "metadata": {
        "id": "MFz9kwTKjliv"
      },
      "source": [
        "X2_train, X2_test, y2_train, y2_test = train_test_split(X2, y2, test_size=0.3, random_state=42)"
      ],
      "execution_count": null,
      "outputs": []
    },
    {
      "cell_type": "code",
      "metadata": {
        "id": "JTLltcjkjnO3"
      },
      "source": [
        "pp=Pipeline([\n",
        "    ('bow',CountVectorizer(analyzer=final)),\n",
        "    ('tfidf',TfidfTransformer()),\n",
        "    ('classifier',RandomForestClassifier())\n",
        "    ])"
      ],
      "execution_count": null,
      "outputs": []
    },
    {
      "cell_type": "code",
      "metadata": {
        "colab": {
          "base_uri": "https://localhost:8080/"
        },
        "id": "uWRQUzEvjprr",
        "outputId": "f5892de9-95a9-4a34-b6dd-a886ce0b34c5"
      },
      "source": [
        "pp.fit(X2_train,y2_train)"
      ],
      "execution_count": null,
      "outputs": [
        {
          "output_type": "execute_result",
          "data": {
            "text/plain": [
              "Pipeline(memory=None,\n",
              "         steps=[('bow',\n",
              "                 CountVectorizer(analyzer=<function compose.<locals>.<lambda> at 0x7f811c7ac050>,\n",
              "                                 binary=False, decode_error='strict',\n",
              "                                 dtype=<class 'numpy.int64'>, encoding='utf-8',\n",
              "                                 input='content', lowercase=True, max_df=1.0,\n",
              "                                 max_features=None, min_df=1,\n",
              "                                 ngram_range=(1, 1), preprocessor=None,\n",
              "                                 stop_words=None, strip_accents=None,\n",
              "                                 token_pattern='(?u)...\n",
              "                 RandomForestClassifier(bootstrap=True, ccp_alpha=0.0,\n",
              "                                        class_weight=None, criterion='gini',\n",
              "                                        max_depth=None, max_features='auto',\n",
              "                                        max_leaf_nodes=None, max_samples=None,\n",
              "                                        min_impurity_decrease=0.0,\n",
              "                                        min_impurity_split=None,\n",
              "                                        min_samples_leaf=1, min_samples_split=2,\n",
              "                                        min_weight_fraction_leaf=0.0,\n",
              "                                        n_estimators=100, n_jobs=None,\n",
              "                                        oob_score=False, random_state=None,\n",
              "                                        verbose=0, warm_start=False))],\n",
              "         verbose=False)"
            ]
          },
          "metadata": {
            "tags": []
          },
          "execution_count": 283
        }
      ]
    },
    {
      "cell_type": "code",
      "metadata": {
        "id": "e_VwBcmwjrZ8"
      },
      "source": [
        "predictions7=pp.predict(X2_test)"
      ],
      "execution_count": null,
      "outputs": []
    },
    {
      "cell_type": "code",
      "metadata": {
        "colab": {
          "base_uri": "https://localhost:8080/"
        },
        "id": "Y5aYehz9juis",
        "outputId": "970766d7-d89e-43d9-becf-0f5606e20503"
      },
      "source": [
        "print(confusion_matrix(y2_test, predictions7))\n",
        "print('\\n')\n",
        "print(classification_report(y2_test, predictions7))"
      ],
      "execution_count": null,
      "outputs": [
        {
          "output_type": "stream",
          "text": [
            "[[20  6]\n",
            " [12 17]]\n",
            "\n",
            "\n",
            "              precision    recall  f1-score   support\n",
            "\n",
            "        Fake       0.62      0.77      0.69        26\n",
            "        Real       0.74      0.59      0.65        29\n",
            "\n",
            "    accuracy                           0.67        55\n",
            "   macro avg       0.68      0.68      0.67        55\n",
            "weighted avg       0.69      0.67      0.67        55\n",
            "\n"
          ],
          "name": "stdout"
        }
      ]
    },
    {
      "cell_type": "code",
      "metadata": {
        "id": "57FvTktujwgs"
      },
      "source": [
        "pp=Pipeline([\n",
        "    ('bow',CountVectorizer()),\n",
        "    ('tfidf',TfidfTransformer()),\n",
        "    ('classifier',RandomForestClassifier())\n",
        "    ])"
      ],
      "execution_count": null,
      "outputs": []
    },
    {
      "cell_type": "code",
      "metadata": {
        "colab": {
          "base_uri": "https://localhost:8080/"
        },
        "id": "i4dbC1KGjz_Y",
        "outputId": "b715c51c-5419-44e5-bda5-ade19fc40239"
      },
      "source": [
        "pp.fit(X2_train,y2_train)"
      ],
      "execution_count": null,
      "outputs": [
        {
          "output_type": "execute_result",
          "data": {
            "text/plain": [
              "Pipeline(memory=None,\n",
              "         steps=[('bow',\n",
              "                 CountVectorizer(analyzer='word', binary=False,\n",
              "                                 decode_error='strict',\n",
              "                                 dtype=<class 'numpy.int64'>, encoding='utf-8',\n",
              "                                 input='content', lowercase=True, max_df=1.0,\n",
              "                                 max_features=None, min_df=1,\n",
              "                                 ngram_range=(1, 1), preprocessor=None,\n",
              "                                 stop_words=None, strip_accents=None,\n",
              "                                 token_pattern='(?u)\\\\b\\\\w\\\\w+\\\\b',\n",
              "                                 tokenizer=None, vocabulary=None...\n",
              "                 RandomForestClassifier(bootstrap=True, ccp_alpha=0.0,\n",
              "                                        class_weight=None, criterion='gini',\n",
              "                                        max_depth=None, max_features='auto',\n",
              "                                        max_leaf_nodes=None, max_samples=None,\n",
              "                                        min_impurity_decrease=0.0,\n",
              "                                        min_impurity_split=None,\n",
              "                                        min_samples_leaf=1, min_samples_split=2,\n",
              "                                        min_weight_fraction_leaf=0.0,\n",
              "                                        n_estimators=100, n_jobs=None,\n",
              "                                        oob_score=False, random_state=None,\n",
              "                                        verbose=0, warm_start=False))],\n",
              "         verbose=False)"
            ]
          },
          "metadata": {
            "tags": []
          },
          "execution_count": 287
        }
      ]
    },
    {
      "cell_type": "code",
      "metadata": {
        "id": "lnR6jG5Uj1qn"
      },
      "source": [
        "predictions8=pp.predict(X2_test)"
      ],
      "execution_count": null,
      "outputs": []
    },
    {
      "cell_type": "code",
      "metadata": {
        "colab": {
          "base_uri": "https://localhost:8080/"
        },
        "id": "gQ9KWJY3j47I",
        "outputId": "3430bbc7-9054-4292-95e7-66edd92d2bc1"
      },
      "source": [
        "print(confusion_matrix(y2_test, predictions8))\n",
        "print('\\n')\n",
        "print(classification_report(y2_test, predictions8))"
      ],
      "execution_count": null,
      "outputs": [
        {
          "output_type": "stream",
          "text": [
            "[[15 11]\n",
            " [10 19]]\n",
            "\n",
            "\n",
            "              precision    recall  f1-score   support\n",
            "\n",
            "        Fake       0.60      0.58      0.59        26\n",
            "        Real       0.63      0.66      0.64        29\n",
            "\n",
            "    accuracy                           0.62        55\n",
            "   macro avg       0.62      0.62      0.62        55\n",
            "weighted avg       0.62      0.62      0.62        55\n",
            "\n"
          ],
          "name": "stdout"
        }
      ]
    },
    {
      "cell_type": "code",
      "metadata": {
        "id": "lNG0tuyMj6xa"
      },
      "source": [
        "pp=Pipeline([\n",
        "    ('bow',CountVectorizer(analyzer=final)),\n",
        "    ('tfidf',TfidfTransformer()),\n",
        "    ('classifier',MultinomialNB())\n",
        "    ])"
      ],
      "execution_count": null,
      "outputs": []
    },
    {
      "cell_type": "code",
      "metadata": {
        "colab": {
          "base_uri": "https://localhost:8080/"
        },
        "id": "O05EPURzj9SZ",
        "outputId": "38fa7169-eb44-461b-c03e-c8d9a58844d0"
      },
      "source": [
        "pp.fit(X2_train,y2_train)"
      ],
      "execution_count": null,
      "outputs": [
        {
          "output_type": "execute_result",
          "data": {
            "text/plain": [
              "Pipeline(memory=None,\n",
              "         steps=[('bow',\n",
              "                 CountVectorizer(analyzer=<function compose.<locals>.<lambda> at 0x7f811c7ac050>,\n",
              "                                 binary=False, decode_error='strict',\n",
              "                                 dtype=<class 'numpy.int64'>, encoding='utf-8',\n",
              "                                 input='content', lowercase=True, max_df=1.0,\n",
              "                                 max_features=None, min_df=1,\n",
              "                                 ngram_range=(1, 1), preprocessor=None,\n",
              "                                 stop_words=None, strip_accents=None,\n",
              "                                 token_pattern='(?u)\\\\b\\\\w\\\\w+\\\\b',\n",
              "                                 tokenizer=None, vocabulary=None)),\n",
              "                ('tfidf',\n",
              "                 TfidfTransformer(norm='l2', smooth_idf=True,\n",
              "                                  sublinear_tf=False, use_idf=True)),\n",
              "                ('classifier',\n",
              "                 MultinomialNB(alpha=1.0, class_prior=None, fit_prior=True))],\n",
              "         verbose=False)"
            ]
          },
          "metadata": {
            "tags": []
          },
          "execution_count": 291
        }
      ]
    },
    {
      "cell_type": "code",
      "metadata": {
        "id": "coJPErC_j_Ig"
      },
      "source": [
        "predictions9=pp.predict(X2_test)"
      ],
      "execution_count": null,
      "outputs": []
    },
    {
      "cell_type": "code",
      "metadata": {
        "colab": {
          "base_uri": "https://localhost:8080/"
        },
        "id": "UV2TZqJAkCM_",
        "outputId": "091b3eae-22b4-4a30-879b-ddbd57a716f6"
      },
      "source": [
        "print(confusion_matrix(y2_test, predictions9))\n",
        "print('\\n')\n",
        "print(classification_report(y2_test, predictions9))"
      ],
      "execution_count": null,
      "outputs": [
        {
          "output_type": "stream",
          "text": [
            "[[21  5]\n",
            " [17 12]]\n",
            "\n",
            "\n",
            "              precision    recall  f1-score   support\n",
            "\n",
            "        Fake       0.55      0.81      0.66        26\n",
            "        Real       0.71      0.41      0.52        29\n",
            "\n",
            "    accuracy                           0.60        55\n",
            "   macro avg       0.63      0.61      0.59        55\n",
            "weighted avg       0.63      0.60      0.59        55\n",
            "\n"
          ],
          "name": "stdout"
        }
      ]
    },
    {
      "cell_type": "code",
      "metadata": {
        "colab": {
          "base_uri": "https://localhost:8080/"
        },
        "id": "4zps9-OpkEBL",
        "outputId": "f0b73c2c-79c5-4883-d224-5208172211d2"
      },
      "source": [
        "print(confusion_matrix(y2_test, predictions9))\n",
        "print('\\n')\n",
        "print(classification_report(y2_test, predictions9))"
      ],
      "execution_count": null,
      "outputs": [
        {
          "output_type": "stream",
          "text": [
            "[[21  5]\n",
            " [17 12]]\n",
            "\n",
            "\n",
            "              precision    recall  f1-score   support\n",
            "\n",
            "        Fake       0.55      0.81      0.66        26\n",
            "        Real       0.71      0.41      0.52        29\n",
            "\n",
            "    accuracy                           0.60        55\n",
            "   macro avg       0.63      0.61      0.59        55\n",
            "weighted avg       0.63      0.60      0.59        55\n",
            "\n"
          ],
          "name": "stdout"
        }
      ]
    },
    {
      "cell_type": "code",
      "metadata": {
        "id": "gRJq6zRzkHza"
      },
      "source": [
        "pp=Pipeline([\n",
        "    ('bow',CountVectorizer()),\n",
        "    ('tfidf',TfidfTransformer()),\n",
        "    ('classifier',MultinomialNB())\n",
        "    ])"
      ],
      "execution_count": null,
      "outputs": []
    },
    {
      "cell_type": "code",
      "metadata": {
        "colab": {
          "base_uri": "https://localhost:8080/"
        },
        "id": "c2yXSgeSkRQN",
        "outputId": "f930f81f-6c33-48c6-d801-2c856b0240f2"
      },
      "source": [
        "pp.fit(X2_train,y2_train)"
      ],
      "execution_count": null,
      "outputs": [
        {
          "output_type": "execute_result",
          "data": {
            "text/plain": [
              "Pipeline(memory=None,\n",
              "         steps=[('bow',\n",
              "                 CountVectorizer(analyzer='word', binary=False,\n",
              "                                 decode_error='strict',\n",
              "                                 dtype=<class 'numpy.int64'>, encoding='utf-8',\n",
              "                                 input='content', lowercase=True, max_df=1.0,\n",
              "                                 max_features=None, min_df=1,\n",
              "                                 ngram_range=(1, 1), preprocessor=None,\n",
              "                                 stop_words=None, strip_accents=None,\n",
              "                                 token_pattern='(?u)\\\\b\\\\w\\\\w+\\\\b',\n",
              "                                 tokenizer=None, vocabulary=None)),\n",
              "                ('tfidf',\n",
              "                 TfidfTransformer(norm='l2', smooth_idf=True,\n",
              "                                  sublinear_tf=False, use_idf=True)),\n",
              "                ('classifier',\n",
              "                 MultinomialNB(alpha=1.0, class_prior=None, fit_prior=True))],\n",
              "         verbose=False)"
            ]
          },
          "metadata": {
            "tags": []
          },
          "execution_count": 296
        }
      ]
    },
    {
      "cell_type": "code",
      "metadata": {
        "id": "i8UZwoA6kTAN"
      },
      "source": [
        "predictions10=pp.predict(X2_test)"
      ],
      "execution_count": null,
      "outputs": []
    },
    {
      "cell_type": "code",
      "metadata": {
        "colab": {
          "base_uri": "https://localhost:8080/"
        },
        "id": "lO7_S-gSkV9n",
        "outputId": "c2cd9b16-2deb-4d0e-e0e3-16712f33a070"
      },
      "source": [
        "print(confusion_matrix(y2_test, predictions10))\n",
        "print('\\n')\n",
        "print(classification_report(y2_test, predictions10))"
      ],
      "execution_count": null,
      "outputs": [
        {
          "output_type": "stream",
          "text": [
            "[[22  4]\n",
            " [19 10]]\n",
            "\n",
            "\n",
            "              precision    recall  f1-score   support\n",
            "\n",
            "        Fake       0.54      0.85      0.66        26\n",
            "        Real       0.71      0.34      0.47        29\n",
            "\n",
            "    accuracy                           0.58        55\n",
            "   macro avg       0.63      0.60      0.56        55\n",
            "weighted avg       0.63      0.58      0.56        55\n",
            "\n"
          ],
          "name": "stdout"
        }
      ]
    },
    {
      "cell_type": "code",
      "metadata": {
        "id": "fcAm2Jz9kXtH"
      },
      "source": [
        "pp=Pipeline([\n",
        "    ('bow',CountVectorizer(analyzer=final)),\n",
        "    ('tfidf',TfidfTransformer()),\n",
        "    ('classifier',PassiveAggressiveClassifier())\n",
        "    ])"
      ],
      "execution_count": null,
      "outputs": []
    },
    {
      "cell_type": "code",
      "metadata": {
        "colab": {
          "base_uri": "https://localhost:8080/"
        },
        "id": "lk9lOsOMkecm",
        "outputId": "b7452cad-c03f-4968-9098-54502c997090"
      },
      "source": [
        "pp.fit(X2_train,y2_train)"
      ],
      "execution_count": null,
      "outputs": [
        {
          "output_type": "execute_result",
          "data": {
            "text/plain": [
              "Pipeline(memory=None,\n",
              "         steps=[('bow',\n",
              "                 CountVectorizer(analyzer=<function compose.<locals>.<lambda> at 0x7f811c7ac050>,\n",
              "                                 binary=False, decode_error='strict',\n",
              "                                 dtype=<class 'numpy.int64'>, encoding='utf-8',\n",
              "                                 input='content', lowercase=True, max_df=1.0,\n",
              "                                 max_features=None, min_df=1,\n",
              "                                 ngram_range=(1, 1), preprocessor=None,\n",
              "                                 stop_words=None, strip_accents=None,\n",
              "                                 token_pattern='(?u)...\n",
              "                 TfidfTransformer(norm='l2', smooth_idf=True,\n",
              "                                  sublinear_tf=False, use_idf=True)),\n",
              "                ('classifier',\n",
              "                 PassiveAggressiveClassifier(C=1.0, average=False,\n",
              "                                             class_weight=None,\n",
              "                                             early_stopping=False,\n",
              "                                             fit_intercept=True, loss='hinge',\n",
              "                                             max_iter=1000, n_iter_no_change=5,\n",
              "                                             n_jobs=None, random_state=None,\n",
              "                                             shuffle=True, tol=0.001,\n",
              "                                             validation_fraction=0.1, verbose=0,\n",
              "                                             warm_start=False))],\n",
              "         verbose=False)"
            ]
          },
          "metadata": {
            "tags": []
          },
          "execution_count": 301
        }
      ]
    },
    {
      "cell_type": "code",
      "metadata": {
        "id": "JYdEYR61kgwI"
      },
      "source": [
        "predictions11=pp.predict(X2_test)"
      ],
      "execution_count": null,
      "outputs": []
    },
    {
      "cell_type": "code",
      "metadata": {
        "colab": {
          "base_uri": "https://localhost:8080/"
        },
        "id": "kFek93qMkj8M",
        "outputId": "8a53b4d7-2e8e-43f7-9e1c-4a384566e559"
      },
      "source": [
        "print(confusion_matrix(y2_test, predictions11))\n",
        "print('\\n')\n",
        "print(classification_report(y2_test, predictions11))"
      ],
      "execution_count": null,
      "outputs": [
        {
          "output_type": "stream",
          "text": [
            "[[21  5]\n",
            " [15 14]]\n",
            "\n",
            "\n",
            "              precision    recall  f1-score   support\n",
            "\n",
            "        Fake       0.58      0.81      0.68        26\n",
            "        Real       0.74      0.48      0.58        29\n",
            "\n",
            "    accuracy                           0.64        55\n",
            "   macro avg       0.66      0.65      0.63        55\n",
            "weighted avg       0.66      0.64      0.63        55\n",
            "\n"
          ],
          "name": "stdout"
        }
      ]
    },
    {
      "cell_type": "code",
      "metadata": {
        "id": "a_mER1j0klvB"
      },
      "source": [
        "pp=Pipeline([\n",
        "    ('bow',CountVectorizer()),\n",
        "    ('tfidf',TfidfTransformer()),\n",
        "    ('classifier',PassiveAggressiveClassifier())\n",
        "    ])"
      ],
      "execution_count": null,
      "outputs": []
    },
    {
      "cell_type": "code",
      "metadata": {
        "colab": {
          "base_uri": "https://localhost:8080/"
        },
        "id": "eLql9-j-lW5e",
        "outputId": "9bfe3096-8005-44a0-cdf3-c1cf855d3504"
      },
      "source": [
        "pp.fit(X2_train,y2_train)"
      ],
      "execution_count": null,
      "outputs": [
        {
          "output_type": "execute_result",
          "data": {
            "text/plain": [
              "Pipeline(memory=None,\n",
              "         steps=[('bow',\n",
              "                 CountVectorizer(analyzer='word', binary=False,\n",
              "                                 decode_error='strict',\n",
              "                                 dtype=<class 'numpy.int64'>, encoding='utf-8',\n",
              "                                 input='content', lowercase=True, max_df=1.0,\n",
              "                                 max_features=None, min_df=1,\n",
              "                                 ngram_range=(1, 1), preprocessor=None,\n",
              "                                 stop_words=None, strip_accents=None,\n",
              "                                 token_pattern='(?u)\\\\b\\\\w\\\\w+\\\\b',\n",
              "                                 tokenizer=None, vocabulary=None...\n",
              "                 TfidfTransformer(norm='l2', smooth_idf=True,\n",
              "                                  sublinear_tf=False, use_idf=True)),\n",
              "                ('classifier',\n",
              "                 PassiveAggressiveClassifier(C=1.0, average=False,\n",
              "                                             class_weight=None,\n",
              "                                             early_stopping=False,\n",
              "                                             fit_intercept=True, loss='hinge',\n",
              "                                             max_iter=1000, n_iter_no_change=5,\n",
              "                                             n_jobs=None, random_state=None,\n",
              "                                             shuffle=True, tol=0.001,\n",
              "                                             validation_fraction=0.1, verbose=0,\n",
              "                                             warm_start=False))],\n",
              "         verbose=False)"
            ]
          },
          "metadata": {
            "tags": []
          },
          "execution_count": 305
        }
      ]
    },
    {
      "cell_type": "code",
      "metadata": {
        "id": "mvZ4pu2WlYbr"
      },
      "source": [
        "predictions12=pp.predict(X2_test)"
      ],
      "execution_count": null,
      "outputs": []
    },
    {
      "cell_type": "code",
      "metadata": {
        "colab": {
          "base_uri": "https://localhost:8080/"
        },
        "id": "agmd1suMlbeb",
        "outputId": "b4d086f1-865e-494d-9d44-292550f83c69"
      },
      "source": [
        "print(confusion_matrix(y2_test, predictions12))\n",
        "print('\\n')\n",
        "print(classification_report(y2_test, predictions12))"
      ],
      "execution_count": null,
      "outputs": [
        {
          "output_type": "stream",
          "text": [
            "[[19  7]\n",
            " [17 12]]\n",
            "\n",
            "\n",
            "              precision    recall  f1-score   support\n",
            "\n",
            "        Fake       0.53      0.73      0.61        26\n",
            "        Real       0.63      0.41      0.50        29\n",
            "\n",
            "    accuracy                           0.56        55\n",
            "   macro avg       0.58      0.57      0.56        55\n",
            "weighted avg       0.58      0.56      0.55        55\n",
            "\n"
          ],
          "name": "stdout"
        }
      ]
    },
    {
      "cell_type": "code",
      "metadata": {
        "id": "rkhgwnpWleJ4"
      },
      "source": [
        "df['title_text']=df['title']+': ' +df['text']"
      ],
      "execution_count": null,
      "outputs": []
    },
    {
      "cell_type": "code",
      "metadata": {
        "id": "tpkOWEP4liYm"
      },
      "source": [
        "X3=df['title_text']\n",
        "y3=df['news_type']"
      ],
      "execution_count": null,
      "outputs": []
    },
    {
      "cell_type": "code",
      "metadata": {
        "id": "lV7LaOx3lmlX"
      },
      "source": [
        "X3_train, X3_test, y3_train, y3_test = train_test_split(X3, y3, test_size=0.3, random_state=42)"
      ],
      "execution_count": null,
      "outputs": []
    },
    {
      "cell_type": "code",
      "metadata": {
        "id": "PKYU3kBBloxV"
      },
      "source": [
        "pp=Pipeline([\n",
        "    ('bow',CountVectorizer(analyzer=final)),\n",
        "    ('tfidf',TfidfTransformer()),\n",
        "    ('classifier',RandomForestClassifier())\n",
        "    ])"
      ],
      "execution_count": null,
      "outputs": []
    },
    {
      "cell_type": "code",
      "metadata": {
        "colab": {
          "base_uri": "https://localhost:8080/"
        },
        "id": "HwJZ2Z2glqda",
        "outputId": "27f7709b-8890-4846-df28-33b2f9cfb0bb"
      },
      "source": [
        "pp.fit(X3_train,y3_train)"
      ],
      "execution_count": null,
      "outputs": [
        {
          "output_type": "execute_result",
          "data": {
            "text/plain": [
              "Pipeline(memory=None,\n",
              "         steps=[('bow',\n",
              "                 CountVectorizer(analyzer=<function compose.<locals>.<lambda> at 0x7f811c7ac050>,\n",
              "                                 binary=False, decode_error='strict',\n",
              "                                 dtype=<class 'numpy.int64'>, encoding='utf-8',\n",
              "                                 input='content', lowercase=True, max_df=1.0,\n",
              "                                 max_features=None, min_df=1,\n",
              "                                 ngram_range=(1, 1), preprocessor=None,\n",
              "                                 stop_words=None, strip_accents=None,\n",
              "                                 token_pattern='(?u)...\n",
              "                 RandomForestClassifier(bootstrap=True, ccp_alpha=0.0,\n",
              "                                        class_weight=None, criterion='gini',\n",
              "                                        max_depth=None, max_features='auto',\n",
              "                                        max_leaf_nodes=None, max_samples=None,\n",
              "                                        min_impurity_decrease=0.0,\n",
              "                                        min_impurity_split=None,\n",
              "                                        min_samples_leaf=1, min_samples_split=2,\n",
              "                                        min_weight_fraction_leaf=0.0,\n",
              "                                        n_estimators=100, n_jobs=None,\n",
              "                                        oob_score=False, random_state=None,\n",
              "                                        verbose=0, warm_start=False))],\n",
              "         verbose=False)"
            ]
          },
          "metadata": {
            "tags": []
          },
          "execution_count": 313
        }
      ]
    },
    {
      "cell_type": "code",
      "metadata": {
        "id": "iu2qpU_Dls0q"
      },
      "source": [
        "predictions13=pp.predict(X3_test)"
      ],
      "execution_count": null,
      "outputs": []
    },
    {
      "cell_type": "code",
      "metadata": {
        "colab": {
          "base_uri": "https://localhost:8080/"
        },
        "id": "sy-xXcELlw7N",
        "outputId": "a5584830-abbe-4193-8066-1713443a2082"
      },
      "source": [
        "print(confusion_matrix(y3_test, predictions13))\n",
        "print('\\n')\n",
        "print(classification_report(y3_test, predictions13))"
      ],
      "execution_count": null,
      "outputs": [
        {
          "output_type": "stream",
          "text": [
            "[[24  2]\n",
            " [ 8 21]]\n",
            "\n",
            "\n",
            "              precision    recall  f1-score   support\n",
            "\n",
            "        Fake       0.75      0.92      0.83        26\n",
            "        Real       0.91      0.72      0.81        29\n",
            "\n",
            "    accuracy                           0.82        55\n",
            "   macro avg       0.83      0.82      0.82        55\n",
            "weighted avg       0.84      0.82      0.82        55\n",
            "\n"
          ],
          "name": "stdout"
        }
      ]
    },
    {
      "cell_type": "code",
      "metadata": {
        "id": "xgex3x21lzi2"
      },
      "source": [
        "pp=Pipeline([\n",
        "    ('bow',CountVectorizer()),\n",
        "    ('tfidf',TfidfTransformer()),\n",
        "    ('classifier',RandomForestClassifier())\n",
        "    ])"
      ],
      "execution_count": null,
      "outputs": []
    },
    {
      "cell_type": "code",
      "metadata": {
        "colab": {
          "base_uri": "https://localhost:8080/"
        },
        "id": "fUmFZMO8l3Jo",
        "outputId": "e59cd8d6-68ef-4f60-e497-9c345aa78ab1"
      },
      "source": [
        "pp.fit(X3_train,y3_train)"
      ],
      "execution_count": null,
      "outputs": [
        {
          "output_type": "execute_result",
          "data": {
            "text/plain": [
              "Pipeline(memory=None,\n",
              "         steps=[('bow',\n",
              "                 CountVectorizer(analyzer='word', binary=False,\n",
              "                                 decode_error='strict',\n",
              "                                 dtype=<class 'numpy.int64'>, encoding='utf-8',\n",
              "                                 input='content', lowercase=True, max_df=1.0,\n",
              "                                 max_features=None, min_df=1,\n",
              "                                 ngram_range=(1, 1), preprocessor=None,\n",
              "                                 stop_words=None, strip_accents=None,\n",
              "                                 token_pattern='(?u)\\\\b\\\\w\\\\w+\\\\b',\n",
              "                                 tokenizer=None, vocabulary=None...\n",
              "                 RandomForestClassifier(bootstrap=True, ccp_alpha=0.0,\n",
              "                                        class_weight=None, criterion='gini',\n",
              "                                        max_depth=None, max_features='auto',\n",
              "                                        max_leaf_nodes=None, max_samples=None,\n",
              "                                        min_impurity_decrease=0.0,\n",
              "                                        min_impurity_split=None,\n",
              "                                        min_samples_leaf=1, min_samples_split=2,\n",
              "                                        min_weight_fraction_leaf=0.0,\n",
              "                                        n_estimators=100, n_jobs=None,\n",
              "                                        oob_score=False, random_state=None,\n",
              "                                        verbose=0, warm_start=False))],\n",
              "         verbose=False)"
            ]
          },
          "metadata": {
            "tags": []
          },
          "execution_count": 317
        }
      ]
    },
    {
      "cell_type": "code",
      "metadata": {
        "id": "Lg2zSc86l55Z"
      },
      "source": [
        "predictions14=pp.predict(X3_test)"
      ],
      "execution_count": null,
      "outputs": []
    },
    {
      "cell_type": "code",
      "metadata": {
        "colab": {
          "base_uri": "https://localhost:8080/"
        },
        "id": "B-5ytatvl8X5",
        "outputId": "a7343805-bb7e-406d-ae85-aa8f46d5a8be"
      },
      "source": [
        "print(confusion_matrix(y3_test, predictions14))\n",
        "print('\\n')\n",
        "print(classification_report(y3_test, predictions14))"
      ],
      "execution_count": null,
      "outputs": [
        {
          "output_type": "stream",
          "text": [
            "[[19  7]\n",
            " [ 7 22]]\n",
            "\n",
            "\n",
            "              precision    recall  f1-score   support\n",
            "\n",
            "        Fake       0.73      0.73      0.73        26\n",
            "        Real       0.76      0.76      0.76        29\n",
            "\n",
            "    accuracy                           0.75        55\n",
            "   macro avg       0.74      0.74      0.74        55\n",
            "weighted avg       0.75      0.75      0.75        55\n",
            "\n"
          ],
          "name": "stdout"
        }
      ]
    },
    {
      "cell_type": "code",
      "metadata": {
        "id": "FSxWZRxomA9Q"
      },
      "source": [
        "pp=Pipeline([\n",
        "    ('bow',CountVectorizer(analyzer=final)),\n",
        "    ('tfidf',TfidfTransformer()),\n",
        "    ('classifier',MultinomialNB())\n",
        "    ])"
      ],
      "execution_count": null,
      "outputs": []
    },
    {
      "cell_type": "code",
      "metadata": {
        "colab": {
          "base_uri": "https://localhost:8080/"
        },
        "id": "4uxPc0TXmEOe",
        "outputId": "835497c5-aa48-4eeb-b6ac-0dfddc754b1d"
      },
      "source": [
        "pp.fit(X3_train,y3_train)"
      ],
      "execution_count": null,
      "outputs": [
        {
          "output_type": "execute_result",
          "data": {
            "text/plain": [
              "Pipeline(memory=None,\n",
              "         steps=[('bow',\n",
              "                 CountVectorizer(analyzer=<function compose.<locals>.<lambda> at 0x7f811c7ac050>,\n",
              "                                 binary=False, decode_error='strict',\n",
              "                                 dtype=<class 'numpy.int64'>, encoding='utf-8',\n",
              "                                 input='content', lowercase=True, max_df=1.0,\n",
              "                                 max_features=None, min_df=1,\n",
              "                                 ngram_range=(1, 1), preprocessor=None,\n",
              "                                 stop_words=None, strip_accents=None,\n",
              "                                 token_pattern='(?u)\\\\b\\\\w\\\\w+\\\\b',\n",
              "                                 tokenizer=None, vocabulary=None)),\n",
              "                ('tfidf',\n",
              "                 TfidfTransformer(norm='l2', smooth_idf=True,\n",
              "                                  sublinear_tf=False, use_idf=True)),\n",
              "                ('classifier',\n",
              "                 MultinomialNB(alpha=1.0, class_prior=None, fit_prior=True))],\n",
              "         verbose=False)"
            ]
          },
          "metadata": {
            "tags": []
          },
          "execution_count": 321
        }
      ]
    },
    {
      "cell_type": "code",
      "metadata": {
        "id": "sl29zbHFmGbr"
      },
      "source": [
        "predictions15=pp.predict(X3_test)"
      ],
      "execution_count": null,
      "outputs": []
    },
    {
      "cell_type": "code",
      "metadata": {
        "colab": {
          "base_uri": "https://localhost:8080/"
        },
        "id": "uoSEekIwmIF4",
        "outputId": "ffdf443a-ffe5-4674-ff34-ab0272ddb8a1"
      },
      "source": [
        "print(confusion_matrix(y3_test, predictions15))\n",
        "print('\\n')\n",
        "print(classification_report(y3_test, predictions15))"
      ],
      "execution_count": null,
      "outputs": [
        {
          "output_type": "stream",
          "text": [
            "[[22  4]\n",
            " [15 14]]\n",
            "\n",
            "\n",
            "              precision    recall  f1-score   support\n",
            "\n",
            "        Fake       0.59      0.85      0.70        26\n",
            "        Real       0.78      0.48      0.60        29\n",
            "\n",
            "    accuracy                           0.65        55\n",
            "   macro avg       0.69      0.66      0.65        55\n",
            "weighted avg       0.69      0.65      0.64        55\n",
            "\n"
          ],
          "name": "stdout"
        }
      ]
    },
    {
      "cell_type": "code",
      "metadata": {
        "id": "3z3kRWLbmLDS"
      },
      "source": [
        "pp=Pipeline([\n",
        "    ('bow',CountVectorizer()),\n",
        "    ('tfidf',TfidfTransformer()),\n",
        "    ('classifier',MultinomialNB())\n",
        "    ])\n"
      ],
      "execution_count": null,
      "outputs": []
    },
    {
      "cell_type": "code",
      "metadata": {
        "colab": {
          "base_uri": "https://localhost:8080/"
        },
        "id": "i1cBbYjMmOU2",
        "outputId": "0d8dbacb-8c25-4c48-cdd7-dd4745f52aca"
      },
      "source": [
        "pp.fit(X3_train,y3_train)"
      ],
      "execution_count": null,
      "outputs": [
        {
          "output_type": "execute_result",
          "data": {
            "text/plain": [
              "Pipeline(memory=None,\n",
              "         steps=[('bow',\n",
              "                 CountVectorizer(analyzer='word', binary=False,\n",
              "                                 decode_error='strict',\n",
              "                                 dtype=<class 'numpy.int64'>, encoding='utf-8',\n",
              "                                 input='content', lowercase=True, max_df=1.0,\n",
              "                                 max_features=None, min_df=1,\n",
              "                                 ngram_range=(1, 1), preprocessor=None,\n",
              "                                 stop_words=None, strip_accents=None,\n",
              "                                 token_pattern='(?u)\\\\b\\\\w\\\\w+\\\\b',\n",
              "                                 tokenizer=None, vocabulary=None)),\n",
              "                ('tfidf',\n",
              "                 TfidfTransformer(norm='l2', smooth_idf=True,\n",
              "                                  sublinear_tf=False, use_idf=True)),\n",
              "                ('classifier',\n",
              "                 MultinomialNB(alpha=1.0, class_prior=None, fit_prior=True))],\n",
              "         verbose=False)"
            ]
          },
          "metadata": {
            "tags": []
          },
          "execution_count": 326
        }
      ]
    },
    {
      "cell_type": "code",
      "metadata": {
        "id": "yw89iVrqmSuE"
      },
      "source": [
        "predictions16=pp.predict(X3_test)"
      ],
      "execution_count": null,
      "outputs": []
    },
    {
      "cell_type": "code",
      "metadata": {
        "colab": {
          "base_uri": "https://localhost:8080/"
        },
        "id": "GQN9UOpemV98",
        "outputId": "c949ce6d-a90c-41b9-9049-11b9d1e860c3"
      },
      "source": [
        "print(confusion_matrix(y3_test, predictions16))\n",
        "print('\\n')\n",
        "print(classification_report(y3_test, predictions16))"
      ],
      "execution_count": null,
      "outputs": [
        {
          "output_type": "stream",
          "text": [
            "[[25  1]\n",
            " [19 10]]\n",
            "\n",
            "\n",
            "              precision    recall  f1-score   support\n",
            "\n",
            "        Fake       0.57      0.96      0.71        26\n",
            "        Real       0.91      0.34      0.50        29\n",
            "\n",
            "    accuracy                           0.64        55\n",
            "   macro avg       0.74      0.65      0.61        55\n",
            "weighted avg       0.75      0.64      0.60        55\n",
            "\n"
          ],
          "name": "stdout"
        }
      ]
    },
    {
      "cell_type": "code",
      "metadata": {
        "id": "UcRzZFY0mXpd"
      },
      "source": [
        "pp=Pipeline([\n",
        "    ('bow',CountVectorizer(analyzer=final)),\n",
        "    ('tfidf',TfidfTransformer()),\n",
        "    ('classifier',PassiveAggressiveClassifier())\n",
        "    ])"
      ],
      "execution_count": null,
      "outputs": []
    },
    {
      "cell_type": "code",
      "metadata": {
        "colab": {
          "base_uri": "https://localhost:8080/"
        },
        "id": "5QAEsQJkmaUf",
        "outputId": "badf8573-95a7-4d93-9d5b-714f37a6e16c"
      },
      "source": [
        "pp.fit(X3_train,y3_train)"
      ],
      "execution_count": null,
      "outputs": [
        {
          "output_type": "execute_result",
          "data": {
            "text/plain": [
              "Pipeline(memory=None,\n",
              "         steps=[('bow',\n",
              "                 CountVectorizer(analyzer=<function compose.<locals>.<lambda> at 0x7f811c7ac050>,\n",
              "                                 binary=False, decode_error='strict',\n",
              "                                 dtype=<class 'numpy.int64'>, encoding='utf-8',\n",
              "                                 input='content', lowercase=True, max_df=1.0,\n",
              "                                 max_features=None, min_df=1,\n",
              "                                 ngram_range=(1, 1), preprocessor=None,\n",
              "                                 stop_words=None, strip_accents=None,\n",
              "                                 token_pattern='(?u)...\n",
              "                 TfidfTransformer(norm='l2', smooth_idf=True,\n",
              "                                  sublinear_tf=False, use_idf=True)),\n",
              "                ('classifier',\n",
              "                 PassiveAggressiveClassifier(C=1.0, average=False,\n",
              "                                             class_weight=None,\n",
              "                                             early_stopping=False,\n",
              "                                             fit_intercept=True, loss='hinge',\n",
              "                                             max_iter=1000, n_iter_no_change=5,\n",
              "                                             n_jobs=None, random_state=None,\n",
              "                                             shuffle=True, tol=0.001,\n",
              "                                             validation_fraction=0.1, verbose=0,\n",
              "                                             warm_start=False))],\n",
              "         verbose=False)"
            ]
          },
          "metadata": {
            "tags": []
          },
          "execution_count": 330
        }
      ]
    },
    {
      "cell_type": "code",
      "metadata": {
        "id": "CbsO1qPLmcCc"
      },
      "source": [
        "predictions17=pp.predict(X3_test)"
      ],
      "execution_count": null,
      "outputs": []
    },
    {
      "cell_type": "code",
      "metadata": {
        "colab": {
          "base_uri": "https://localhost:8080/"
        },
        "id": "QfCMMbQHmfzo",
        "outputId": "3ca33821-c986-4d37-ffd4-3700f4b64254"
      },
      "source": [
        "print(confusion_matrix(y3_test, predictions17))\n",
        "print('\\n')\n",
        "print(classification_report(y3_test, predictions17))"
      ],
      "execution_count": null,
      "outputs": [
        {
          "output_type": "stream",
          "text": [
            "[[20  6]\n",
            " [ 9 20]]\n",
            "\n",
            "\n",
            "              precision    recall  f1-score   support\n",
            "\n",
            "        Fake       0.69      0.77      0.73        26\n",
            "        Real       0.77      0.69      0.73        29\n",
            "\n",
            "    accuracy                           0.73        55\n",
            "   macro avg       0.73      0.73      0.73        55\n",
            "weighted avg       0.73      0.73      0.73        55\n",
            "\n"
          ],
          "name": "stdout"
        }
      ]
    },
    {
      "cell_type": "code",
      "metadata": {
        "id": "P2SmYq14mh7E"
      },
      "source": [
        "pp=Pipeline([\n",
        "    ('bow',CountVectorizer()),\n",
        "    ('tfidf',TfidfTransformer()),\n",
        "    ('classifier',PassiveAggressiveClassifier())\n",
        "    ])"
      ],
      "execution_count": null,
      "outputs": []
    },
    {
      "cell_type": "code",
      "metadata": {
        "colab": {
          "base_uri": "https://localhost:8080/"
        },
        "id": "nzbrdmAtmmyA",
        "outputId": "37c414ec-c8ac-4415-f5a0-0b7b9ebc9b16"
      },
      "source": [
        "pp.fit(X3_train,y3_train)"
      ],
      "execution_count": null,
      "outputs": [
        {
          "output_type": "execute_result",
          "data": {
            "text/plain": [
              "Pipeline(memory=None,\n",
              "         steps=[('bow',\n",
              "                 CountVectorizer(analyzer='word', binary=False,\n",
              "                                 decode_error='strict',\n",
              "                                 dtype=<class 'numpy.int64'>, encoding='utf-8',\n",
              "                                 input='content', lowercase=True, max_df=1.0,\n",
              "                                 max_features=None, min_df=1,\n",
              "                                 ngram_range=(1, 1), preprocessor=None,\n",
              "                                 stop_words=None, strip_accents=None,\n",
              "                                 token_pattern='(?u)\\\\b\\\\w\\\\w+\\\\b',\n",
              "                                 tokenizer=None, vocabulary=None...\n",
              "                 TfidfTransformer(norm='l2', smooth_idf=True,\n",
              "                                  sublinear_tf=False, use_idf=True)),\n",
              "                ('classifier',\n",
              "                 PassiveAggressiveClassifier(C=1.0, average=False,\n",
              "                                             class_weight=None,\n",
              "                                             early_stopping=False,\n",
              "                                             fit_intercept=True, loss='hinge',\n",
              "                                             max_iter=1000, n_iter_no_change=5,\n",
              "                                             n_jobs=None, random_state=None,\n",
              "                                             shuffle=True, tol=0.001,\n",
              "                                             validation_fraction=0.1, verbose=0,\n",
              "                                             warm_start=False))],\n",
              "         verbose=False)"
            ]
          },
          "metadata": {
            "tags": []
          },
          "execution_count": 334
        }
      ]
    },
    {
      "cell_type": "code",
      "metadata": {
        "id": "lKcg8OkGmoqq"
      },
      "source": [
        "predictions18=pp.predict(X3_test)"
      ],
      "execution_count": null,
      "outputs": []
    },
    {
      "cell_type": "code",
      "metadata": {
        "colab": {
          "base_uri": "https://localhost:8080/"
        },
        "id": "6DhZa3RZmsAl",
        "outputId": "61a67fd8-965f-45ba-f831-904f990cd3ee"
      },
      "source": [
        "print(confusion_matrix(y3_test, predictions18))\n",
        "print('\\n')\n",
        "print(classification_report(y3_test, predictions18))"
      ],
      "execution_count": null,
      "outputs": [
        {
          "output_type": "stream",
          "text": [
            "[[23  3]\n",
            " [ 4 25]]\n",
            "\n",
            "\n",
            "              precision    recall  f1-score   support\n",
            "\n",
            "        Fake       0.85      0.88      0.87        26\n",
            "        Real       0.89      0.86      0.88        29\n",
            "\n",
            "    accuracy                           0.87        55\n",
            "   macro avg       0.87      0.87      0.87        55\n",
            "weighted avg       0.87      0.87      0.87        55\n",
            "\n"
          ],
          "name": "stdout"
        }
      ]
    },
    {
      "cell_type": "code",
      "metadata": {
        "colab": {
          "base_uri": "https://localhost:8080/"
        },
        "id": "H6W7RrXPmt-b",
        "outputId": "582276a8-096c-4eab-be1a-69b67d059803"
      },
      "source": [
        "print('Text_Random Forest Classifier_With Text Preprocessing: ', round(100*accuracy_score(y1_test,predictions1)))\n",
        "print('Text_Random Forest Classifier_Without Text Preprocessing: ', round(100*accuracy_score(y1_test,predictions2)))\n",
        "print('Text_Naive Bayes Classifier_With Text Preprocessing: ', round(100*accuracy_score(y1_test,predictions3)))\n",
        "print('Text_Naive Bayes Classifier_Without Text Preprocessing: ', round(100*accuracy_score(y1_test,predictions4)))\n",
        "print('Text_Passive Aggressive Classifier_With Text Preprocessing: ', round(100*accuracy_score(y1_test,predictions5)))\n",
        "print('Text_Passive Aggressive Classifier_Without Text Preprocessing: ', round(100*accuracy_score(y1_test,predictions6)))\n",
        "print('\\n')\n",
        "print('Title_Random Forest Classifier_With Text Preprocessing: ', round(100*accuracy_score(y2_test,predictions7)))\n",
        "print('Title_Random Forest Classifier_Without Text Preprocessing: ', round(100*accuracy_score(y2_test,predictions8)))\n",
        "print('Title_Naive Bayes Classifier_With Text Preprocessing: ', round(100*accuracy_score(y2_test,predictions9)))\n",
        "print('Title_Naive Bayes Classifier_Without Text Preprocessing: ', round(100*accuracy_score(y2_test,predictions10)))\n",
        "print('Title_Passive Aggressive Classifier_With Text Preprocessing: ', round(100*accuracy_score(y2_test,predictions11)))\n",
        "print('Title_Passive Aggressive Classifier_Without Text Preprocessing: ', round(100*accuracy_score(y2_test,predictions12)))\n",
        "print('\\n')\n",
        "print('Text&Title_Random Forest Classifier_With Text Preprocessing: ', round(100*accuracy_score(y3_test,predictions13)))\n",
        "print('Text&Title_Random Forest Classifier_Without Text Preprocessing: ', round(100*accuracy_score(y3_test,predictions14)))\n",
        "print('Text&Title_Naive Bayes Classifier_With Text Preprocessing: ', round(100*accuracy_score(y3_test,predictions15)))\n",
        "print('Text&Title_Naive Bayes Classifier_Without Text Preprocessing: ', round(100*accuracy_score(y3_test,predictions16)))\n",
        "print('Text&Title_Passive Aggressive Classifier_With Text Preprocessing: ', round(100*accuracy_score(y3_test,predictions17)))\n",
        "print('Text&Title_Passive Aggressive Classifier_Without Text Preprocessing: ', round(100*accuracy_score(y3_test,predictions18)))"
      ],
      "execution_count": null,
      "outputs": [
        {
          "output_type": "stream",
          "text": [
            "Text_Random Forest Classifier_With Text Preprocessing:  80\n",
            "Text_Random Forest Classifier_Without Text Preprocessing:  76\n",
            "Text_Naive Bayes Classifier_With Text Preprocessing:  69\n",
            "Text_Naive Bayes Classifier_Without Text Preprocessing:  67\n",
            "Text_Passive Aggressive Classifier_With Text Preprocessing:  76\n",
            "Text_Passive Aggressive Classifier_Without Text Preprocessing:  91\n",
            "\n",
            "\n",
            "Title_Random Forest Classifier_With Text Preprocessing:  67\n",
            "Title_Random Forest Classifier_Without Text Preprocessing:  62\n",
            "Title_Naive Bayes Classifier_With Text Preprocessing:  60\n",
            "Title_Naive Bayes Classifier_Without Text Preprocessing:  58\n",
            "Title_Passive Aggressive Classifier_With Text Preprocessing:  64\n",
            "Title_Passive Aggressive Classifier_Without Text Preprocessing:  56\n",
            "\n",
            "\n",
            "Text&Title_Random Forest Classifier_With Text Preprocessing:  82\n",
            "Text&Title_Random Forest Classifier_Without Text Preprocessing:  75\n",
            "Text&Title_Naive Bayes Classifier_With Text Preprocessing:  65\n",
            "Text&Title_Naive Bayes Classifier_Without Text Preprocessing:  64\n",
            "Text&Title_Passive Aggressive Classifier_With Text Preprocessing:  73\n",
            "Text&Title_Passive Aggressive Classifier_Without Text Preprocessing:  87\n"
          ],
          "name": "stdout"
        }
      ]
    },
    {
      "cell_type": "code",
      "metadata": {
        "id": "O_Uz-cc7m2TH"
      },
      "source": [
        ""
      ],
      "execution_count": null,
      "outputs": []
    }
  ]
}